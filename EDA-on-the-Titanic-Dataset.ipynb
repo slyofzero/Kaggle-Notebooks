{
 "cells": [
  {
   "cell_type": "markdown",
   "id": "1cfe1ebb",
   "metadata": {
    "id": "view-in-github",
    "papermill": {
     "duration": 0.027178,
     "end_time": "2022-06-30T06:26:29.544295",
     "exception": false,
     "start_time": "2022-06-30T06:26:29.517117",
     "status": "completed"
    },
    "tags": []
   },
   "source": [
    "<a href=\"https://colab.research.google.com/github/slyofzero/Kaggle-Notebooks/blob/main/Titanic%20Dataset.ipynb\" target=\"_parent\"><img src=\"https://colab.research.google.com/assets/colab-badge.svg\" alt=\"Open In Colab\"/></a>"
   ]
  },
  {
   "cell_type": "markdown",
   "id": "4c7e604c",
   "metadata": {
    "papermill": {
     "duration": 0.01423,
     "end_time": "2022-06-30T06:26:29.576144",
     "exception": false,
     "start_time": "2022-06-30T06:26:29.561914",
     "status": "completed"
    },
    "tags": []
   },
   "source": [
    "# Table of Content\n",
    "\n",
    "* [Loading the data](#loading-data)\n",
    "* [Data Cleaning](#data-cleaning)\n",
    "* [Exploratory Data Analysis](#eda)\n",
    "    * [Univariate Analysis](#uni)    \n",
    "        1. [Target Variable (Survived column)](#target)\n",
    "        2. [Continous Features (Age and Fare columns)](#cont)\n",
    "        3. [Discrete Features (Pclass, Sex, and Embarked columns)](#dis)\n",
    "        4. [Number of relatives (SibSp and Parch columns)](#relations)\n",
    "    * [Multivariate Analysis](#multi)\n",
    "        1. [Correlation Heatmap](#correlation)\n",
    "        2. [Distribution based on Survival (Age and Fare)](#age-and-fare)\n",
    "            - [Analysis on Age](#age-analysis)\n",
    "            - [Analysis on Fare](#fare-analysis)\n",
    "        3. [Distribution based on Survival (Pclass, Sex, and Embarked)](#pclass-sex-embarked)\n",
    "            - [Analysis on Pclass](#pclass)\n",
    "            - [Analysis on Sex](#sex)\n",
    "            - [Analysis on Embarked](#embarked)\n",
    "        4. [Distribution based on Survival (SibSp and Parch)](#sibsp-parch)\n",
    "            - [Analysis on SibSp](#sibsp)\n",
    "            - [Analysis on Parch](#parch)\n",
    "        5. [EDA Outcomes](#eda-outcomes)\n",
    "* [Machine Learning models](#ml)\n",
    "    * [Encoding the string values](#encode)\n",
    "    * [Splitting the data](#split)\n",
    "    * [Baseline Models](#baseline)\n",
    "        1. [Decision Tree Classifier](#dtree1)\n",
    "        2. [Random Forest Classifier](#rf1)\n",
    "    * [SMOTE Oversmapling](#smote)\n",
    "        1. [Decision Tree Classifier](#dtree2)\n",
    "        2. [Random Forest Classifier](#rf2)\n",
    "    * [Hyperparameter Tuning](#hyperparameter)\n",
    "        1. [RFE](#rfe)\n",
    "        2. [RandomizedSearchCV](#randomcv)\n",
    "* [Final Prediction](#final-pred)"
   ]
  },
  {
   "cell_type": "markdown",
   "id": "537fa485",
   "metadata": {
    "id": "Y_50zZNc8Y3U",
    "papermill": {
     "duration": 0.014165,
     "end_time": "2022-06-30T06:26:29.605650",
     "exception": false,
     "start_time": "2022-06-30T06:26:29.591485",
     "status": "completed"
    },
    "tags": []
   },
   "source": [
    "# Loading the data <a id=\"loading-data\"></a>"
   ]
  },
  {
   "cell_type": "code",
   "execution_count": 1,
   "id": "cec67060",
   "metadata": {
    "execution": {
     "iopub.execute_input": "2022-06-30T06:26:29.636482Z",
     "iopub.status.busy": "2022-06-30T06:26:29.635898Z",
     "iopub.status.idle": "2022-06-30T06:26:32.763292Z",
     "shell.execute_reply": "2022-06-30T06:26:32.762173Z"
    },
    "id": "9hEr8wbs78wc",
    "papermill": {
     "duration": 3.1456,
     "end_time": "2022-06-30T06:26:32.765697",
     "exception": false,
     "start_time": "2022-06-30T06:26:29.620097",
     "status": "completed"
    },
    "tags": []
   },
   "outputs": [
    {
     "name": "stderr",
     "output_type": "stream",
     "text": [
      "/opt/conda/lib/python3.7/site-packages/geopandas/_compat.py:115: UserWarning: The Shapely GEOS version (3.9.1-CAPI-1.14.2) is incompatible with the GEOS version PyGEOS was compiled with (3.10.1-CAPI-1.16.0). Conversions between both will be slow.\n",
      "  shapely_geos_version, geos_capi_version_string\n"
     ]
    }
   ],
   "source": [
    "# Importing all the neccessary modules.\n",
    "import pandas as pd\n",
    "import numpy as np\n",
    "\n",
    "import plotly.express as px\n",
    "import plotly.graph_objects as go\n",
    "import plotly.figure_factory as ff\n",
    "from plotly.subplots import make_subplots\n",
    "\n",
    "import warnings\n",
    "warnings.filterwarnings(\"ignore\")"
   ]
  },
  {
   "cell_type": "code",
   "execution_count": 2,
   "id": "beddc799",
   "metadata": {
    "execution": {
     "iopub.execute_input": "2022-06-30T06:26:32.797014Z",
     "iopub.status.busy": "2022-06-30T06:26:32.796364Z",
     "iopub.status.idle": "2022-06-30T06:26:32.840080Z",
     "shell.execute_reply": "2022-06-30T06:26:32.839147Z"
    },
    "id": "kQ4xfOcM8Agt",
    "outputId": "42b3f282-973a-44aa-c537-619e31f0c933",
    "papermill": {
     "duration": 0.061315,
     "end_time": "2022-06-30T06:26:32.841949",
     "exception": false,
     "start_time": "2022-06-30T06:26:32.780634",
     "status": "completed"
    },
    "tags": []
   },
   "outputs": [
    {
     "data": {
      "text/html": [
       "<div>\n",
       "<style scoped>\n",
       "    .dataframe tbody tr th:only-of-type {\n",
       "        vertical-align: middle;\n",
       "    }\n",
       "\n",
       "    .dataframe tbody tr th {\n",
       "        vertical-align: top;\n",
       "    }\n",
       "\n",
       "    .dataframe thead th {\n",
       "        text-align: right;\n",
       "    }\n",
       "</style>\n",
       "<table border=\"1\" class=\"dataframe\">\n",
       "  <thead>\n",
       "    <tr style=\"text-align: right;\">\n",
       "      <th></th>\n",
       "      <th>PassengerId</th>\n",
       "      <th>Survived</th>\n",
       "      <th>Pclass</th>\n",
       "      <th>Name</th>\n",
       "      <th>Sex</th>\n",
       "      <th>Age</th>\n",
       "      <th>SibSp</th>\n",
       "      <th>Parch</th>\n",
       "      <th>Ticket</th>\n",
       "      <th>Fare</th>\n",
       "      <th>Cabin</th>\n",
       "      <th>Embarked</th>\n",
       "    </tr>\n",
       "  </thead>\n",
       "  <tbody>\n",
       "    <tr>\n",
       "      <th>0</th>\n",
       "      <td>1</td>\n",
       "      <td>0</td>\n",
       "      <td>3</td>\n",
       "      <td>Braund, Mr. Owen Harris</td>\n",
       "      <td>male</td>\n",
       "      <td>22.0</td>\n",
       "      <td>1</td>\n",
       "      <td>0</td>\n",
       "      <td>A/5 21171</td>\n",
       "      <td>7.2500</td>\n",
       "      <td>NaN</td>\n",
       "      <td>S</td>\n",
       "    </tr>\n",
       "    <tr>\n",
       "      <th>1</th>\n",
       "      <td>2</td>\n",
       "      <td>1</td>\n",
       "      <td>1</td>\n",
       "      <td>Cumings, Mrs. John Bradley (Florence Briggs Th...</td>\n",
       "      <td>female</td>\n",
       "      <td>38.0</td>\n",
       "      <td>1</td>\n",
       "      <td>0</td>\n",
       "      <td>PC 17599</td>\n",
       "      <td>71.2833</td>\n",
       "      <td>C85</td>\n",
       "      <td>C</td>\n",
       "    </tr>\n",
       "    <tr>\n",
       "      <th>2</th>\n",
       "      <td>3</td>\n",
       "      <td>1</td>\n",
       "      <td>3</td>\n",
       "      <td>Heikkinen, Miss. Laina</td>\n",
       "      <td>female</td>\n",
       "      <td>26.0</td>\n",
       "      <td>0</td>\n",
       "      <td>0</td>\n",
       "      <td>STON/O2. 3101282</td>\n",
       "      <td>7.9250</td>\n",
       "      <td>NaN</td>\n",
       "      <td>S</td>\n",
       "    </tr>\n",
       "    <tr>\n",
       "      <th>3</th>\n",
       "      <td>4</td>\n",
       "      <td>1</td>\n",
       "      <td>1</td>\n",
       "      <td>Futrelle, Mrs. Jacques Heath (Lily May Peel)</td>\n",
       "      <td>female</td>\n",
       "      <td>35.0</td>\n",
       "      <td>1</td>\n",
       "      <td>0</td>\n",
       "      <td>113803</td>\n",
       "      <td>53.1000</td>\n",
       "      <td>C123</td>\n",
       "      <td>S</td>\n",
       "    </tr>\n",
       "    <tr>\n",
       "      <th>4</th>\n",
       "      <td>5</td>\n",
       "      <td>0</td>\n",
       "      <td>3</td>\n",
       "      <td>Allen, Mr. William Henry</td>\n",
       "      <td>male</td>\n",
       "      <td>35.0</td>\n",
       "      <td>0</td>\n",
       "      <td>0</td>\n",
       "      <td>373450</td>\n",
       "      <td>8.0500</td>\n",
       "      <td>NaN</td>\n",
       "      <td>S</td>\n",
       "    </tr>\n",
       "  </tbody>\n",
       "</table>\n",
       "</div>"
      ],
      "text/plain": [
       "   PassengerId  Survived  Pclass  \\\n",
       "0            1         0       3   \n",
       "1            2         1       1   \n",
       "2            3         1       3   \n",
       "3            4         1       1   \n",
       "4            5         0       3   \n",
       "\n",
       "                                                Name     Sex   Age  SibSp  \\\n",
       "0                            Braund, Mr. Owen Harris    male  22.0      1   \n",
       "1  Cumings, Mrs. John Bradley (Florence Briggs Th...  female  38.0      1   \n",
       "2                             Heikkinen, Miss. Laina  female  26.0      0   \n",
       "3       Futrelle, Mrs. Jacques Heath (Lily May Peel)  female  35.0      1   \n",
       "4                           Allen, Mr. William Henry    male  35.0      0   \n",
       "\n",
       "   Parch            Ticket     Fare Cabin Embarked  \n",
       "0      0         A/5 21171   7.2500   NaN        S  \n",
       "1      0          PC 17599  71.2833   C85        C  \n",
       "2      0  STON/O2. 3101282   7.9250   NaN        S  \n",
       "3      0            113803  53.1000  C123        S  \n",
       "4      0            373450   8.0500   NaN        S  "
      ]
     },
     "execution_count": 2,
     "metadata": {},
     "output_type": "execute_result"
    }
   ],
   "source": [
    "# Loading the files.\n",
    "train_df = pd.read_csv(\"../input/titanic/train.csv\")\n",
    "test_df = pd.read_csv(\"../input/titanic/test.csv\")\n",
    "\n",
    "train_df.head()"
   ]
  },
  {
   "cell_type": "markdown",
   "id": "8ec662d8",
   "metadata": {
    "id": "oSayrNE-u2zC",
    "papermill": {
     "duration": 0.0146,
     "end_time": "2022-06-30T06:26:32.871580",
     "exception": false,
     "start_time": "2022-06-30T06:26:32.856980",
     "status": "completed"
    },
    "tags": []
   },
   "source": [
    "---"
   ]
  },
  {
   "cell_type": "markdown",
   "id": "80ce9b38",
   "metadata": {
    "id": "_Hsl-7nYhwuH",
    "papermill": {
     "duration": 0.01545,
     "end_time": "2022-06-30T06:26:32.901963",
     "exception": false,
     "start_time": "2022-06-30T06:26:32.886513",
     "status": "completed"
    },
    "tags": []
   },
   "source": [
    "# Data Cleaning <a id = \"data-cleaning\"></a>\n",
    "\n",
    "Now that we have our data loaded, let's check the types of columns we have here and which of them have null values."
   ]
  },
  {
   "cell_type": "code",
   "execution_count": 3,
   "id": "24bf4af5",
   "metadata": {
    "execution": {
     "iopub.execute_input": "2022-06-30T06:26:32.934052Z",
     "iopub.status.busy": "2022-06-30T06:26:32.933396Z",
     "iopub.status.idle": "2022-06-30T06:26:32.956440Z",
     "shell.execute_reply": "2022-06-30T06:26:32.955767Z"
    },
    "id": "Qr1WiKjc8TlF",
    "outputId": "ce83e693-7d5a-47ef-c5a0-4413284cf402",
    "papermill": {
     "duration": 0.041227,
     "end_time": "2022-06-30T06:26:32.958378",
     "exception": false,
     "start_time": "2022-06-30T06:26:32.917151",
     "status": "completed"
    },
    "tags": []
   },
   "outputs": [
    {
     "name": "stdout",
     "output_type": "stream",
     "text": [
      "<class 'pandas.core.frame.DataFrame'>\n",
      "RangeIndex: 891 entries, 0 to 890\n",
      "Data columns (total 12 columns):\n",
      " #   Column       Non-Null Count  Dtype  \n",
      "---  ------       --------------  -----  \n",
      " 0   PassengerId  891 non-null    int64  \n",
      " 1   Survived     891 non-null    int64  \n",
      " 2   Pclass       891 non-null    int64  \n",
      " 3   Name         891 non-null    object \n",
      " 4   Sex          891 non-null    object \n",
      " 5   Age          714 non-null    float64\n",
      " 6   SibSp        891 non-null    int64  \n",
      " 7   Parch        891 non-null    int64  \n",
      " 8   Ticket       891 non-null    object \n",
      " 9   Fare         891 non-null    float64\n",
      " 10  Cabin        204 non-null    object \n",
      " 11  Embarked     889 non-null    object \n",
      "dtypes: float64(2), int64(5), object(5)\n",
      "memory usage: 83.7+ KB\n"
     ]
    }
   ],
   "source": [
    "# Checking the datatype in each column.\n",
    "train_df.info()"
   ]
  },
  {
   "cell_type": "code",
   "execution_count": 4,
   "id": "1cc66199",
   "metadata": {
    "execution": {
     "iopub.execute_input": "2022-06-30T06:26:32.990246Z",
     "iopub.status.busy": "2022-06-30T06:26:32.989635Z",
     "iopub.status.idle": "2022-06-30T06:26:32.998029Z",
     "shell.execute_reply": "2022-06-30T06:26:32.997196Z"
    },
    "id": "HMDGppYn8qIx",
    "outputId": "aba4ebcb-224f-4df5-f0d0-cc8b310802a3",
    "papermill": {
     "duration": 0.026188,
     "end_time": "2022-06-30T06:26:32.999647",
     "exception": false,
     "start_time": "2022-06-30T06:26:32.973459",
     "status": "completed"
    },
    "tags": []
   },
   "outputs": [
    {
     "data": {
      "text/plain": [
       "PassengerId     0.00\n",
       "Survived        0.00\n",
       "Pclass          0.00\n",
       "Name            0.00\n",
       "Sex             0.00\n",
       "Age            19.87\n",
       "SibSp           0.00\n",
       "Parch           0.00\n",
       "Ticket          0.00\n",
       "Fare            0.00\n",
       "Cabin          77.10\n",
       "Embarked        0.22\n",
       "dtype: float64"
      ]
     },
     "execution_count": 4,
     "metadata": {},
     "output_type": "execute_result"
    }
   ],
   "source": [
    "# Checking for null values.\n",
    "round((train_df.isna().sum() / train_df.shape[0]) * 100, 2)"
   ]
  },
  {
   "cell_type": "markdown",
   "id": "6c44c9ab",
   "metadata": {
    "id": "WS_Jqj5Nh9Vl",
    "papermill": {
     "duration": 0.01547,
     "end_time": "2022-06-30T06:26:33.030144",
     "exception": false,
     "start_time": "2022-06-30T06:26:33.014674",
     "status": "completed"
    },
    "tags": []
   },
   "source": [
    "From the above output we can see that the `Age` column has 19.87% null values, the `Cabin` column has 77.1% null values and `Embarked` column has 0.22% of null values.\n",
    "\n",
    "Because the `Cabin` has has > 30% of null values, we can drop it. For the `Age` column we'll replace all the null values with the median values and for the `Embarked` column we we'll replace all the null values with the mode (we'll use mode instead of median because the data in the column is categorical)."
   ]
  },
  {
   "cell_type": "code",
   "execution_count": 5,
   "id": "d6eb9626",
   "metadata": {
    "execution": {
     "iopub.execute_input": "2022-06-30T06:26:33.062771Z",
     "iopub.status.busy": "2022-06-30T06:26:33.062098Z",
     "iopub.status.idle": "2022-06-30T06:26:33.073098Z",
     "shell.execute_reply": "2022-06-30T06:26:33.072026Z"
    },
    "id": "P_kwOO2p_okO",
    "papermill": {
     "duration": 0.029785,
     "end_time": "2022-06-30T06:26:33.075220",
     "exception": false,
     "start_time": "2022-06-30T06:26:33.045435",
     "status": "completed"
    },
    "tags": []
   },
   "outputs": [],
   "source": [
    "# Handling null values.\n",
    "train_df = train_df.drop(columns = [\"PassengerId\", \"Name\", \"Cabin\", \"Ticket\"])\n",
    "train_df[\"Age\"].fillna(value = train_df[\"Age\"].median(), inplace = True)\n",
    "train_df[\"Embarked\"].fillna(value = train_df[\"Embarked\"].mode()[0], inplace = True)"
   ]
  },
  {
   "cell_type": "code",
   "execution_count": 6,
   "id": "97841cd1",
   "metadata": {
    "execution": {
     "iopub.execute_input": "2022-06-30T06:26:33.107990Z",
     "iopub.status.busy": "2022-06-30T06:26:33.107360Z",
     "iopub.status.idle": "2022-06-30T06:26:33.117622Z",
     "shell.execute_reply": "2022-06-30T06:26:33.116963Z"
    },
    "id": "4C9o3_pxCZTq",
    "outputId": "6b1648ba-31b8-4c0d-f664-1c240dad4ecf",
    "papermill": {
     "duration": 0.028661,
     "end_time": "2022-06-30T06:26:33.119447",
     "exception": false,
     "start_time": "2022-06-30T06:26:33.090786",
     "status": "completed"
    },
    "tags": []
   },
   "outputs": [
    {
     "name": "stdout",
     "output_type": "stream",
     "text": [
      "<class 'pandas.core.frame.DataFrame'>\n",
      "RangeIndex: 891 entries, 0 to 890\n",
      "Data columns (total 8 columns):\n",
      " #   Column    Non-Null Count  Dtype  \n",
      "---  ------    --------------  -----  \n",
      " 0   Survived  891 non-null    int64  \n",
      " 1   Pclass    891 non-null    int64  \n",
      " 2   Sex       891 non-null    object \n",
      " 3   Age       891 non-null    float64\n",
      " 4   SibSp     891 non-null    int64  \n",
      " 5   Parch     891 non-null    int64  \n",
      " 6   Fare      891 non-null    float64\n",
      " 7   Embarked  891 non-null    object \n",
      "dtypes: float64(2), int64(4), object(2)\n",
      "memory usage: 55.8+ KB\n"
     ]
    }
   ],
   "source": [
    "# Checking if the data got cleaned.\n",
    "train_df.info()"
   ]
  },
  {
   "cell_type": "markdown",
   "id": "f1807ce3",
   "metadata": {
    "id": "POlMFuAau1OI",
    "papermill": {
     "duration": 0.015392,
     "end_time": "2022-06-30T06:26:33.150184",
     "exception": false,
     "start_time": "2022-06-30T06:26:33.134792",
     "status": "completed"
    },
    "tags": []
   },
   "source": [
    "---"
   ]
  },
  {
   "cell_type": "markdown",
   "id": "28c9191a",
   "metadata": {
    "id": "e_RutaUUvDr2",
    "papermill": {
     "duration": 0.014755,
     "end_time": "2022-06-30T06:26:33.180512",
     "exception": false,
     "start_time": "2022-06-30T06:26:33.165757",
     "status": "completed"
    },
    "tags": []
   },
   "source": [
    "# Exploratory Data Analysis (EDA) <a id=\"eda\"></a>"
   ]
  },
  {
   "cell_type": "markdown",
   "id": "632de0c7",
   "metadata": {
    "id": "E305qq-dvJFY",
    "papermill": {
     "duration": 0.014831,
     "end_time": "2022-06-30T06:26:33.210448",
     "exception": false,
     "start_time": "2022-06-30T06:26:33.195617",
     "status": "completed"
    },
    "tags": []
   },
   "source": [
    "## Univariate Analysis <a id=\"uni\"></a>"
   ]
  },
  {
   "cell_type": "markdown",
   "id": "e841726d",
   "metadata": {
    "id": "q5vzpmoVi3rZ",
    "papermill": {
     "duration": 0.014786,
     "end_time": "2022-06-30T06:26:33.240286",
     "exception": false,
     "start_time": "2022-06-30T06:26:33.225500",
     "status": "completed"
    },
    "tags": []
   },
   "source": [
    "### 1) Target Variable (Survived column) <a id=\"target\"></a>\n",
    "\n",
    "From the above output we can see that our target column, `Survived`, has categorical data in it. To check its distribution we can plot the counts of the values in it on a bar graph."
   ]
  },
  {
   "cell_type": "code",
   "execution_count": 7,
   "id": "8843876b",
   "metadata": {
    "execution": {
     "iopub.execute_input": "2022-06-30T06:26:33.272471Z",
     "iopub.status.busy": "2022-06-30T06:26:33.271811Z",
     "iopub.status.idle": "2022-06-30T06:26:34.261877Z",
     "shell.execute_reply": "2022-06-30T06:26:34.261206Z"
    },
    "id": "AcbHHi1eKWH-",
    "outputId": "2f18e09e-7d9d-439e-c271-6386e1537d5b",
    "papermill": {
     "duration": 1.008091,
     "end_time": "2022-06-30T06:26:34.263542",
     "exception": false,
     "start_time": "2022-06-30T06:26:33.255451",
     "status": "completed"
    },
    "tags": []
   },
   "outputs": [
    {
     "data": {
      "text/html": [
       "        <script type=\"text/javascript\">\n",
       "        window.PlotlyConfig = {MathJaxConfig: 'local'};\n",
       "        if (window.MathJax && window.MathJax.Hub && window.MathJax.Hub.Config) {window.MathJax.Hub.Config({SVG: {font: \"STIX-Web\"}});}\n",
       "        if (typeof require !== 'undefined') {\n",
       "        require.undef(\"plotly\");\n",
       "        requirejs.config({\n",
       "            paths: {\n",
       "                'plotly': ['https://cdn.plot.ly/plotly-2.12.1.min']\n",
       "            }\n",
       "        });\n",
       "        require(['plotly'], function(Plotly) {\n",
       "            window._Plotly = Plotly;\n",
       "        });\n",
       "        }\n",
       "        </script>\n",
       "        "
      ]
     },
     "metadata": {},
     "output_type": "display_data"
    },
    {
     "data": {
      "text/html": [
       "<div>                            <div id=\"b4c1f343-e862-4891-8b61-e1a1f4a5ef3d\" class=\"plotly-graph-div\" style=\"height:650px; width:100%;\"></div>            <script type=\"text/javascript\">                require([\"plotly\"], function(Plotly) {                    window.PLOTLYENV=window.PLOTLYENV || {};                                    if (document.getElementById(\"b4c1f343-e862-4891-8b61-e1a1f4a5ef3d\")) {                    Plotly.newPlot(                        \"b4c1f343-e862-4891-8b61-e1a1f4a5ef3d\",                        [{\"alignmentgroup\":\"True\",\"bingroup\":\"x\",\"hovertemplate\":\"Survived=%{x}<br>count=%{y}<extra></extra>\",\"legendgroup\":\"0\",\"marker\":{\"color\":\"#3562e8\",\"pattern\":{\"shape\":\"\"},\"line\":{\"color\":\"black\",\"width\":1}},\"name\":\"0\",\"offsetgroup\":\"0\",\"orientation\":\"v\",\"showlegend\":true,\"x\":[0,0,0,0,0,0,0,0,0,0,0,0,0,0,0,0,0,0,0,0,0,0,0,0,0,0,0,0,0,0,0,0,0,0,0,0,0,0,0,0,0,0,0,0,0,0,0,0,0,0,0,0,0,0,0,0,0,0,0,0,0,0,0,0,0,0,0,0,0,0,0,0,0,0,0,0,0,0,0,0,0,0,0,0,0,0,0,0,0,0,0,0,0,0,0,0,0,0,0,0,0,0,0,0,0,0,0,0,0,0,0,0,0,0,0,0,0,0,0,0,0,0,0,0,0,0,0,0,0,0,0,0,0,0,0,0,0,0,0,0,0,0,0,0,0,0,0,0,0,0,0,0,0,0,0,0,0,0,0,0,0,0,0,0,0,0,0,0,0,0,0,0,0,0,0,0,0,0,0,0,0,0,0,0,0,0,0,0,0,0,0,0,0,0,0,0,0,0,0,0,0,0,0,0,0,0,0,0,0,0,0,0,0,0,0,0,0,0,0,0,0,0,0,0,0,0,0,0,0,0,0,0,0,0,0,0,0,0,0,0,0,0,0,0,0,0,0,0,0,0,0,0,0,0,0,0,0,0,0,0,0,0,0,0,0,0,0,0,0,0,0,0,0,0,0,0,0,0,0,0,0,0,0,0,0,0,0,0,0,0,0,0,0,0,0,0,0,0,0,0,0,0,0,0,0,0,0,0,0,0,0,0,0,0,0,0,0,0,0,0,0,0,0,0,0,0,0,0,0,0,0,0,0,0,0,0,0,0,0,0,0,0,0,0,0,0,0,0,0,0,0,0,0,0,0,0,0,0,0,0,0,0,0,0,0,0,0,0,0,0,0,0,0,0,0,0,0,0,0,0,0,0,0,0,0,0,0,0,0,0,0,0,0,0,0,0,0,0,0,0,0,0,0,0,0,0,0,0,0,0,0,0,0,0,0,0,0,0,0,0,0,0,0,0,0,0,0,0,0,0,0,0,0,0,0,0,0,0,0,0,0,0,0,0,0,0,0,0,0,0,0,0,0,0,0,0,0,0,0,0,0,0,0,0,0,0,0,0,0,0,0,0,0,0,0,0,0,0,0,0,0,0,0,0,0,0,0,0,0,0,0,0,0,0,0,0,0,0,0,0,0,0,0,0,0,0,0,0,0,0,0,0,0,0,0,0,0,0,0,0,0,0,0,0,0,0,0,0,0,0,0,0,0,0,0,0,0,0,0,0,0,0,0,0,0,0,0,0,0],\"xaxis\":\"x\",\"yaxis\":\"y\",\"type\":\"histogram\"},{\"alignmentgroup\":\"True\",\"bingroup\":\"x\",\"hovertemplate\":\"Survived=%{x}<br>count=%{y}<extra></extra>\",\"legendgroup\":\"1\",\"marker\":{\"color\":\"#eb3462\",\"pattern\":{\"shape\":\"\"},\"line\":{\"color\":\"black\",\"width\":1}},\"name\":\"1\",\"offsetgroup\":\"1\",\"orientation\":\"v\",\"showlegend\":true,\"x\":[1,1,1,1,1,1,1,1,1,1,1,1,1,1,1,1,1,1,1,1,1,1,1,1,1,1,1,1,1,1,1,1,1,1,1,1,1,1,1,1,1,1,1,1,1,1,1,1,1,1,1,1,1,1,1,1,1,1,1,1,1,1,1,1,1,1,1,1,1,1,1,1,1,1,1,1,1,1,1,1,1,1,1,1,1,1,1,1,1,1,1,1,1,1,1,1,1,1,1,1,1,1,1,1,1,1,1,1,1,1,1,1,1,1,1,1,1,1,1,1,1,1,1,1,1,1,1,1,1,1,1,1,1,1,1,1,1,1,1,1,1,1,1,1,1,1,1,1,1,1,1,1,1,1,1,1,1,1,1,1,1,1,1,1,1,1,1,1,1,1,1,1,1,1,1,1,1,1,1,1,1,1,1,1,1,1,1,1,1,1,1,1,1,1,1,1,1,1,1,1,1,1,1,1,1,1,1,1,1,1,1,1,1,1,1,1,1,1,1,1,1,1,1,1,1,1,1,1,1,1,1,1,1,1,1,1,1,1,1,1,1,1,1,1,1,1,1,1,1,1,1,1,1,1,1,1,1,1,1,1,1,1,1,1,1,1,1,1,1,1,1,1,1,1,1,1,1,1,1,1,1,1,1,1,1,1,1,1,1,1,1,1,1,1,1,1,1,1,1,1,1,1,1,1,1,1,1,1,1,1,1,1,1,1,1,1,1,1,1,1,1,1,1,1,1,1,1,1,1,1,1,1,1,1,1,1,1,1,1,1,1,1],\"xaxis\":\"x\",\"yaxis\":\"y\",\"type\":\"histogram\"}],                        {\"template\":{\"data\":{\"histogram2dcontour\":[{\"type\":\"histogram2dcontour\",\"colorbar\":{\"outlinewidth\":0,\"ticks\":\"\"},\"colorscale\":[[0.0,\"#0d0887\"],[0.1111111111111111,\"#46039f\"],[0.2222222222222222,\"#7201a8\"],[0.3333333333333333,\"#9c179e\"],[0.4444444444444444,\"#bd3786\"],[0.5555555555555556,\"#d8576b\"],[0.6666666666666666,\"#ed7953\"],[0.7777777777777778,\"#fb9f3a\"],[0.8888888888888888,\"#fdca26\"],[1.0,\"#f0f921\"]]}],\"choropleth\":[{\"type\":\"choropleth\",\"colorbar\":{\"outlinewidth\":0,\"ticks\":\"\"}}],\"histogram2d\":[{\"type\":\"histogram2d\",\"colorbar\":{\"outlinewidth\":0,\"ticks\":\"\"},\"colorscale\":[[0.0,\"#0d0887\"],[0.1111111111111111,\"#46039f\"],[0.2222222222222222,\"#7201a8\"],[0.3333333333333333,\"#9c179e\"],[0.4444444444444444,\"#bd3786\"],[0.5555555555555556,\"#d8576b\"],[0.6666666666666666,\"#ed7953\"],[0.7777777777777778,\"#fb9f3a\"],[0.8888888888888888,\"#fdca26\"],[1.0,\"#f0f921\"]]}],\"heatmap\":[{\"type\":\"heatmap\",\"colorbar\":{\"outlinewidth\":0,\"ticks\":\"\"},\"colorscale\":[[0.0,\"#0d0887\"],[0.1111111111111111,\"#46039f\"],[0.2222222222222222,\"#7201a8\"],[0.3333333333333333,\"#9c179e\"],[0.4444444444444444,\"#bd3786\"],[0.5555555555555556,\"#d8576b\"],[0.6666666666666666,\"#ed7953\"],[0.7777777777777778,\"#fb9f3a\"],[0.8888888888888888,\"#fdca26\"],[1.0,\"#f0f921\"]]}],\"heatmapgl\":[{\"type\":\"heatmapgl\",\"colorbar\":{\"outlinewidth\":0,\"ticks\":\"\"},\"colorscale\":[[0.0,\"#0d0887\"],[0.1111111111111111,\"#46039f\"],[0.2222222222222222,\"#7201a8\"],[0.3333333333333333,\"#9c179e\"],[0.4444444444444444,\"#bd3786\"],[0.5555555555555556,\"#d8576b\"],[0.6666666666666666,\"#ed7953\"],[0.7777777777777778,\"#fb9f3a\"],[0.8888888888888888,\"#fdca26\"],[1.0,\"#f0f921\"]]}],\"contourcarpet\":[{\"type\":\"contourcarpet\",\"colorbar\":{\"outlinewidth\":0,\"ticks\":\"\"}}],\"contour\":[{\"type\":\"contour\",\"colorbar\":{\"outlinewidth\":0,\"ticks\":\"\"},\"colorscale\":[[0.0,\"#0d0887\"],[0.1111111111111111,\"#46039f\"],[0.2222222222222222,\"#7201a8\"],[0.3333333333333333,\"#9c179e\"],[0.4444444444444444,\"#bd3786\"],[0.5555555555555556,\"#d8576b\"],[0.6666666666666666,\"#ed7953\"],[0.7777777777777778,\"#fb9f3a\"],[0.8888888888888888,\"#fdca26\"],[1.0,\"#f0f921\"]]}],\"surface\":[{\"type\":\"surface\",\"colorbar\":{\"outlinewidth\":0,\"ticks\":\"\"},\"colorscale\":[[0.0,\"#0d0887\"],[0.1111111111111111,\"#46039f\"],[0.2222222222222222,\"#7201a8\"],[0.3333333333333333,\"#9c179e\"],[0.4444444444444444,\"#bd3786\"],[0.5555555555555556,\"#d8576b\"],[0.6666666666666666,\"#ed7953\"],[0.7777777777777778,\"#fb9f3a\"],[0.8888888888888888,\"#fdca26\"],[1.0,\"#f0f921\"]]}],\"mesh3d\":[{\"type\":\"mesh3d\",\"colorbar\":{\"outlinewidth\":0,\"ticks\":\"\"}}],\"scatter\":[{\"fillpattern\":{\"fillmode\":\"overlay\",\"size\":10,\"solidity\":0.2},\"type\":\"scatter\"}],\"parcoords\":[{\"type\":\"parcoords\",\"line\":{\"colorbar\":{\"outlinewidth\":0,\"ticks\":\"\"}}}],\"scatterpolargl\":[{\"type\":\"scatterpolargl\",\"marker\":{\"colorbar\":{\"outlinewidth\":0,\"ticks\":\"\"}}}],\"bar\":[{\"error_x\":{\"color\":\"#2a3f5f\"},\"error_y\":{\"color\":\"#2a3f5f\"},\"marker\":{\"line\":{\"color\":\"#E5ECF6\",\"width\":0.5},\"pattern\":{\"fillmode\":\"overlay\",\"size\":10,\"solidity\":0.2}},\"type\":\"bar\"}],\"scattergeo\":[{\"type\":\"scattergeo\",\"marker\":{\"colorbar\":{\"outlinewidth\":0,\"ticks\":\"\"}}}],\"scatterpolar\":[{\"type\":\"scatterpolar\",\"marker\":{\"colorbar\":{\"outlinewidth\":0,\"ticks\":\"\"}}}],\"histogram\":[{\"marker\":{\"pattern\":{\"fillmode\":\"overlay\",\"size\":10,\"solidity\":0.2}},\"type\":\"histogram\"}],\"scattergl\":[{\"type\":\"scattergl\",\"marker\":{\"colorbar\":{\"outlinewidth\":0,\"ticks\":\"\"}}}],\"scatter3d\":[{\"type\":\"scatter3d\",\"line\":{\"colorbar\":{\"outlinewidth\":0,\"ticks\":\"\"}},\"marker\":{\"colorbar\":{\"outlinewidth\":0,\"ticks\":\"\"}}}],\"scattermapbox\":[{\"type\":\"scattermapbox\",\"marker\":{\"colorbar\":{\"outlinewidth\":0,\"ticks\":\"\"}}}],\"scatterternary\":[{\"type\":\"scatterternary\",\"marker\":{\"colorbar\":{\"outlinewidth\":0,\"ticks\":\"\"}}}],\"scattercarpet\":[{\"type\":\"scattercarpet\",\"marker\":{\"colorbar\":{\"outlinewidth\":0,\"ticks\":\"\"}}}],\"carpet\":[{\"aaxis\":{\"endlinecolor\":\"#2a3f5f\",\"gridcolor\":\"white\",\"linecolor\":\"white\",\"minorgridcolor\":\"white\",\"startlinecolor\":\"#2a3f5f\"},\"baxis\":{\"endlinecolor\":\"#2a3f5f\",\"gridcolor\":\"white\",\"linecolor\":\"white\",\"minorgridcolor\":\"white\",\"startlinecolor\":\"#2a3f5f\"},\"type\":\"carpet\"}],\"table\":[{\"cells\":{\"fill\":{\"color\":\"#EBF0F8\"},\"line\":{\"color\":\"white\"}},\"header\":{\"fill\":{\"color\":\"#C8D4E3\"},\"line\":{\"color\":\"white\"}},\"type\":\"table\"}],\"barpolar\":[{\"marker\":{\"line\":{\"color\":\"#E5ECF6\",\"width\":0.5},\"pattern\":{\"fillmode\":\"overlay\",\"size\":10,\"solidity\":0.2}},\"type\":\"barpolar\"}],\"pie\":[{\"automargin\":true,\"type\":\"pie\"}]},\"layout\":{\"autotypenumbers\":\"strict\",\"colorway\":[\"#636efa\",\"#EF553B\",\"#00cc96\",\"#ab63fa\",\"#FFA15A\",\"#19d3f3\",\"#FF6692\",\"#B6E880\",\"#FF97FF\",\"#FECB52\"],\"font\":{\"color\":\"#2a3f5f\"},\"hovermode\":\"closest\",\"hoverlabel\":{\"align\":\"left\"},\"paper_bgcolor\":\"white\",\"plot_bgcolor\":\"#E5ECF6\",\"polar\":{\"bgcolor\":\"#E5ECF6\",\"angularaxis\":{\"gridcolor\":\"white\",\"linecolor\":\"white\",\"ticks\":\"\"},\"radialaxis\":{\"gridcolor\":\"white\",\"linecolor\":\"white\",\"ticks\":\"\"}},\"ternary\":{\"bgcolor\":\"#E5ECF6\",\"aaxis\":{\"gridcolor\":\"white\",\"linecolor\":\"white\",\"ticks\":\"\"},\"baxis\":{\"gridcolor\":\"white\",\"linecolor\":\"white\",\"ticks\":\"\"},\"caxis\":{\"gridcolor\":\"white\",\"linecolor\":\"white\",\"ticks\":\"\"}},\"coloraxis\":{\"colorbar\":{\"outlinewidth\":0,\"ticks\":\"\"}},\"colorscale\":{\"sequential\":[[0.0,\"#0d0887\"],[0.1111111111111111,\"#46039f\"],[0.2222222222222222,\"#7201a8\"],[0.3333333333333333,\"#9c179e\"],[0.4444444444444444,\"#bd3786\"],[0.5555555555555556,\"#d8576b\"],[0.6666666666666666,\"#ed7953\"],[0.7777777777777778,\"#fb9f3a\"],[0.8888888888888888,\"#fdca26\"],[1.0,\"#f0f921\"]],\"sequentialminus\":[[0.0,\"#0d0887\"],[0.1111111111111111,\"#46039f\"],[0.2222222222222222,\"#7201a8\"],[0.3333333333333333,\"#9c179e\"],[0.4444444444444444,\"#bd3786\"],[0.5555555555555556,\"#d8576b\"],[0.6666666666666666,\"#ed7953\"],[0.7777777777777778,\"#fb9f3a\"],[0.8888888888888888,\"#fdca26\"],[1.0,\"#f0f921\"]],\"diverging\":[[0,\"#8e0152\"],[0.1,\"#c51b7d\"],[0.2,\"#de77ae\"],[0.3,\"#f1b6da\"],[0.4,\"#fde0ef\"],[0.5,\"#f7f7f7\"],[0.6,\"#e6f5d0\"],[0.7,\"#b8e186\"],[0.8,\"#7fbc41\"],[0.9,\"#4d9221\"],[1,\"#276419\"]]},\"xaxis\":{\"gridcolor\":\"white\",\"linecolor\":\"white\",\"ticks\":\"\",\"title\":{\"standoff\":15},\"zerolinecolor\":\"white\",\"automargin\":true,\"zerolinewidth\":2},\"yaxis\":{\"gridcolor\":\"white\",\"linecolor\":\"white\",\"ticks\":\"\",\"title\":{\"standoff\":15},\"zerolinecolor\":\"white\",\"automargin\":true,\"zerolinewidth\":2},\"scene\":{\"xaxis\":{\"backgroundcolor\":\"#E5ECF6\",\"gridcolor\":\"white\",\"linecolor\":\"white\",\"showbackground\":true,\"ticks\":\"\",\"zerolinecolor\":\"white\",\"gridwidth\":2},\"yaxis\":{\"backgroundcolor\":\"#E5ECF6\",\"gridcolor\":\"white\",\"linecolor\":\"white\",\"showbackground\":true,\"ticks\":\"\",\"zerolinecolor\":\"white\",\"gridwidth\":2},\"zaxis\":{\"backgroundcolor\":\"#E5ECF6\",\"gridcolor\":\"white\",\"linecolor\":\"white\",\"showbackground\":true,\"ticks\":\"\",\"zerolinecolor\":\"white\",\"gridwidth\":2}},\"shapedefaults\":{\"line\":{\"color\":\"#2a3f5f\"}},\"annotationdefaults\":{\"arrowcolor\":\"#2a3f5f\",\"arrowhead\":0,\"arrowwidth\":1},\"geo\":{\"bgcolor\":\"white\",\"landcolor\":\"#E5ECF6\",\"subunitcolor\":\"white\",\"showland\":true,\"showlakes\":true,\"lakecolor\":\"white\"},\"title\":{\"x\":0.05},\"mapbox\":{\"style\":\"light\"}}},\"xaxis\":{\"anchor\":\"y\",\"domain\":[0.0,1.0],\"title\":{\"text\":\"Survived\"},\"categoryorder\":\"array\",\"categoryarray\":[0,1],\"tickmode\":\"array\",\"tickvals\":[0,1],\"ticktext\":[\"Didn't Survive\",\"Survived\"]},\"yaxis\":{\"anchor\":\"x\",\"domain\":[0.0,1.0],\"title\":{\"text\":\"count\"}},\"legend\":{\"title\":{\"text\":\"Survived\"},\"tracegroupgap\":0},\"title\":{\"text\":\"Survivor Data\"},\"barmode\":\"relative\",\"bargap\":0.6,\"font\":{\"color\":\"white\"},\"height\":650,\"plot_bgcolor\":\"#0a0a33\",\"paper_bgcolor\":\"#0a0a33\"},                        {\"responsive\": true}                    ).then(function(){\n",
       "                            \n",
       "var gd = document.getElementById('b4c1f343-e862-4891-8b61-e1a1f4a5ef3d');\n",
       "var x = new MutationObserver(function (mutations, observer) {{\n",
       "        var display = window.getComputedStyle(gd).display;\n",
       "        if (!display || display === 'none') {{\n",
       "            console.log([gd, 'removed!']);\n",
       "            Plotly.purge(gd);\n",
       "            observer.disconnect();\n",
       "        }}\n",
       "}});\n",
       "\n",
       "// Listen for the removal of the full notebook cells\n",
       "var notebookContainer = gd.closest('#notebook-container');\n",
       "if (notebookContainer) {{\n",
       "    x.observe(notebookContainer, {childList: true});\n",
       "}}\n",
       "\n",
       "// Listen for the clearing of the current output cell\n",
       "var outputEl = gd.closest('.output');\n",
       "if (outputEl) {{\n",
       "    x.observe(outputEl, {childList: true});\n",
       "}}\n",
       "\n",
       "                        })                };                });            </script>        </div>"
      ]
     },
     "metadata": {},
     "output_type": "display_data"
    }
   ],
   "source": [
    "# Plotting the counts of the values in the Survived column as a bar graph.\n",
    "bgcolor = \"#0a0a33\"\n",
    "color_sequence = [\"#3562e8\", \"#eb3462\", \"#a7c8d1\", \"#ccc504\"]\n",
    "font_color = \"white\"\n",
    "border_color = \"black\"\n",
    "labels = [\"Didn't Survive\", \"Survived\"]\n",
    "\n",
    "survivor = px.histogram(\n",
    "    data_frame = train_df, x = \"Survived\", color = \"Survived\", color_discrete_sequence = color_sequence,\n",
    "    title = \"Survivor Data\"\n",
    "    )\n",
    "\n",
    "survivor.update_layout(bargap = 0.6)\n",
    "\n",
    "survivor.update_traces(marker = dict(line = dict(width = 1, color = border_color)))\n",
    "survivor.update_layout(\n",
    "    height = 650, plot_bgcolor = bgcolor, paper_bgcolor = bgcolor, font_color = font_color, \n",
    "    bargap = 0.6, xaxis = dict(tickmode = \"array\", tickvals = [0, 1], ticktext = labels))\n",
    "\n",
    "survivor.show()"
   ]
  },
  {
   "cell_type": "markdown",
   "id": "c0c6453a",
   "metadata": {
    "id": "JOy7JhNTjcQz",
    "papermill": {
     "duration": 0.015295,
     "end_time": "2022-06-30T06:26:34.294434",
     "exception": false,
     "start_time": "2022-06-30T06:26:34.279139",
     "status": "completed"
    },
    "tags": []
   },
   "source": [
    "From the graph above, we can infer that most of the people who were on the ship were not able to escape in time. 549 people were not able to survive the disaster while 342 were able to. Let's check for the possible factors that contributed in a person's survival rate."
   ]
  },
  {
   "cell_type": "markdown",
   "id": "c5f7add4",
   "metadata": {
    "id": "RRZPgY80leJ-",
    "papermill": {
     "duration": 0.015176,
     "end_time": "2022-06-30T06:26:34.325153",
     "exception": false,
     "start_time": "2022-06-30T06:26:34.309977",
     "status": "completed"
    },
    "tags": []
   },
   "source": [
    "### 2) Continous Features (Age and Fare columns) <a id=\"cont\"></a>\n",
    "\n",
    "From the dataframe information we got earlier we can infer that `Age` and `Fare` are continous variables. So let's plot histograms to check their distribution."
   ]
  },
  {
   "cell_type": "code",
   "execution_count": 8,
   "id": "61db1e60",
   "metadata": {
    "execution": {
     "iopub.execute_input": "2022-06-30T06:26:34.359249Z",
     "iopub.status.busy": "2022-06-30T06:26:34.358747Z",
     "iopub.status.idle": "2022-06-30T06:26:34.510447Z",
     "shell.execute_reply": "2022-06-30T06:26:34.509564Z"
    },
    "id": "FomjAJ2ISG32",
    "outputId": "13fe2a19-64ed-469c-8741-136dc41b06d7",
    "papermill": {
     "duration": 0.171048,
     "end_time": "2022-06-30T06:26:34.512456",
     "exception": false,
     "start_time": "2022-06-30T06:26:34.341408",
     "status": "completed"
    },
    "tags": []
   },
   "outputs": [
    {
     "data": {
      "text/html": [
       "<div>                            <div id=\"9f417c89-8f1b-42e5-a679-3170cb056326\" class=\"plotly-graph-div\" style=\"height:525px; width:100%;\"></div>            <script type=\"text/javascript\">                require([\"plotly\"], function(Plotly) {                    window.PLOTLYENV=window.PLOTLYENV || {};                                    if (document.getElementById(\"9f417c89-8f1b-42e5-a679-3170cb056326\")) {                    Plotly.newPlot(                        \"9f417c89-8f1b-42e5-a679-3170cb056326\",                        [{\"alignmentgroup\":\"True\",\"bingroup\":\"x\",\"hovertemplate\":\"Age=%{x}<br>count=%{y}<extra></extra>\",\"legendgroup\":\"\",\"marker\":{\"color\":\"#3562e8\",\"line\":{\"color\":\"black\",\"width\":1},\"pattern\":{\"shape\":\"\"}},\"name\":\"\",\"offsetgroup\":\"\",\"orientation\":\"v\",\"showlegend\":false,\"x\":[22.0,38.0,26.0,35.0,35.0,28.0,54.0,2.0,27.0,14.0,4.0,58.0,20.0,39.0,14.0,55.0,2.0,28.0,31.0,28.0,35.0,34.0,15.0,28.0,8.0,38.0,28.0,19.0,28.0,28.0,40.0,28.0,28.0,66.0,28.0,42.0,28.0,21.0,18.0,14.0,40.0,27.0,28.0,3.0,19.0,28.0,28.0,28.0,28.0,18.0,7.0,21.0,49.0,29.0,65.0,28.0,21.0,28.5,5.0,11.0,22.0,38.0,45.0,4.0,28.0,28.0,29.0,19.0,17.0,26.0,32.0,16.0,21.0,26.0,32.0,25.0,28.0,28.0,0.83,30.0,22.0,29.0,28.0,28.0,17.0,33.0,16.0,28.0,23.0,24.0,29.0,20.0,46.0,26.0,59.0,28.0,71.0,23.0,34.0,34.0,28.0,28.0,21.0,33.0,37.0,28.0,21.0,28.0,38.0,28.0,47.0,14.5,22.0,20.0,17.0,21.0,70.5,29.0,24.0,2.0,21.0,28.0,32.5,32.5,54.0,12.0,28.0,24.0,28.0,45.0,33.0,20.0,47.0,29.0,25.0,23.0,19.0,37.0,16.0,24.0,28.0,22.0,24.0,19.0,18.0,19.0,27.0,9.0,36.5,42.0,51.0,22.0,55.5,40.5,28.0,51.0,16.0,30.0,28.0,28.0,44.0,40.0,26.0,17.0,1.0,9.0,28.0,45.0,28.0,28.0,61.0,4.0,1.0,21.0,56.0,18.0,28.0,50.0,30.0,36.0,28.0,28.0,9.0,1.0,4.0,28.0,28.0,45.0,40.0,36.0,32.0,19.0,19.0,3.0,44.0,58.0,28.0,42.0,28.0,24.0,28.0,28.0,34.0,45.5,18.0,2.0,32.0,26.0,16.0,40.0,24.0,35.0,22.0,30.0,28.0,31.0,27.0,42.0,32.0,30.0,16.0,27.0,51.0,28.0,38.0,22.0,19.0,20.5,18.0,28.0,35.0,29.0,59.0,5.0,24.0,28.0,44.0,8.0,19.0,33.0,28.0,28.0,29.0,22.0,30.0,44.0,25.0,24.0,37.0,54.0,28.0,29.0,62.0,30.0,41.0,29.0,28.0,30.0,35.0,50.0,28.0,3.0,52.0,40.0,28.0,36.0,16.0,25.0,58.0,35.0,28.0,25.0,41.0,37.0,28.0,63.0,45.0,28.0,7.0,35.0,65.0,28.0,16.0,19.0,28.0,33.0,30.0,22.0,42.0,22.0,26.0,19.0,36.0,24.0,24.0,28.0,23.5,2.0,28.0,50.0,28.0,28.0,19.0,28.0,28.0,0.92,28.0,17.0,30.0,30.0,24.0,18.0,26.0,28.0,43.0,26.0,24.0,54.0,31.0,40.0,22.0,27.0,30.0,22.0,28.0,36.0,61.0,36.0,31.0,16.0,28.0,45.5,38.0,16.0,28.0,28.0,29.0,41.0,45.0,45.0,2.0,24.0,28.0,25.0,36.0,24.0,40.0,28.0,3.0,42.0,23.0,28.0,15.0,25.0,28.0,28.0,22.0,38.0,28.0,28.0,40.0,29.0,45.0,35.0,28.0,30.0,60.0,28.0,28.0,24.0,25.0,18.0,19.0,22.0,3.0,28.0,22.0,27.0,20.0,19.0,42.0,1.0,32.0,35.0,28.0,18.0,1.0,36.0,28.0,17.0,36.0,21.0,28.0,23.0,24.0,22.0,31.0,46.0,23.0,28.0,39.0,26.0,21.0,28.0,20.0,34.0,51.0,3.0,21.0,28.0,28.0,28.0,33.0,28.0,44.0,28.0,34.0,18.0,30.0,10.0,28.0,21.0,29.0,28.0,18.0,28.0,28.0,19.0,28.0,32.0,28.0,28.0,42.0,17.0,50.0,14.0,21.0,24.0,64.0,31.0,45.0,20.0,25.0,28.0,28.0,4.0,13.0,34.0,5.0,52.0,36.0,28.0,30.0,49.0,28.0,29.0,65.0,28.0,50.0,28.0,48.0,34.0,47.0,48.0,28.0,38.0,28.0,56.0,28.0,0.75,28.0,38.0,33.0,23.0,22.0,28.0,34.0,29.0,22.0,2.0,9.0,28.0,50.0,63.0,25.0,28.0,35.0,58.0,30.0,9.0,28.0,21.0,55.0,71.0,21.0,28.0,54.0,28.0,25.0,24.0,17.0,21.0,28.0,37.0,16.0,18.0,33.0,28.0,28.0,26.0,29.0,28.0,36.0,54.0,24.0,47.0,34.0,28.0,36.0,32.0,30.0,22.0,28.0,44.0,28.0,40.5,50.0,28.0,39.0,23.0,2.0,28.0,17.0,28.0,30.0,7.0,45.0,30.0,28.0,22.0,36.0,9.0,11.0,32.0,50.0,64.0,19.0,28.0,33.0,8.0,17.0,27.0,28.0,22.0,22.0,62.0,48.0,28.0,39.0,36.0,28.0,40.0,28.0,28.0,28.0,24.0,19.0,29.0,28.0,32.0,62.0,53.0,36.0,28.0,16.0,19.0,34.0,39.0,28.0,32.0,25.0,39.0,54.0,36.0,28.0,18.0,47.0,60.0,22.0,28.0,35.0,52.0,47.0,28.0,37.0,36.0,28.0,49.0,28.0,49.0,24.0,28.0,28.0,44.0,35.0,36.0,30.0,27.0,22.0,40.0,39.0,28.0,28.0,28.0,35.0,24.0,34.0,26.0,4.0,26.0,27.0,42.0,20.0,21.0,21.0,61.0,57.0,21.0,26.0,28.0,80.0,51.0,32.0,28.0,9.0,28.0,32.0,31.0,41.0,28.0,20.0,24.0,2.0,28.0,0.75,48.0,19.0,56.0,28.0,23.0,28.0,18.0,21.0,28.0,18.0,24.0,28.0,32.0,23.0,58.0,50.0,40.0,47.0,36.0,20.0,32.0,25.0,28.0,43.0,28.0,40.0,31.0,70.0,31.0,28.0,18.0,24.5,18.0,43.0,36.0,28.0,27.0,20.0,14.0,60.0,25.0,14.0,19.0,18.0,15.0,31.0,4.0,28.0,25.0,60.0,52.0,44.0,28.0,49.0,42.0,18.0,35.0,18.0,25.0,26.0,39.0,45.0,42.0,22.0,28.0,24.0,28.0,48.0,29.0,52.0,19.0,38.0,27.0,28.0,33.0,6.0,17.0,34.0,50.0,27.0,20.0,30.0,28.0,25.0,25.0,29.0,11.0,28.0,23.0,23.0,28.5,48.0,35.0,28.0,28.0,28.0,36.0,21.0,24.0,31.0,70.0,16.0,30.0,19.0,31.0,4.0,6.0,33.0,23.0,48.0,0.67,28.0,18.0,34.0,33.0,28.0,41.0,20.0,36.0,16.0,51.0,28.0,30.5,28.0,32.0,24.0,48.0,57.0,28.0,54.0,18.0,28.0,5.0,28.0,43.0,13.0,17.0,29.0,28.0,25.0,25.0,18.0,8.0,1.0,46.0,28.0,16.0,28.0,28.0,25.0,39.0,49.0,31.0,30.0,30.0,34.0,31.0,11.0,0.42,27.0,31.0,39.0,18.0,39.0,33.0,26.0,39.0,35.0,6.0,30.5,28.0,23.0,31.0,43.0,10.0,52.0,27.0,38.0,27.0,2.0,28.0,28.0,1.0,28.0,62.0,15.0,0.83,28.0,23.0,18.0,39.0,21.0,28.0,32.0,28.0,20.0,16.0,30.0,34.5,17.0,42.0,28.0,35.0,28.0,28.0,4.0,74.0,9.0,16.0,44.0,18.0,45.0,51.0,24.0,28.0,41.0,21.0,48.0,28.0,24.0,42.0,27.0,31.0,28.0,4.0,26.0,47.0,33.0,47.0,28.0,15.0,20.0,19.0,28.0,56.0,25.0,33.0,22.0,28.0,25.0,39.0,27.0,19.0,28.0,26.0,32.0],\"xaxis\":\"x\",\"yaxis\":\"y\",\"type\":\"histogram\"},{\"alignmentgroup\":\"True\",\"bingroup\":\"x\",\"hovertemplate\":\"Fare=%{x}<br>count=%{y}<extra></extra>\",\"legendgroup\":\"\",\"marker\":{\"color\":\"#3562e8\",\"line\":{\"color\":\"black\",\"width\":1},\"pattern\":{\"shape\":\"\"}},\"name\":\"\",\"offsetgroup\":\"\",\"orientation\":\"v\",\"showlegend\":false,\"x\":[7.25,71.2833,7.925,53.1,8.05,8.4583,51.8625,21.075,11.1333,30.0708,16.7,26.55,8.05,31.275,7.8542,16.0,29.125,13.0,18.0,7.225,26.0,13.0,8.0292,35.5,21.075,31.3875,7.225,263.0,7.8792,7.8958,27.7208,146.5208,7.75,10.5,82.1708,52.0,7.2292,8.05,18.0,11.2417,9.475,21.0,7.8958,41.5792,7.8792,8.05,15.5,7.75,21.6792,17.8,39.6875,7.8,76.7292,26.0,61.9792,35.5,10.5,7.2292,27.75,46.9,7.2292,80.0,83.475,27.9,27.7208,15.2458,10.5,8.1583,7.925,8.6625,10.5,46.9,73.5,14.4542,56.4958,7.65,7.8958,8.05,29.0,12.475,9.0,9.5,7.7875,47.1,10.5,15.85,34.375,8.05,263.0,8.05,8.05,7.8542,61.175,20.575,7.25,8.05,34.6542,63.3583,23.0,26.0,7.8958,7.8958,77.2875,8.6542,7.925,7.8958,7.65,7.775,7.8958,24.15,52.0,14.4542,8.05,9.825,14.4583,7.925,7.75,21.0,247.5208,31.275,73.5,8.05,30.0708,13.0,77.2875,11.2417,7.75,7.1417,22.3583,6.975,7.8958,7.05,14.5,26.0,13.0,15.0458,26.2833,53.1,9.2167,79.2,15.2458,7.75,15.85,6.75,11.5,36.75,7.7958,34.375,26.0,13.0,12.525,66.6,8.05,14.5,7.3125,61.3792,7.7333,8.05,8.6625,69.55,16.1,15.75,7.775,8.6625,39.6875,20.525,55.0,27.9,25.925,56.4958,33.5,29.125,11.1333,7.925,30.6958,7.8542,25.4667,28.7125,13.0,0.0,69.55,15.05,31.3875,39.0,22.025,50.0,15.5,26.55,15.5,7.8958,13.0,13.0,7.8542,26.0,27.7208,146.5208,7.75,8.4042,7.75,13.0,9.5,69.55,6.4958,7.225,8.05,10.4625,15.85,18.7875,7.75,31.0,7.05,21.0,7.25,13.0,7.75,113.275,7.925,27.0,76.2917,10.5,8.05,13.0,8.05,7.8958,90.0,9.35,10.5,7.25,13.0,25.4667,83.475,7.775,13.5,31.3875,10.5,7.55,26.0,26.25,10.5,12.275,14.4542,15.5,10.5,7.125,7.225,90.0,7.775,14.5,52.5542,26.0,7.25,10.4625,26.55,16.1,20.2125,15.2458,79.2,86.5,512.3292,26.0,7.75,31.3875,79.65,0.0,7.75,10.5,39.6875,7.775,153.4625,135.6333,31.0,0.0,19.5,29.7,7.75,77.9583,7.75,0.0,29.125,20.25,7.75,7.8542,9.5,8.05,26.0,8.6625,9.5,7.8958,13.0,7.75,78.85,91.0792,12.875,8.85,7.8958,27.7208,7.2292,151.55,30.5,247.5208,7.75,23.25,0.0,12.35,8.05,151.55,110.8833,108.9,24.0,56.9292,83.1583,262.375,26.0,7.8958,26.25,7.8542,26.0,14.0,164.8667,134.5,7.25,7.8958,12.35,29.0,69.55,135.6333,6.2375,13.0,20.525,57.9792,23.25,28.5,153.4625,18.0,133.65,7.8958,66.6,134.5,8.05,35.5,26.0,263.0,13.0,13.0,13.0,13.0,13.0,16.1,15.9,8.6625,9.225,35.0,7.2292,17.8,7.225,9.5,55.0,13.0,7.8792,7.8792,27.9,27.7208,14.4542,7.05,15.5,7.25,75.25,7.2292,7.75,69.3,55.4417,6.4958,8.05,135.6333,21.075,82.1708,7.25,211.5,4.0125,7.775,227.525,15.7417,7.925,52.0,7.8958,73.5,46.9,13.0,7.7292,12.0,120.0,7.7958,7.925,113.275,16.7,7.7958,7.8542,26.0,10.5,12.65,7.925,8.05,9.825,15.85,8.6625,21.0,7.75,18.75,7.775,25.4667,7.8958,6.8583,90.0,0.0,7.925,8.05,32.5,13.0,13.0,24.15,7.8958,7.7333,7.875,14.4,20.2125,7.25,26.0,26.0,7.75,8.05,26.55,16.1,26.0,7.125,55.9,120.0,34.375,18.75,263.0,10.5,26.25,9.5,7.775,13.0,8.1125,81.8583,19.5,26.55,19.2583,30.5,27.75,19.9667,27.75,89.1042,8.05,7.8958,26.55,51.8625,10.5,7.75,26.55,8.05,38.5,13.0,8.05,7.05,0.0,26.55,7.725,19.2583,7.25,8.6625,27.75,13.7917,9.8375,52.0,21.0,7.0458,7.5208,12.2875,46.9,0.0,8.05,9.5875,91.0792,25.4667,90.0,29.7,8.05,15.9,19.9667,7.25,30.5,49.5042,8.05,14.4583,78.2667,15.1,151.55,7.7958,8.6625,7.75,7.6292,9.5875,86.5,108.9,26.0,26.55,22.525,56.4958,7.75,8.05,26.2875,59.4,7.4958,34.0208,10.5,24.15,26.0,7.8958,93.5,7.8958,7.225,57.9792,7.2292,7.75,10.5,221.7792,7.925,11.5,26.0,7.2292,7.2292,22.3583,8.6625,26.25,26.55,106.425,14.5,49.5,71.0,31.275,31.275,26.0,106.425,26.0,26.0,13.8625,20.525,36.75,110.8833,26.0,7.8292,7.225,7.775,26.55,39.6,227.525,79.65,17.4,7.75,7.8958,13.5,8.05,8.05,24.15,7.8958,21.075,7.2292,7.8542,10.5,51.4792,26.3875,7.75,8.05,14.5,13.0,55.9,14.4583,7.925,30.0,110.8833,26.0,40.125,8.7125,79.65,15.0,79.2,8.05,8.05,7.125,78.2667,7.25,7.75,26.0,24.15,33.0,0.0,7.225,56.9292,27.0,7.8958,42.4,8.05,26.55,15.55,7.8958,30.5,41.5792,153.4625,31.275,7.05,15.5,7.75,8.05,65.0,14.4,16.1,39.0,10.5,14.4542,52.5542,15.7417,7.8542,16.1,32.3208,12.35,77.9583,7.8958,7.7333,30.0,7.0542,30.5,0.0,27.9,13.0,7.925,26.25,39.6875,16.1,7.8542,69.3,27.9,56.4958,19.2583,76.7292,7.8958,35.5,7.55,7.55,7.8958,23.0,8.4333,7.8292,6.75,73.5,7.8958,15.5,13.0,113.275,133.65,7.225,25.5875,7.4958,7.925,73.5,13.0,7.775,8.05,52.0,39.0,52.0,10.5,13.0,0.0,7.775,8.05,9.8417,46.9,512.3292,8.1375,76.7292,9.225,46.9,39.0,41.5792,39.6875,10.1708,7.7958,211.3375,57.0,13.4167,56.4958,7.225,26.55,13.5,8.05,7.7333,110.8833,7.65,227.525,26.2875,14.4542,7.7417,7.8542,26.0,13.5,26.2875,151.55,15.2458,49.5042,26.55,52.0,9.4833,13.0,7.65,227.525,10.5,15.5,7.775,33.0,7.0542,13.0,13.0,53.1,8.6625,21.0,7.7375,26.0,7.925,211.3375,18.7875,0.0,13.0,13.0,16.1,34.375,512.3292,7.8958,7.8958,30.0,78.85,262.375,16.1,7.925,71.0,20.25,13.0,53.1,7.75,23.0,12.475,9.5,7.8958,65.0,14.5,7.7958,11.5,8.05,86.5,14.5,7.125,7.2292,120.0,7.775,77.9583,39.6,7.75,24.15,8.3625,9.5,7.8542,10.5,7.225,23.0,7.75,7.75,12.475,7.7375,211.3375,7.2292,57.0,30.0,23.45,7.05,7.25,7.4958,29.125,20.575,79.2,7.75,26.0,69.55,30.6958,7.8958,13.0,25.9292,8.6833,7.2292,24.15,13.0,26.25,120.0,8.5167,6.975,7.775,0.0,7.775,13.0,53.1,7.8875,24.15,10.5,31.275,8.05,0.0,7.925,37.0042,6.45,27.9,93.5,8.6625,0.0,12.475,39.6875,6.95,56.4958,37.0042,7.75,80.0,14.4542,18.75,7.2292,7.8542,8.3,83.1583,8.6625,8.05,56.4958,29.7,7.925,10.5,31.0,6.4375,8.6625,7.55,69.55,7.8958,33.0,89.1042,31.275,7.775,15.2458,39.4,26.0,9.35,164.8667,26.55,19.2583,7.2292,14.1083,11.5,25.9292,69.55,13.0,13.0,13.8583,50.4958,9.5,11.1333,7.8958,52.5542,5.0,9.0,24.0,7.225,9.8458,7.8958,7.8958,83.1583,26.0,7.8958,10.5167,10.5,7.05,29.125,13.0,30.0,23.45,30.0,7.75],\"xaxis\":\"x2\",\"yaxis\":\"y2\",\"type\":\"histogram\"}],                        {\"template\":{\"data\":{\"histogram2dcontour\":[{\"type\":\"histogram2dcontour\",\"colorbar\":{\"outlinewidth\":0,\"ticks\":\"\"},\"colorscale\":[[0.0,\"#0d0887\"],[0.1111111111111111,\"#46039f\"],[0.2222222222222222,\"#7201a8\"],[0.3333333333333333,\"#9c179e\"],[0.4444444444444444,\"#bd3786\"],[0.5555555555555556,\"#d8576b\"],[0.6666666666666666,\"#ed7953\"],[0.7777777777777778,\"#fb9f3a\"],[0.8888888888888888,\"#fdca26\"],[1.0,\"#f0f921\"]]}],\"choropleth\":[{\"type\":\"choropleth\",\"colorbar\":{\"outlinewidth\":0,\"ticks\":\"\"}}],\"histogram2d\":[{\"type\":\"histogram2d\",\"colorbar\":{\"outlinewidth\":0,\"ticks\":\"\"},\"colorscale\":[[0.0,\"#0d0887\"],[0.1111111111111111,\"#46039f\"],[0.2222222222222222,\"#7201a8\"],[0.3333333333333333,\"#9c179e\"],[0.4444444444444444,\"#bd3786\"],[0.5555555555555556,\"#d8576b\"],[0.6666666666666666,\"#ed7953\"],[0.7777777777777778,\"#fb9f3a\"],[0.8888888888888888,\"#fdca26\"],[1.0,\"#f0f921\"]]}],\"heatmap\":[{\"type\":\"heatmap\",\"colorbar\":{\"outlinewidth\":0,\"ticks\":\"\"},\"colorscale\":[[0.0,\"#0d0887\"],[0.1111111111111111,\"#46039f\"],[0.2222222222222222,\"#7201a8\"],[0.3333333333333333,\"#9c179e\"],[0.4444444444444444,\"#bd3786\"],[0.5555555555555556,\"#d8576b\"],[0.6666666666666666,\"#ed7953\"],[0.7777777777777778,\"#fb9f3a\"],[0.8888888888888888,\"#fdca26\"],[1.0,\"#f0f921\"]]}],\"heatmapgl\":[{\"type\":\"heatmapgl\",\"colorbar\":{\"outlinewidth\":0,\"ticks\":\"\"},\"colorscale\":[[0.0,\"#0d0887\"],[0.1111111111111111,\"#46039f\"],[0.2222222222222222,\"#7201a8\"],[0.3333333333333333,\"#9c179e\"],[0.4444444444444444,\"#bd3786\"],[0.5555555555555556,\"#d8576b\"],[0.6666666666666666,\"#ed7953\"],[0.7777777777777778,\"#fb9f3a\"],[0.8888888888888888,\"#fdca26\"],[1.0,\"#f0f921\"]]}],\"contourcarpet\":[{\"type\":\"contourcarpet\",\"colorbar\":{\"outlinewidth\":0,\"ticks\":\"\"}}],\"contour\":[{\"type\":\"contour\",\"colorbar\":{\"outlinewidth\":0,\"ticks\":\"\"},\"colorscale\":[[0.0,\"#0d0887\"],[0.1111111111111111,\"#46039f\"],[0.2222222222222222,\"#7201a8\"],[0.3333333333333333,\"#9c179e\"],[0.4444444444444444,\"#bd3786\"],[0.5555555555555556,\"#d8576b\"],[0.6666666666666666,\"#ed7953\"],[0.7777777777777778,\"#fb9f3a\"],[0.8888888888888888,\"#fdca26\"],[1.0,\"#f0f921\"]]}],\"surface\":[{\"type\":\"surface\",\"colorbar\":{\"outlinewidth\":0,\"ticks\":\"\"},\"colorscale\":[[0.0,\"#0d0887\"],[0.1111111111111111,\"#46039f\"],[0.2222222222222222,\"#7201a8\"],[0.3333333333333333,\"#9c179e\"],[0.4444444444444444,\"#bd3786\"],[0.5555555555555556,\"#d8576b\"],[0.6666666666666666,\"#ed7953\"],[0.7777777777777778,\"#fb9f3a\"],[0.8888888888888888,\"#fdca26\"],[1.0,\"#f0f921\"]]}],\"mesh3d\":[{\"type\":\"mesh3d\",\"colorbar\":{\"outlinewidth\":0,\"ticks\":\"\"}}],\"scatter\":[{\"fillpattern\":{\"fillmode\":\"overlay\",\"size\":10,\"solidity\":0.2},\"type\":\"scatter\"}],\"parcoords\":[{\"type\":\"parcoords\",\"line\":{\"colorbar\":{\"outlinewidth\":0,\"ticks\":\"\"}}}],\"scatterpolargl\":[{\"type\":\"scatterpolargl\",\"marker\":{\"colorbar\":{\"outlinewidth\":0,\"ticks\":\"\"}}}],\"bar\":[{\"error_x\":{\"color\":\"#2a3f5f\"},\"error_y\":{\"color\":\"#2a3f5f\"},\"marker\":{\"line\":{\"color\":\"#E5ECF6\",\"width\":0.5},\"pattern\":{\"fillmode\":\"overlay\",\"size\":10,\"solidity\":0.2}},\"type\":\"bar\"}],\"scattergeo\":[{\"type\":\"scattergeo\",\"marker\":{\"colorbar\":{\"outlinewidth\":0,\"ticks\":\"\"}}}],\"scatterpolar\":[{\"type\":\"scatterpolar\",\"marker\":{\"colorbar\":{\"outlinewidth\":0,\"ticks\":\"\"}}}],\"histogram\":[{\"marker\":{\"pattern\":{\"fillmode\":\"overlay\",\"size\":10,\"solidity\":0.2}},\"type\":\"histogram\"}],\"scattergl\":[{\"type\":\"scattergl\",\"marker\":{\"colorbar\":{\"outlinewidth\":0,\"ticks\":\"\"}}}],\"scatter3d\":[{\"type\":\"scatter3d\",\"line\":{\"colorbar\":{\"outlinewidth\":0,\"ticks\":\"\"}},\"marker\":{\"colorbar\":{\"outlinewidth\":0,\"ticks\":\"\"}}}],\"scattermapbox\":[{\"type\":\"scattermapbox\",\"marker\":{\"colorbar\":{\"outlinewidth\":0,\"ticks\":\"\"}}}],\"scatterternary\":[{\"type\":\"scatterternary\",\"marker\":{\"colorbar\":{\"outlinewidth\":0,\"ticks\":\"\"}}}],\"scattercarpet\":[{\"type\":\"scattercarpet\",\"marker\":{\"colorbar\":{\"outlinewidth\":0,\"ticks\":\"\"}}}],\"carpet\":[{\"aaxis\":{\"endlinecolor\":\"#2a3f5f\",\"gridcolor\":\"white\",\"linecolor\":\"white\",\"minorgridcolor\":\"white\",\"startlinecolor\":\"#2a3f5f\"},\"baxis\":{\"endlinecolor\":\"#2a3f5f\",\"gridcolor\":\"white\",\"linecolor\":\"white\",\"minorgridcolor\":\"white\",\"startlinecolor\":\"#2a3f5f\"},\"type\":\"carpet\"}],\"table\":[{\"cells\":{\"fill\":{\"color\":\"#EBF0F8\"},\"line\":{\"color\":\"white\"}},\"header\":{\"fill\":{\"color\":\"#C8D4E3\"},\"line\":{\"color\":\"white\"}},\"type\":\"table\"}],\"barpolar\":[{\"marker\":{\"line\":{\"color\":\"#E5ECF6\",\"width\":0.5},\"pattern\":{\"fillmode\":\"overlay\",\"size\":10,\"solidity\":0.2}},\"type\":\"barpolar\"}],\"pie\":[{\"automargin\":true,\"type\":\"pie\"}]},\"layout\":{\"autotypenumbers\":\"strict\",\"colorway\":[\"#636efa\",\"#EF553B\",\"#00cc96\",\"#ab63fa\",\"#FFA15A\",\"#19d3f3\",\"#FF6692\",\"#B6E880\",\"#FF97FF\",\"#FECB52\"],\"font\":{\"color\":\"#2a3f5f\"},\"hovermode\":\"closest\",\"hoverlabel\":{\"align\":\"left\"},\"paper_bgcolor\":\"white\",\"plot_bgcolor\":\"#E5ECF6\",\"polar\":{\"bgcolor\":\"#E5ECF6\",\"angularaxis\":{\"gridcolor\":\"white\",\"linecolor\":\"white\",\"ticks\":\"\"},\"radialaxis\":{\"gridcolor\":\"white\",\"linecolor\":\"white\",\"ticks\":\"\"}},\"ternary\":{\"bgcolor\":\"#E5ECF6\",\"aaxis\":{\"gridcolor\":\"white\",\"linecolor\":\"white\",\"ticks\":\"\"},\"baxis\":{\"gridcolor\":\"white\",\"linecolor\":\"white\",\"ticks\":\"\"},\"caxis\":{\"gridcolor\":\"white\",\"linecolor\":\"white\",\"ticks\":\"\"}},\"coloraxis\":{\"colorbar\":{\"outlinewidth\":0,\"ticks\":\"\"}},\"colorscale\":{\"sequential\":[[0.0,\"#0d0887\"],[0.1111111111111111,\"#46039f\"],[0.2222222222222222,\"#7201a8\"],[0.3333333333333333,\"#9c179e\"],[0.4444444444444444,\"#bd3786\"],[0.5555555555555556,\"#d8576b\"],[0.6666666666666666,\"#ed7953\"],[0.7777777777777778,\"#fb9f3a\"],[0.8888888888888888,\"#fdca26\"],[1.0,\"#f0f921\"]],\"sequentialminus\":[[0.0,\"#0d0887\"],[0.1111111111111111,\"#46039f\"],[0.2222222222222222,\"#7201a8\"],[0.3333333333333333,\"#9c179e\"],[0.4444444444444444,\"#bd3786\"],[0.5555555555555556,\"#d8576b\"],[0.6666666666666666,\"#ed7953\"],[0.7777777777777778,\"#fb9f3a\"],[0.8888888888888888,\"#fdca26\"],[1.0,\"#f0f921\"]],\"diverging\":[[0,\"#8e0152\"],[0.1,\"#c51b7d\"],[0.2,\"#de77ae\"],[0.3,\"#f1b6da\"],[0.4,\"#fde0ef\"],[0.5,\"#f7f7f7\"],[0.6,\"#e6f5d0\"],[0.7,\"#b8e186\"],[0.8,\"#7fbc41\"],[0.9,\"#4d9221\"],[1,\"#276419\"]]},\"xaxis\":{\"gridcolor\":\"white\",\"linecolor\":\"white\",\"ticks\":\"\",\"title\":{\"standoff\":15},\"zerolinecolor\":\"white\",\"automargin\":true,\"zerolinewidth\":2},\"yaxis\":{\"gridcolor\":\"white\",\"linecolor\":\"white\",\"ticks\":\"\",\"title\":{\"standoff\":15},\"zerolinecolor\":\"white\",\"automargin\":true,\"zerolinewidth\":2},\"scene\":{\"xaxis\":{\"backgroundcolor\":\"#E5ECF6\",\"gridcolor\":\"white\",\"linecolor\":\"white\",\"showbackground\":true,\"ticks\":\"\",\"zerolinecolor\":\"white\",\"gridwidth\":2},\"yaxis\":{\"backgroundcolor\":\"#E5ECF6\",\"gridcolor\":\"white\",\"linecolor\":\"white\",\"showbackground\":true,\"ticks\":\"\",\"zerolinecolor\":\"white\",\"gridwidth\":2},\"zaxis\":{\"backgroundcolor\":\"#E5ECF6\",\"gridcolor\":\"white\",\"linecolor\":\"white\",\"showbackground\":true,\"ticks\":\"\",\"zerolinecolor\":\"white\",\"gridwidth\":2}},\"shapedefaults\":{\"line\":{\"color\":\"#2a3f5f\"}},\"annotationdefaults\":{\"arrowcolor\":\"#2a3f5f\",\"arrowhead\":0,\"arrowwidth\":1},\"geo\":{\"bgcolor\":\"white\",\"landcolor\":\"#E5ECF6\",\"subunitcolor\":\"white\",\"showland\":true,\"showlakes\":true,\"lakecolor\":\"white\"},\"title\":{\"x\":0.05},\"mapbox\":{\"style\":\"light\"}}},\"xaxis\":{\"anchor\":\"y\",\"domain\":[0.0,0.45]},\"yaxis\":{\"anchor\":\"x\",\"domain\":[0.0,1.0]},\"xaxis2\":{\"anchor\":\"y2\",\"domain\":[0.55,1.0]},\"yaxis2\":{\"anchor\":\"x2\",\"domain\":[0.0,1.0],\"matches\":\"y\",\"showticklabels\":false},\"annotations\":[{\"font\":{\"size\":16},\"showarrow\":false,\"text\":\"Age Distribution\",\"x\":0.225,\"xanchor\":\"center\",\"xref\":\"paper\",\"y\":1.0,\"yanchor\":\"bottom\",\"yref\":\"paper\"},{\"font\":{\"size\":16},\"showarrow\":false,\"text\":\"Fare Distribution\",\"x\":0.775,\"xanchor\":\"center\",\"xref\":\"paper\",\"y\":1.0,\"yanchor\":\"bottom\",\"yref\":\"paper\"}],\"font\":{\"color\":\"white\"},\"paper_bgcolor\":\"#0a0a33\",\"plot_bgcolor\":\"#0a0a33\",\"title\":{\"text\":\"Distribution of Continous Variables\"}},                        {\"responsive\": true}                    ).then(function(){\n",
       "                            \n",
       "var gd = document.getElementById('9f417c89-8f1b-42e5-a679-3170cb056326');\n",
       "var x = new MutationObserver(function (mutations, observer) {{\n",
       "        var display = window.getComputedStyle(gd).display;\n",
       "        if (!display || display === 'none') {{\n",
       "            console.log([gd, 'removed!']);\n",
       "            Plotly.purge(gd);\n",
       "            observer.disconnect();\n",
       "        }}\n",
       "}});\n",
       "\n",
       "// Listen for the removal of the full notebook cells\n",
       "var notebookContainer = gd.closest('#notebook-container');\n",
       "if (notebookContainer) {{\n",
       "    x.observe(notebookContainer, {childList: true});\n",
       "}}\n",
       "\n",
       "// Listen for the clearing of the current output cell\n",
       "var outputEl = gd.closest('.output');\n",
       "if (outputEl) {{\n",
       "    x.observe(outputEl, {childList: true});\n",
       "}}\n",
       "\n",
       "                        })                };                });            </script>        </div>"
      ]
     },
     "metadata": {},
     "output_type": "display_data"
    }
   ],
   "source": [
    "# Plotting histograms for Age and Fare.\n",
    "fig = make_subplots(rows = 1, cols = 2, subplot_titles = [\"Age Distribution\", \"Fare Distribution\"], shared_yaxes = True)\n",
    "\n",
    "# Age Distribution.\n",
    "ages = px.histogram(data_frame = train_df, x = \"Age\", color_discrete_sequence = color_sequence)\n",
    "ages.update_traces(marker = dict(line = dict(width = 1, color = border_color)))\n",
    "fig.add_traces(ages.data, rows = 1, cols = 1)\n",
    "\n",
    "# Fare Distribution.\n",
    "fares = px.histogram(data_frame = train_df, x = \"Fare\", color_discrete_sequence = color_sequence)\n",
    "fares.update_traces(marker = dict(line = dict(width = 1, color = border_color)))\n",
    "fig.add_traces(fares.data, rows = 1, cols = 2)\n",
    "\n",
    "fig.update_layout(paper_bgcolor = bgcolor, plot_bgcolor = bgcolor, font_color = font_color, title = \"Distribution of Continous Variables\")\n",
    "fig.show()"
   ]
  },
  {
   "cell_type": "markdown",
   "id": "98f286cf",
   "metadata": {
    "id": "E02lytX7l68E",
    "papermill": {
     "duration": 0.017528,
     "end_time": "2022-06-30T06:26:34.545937",
     "exception": false,
     "start_time": "2022-06-30T06:26:34.528409",
     "status": "completed"
    },
    "tags": []
   },
   "source": [
    "The `Age Distribution` seems to be normally distributed but the `Fare Distribution` seems to have a few outliers of 500 which is ruining the entire graph. Let's remove any `Fare` values that are above 267.5 and plot the graph again."
   ]
  },
  {
   "cell_type": "code",
   "execution_count": 9,
   "id": "6fcef00d",
   "metadata": {
    "execution": {
     "iopub.execute_input": "2022-06-30T06:26:34.583133Z",
     "iopub.status.busy": "2022-06-30T06:26:34.582591Z",
     "iopub.status.idle": "2022-06-30T06:26:34.709188Z",
     "shell.execute_reply": "2022-06-30T06:26:34.708397Z"
    },
    "id": "U2ucbGRnmb_f",
    "outputId": "c8dfa473-6cf9-43eb-c00a-f59aaafb086a",
    "papermill": {
     "duration": 0.145962,
     "end_time": "2022-06-30T06:26:34.710999",
     "exception": false,
     "start_time": "2022-06-30T06:26:34.565037",
     "status": "completed"
    },
    "tags": []
   },
   "outputs": [
    {
     "data": {
      "text/html": [
       "<div>                            <div id=\"f68c9f61-0b27-4677-a6ee-2f4ca002aee9\" class=\"plotly-graph-div\" style=\"height:525px; width:100%;\"></div>            <script type=\"text/javascript\">                require([\"plotly\"], function(Plotly) {                    window.PLOTLYENV=window.PLOTLYENV || {};                                    if (document.getElementById(\"f68c9f61-0b27-4677-a6ee-2f4ca002aee9\")) {                    Plotly.newPlot(                        \"f68c9f61-0b27-4677-a6ee-2f4ca002aee9\",                        [{\"alignmentgroup\":\"True\",\"bingroup\":\"x\",\"hovertemplate\":\"Age=%{x}<br>count=%{y}<extra></extra>\",\"legendgroup\":\"\",\"marker\":{\"color\":\"#3562e8\",\"line\":{\"color\":\"black\",\"width\":1},\"pattern\":{\"shape\":\"\"}},\"name\":\"\",\"offsetgroup\":\"\",\"orientation\":\"v\",\"showlegend\":false,\"x\":[22.0,38.0,26.0,35.0,35.0,28.0,54.0,2.0,27.0,14.0,4.0,58.0,20.0,39.0,14.0,55.0,2.0,28.0,31.0,28.0,35.0,34.0,15.0,28.0,8.0,38.0,28.0,19.0,28.0,28.0,40.0,28.0,28.0,66.0,28.0,42.0,28.0,21.0,18.0,14.0,40.0,27.0,28.0,3.0,19.0,28.0,28.0,28.0,28.0,18.0,7.0,21.0,49.0,29.0,65.0,28.0,21.0,28.5,5.0,11.0,22.0,38.0,45.0,4.0,28.0,28.0,29.0,19.0,17.0,26.0,32.0,16.0,21.0,26.0,32.0,25.0,28.0,28.0,0.83,30.0,22.0,29.0,28.0,28.0,17.0,33.0,16.0,28.0,23.0,24.0,29.0,20.0,46.0,26.0,59.0,28.0,71.0,23.0,34.0,34.0,28.0,28.0,21.0,33.0,37.0,28.0,21.0,28.0,38.0,28.0,47.0,14.5,22.0,20.0,17.0,21.0,70.5,29.0,24.0,2.0,21.0,28.0,32.5,32.5,54.0,12.0,28.0,24.0,28.0,45.0,33.0,20.0,47.0,29.0,25.0,23.0,19.0,37.0,16.0,24.0,28.0,22.0,24.0,19.0,18.0,19.0,27.0,9.0,36.5,42.0,51.0,22.0,55.5,40.5,28.0,51.0,16.0,30.0,28.0,28.0,44.0,40.0,26.0,17.0,1.0,9.0,28.0,45.0,28.0,28.0,61.0,4.0,1.0,21.0,56.0,18.0,28.0,50.0,30.0,36.0,28.0,28.0,9.0,1.0,4.0,28.0,28.0,45.0,40.0,36.0,32.0,19.0,19.0,3.0,44.0,58.0,28.0,42.0,28.0,24.0,28.0,28.0,34.0,45.5,18.0,2.0,32.0,26.0,16.0,40.0,24.0,35.0,22.0,30.0,28.0,31.0,27.0,42.0,32.0,30.0,16.0,27.0,51.0,28.0,38.0,22.0,19.0,20.5,18.0,28.0,35.0,29.0,59.0,5.0,24.0,28.0,44.0,8.0,19.0,33.0,28.0,28.0,29.0,22.0,30.0,44.0,25.0,24.0,37.0,54.0,28.0,29.0,62.0,30.0,41.0,29.0,28.0,30.0,50.0,28.0,3.0,52.0,40.0,28.0,36.0,16.0,25.0,58.0,35.0,28.0,25.0,41.0,37.0,28.0,63.0,45.0,28.0,7.0,35.0,65.0,28.0,16.0,19.0,28.0,33.0,30.0,22.0,42.0,22.0,26.0,19.0,36.0,24.0,24.0,28.0,23.5,2.0,28.0,50.0,28.0,28.0,19.0,28.0,28.0,0.92,28.0,17.0,30.0,30.0,24.0,18.0,26.0,28.0,43.0,26.0,24.0,54.0,31.0,40.0,22.0,27.0,30.0,22.0,28.0,36.0,61.0,36.0,31.0,16.0,28.0,45.5,38.0,16.0,28.0,28.0,29.0,41.0,45.0,45.0,2.0,24.0,28.0,25.0,36.0,24.0,40.0,28.0,3.0,42.0,23.0,28.0,15.0,25.0,28.0,28.0,22.0,38.0,28.0,28.0,40.0,29.0,45.0,35.0,28.0,30.0,60.0,28.0,28.0,24.0,25.0,18.0,19.0,22.0,3.0,28.0,22.0,27.0,20.0,19.0,42.0,1.0,32.0,35.0,28.0,18.0,1.0,36.0,28.0,17.0,36.0,21.0,28.0,23.0,24.0,22.0,31.0,46.0,23.0,28.0,39.0,26.0,21.0,28.0,20.0,34.0,51.0,3.0,21.0,28.0,28.0,28.0,33.0,28.0,44.0,28.0,34.0,18.0,30.0,10.0,28.0,21.0,29.0,28.0,18.0,28.0,28.0,19.0,28.0,32.0,28.0,28.0,42.0,17.0,50.0,14.0,21.0,24.0,64.0,31.0,45.0,20.0,25.0,28.0,28.0,4.0,13.0,34.0,5.0,52.0,36.0,28.0,30.0,49.0,28.0,29.0,65.0,28.0,50.0,28.0,48.0,34.0,47.0,48.0,28.0,38.0,28.0,56.0,28.0,0.75,28.0,38.0,33.0,23.0,22.0,28.0,34.0,29.0,22.0,2.0,9.0,28.0,50.0,63.0,25.0,28.0,35.0,58.0,30.0,9.0,28.0,21.0,55.0,71.0,21.0,28.0,54.0,28.0,25.0,24.0,17.0,21.0,28.0,37.0,16.0,18.0,33.0,28.0,28.0,26.0,29.0,28.0,36.0,54.0,24.0,47.0,34.0,28.0,36.0,32.0,30.0,22.0,28.0,44.0,28.0,40.5,50.0,28.0,39.0,23.0,2.0,28.0,17.0,28.0,30.0,7.0,45.0,30.0,28.0,22.0,36.0,9.0,11.0,32.0,50.0,64.0,19.0,28.0,33.0,8.0,17.0,27.0,28.0,22.0,22.0,62.0,48.0,28.0,39.0,36.0,28.0,40.0,28.0,28.0,28.0,24.0,19.0,29.0,28.0,32.0,62.0,53.0,36.0,28.0,16.0,19.0,34.0,39.0,28.0,32.0,25.0,39.0,54.0,36.0,28.0,18.0,47.0,60.0,22.0,28.0,35.0,52.0,47.0,28.0,37.0,36.0,28.0,49.0,28.0,49.0,24.0,28.0,28.0,44.0,35.0,36.0,30.0,27.0,22.0,40.0,39.0,28.0,28.0,28.0,35.0,24.0,34.0,26.0,4.0,26.0,27.0,42.0,20.0,21.0,21.0,61.0,57.0,21.0,26.0,28.0,80.0,51.0,32.0,28.0,9.0,28.0,32.0,31.0,41.0,28.0,20.0,24.0,2.0,28.0,0.75,48.0,19.0,56.0,28.0,23.0,28.0,18.0,21.0,28.0,18.0,24.0,28.0,32.0,23.0,58.0,50.0,40.0,47.0,36.0,20.0,32.0,25.0,28.0,43.0,28.0,40.0,31.0,70.0,31.0,28.0,18.0,24.5,18.0,43.0,28.0,27.0,20.0,14.0,60.0,25.0,14.0,19.0,18.0,15.0,31.0,4.0,28.0,25.0,60.0,52.0,44.0,28.0,49.0,42.0,18.0,35.0,18.0,25.0,26.0,39.0,45.0,42.0,22.0,28.0,24.0,28.0,48.0,29.0,52.0,19.0,38.0,27.0,28.0,33.0,6.0,17.0,34.0,50.0,27.0,20.0,30.0,28.0,25.0,25.0,29.0,11.0,28.0,23.0,23.0,28.5,48.0,28.0,28.0,28.0,36.0,21.0,24.0,31.0,70.0,16.0,30.0,19.0,31.0,4.0,6.0,33.0,23.0,48.0,0.67,28.0,18.0,34.0,33.0,28.0,41.0,20.0,36.0,16.0,51.0,28.0,30.5,28.0,32.0,24.0,48.0,57.0,28.0,54.0,18.0,28.0,5.0,28.0,43.0,13.0,17.0,29.0,28.0,25.0,25.0,18.0,8.0,1.0,46.0,28.0,16.0,28.0,28.0,25.0,39.0,49.0,31.0,30.0,30.0,34.0,31.0,11.0,0.42,27.0,31.0,39.0,18.0,39.0,33.0,26.0,39.0,35.0,6.0,30.5,28.0,23.0,31.0,43.0,10.0,52.0,27.0,38.0,27.0,2.0,28.0,28.0,1.0,28.0,62.0,15.0,0.83,28.0,23.0,18.0,39.0,21.0,28.0,32.0,28.0,20.0,16.0,30.0,34.5,17.0,42.0,28.0,35.0,28.0,28.0,4.0,74.0,9.0,16.0,44.0,18.0,45.0,51.0,24.0,28.0,41.0,21.0,48.0,28.0,24.0,42.0,27.0,31.0,28.0,4.0,26.0,47.0,33.0,47.0,28.0,15.0,20.0,19.0,28.0,56.0,25.0,33.0,22.0,28.0,25.0,39.0,27.0,19.0,28.0,26.0,32.0],\"xaxis\":\"x\",\"yaxis\":\"y\",\"type\":\"histogram\"},{\"alignmentgroup\":\"True\",\"bingroup\":\"x\",\"hovertemplate\":\"Fare=%{x}<br>count=%{y}<extra></extra>\",\"legendgroup\":\"\",\"marker\":{\"color\":\"#3562e8\",\"line\":{\"color\":\"black\",\"width\":1},\"pattern\":{\"shape\":\"\"}},\"name\":\"\",\"offsetgroup\":\"\",\"orientation\":\"v\",\"showlegend\":false,\"x\":[7.25,71.2833,7.925,53.1,8.05,8.4583,51.8625,21.075,11.1333,30.0708,16.7,26.55,8.05,31.275,7.8542,16.0,29.125,13.0,18.0,7.225,26.0,13.0,8.0292,35.5,21.075,31.3875,7.225,263.0,7.8792,7.8958,27.7208,146.5208,7.75,10.5,82.1708,52.0,7.2292,8.05,18.0,11.2417,9.475,21.0,7.8958,41.5792,7.8792,8.05,15.5,7.75,21.6792,17.8,39.6875,7.8,76.7292,26.0,61.9792,35.5,10.5,7.2292,27.75,46.9,7.2292,80.0,83.475,27.9,27.7208,15.2458,10.5,8.1583,7.925,8.6625,10.5,46.9,73.5,14.4542,56.4958,7.65,7.8958,8.05,29.0,12.475,9.0,9.5,7.7875,47.1,10.5,15.85,34.375,8.05,263.0,8.05,8.05,7.8542,61.175,20.575,7.25,8.05,34.6542,63.3583,23.0,26.0,7.8958,7.8958,77.2875,8.6542,7.925,7.8958,7.65,7.775,7.8958,24.15,52.0,14.4542,8.05,9.825,14.4583,7.925,7.75,21.0,247.5208,31.275,73.5,8.05,30.0708,13.0,77.2875,11.2417,7.75,7.1417,22.3583,6.975,7.8958,7.05,14.5,26.0,13.0,15.0458,26.2833,53.1,9.2167,79.2,15.2458,7.75,15.85,6.75,11.5,36.75,7.7958,34.375,26.0,13.0,12.525,66.6,8.05,14.5,7.3125,61.3792,7.7333,8.05,8.6625,69.55,16.1,15.75,7.775,8.6625,39.6875,20.525,55.0,27.9,25.925,56.4958,33.5,29.125,11.1333,7.925,30.6958,7.8542,25.4667,28.7125,13.0,0.0,69.55,15.05,31.3875,39.0,22.025,50.0,15.5,26.55,15.5,7.8958,13.0,13.0,7.8542,26.0,27.7208,146.5208,7.75,8.4042,7.75,13.0,9.5,69.55,6.4958,7.225,8.05,10.4625,15.85,18.7875,7.75,31.0,7.05,21.0,7.25,13.0,7.75,113.275,7.925,27.0,76.2917,10.5,8.05,13.0,8.05,7.8958,90.0,9.35,10.5,7.25,13.0,25.4667,83.475,7.775,13.5,31.3875,10.5,7.55,26.0,26.25,10.5,12.275,14.4542,15.5,10.5,7.125,7.225,90.0,7.775,14.5,52.5542,26.0,7.25,10.4625,26.55,16.1,20.2125,15.2458,79.2,86.5,26.0,7.75,31.3875,79.65,0.0,7.75,10.5,39.6875,7.775,153.4625,135.6333,31.0,0.0,19.5,29.7,7.75,77.9583,7.75,0.0,29.125,20.25,7.75,7.8542,9.5,8.05,26.0,8.6625,9.5,7.8958,13.0,7.75,78.85,91.0792,12.875,8.85,7.8958,27.7208,7.2292,151.55,30.5,247.5208,7.75,23.25,0.0,12.35,8.05,151.55,110.8833,108.9,24.0,56.9292,83.1583,262.375,26.0,7.8958,26.25,7.8542,26.0,14.0,164.8667,134.5,7.25,7.8958,12.35,29.0,69.55,135.6333,6.2375,13.0,20.525,57.9792,23.25,28.5,153.4625,18.0,133.65,7.8958,66.6,134.5,8.05,35.5,26.0,263.0,13.0,13.0,13.0,13.0,13.0,16.1,15.9,8.6625,9.225,35.0,7.2292,17.8,7.225,9.5,55.0,13.0,7.8792,7.8792,27.9,27.7208,14.4542,7.05,15.5,7.25,75.25,7.2292,7.75,69.3,55.4417,6.4958,8.05,135.6333,21.075,82.1708,7.25,211.5,4.0125,7.775,227.525,15.7417,7.925,52.0,7.8958,73.5,46.9,13.0,7.7292,12.0,120.0,7.7958,7.925,113.275,16.7,7.7958,7.8542,26.0,10.5,12.65,7.925,8.05,9.825,15.85,8.6625,21.0,7.75,18.75,7.775,25.4667,7.8958,6.8583,90.0,0.0,7.925,8.05,32.5,13.0,13.0,24.15,7.8958,7.7333,7.875,14.4,20.2125,7.25,26.0,26.0,7.75,8.05,26.55,16.1,26.0,7.125,55.9,120.0,34.375,18.75,263.0,10.5,26.25,9.5,7.775,13.0,8.1125,81.8583,19.5,26.55,19.2583,30.5,27.75,19.9667,27.75,89.1042,8.05,7.8958,26.55,51.8625,10.5,7.75,26.55,8.05,38.5,13.0,8.05,7.05,0.0,26.55,7.725,19.2583,7.25,8.6625,27.75,13.7917,9.8375,52.0,21.0,7.0458,7.5208,12.2875,46.9,0.0,8.05,9.5875,91.0792,25.4667,90.0,29.7,8.05,15.9,19.9667,7.25,30.5,49.5042,8.05,14.4583,78.2667,15.1,151.55,7.7958,8.6625,7.75,7.6292,9.5875,86.5,108.9,26.0,26.55,22.525,56.4958,7.75,8.05,26.2875,59.4,7.4958,34.0208,10.5,24.15,26.0,7.8958,93.5,7.8958,7.225,57.9792,7.2292,7.75,10.5,221.7792,7.925,11.5,26.0,7.2292,7.2292,22.3583,8.6625,26.25,26.55,106.425,14.5,49.5,71.0,31.275,31.275,26.0,106.425,26.0,26.0,13.8625,20.525,36.75,110.8833,26.0,7.8292,7.225,7.775,26.55,39.6,227.525,79.65,17.4,7.75,7.8958,13.5,8.05,8.05,24.15,7.8958,21.075,7.2292,7.8542,10.5,51.4792,26.3875,7.75,8.05,14.5,13.0,55.9,14.4583,7.925,30.0,110.8833,26.0,40.125,8.7125,79.65,15.0,79.2,8.05,8.05,7.125,78.2667,7.25,7.75,26.0,24.15,33.0,0.0,7.225,56.9292,27.0,7.8958,42.4,8.05,26.55,15.55,7.8958,30.5,41.5792,153.4625,31.275,7.05,15.5,7.75,8.05,65.0,14.4,16.1,39.0,10.5,14.4542,52.5542,15.7417,7.8542,16.1,32.3208,12.35,77.9583,7.8958,7.7333,30.0,7.0542,30.5,0.0,27.9,13.0,7.925,26.25,39.6875,16.1,7.8542,69.3,27.9,56.4958,19.2583,76.7292,7.8958,35.5,7.55,7.55,7.8958,23.0,8.4333,7.8292,6.75,73.5,7.8958,15.5,13.0,113.275,133.65,7.225,25.5875,7.4958,7.925,73.5,13.0,7.775,8.05,52.0,39.0,52.0,10.5,13.0,0.0,7.775,8.05,9.8417,46.9,8.1375,76.7292,9.225,46.9,39.0,41.5792,39.6875,10.1708,7.7958,211.3375,57.0,13.4167,56.4958,7.225,26.55,13.5,8.05,7.7333,110.8833,7.65,227.525,26.2875,14.4542,7.7417,7.8542,26.0,13.5,26.2875,151.55,15.2458,49.5042,26.55,52.0,9.4833,13.0,7.65,227.525,10.5,15.5,7.775,33.0,7.0542,13.0,13.0,53.1,8.6625,21.0,7.7375,26.0,7.925,211.3375,18.7875,0.0,13.0,13.0,16.1,34.375,7.8958,7.8958,30.0,78.85,262.375,16.1,7.925,71.0,20.25,13.0,53.1,7.75,23.0,12.475,9.5,7.8958,65.0,14.5,7.7958,11.5,8.05,86.5,14.5,7.125,7.2292,120.0,7.775,77.9583,39.6,7.75,24.15,8.3625,9.5,7.8542,10.5,7.225,23.0,7.75,7.75,12.475,7.7375,211.3375,7.2292,57.0,30.0,23.45,7.05,7.25,7.4958,29.125,20.575,79.2,7.75,26.0,69.55,30.6958,7.8958,13.0,25.9292,8.6833,7.2292,24.15,13.0,26.25,120.0,8.5167,6.975,7.775,0.0,7.775,13.0,53.1,7.8875,24.15,10.5,31.275,8.05,0.0,7.925,37.0042,6.45,27.9,93.5,8.6625,0.0,12.475,39.6875,6.95,56.4958,37.0042,7.75,80.0,14.4542,18.75,7.2292,7.8542,8.3,83.1583,8.6625,8.05,56.4958,29.7,7.925,10.5,31.0,6.4375,8.6625,7.55,69.55,7.8958,33.0,89.1042,31.275,7.775,15.2458,39.4,26.0,9.35,164.8667,26.55,19.2583,7.2292,14.1083,11.5,25.9292,69.55,13.0,13.0,13.8583,50.4958,9.5,11.1333,7.8958,52.5542,5.0,9.0,24.0,7.225,9.8458,7.8958,7.8958,83.1583,26.0,7.8958,10.5167,10.5,7.05,29.125,13.0,30.0,23.45,30.0,7.75],\"xaxis\":\"x2\",\"yaxis\":\"y2\",\"type\":\"histogram\"}],                        {\"template\":{\"data\":{\"histogram2dcontour\":[{\"type\":\"histogram2dcontour\",\"colorbar\":{\"outlinewidth\":0,\"ticks\":\"\"},\"colorscale\":[[0.0,\"#0d0887\"],[0.1111111111111111,\"#46039f\"],[0.2222222222222222,\"#7201a8\"],[0.3333333333333333,\"#9c179e\"],[0.4444444444444444,\"#bd3786\"],[0.5555555555555556,\"#d8576b\"],[0.6666666666666666,\"#ed7953\"],[0.7777777777777778,\"#fb9f3a\"],[0.8888888888888888,\"#fdca26\"],[1.0,\"#f0f921\"]]}],\"choropleth\":[{\"type\":\"choropleth\",\"colorbar\":{\"outlinewidth\":0,\"ticks\":\"\"}}],\"histogram2d\":[{\"type\":\"histogram2d\",\"colorbar\":{\"outlinewidth\":0,\"ticks\":\"\"},\"colorscale\":[[0.0,\"#0d0887\"],[0.1111111111111111,\"#46039f\"],[0.2222222222222222,\"#7201a8\"],[0.3333333333333333,\"#9c179e\"],[0.4444444444444444,\"#bd3786\"],[0.5555555555555556,\"#d8576b\"],[0.6666666666666666,\"#ed7953\"],[0.7777777777777778,\"#fb9f3a\"],[0.8888888888888888,\"#fdca26\"],[1.0,\"#f0f921\"]]}],\"heatmap\":[{\"type\":\"heatmap\",\"colorbar\":{\"outlinewidth\":0,\"ticks\":\"\"},\"colorscale\":[[0.0,\"#0d0887\"],[0.1111111111111111,\"#46039f\"],[0.2222222222222222,\"#7201a8\"],[0.3333333333333333,\"#9c179e\"],[0.4444444444444444,\"#bd3786\"],[0.5555555555555556,\"#d8576b\"],[0.6666666666666666,\"#ed7953\"],[0.7777777777777778,\"#fb9f3a\"],[0.8888888888888888,\"#fdca26\"],[1.0,\"#f0f921\"]]}],\"heatmapgl\":[{\"type\":\"heatmapgl\",\"colorbar\":{\"outlinewidth\":0,\"ticks\":\"\"},\"colorscale\":[[0.0,\"#0d0887\"],[0.1111111111111111,\"#46039f\"],[0.2222222222222222,\"#7201a8\"],[0.3333333333333333,\"#9c179e\"],[0.4444444444444444,\"#bd3786\"],[0.5555555555555556,\"#d8576b\"],[0.6666666666666666,\"#ed7953\"],[0.7777777777777778,\"#fb9f3a\"],[0.8888888888888888,\"#fdca26\"],[1.0,\"#f0f921\"]]}],\"contourcarpet\":[{\"type\":\"contourcarpet\",\"colorbar\":{\"outlinewidth\":0,\"ticks\":\"\"}}],\"contour\":[{\"type\":\"contour\",\"colorbar\":{\"outlinewidth\":0,\"ticks\":\"\"},\"colorscale\":[[0.0,\"#0d0887\"],[0.1111111111111111,\"#46039f\"],[0.2222222222222222,\"#7201a8\"],[0.3333333333333333,\"#9c179e\"],[0.4444444444444444,\"#bd3786\"],[0.5555555555555556,\"#d8576b\"],[0.6666666666666666,\"#ed7953\"],[0.7777777777777778,\"#fb9f3a\"],[0.8888888888888888,\"#fdca26\"],[1.0,\"#f0f921\"]]}],\"surface\":[{\"type\":\"surface\",\"colorbar\":{\"outlinewidth\":0,\"ticks\":\"\"},\"colorscale\":[[0.0,\"#0d0887\"],[0.1111111111111111,\"#46039f\"],[0.2222222222222222,\"#7201a8\"],[0.3333333333333333,\"#9c179e\"],[0.4444444444444444,\"#bd3786\"],[0.5555555555555556,\"#d8576b\"],[0.6666666666666666,\"#ed7953\"],[0.7777777777777778,\"#fb9f3a\"],[0.8888888888888888,\"#fdca26\"],[1.0,\"#f0f921\"]]}],\"mesh3d\":[{\"type\":\"mesh3d\",\"colorbar\":{\"outlinewidth\":0,\"ticks\":\"\"}}],\"scatter\":[{\"fillpattern\":{\"fillmode\":\"overlay\",\"size\":10,\"solidity\":0.2},\"type\":\"scatter\"}],\"parcoords\":[{\"type\":\"parcoords\",\"line\":{\"colorbar\":{\"outlinewidth\":0,\"ticks\":\"\"}}}],\"scatterpolargl\":[{\"type\":\"scatterpolargl\",\"marker\":{\"colorbar\":{\"outlinewidth\":0,\"ticks\":\"\"}}}],\"bar\":[{\"error_x\":{\"color\":\"#2a3f5f\"},\"error_y\":{\"color\":\"#2a3f5f\"},\"marker\":{\"line\":{\"color\":\"#E5ECF6\",\"width\":0.5},\"pattern\":{\"fillmode\":\"overlay\",\"size\":10,\"solidity\":0.2}},\"type\":\"bar\"}],\"scattergeo\":[{\"type\":\"scattergeo\",\"marker\":{\"colorbar\":{\"outlinewidth\":0,\"ticks\":\"\"}}}],\"scatterpolar\":[{\"type\":\"scatterpolar\",\"marker\":{\"colorbar\":{\"outlinewidth\":0,\"ticks\":\"\"}}}],\"histogram\":[{\"marker\":{\"pattern\":{\"fillmode\":\"overlay\",\"size\":10,\"solidity\":0.2}},\"type\":\"histogram\"}],\"scattergl\":[{\"type\":\"scattergl\",\"marker\":{\"colorbar\":{\"outlinewidth\":0,\"ticks\":\"\"}}}],\"scatter3d\":[{\"type\":\"scatter3d\",\"line\":{\"colorbar\":{\"outlinewidth\":0,\"ticks\":\"\"}},\"marker\":{\"colorbar\":{\"outlinewidth\":0,\"ticks\":\"\"}}}],\"scattermapbox\":[{\"type\":\"scattermapbox\",\"marker\":{\"colorbar\":{\"outlinewidth\":0,\"ticks\":\"\"}}}],\"scatterternary\":[{\"type\":\"scatterternary\",\"marker\":{\"colorbar\":{\"outlinewidth\":0,\"ticks\":\"\"}}}],\"scattercarpet\":[{\"type\":\"scattercarpet\",\"marker\":{\"colorbar\":{\"outlinewidth\":0,\"ticks\":\"\"}}}],\"carpet\":[{\"aaxis\":{\"endlinecolor\":\"#2a3f5f\",\"gridcolor\":\"white\",\"linecolor\":\"white\",\"minorgridcolor\":\"white\",\"startlinecolor\":\"#2a3f5f\"},\"baxis\":{\"endlinecolor\":\"#2a3f5f\",\"gridcolor\":\"white\",\"linecolor\":\"white\",\"minorgridcolor\":\"white\",\"startlinecolor\":\"#2a3f5f\"},\"type\":\"carpet\"}],\"table\":[{\"cells\":{\"fill\":{\"color\":\"#EBF0F8\"},\"line\":{\"color\":\"white\"}},\"header\":{\"fill\":{\"color\":\"#C8D4E3\"},\"line\":{\"color\":\"white\"}},\"type\":\"table\"}],\"barpolar\":[{\"marker\":{\"line\":{\"color\":\"#E5ECF6\",\"width\":0.5},\"pattern\":{\"fillmode\":\"overlay\",\"size\":10,\"solidity\":0.2}},\"type\":\"barpolar\"}],\"pie\":[{\"automargin\":true,\"type\":\"pie\"}]},\"layout\":{\"autotypenumbers\":\"strict\",\"colorway\":[\"#636efa\",\"#EF553B\",\"#00cc96\",\"#ab63fa\",\"#FFA15A\",\"#19d3f3\",\"#FF6692\",\"#B6E880\",\"#FF97FF\",\"#FECB52\"],\"font\":{\"color\":\"#2a3f5f\"},\"hovermode\":\"closest\",\"hoverlabel\":{\"align\":\"left\"},\"paper_bgcolor\":\"white\",\"plot_bgcolor\":\"#E5ECF6\",\"polar\":{\"bgcolor\":\"#E5ECF6\",\"angularaxis\":{\"gridcolor\":\"white\",\"linecolor\":\"white\",\"ticks\":\"\"},\"radialaxis\":{\"gridcolor\":\"white\",\"linecolor\":\"white\",\"ticks\":\"\"}},\"ternary\":{\"bgcolor\":\"#E5ECF6\",\"aaxis\":{\"gridcolor\":\"white\",\"linecolor\":\"white\",\"ticks\":\"\"},\"baxis\":{\"gridcolor\":\"white\",\"linecolor\":\"white\",\"ticks\":\"\"},\"caxis\":{\"gridcolor\":\"white\",\"linecolor\":\"white\",\"ticks\":\"\"}},\"coloraxis\":{\"colorbar\":{\"outlinewidth\":0,\"ticks\":\"\"}},\"colorscale\":{\"sequential\":[[0.0,\"#0d0887\"],[0.1111111111111111,\"#46039f\"],[0.2222222222222222,\"#7201a8\"],[0.3333333333333333,\"#9c179e\"],[0.4444444444444444,\"#bd3786\"],[0.5555555555555556,\"#d8576b\"],[0.6666666666666666,\"#ed7953\"],[0.7777777777777778,\"#fb9f3a\"],[0.8888888888888888,\"#fdca26\"],[1.0,\"#f0f921\"]],\"sequentialminus\":[[0.0,\"#0d0887\"],[0.1111111111111111,\"#46039f\"],[0.2222222222222222,\"#7201a8\"],[0.3333333333333333,\"#9c179e\"],[0.4444444444444444,\"#bd3786\"],[0.5555555555555556,\"#d8576b\"],[0.6666666666666666,\"#ed7953\"],[0.7777777777777778,\"#fb9f3a\"],[0.8888888888888888,\"#fdca26\"],[1.0,\"#f0f921\"]],\"diverging\":[[0,\"#8e0152\"],[0.1,\"#c51b7d\"],[0.2,\"#de77ae\"],[0.3,\"#f1b6da\"],[0.4,\"#fde0ef\"],[0.5,\"#f7f7f7\"],[0.6,\"#e6f5d0\"],[0.7,\"#b8e186\"],[0.8,\"#7fbc41\"],[0.9,\"#4d9221\"],[1,\"#276419\"]]},\"xaxis\":{\"gridcolor\":\"white\",\"linecolor\":\"white\",\"ticks\":\"\",\"title\":{\"standoff\":15},\"zerolinecolor\":\"white\",\"automargin\":true,\"zerolinewidth\":2},\"yaxis\":{\"gridcolor\":\"white\",\"linecolor\":\"white\",\"ticks\":\"\",\"title\":{\"standoff\":15},\"zerolinecolor\":\"white\",\"automargin\":true,\"zerolinewidth\":2},\"scene\":{\"xaxis\":{\"backgroundcolor\":\"#E5ECF6\",\"gridcolor\":\"white\",\"linecolor\":\"white\",\"showbackground\":true,\"ticks\":\"\",\"zerolinecolor\":\"white\",\"gridwidth\":2},\"yaxis\":{\"backgroundcolor\":\"#E5ECF6\",\"gridcolor\":\"white\",\"linecolor\":\"white\",\"showbackground\":true,\"ticks\":\"\",\"zerolinecolor\":\"white\",\"gridwidth\":2},\"zaxis\":{\"backgroundcolor\":\"#E5ECF6\",\"gridcolor\":\"white\",\"linecolor\":\"white\",\"showbackground\":true,\"ticks\":\"\",\"zerolinecolor\":\"white\",\"gridwidth\":2}},\"shapedefaults\":{\"line\":{\"color\":\"#2a3f5f\"}},\"annotationdefaults\":{\"arrowcolor\":\"#2a3f5f\",\"arrowhead\":0,\"arrowwidth\":1},\"geo\":{\"bgcolor\":\"white\",\"landcolor\":\"#E5ECF6\",\"subunitcolor\":\"white\",\"showland\":true,\"showlakes\":true,\"lakecolor\":\"white\"},\"title\":{\"x\":0.05},\"mapbox\":{\"style\":\"light\"}}},\"xaxis\":{\"anchor\":\"y\",\"domain\":[0.0,0.45]},\"yaxis\":{\"anchor\":\"x\",\"domain\":[0.0,1.0]},\"xaxis2\":{\"anchor\":\"y2\",\"domain\":[0.55,1.0]},\"yaxis2\":{\"anchor\":\"x2\",\"domain\":[0.0,1.0],\"matches\":\"y\",\"showticklabels\":false},\"annotations\":[{\"font\":{\"size\":16},\"showarrow\":false,\"text\":\"Age Distribution\",\"x\":0.225,\"xanchor\":\"center\",\"xref\":\"paper\",\"y\":1.0,\"yanchor\":\"bottom\",\"yref\":\"paper\"},{\"font\":{\"size\":16},\"showarrow\":false,\"text\":\"Fare Distribution\",\"x\":0.775,\"xanchor\":\"center\",\"xref\":\"paper\",\"y\":1.0,\"yanchor\":\"bottom\",\"yref\":\"paper\"}],\"font\":{\"color\":\"white\"},\"paper_bgcolor\":\"#0a0a33\",\"plot_bgcolor\":\"#0a0a33\",\"title\":{\"text\":\"Distribution of Continous Variables\"}},                        {\"responsive\": true}                    ).then(function(){\n",
       "                            \n",
       "var gd = document.getElementById('f68c9f61-0b27-4677-a6ee-2f4ca002aee9');\n",
       "var x = new MutationObserver(function (mutations, observer) {{\n",
       "        var display = window.getComputedStyle(gd).display;\n",
       "        if (!display || display === 'none') {{\n",
       "            console.log([gd, 'removed!']);\n",
       "            Plotly.purge(gd);\n",
       "            observer.disconnect();\n",
       "        }}\n",
       "}});\n",
       "\n",
       "// Listen for the removal of the full notebook cells\n",
       "var notebookContainer = gd.closest('#notebook-container');\n",
       "if (notebookContainer) {{\n",
       "    x.observe(notebookContainer, {childList: true});\n",
       "}}\n",
       "\n",
       "// Listen for the clearing of the current output cell\n",
       "var outputEl = gd.closest('.output');\n",
       "if (outputEl) {{\n",
       "    x.observe(outputEl, {childList: true});\n",
       "}}\n",
       "\n",
       "                        })                };                });            </script>        </div>"
      ]
     },
     "metadata": {},
     "output_type": "display_data"
    }
   ],
   "source": [
    "# Removing unwanted values.\n",
    "train_df = train_df[train_df[\"Fare\"] <= 267.5]\n",
    "\n",
    "# Making a subplot.\n",
    "fig = make_subplots(rows = 1, cols = 2, subplot_titles = [\"Age Distribution\", \"Fare Distribution\"], shared_yaxes = True)\n",
    "\n",
    "# Age Distribution\n",
    "ages = px.histogram(data_frame = train_df, x = \"Age\", color_discrete_sequence = color_sequence)\n",
    "ages.update_traces(marker = dict(line = dict(width = 1, color = border_color)))\n",
    "\n",
    "# Fare Distribution\n",
    "fares = px.histogram(data_frame = train_df, x = \"Fare\", color_discrete_sequence = color_sequence)\n",
    "fares.update_traces(marker = dict(line = dict(width = 1, color = border_color)))\n",
    "\n",
    "fig.add_traces(ages.data, rows = 1, cols = 1)\n",
    "fig.add_traces(fares.data, rows = 1, cols = 2)\n",
    "fig.update_layout(paper_bgcolor = bgcolor, plot_bgcolor = bgcolor, font_color = font_color, title = \"Distribution of Continous Variables\")\n",
    "fig.show()"
   ]
  },
  {
   "cell_type": "markdown",
   "id": "32aae059",
   "metadata": {
    "id": "1vnVXc0GoFMZ",
    "papermill": {
     "duration": 0.015884,
     "end_time": "2022-06-30T06:26:34.742968",
     "exception": false,
     "start_time": "2022-06-30T06:26:34.727084",
     "status": "completed"
    },
    "tags": []
   },
   "source": [
    "From the graphs above we can infer that most of the people onboard the ship were about 30 years old and didn't spend much on the ticket fare."
   ]
  },
  {
   "cell_type": "markdown",
   "id": "086f520e",
   "metadata": {
    "id": "xVfzphobvdYf",
    "papermill": {
     "duration": 0.016318,
     "end_time": "2022-06-30T06:26:34.775995",
     "exception": false,
     "start_time": "2022-06-30T06:26:34.759677",
     "status": "completed"
    },
    "tags": []
   },
   "source": [
    "### 3) Discrete Features (Pclass, Sex, and Embarked columns) <a id = \"dis\"></a>\n",
    "\n",
    "Now let's check the distribution of `Pclass`, `Sex`, and `Embarked`."
   ]
  },
  {
   "cell_type": "code",
   "execution_count": 10,
   "id": "4a9f1949",
   "metadata": {
    "execution": {
     "iopub.execute_input": "2022-06-30T06:26:34.810321Z",
     "iopub.status.busy": "2022-06-30T06:26:34.809813Z",
     "iopub.status.idle": "2022-06-30T06:26:34.877309Z",
     "shell.execute_reply": "2022-06-30T06:26:34.876349Z"
    },
    "id": "Oikdlon2oavr",
    "outputId": "76484baa-704d-4658-a33c-8bdc889002c4",
    "papermill": {
     "duration": 0.087219,
     "end_time": "2022-06-30T06:26:34.879530",
     "exception": false,
     "start_time": "2022-06-30T06:26:34.792311",
     "status": "completed"
    },
    "tags": []
   },
   "outputs": [
    {
     "data": {
      "text/html": [
       "<div>                            <div id=\"ffeec236-8885-416d-8b17-05c16bd88205\" class=\"plotly-graph-div\" style=\"height:525px; width:100%;\"></div>            <script type=\"text/javascript\">                require([\"plotly\"], function(Plotly) {                    window.PLOTLYENV=window.PLOTLYENV || {};                                    if (document.getElementById(\"ffeec236-8885-416d-8b17-05c16bd88205\")) {                    Plotly.newPlot(                        \"ffeec236-8885-416d-8b17-05c16bd88205\",                        [{\"marker\":{\"color\":[\"#3562e8\",\"#eb3462\",\"#a7c8d1\",\"#ccc504\"],\"line\":{\"color\":\"black\",\"width\":1}},\"text\":[491.0,213.0,184.0],\"textposition\":\"outside\",\"width\":0.4,\"x\":[\"3\",\"1\",\"2\"],\"y\":[491,213,184],\"type\":\"bar\",\"xaxis\":\"x\",\"yaxis\":\"y\"},{\"marker\":{\"color\":[\"#3562e8\",\"#eb3462\",\"#a7c8d1\",\"#ccc504\"],\"line\":{\"color\":\"black\",\"width\":1}},\"text\":[575.0,313.0],\"textposition\":\"outside\",\"width\":0.4,\"x\":[\"male\",\"female\"],\"y\":[575,313],\"type\":\"bar\",\"xaxis\":\"x2\",\"yaxis\":\"y2\"},{\"marker\":{\"color\":[\"#3562e8\",\"#eb3462\",\"#a7c8d1\",\"#ccc504\"],\"line\":{\"color\":\"black\",\"width\":1}},\"text\":[646.0,165.0,77.0],\"textposition\":\"outside\",\"width\":0.4,\"x\":[\"S\",\"C\",\"Q\"],\"y\":[646,165,77],\"type\":\"bar\",\"xaxis\":\"x3\",\"yaxis\":\"y3\"}],                        {\"template\":{\"data\":{\"histogram2dcontour\":[{\"type\":\"histogram2dcontour\",\"colorbar\":{\"outlinewidth\":0,\"ticks\":\"\"},\"colorscale\":[[0.0,\"#0d0887\"],[0.1111111111111111,\"#46039f\"],[0.2222222222222222,\"#7201a8\"],[0.3333333333333333,\"#9c179e\"],[0.4444444444444444,\"#bd3786\"],[0.5555555555555556,\"#d8576b\"],[0.6666666666666666,\"#ed7953\"],[0.7777777777777778,\"#fb9f3a\"],[0.8888888888888888,\"#fdca26\"],[1.0,\"#f0f921\"]]}],\"choropleth\":[{\"type\":\"choropleth\",\"colorbar\":{\"outlinewidth\":0,\"ticks\":\"\"}}],\"histogram2d\":[{\"type\":\"histogram2d\",\"colorbar\":{\"outlinewidth\":0,\"ticks\":\"\"},\"colorscale\":[[0.0,\"#0d0887\"],[0.1111111111111111,\"#46039f\"],[0.2222222222222222,\"#7201a8\"],[0.3333333333333333,\"#9c179e\"],[0.4444444444444444,\"#bd3786\"],[0.5555555555555556,\"#d8576b\"],[0.6666666666666666,\"#ed7953\"],[0.7777777777777778,\"#fb9f3a\"],[0.8888888888888888,\"#fdca26\"],[1.0,\"#f0f921\"]]}],\"heatmap\":[{\"type\":\"heatmap\",\"colorbar\":{\"outlinewidth\":0,\"ticks\":\"\"},\"colorscale\":[[0.0,\"#0d0887\"],[0.1111111111111111,\"#46039f\"],[0.2222222222222222,\"#7201a8\"],[0.3333333333333333,\"#9c179e\"],[0.4444444444444444,\"#bd3786\"],[0.5555555555555556,\"#d8576b\"],[0.6666666666666666,\"#ed7953\"],[0.7777777777777778,\"#fb9f3a\"],[0.8888888888888888,\"#fdca26\"],[1.0,\"#f0f921\"]]}],\"heatmapgl\":[{\"type\":\"heatmapgl\",\"colorbar\":{\"outlinewidth\":0,\"ticks\":\"\"},\"colorscale\":[[0.0,\"#0d0887\"],[0.1111111111111111,\"#46039f\"],[0.2222222222222222,\"#7201a8\"],[0.3333333333333333,\"#9c179e\"],[0.4444444444444444,\"#bd3786\"],[0.5555555555555556,\"#d8576b\"],[0.6666666666666666,\"#ed7953\"],[0.7777777777777778,\"#fb9f3a\"],[0.8888888888888888,\"#fdca26\"],[1.0,\"#f0f921\"]]}],\"contourcarpet\":[{\"type\":\"contourcarpet\",\"colorbar\":{\"outlinewidth\":0,\"ticks\":\"\"}}],\"contour\":[{\"type\":\"contour\",\"colorbar\":{\"outlinewidth\":0,\"ticks\":\"\"},\"colorscale\":[[0.0,\"#0d0887\"],[0.1111111111111111,\"#46039f\"],[0.2222222222222222,\"#7201a8\"],[0.3333333333333333,\"#9c179e\"],[0.4444444444444444,\"#bd3786\"],[0.5555555555555556,\"#d8576b\"],[0.6666666666666666,\"#ed7953\"],[0.7777777777777778,\"#fb9f3a\"],[0.8888888888888888,\"#fdca26\"],[1.0,\"#f0f921\"]]}],\"surface\":[{\"type\":\"surface\",\"colorbar\":{\"outlinewidth\":0,\"ticks\":\"\"},\"colorscale\":[[0.0,\"#0d0887\"],[0.1111111111111111,\"#46039f\"],[0.2222222222222222,\"#7201a8\"],[0.3333333333333333,\"#9c179e\"],[0.4444444444444444,\"#bd3786\"],[0.5555555555555556,\"#d8576b\"],[0.6666666666666666,\"#ed7953\"],[0.7777777777777778,\"#fb9f3a\"],[0.8888888888888888,\"#fdca26\"],[1.0,\"#f0f921\"]]}],\"mesh3d\":[{\"type\":\"mesh3d\",\"colorbar\":{\"outlinewidth\":0,\"ticks\":\"\"}}],\"scatter\":[{\"fillpattern\":{\"fillmode\":\"overlay\",\"size\":10,\"solidity\":0.2},\"type\":\"scatter\"}],\"parcoords\":[{\"type\":\"parcoords\",\"line\":{\"colorbar\":{\"outlinewidth\":0,\"ticks\":\"\"}}}],\"scatterpolargl\":[{\"type\":\"scatterpolargl\",\"marker\":{\"colorbar\":{\"outlinewidth\":0,\"ticks\":\"\"}}}],\"bar\":[{\"error_x\":{\"color\":\"#2a3f5f\"},\"error_y\":{\"color\":\"#2a3f5f\"},\"marker\":{\"line\":{\"color\":\"#E5ECF6\",\"width\":0.5},\"pattern\":{\"fillmode\":\"overlay\",\"size\":10,\"solidity\":0.2}},\"type\":\"bar\"}],\"scattergeo\":[{\"type\":\"scattergeo\",\"marker\":{\"colorbar\":{\"outlinewidth\":0,\"ticks\":\"\"}}}],\"scatterpolar\":[{\"type\":\"scatterpolar\",\"marker\":{\"colorbar\":{\"outlinewidth\":0,\"ticks\":\"\"}}}],\"histogram\":[{\"marker\":{\"pattern\":{\"fillmode\":\"overlay\",\"size\":10,\"solidity\":0.2}},\"type\":\"histogram\"}],\"scattergl\":[{\"type\":\"scattergl\",\"marker\":{\"colorbar\":{\"outlinewidth\":0,\"ticks\":\"\"}}}],\"scatter3d\":[{\"type\":\"scatter3d\",\"line\":{\"colorbar\":{\"outlinewidth\":0,\"ticks\":\"\"}},\"marker\":{\"colorbar\":{\"outlinewidth\":0,\"ticks\":\"\"}}}],\"scattermapbox\":[{\"type\":\"scattermapbox\",\"marker\":{\"colorbar\":{\"outlinewidth\":0,\"ticks\":\"\"}}}],\"scatterternary\":[{\"type\":\"scatterternary\",\"marker\":{\"colorbar\":{\"outlinewidth\":0,\"ticks\":\"\"}}}],\"scattercarpet\":[{\"type\":\"scattercarpet\",\"marker\":{\"colorbar\":{\"outlinewidth\":0,\"ticks\":\"\"}}}],\"carpet\":[{\"aaxis\":{\"endlinecolor\":\"#2a3f5f\",\"gridcolor\":\"white\",\"linecolor\":\"white\",\"minorgridcolor\":\"white\",\"startlinecolor\":\"#2a3f5f\"},\"baxis\":{\"endlinecolor\":\"#2a3f5f\",\"gridcolor\":\"white\",\"linecolor\":\"white\",\"minorgridcolor\":\"white\",\"startlinecolor\":\"#2a3f5f\"},\"type\":\"carpet\"}],\"table\":[{\"cells\":{\"fill\":{\"color\":\"#EBF0F8\"},\"line\":{\"color\":\"white\"}},\"header\":{\"fill\":{\"color\":\"#C8D4E3\"},\"line\":{\"color\":\"white\"}},\"type\":\"table\"}],\"barpolar\":[{\"marker\":{\"line\":{\"color\":\"#E5ECF6\",\"width\":0.5},\"pattern\":{\"fillmode\":\"overlay\",\"size\":10,\"solidity\":0.2}},\"type\":\"barpolar\"}],\"pie\":[{\"automargin\":true,\"type\":\"pie\"}]},\"layout\":{\"autotypenumbers\":\"strict\",\"colorway\":[\"#636efa\",\"#EF553B\",\"#00cc96\",\"#ab63fa\",\"#FFA15A\",\"#19d3f3\",\"#FF6692\",\"#B6E880\",\"#FF97FF\",\"#FECB52\"],\"font\":{\"color\":\"#2a3f5f\"},\"hovermode\":\"closest\",\"hoverlabel\":{\"align\":\"left\"},\"paper_bgcolor\":\"white\",\"plot_bgcolor\":\"#E5ECF6\",\"polar\":{\"bgcolor\":\"#E5ECF6\",\"angularaxis\":{\"gridcolor\":\"white\",\"linecolor\":\"white\",\"ticks\":\"\"},\"radialaxis\":{\"gridcolor\":\"white\",\"linecolor\":\"white\",\"ticks\":\"\"}},\"ternary\":{\"bgcolor\":\"#E5ECF6\",\"aaxis\":{\"gridcolor\":\"white\",\"linecolor\":\"white\",\"ticks\":\"\"},\"baxis\":{\"gridcolor\":\"white\",\"linecolor\":\"white\",\"ticks\":\"\"},\"caxis\":{\"gridcolor\":\"white\",\"linecolor\":\"white\",\"ticks\":\"\"}},\"coloraxis\":{\"colorbar\":{\"outlinewidth\":0,\"ticks\":\"\"}},\"colorscale\":{\"sequential\":[[0.0,\"#0d0887\"],[0.1111111111111111,\"#46039f\"],[0.2222222222222222,\"#7201a8\"],[0.3333333333333333,\"#9c179e\"],[0.4444444444444444,\"#bd3786\"],[0.5555555555555556,\"#d8576b\"],[0.6666666666666666,\"#ed7953\"],[0.7777777777777778,\"#fb9f3a\"],[0.8888888888888888,\"#fdca26\"],[1.0,\"#f0f921\"]],\"sequentialminus\":[[0.0,\"#0d0887\"],[0.1111111111111111,\"#46039f\"],[0.2222222222222222,\"#7201a8\"],[0.3333333333333333,\"#9c179e\"],[0.4444444444444444,\"#bd3786\"],[0.5555555555555556,\"#d8576b\"],[0.6666666666666666,\"#ed7953\"],[0.7777777777777778,\"#fb9f3a\"],[0.8888888888888888,\"#fdca26\"],[1.0,\"#f0f921\"]],\"diverging\":[[0,\"#8e0152\"],[0.1,\"#c51b7d\"],[0.2,\"#de77ae\"],[0.3,\"#f1b6da\"],[0.4,\"#fde0ef\"],[0.5,\"#f7f7f7\"],[0.6,\"#e6f5d0\"],[0.7,\"#b8e186\"],[0.8,\"#7fbc41\"],[0.9,\"#4d9221\"],[1,\"#276419\"]]},\"xaxis\":{\"gridcolor\":\"white\",\"linecolor\":\"white\",\"ticks\":\"\",\"title\":{\"standoff\":15},\"zerolinecolor\":\"white\",\"automargin\":true,\"zerolinewidth\":2},\"yaxis\":{\"gridcolor\":\"white\",\"linecolor\":\"white\",\"ticks\":\"\",\"title\":{\"standoff\":15},\"zerolinecolor\":\"white\",\"automargin\":true,\"zerolinewidth\":2},\"scene\":{\"xaxis\":{\"backgroundcolor\":\"#E5ECF6\",\"gridcolor\":\"white\",\"linecolor\":\"white\",\"showbackground\":true,\"ticks\":\"\",\"zerolinecolor\":\"white\",\"gridwidth\":2},\"yaxis\":{\"backgroundcolor\":\"#E5ECF6\",\"gridcolor\":\"white\",\"linecolor\":\"white\",\"showbackground\":true,\"ticks\":\"\",\"zerolinecolor\":\"white\",\"gridwidth\":2},\"zaxis\":{\"backgroundcolor\":\"#E5ECF6\",\"gridcolor\":\"white\",\"linecolor\":\"white\",\"showbackground\":true,\"ticks\":\"\",\"zerolinecolor\":\"white\",\"gridwidth\":2}},\"shapedefaults\":{\"line\":{\"color\":\"#2a3f5f\"}},\"annotationdefaults\":{\"arrowcolor\":\"#2a3f5f\",\"arrowhead\":0,\"arrowwidth\":1},\"geo\":{\"bgcolor\":\"white\",\"landcolor\":\"#E5ECF6\",\"subunitcolor\":\"white\",\"showland\":true,\"showlakes\":true,\"lakecolor\":\"white\"},\"title\":{\"x\":0.05},\"mapbox\":{\"style\":\"light\"}}},\"xaxis\":{\"anchor\":\"y\",\"domain\":[0.0,0.2888888888888889]},\"yaxis\":{\"anchor\":\"x\",\"domain\":[0.0,1.0],\"range\":[0,750]},\"xaxis2\":{\"anchor\":\"y2\",\"domain\":[0.35555555555555557,0.6444444444444445]},\"yaxis2\":{\"anchor\":\"x2\",\"domain\":[0.0,1.0],\"matches\":\"y\",\"showticklabels\":false,\"range\":[0,750]},\"xaxis3\":{\"anchor\":\"y3\",\"domain\":[0.7111111111111111,1.0]},\"yaxis3\":{\"anchor\":\"x3\",\"domain\":[0.0,1.0],\"matches\":\"y\",\"showticklabels\":false,\"range\":[0,750]},\"annotations\":[{\"font\":{\"size\":16},\"showarrow\":false,\"text\":\"Distribution for Pclass\",\"x\":0.14444444444444446,\"xanchor\":\"center\",\"xref\":\"paper\",\"y\":1.0,\"yanchor\":\"bottom\",\"yref\":\"paper\"},{\"font\":{\"size\":16},\"showarrow\":false,\"text\":\"Distribution for Sex\",\"x\":0.5,\"xanchor\":\"center\",\"xref\":\"paper\",\"y\":1.0,\"yanchor\":\"bottom\",\"yref\":\"paper\"},{\"font\":{\"size\":16},\"showarrow\":false,\"text\":\"Distribution for Embarked\",\"x\":0.8555555555555556,\"xanchor\":\"center\",\"xref\":\"paper\",\"y\":1.0,\"yanchor\":\"bottom\",\"yref\":\"paper\"}],\"font\":{\"color\":\"white\"},\"paper_bgcolor\":\"#0a0a33\",\"plot_bgcolor\":\"#0a0a33\",\"title\":{\"text\":\"Distribution of Discrete Variables\"},\"showlegend\":false},                        {\"responsive\": true}                    ).then(function(){\n",
       "                            \n",
       "var gd = document.getElementById('ffeec236-8885-416d-8b17-05c16bd88205');\n",
       "var x = new MutationObserver(function (mutations, observer) {{\n",
       "        var display = window.getComputedStyle(gd).display;\n",
       "        if (!display || display === 'none') {{\n",
       "            console.log([gd, 'removed!']);\n",
       "            Plotly.purge(gd);\n",
       "            observer.disconnect();\n",
       "        }}\n",
       "}});\n",
       "\n",
       "// Listen for the removal of the full notebook cells\n",
       "var notebookContainer = gd.closest('#notebook-container');\n",
       "if (notebookContainer) {{\n",
       "    x.observe(notebookContainer, {childList: true});\n",
       "}}\n",
       "\n",
       "// Listen for the clearing of the current output cell\n",
       "var outputEl = gd.closest('.output');\n",
       "if (outputEl) {{\n",
       "    x.observe(outputEl, {childList: true});\n",
       "}}\n",
       "\n",
       "                        })                };                });            </script>        </div>"
      ]
     },
     "metadata": {},
     "output_type": "display_data"
    }
   ],
   "source": [
    "# Making a subplot\n",
    "fig = make_subplots(rows = 1, cols = 3, subplot_titles = [f\"Distribution for {column}\" for column in [\"Pclass\", \"Sex\", \"Embarked\"]], shared_yaxes = True)\n",
    "\n",
    "# Plotting graph for Pclass\n",
    "pcounts = train_df[\"Pclass\"].value_counts().reset_index(name = \"P_counts\")\n",
    "pcounts[\"index\"] = pcounts[\"index\"].astype(str)\n",
    "\n",
    "bar_obj1 = go.Bar(\n",
    "    x = pcounts[\"index\"], y = pcounts[\"P_counts\"], \n",
    "    marker = dict(color = color_sequence, line = dict(width = 1, color = border_color)), width = 0.4,\n",
    "    text = pcounts[\"P_counts\"], textposition = \"outside\")\n",
    "fig.add_traces(bar_obj1, rows = 1, cols = 1)\n",
    "\n",
    "# Plotting graph for Sex\n",
    "sex_counts = train_df[\"Sex\"].value_counts().reset_index(name = \"Sex\")\n",
    "sex_counts[\"index\"] = sex_counts[\"index\"].astype(str)\n",
    "\n",
    "bar_obj2 = go.Bar(\n",
    "    x = sex_counts[\"index\"], y = sex_counts[\"Sex\"], \n",
    "    marker = dict(color = color_sequence, line = dict(width = 1, color = border_color)), width = 0.4,\n",
    "    text = sex_counts[\"Sex\"], textposition = \"outside\")\n",
    "\n",
    "fig.add_traces(bar_obj2, rows = 1, cols = 2)\n",
    "\n",
    "# Plotting graph for Embarked\n",
    "embarked_counts = train_df[\"Embarked\"].value_counts().reset_index(name = \"Embarked\")\n",
    "embarked_counts[\"index\"] = embarked_counts[\"index\"].astype(str)\n",
    "\n",
    "bar_obj3 = go.Bar(\n",
    "    x = embarked_counts[\"index\"], y = embarked_counts[\"Embarked\"], \n",
    "    marker = dict(color = color_sequence, line = dict(width = 1, color = border_color)), width = 0.4,\n",
    "    text = embarked_counts[\"Embarked\"], textposition = \"outside\")\n",
    "fig.add_traces(bar_obj3, rows = 1, cols = 3)\n",
    "\n",
    "fig.update_layout(paper_bgcolor = bgcolor, plot_bgcolor = bgcolor, font_color = font_color, title = \"Distribution of Discrete Variables\", showlegend = False)\n",
    "fig.update_layout({f\"yaxis{i}\": dict(range=[0,750]) for i in range(1, 4)})\n",
    "fig.show()"
   ]
  },
  {
   "cell_type": "markdown",
   "id": "f1feb347",
   "metadata": {
    "id": "AqLfZgjEqNCf",
    "papermill": {
     "duration": 0.016518,
     "end_time": "2022-06-30T06:26:34.912431",
     "exception": false,
     "start_time": "2022-06-30T06:26:34.895913",
     "status": "completed"
    },
    "tags": []
   },
   "source": [
    "From the above graphs we can infer that the ship mostly had passengers who -\n",
    "1. Had a 3$^{rd}$ class ticket.\n",
    "2. Were male.\n",
    "3. Were from Southampton (Embarked = \"S\")."
   ]
  },
  {
   "cell_type": "markdown",
   "id": "79d6dfb7",
   "metadata": {
    "id": "6o26ZabjvsfB",
    "papermill": {
     "duration": 0.016483,
     "end_time": "2022-06-30T06:26:34.946015",
     "exception": false,
     "start_time": "2022-06-30T06:26:34.929532",
     "status": "completed"
    },
    "tags": []
   },
   "source": [
    "### 4) Number of relatives (SibSp and Parch columns) <a id = \"relations\"></a>\n",
    "\n",
    "Now let's check the distribution number of relatives onboard for the passengers."
   ]
  },
  {
   "cell_type": "code",
   "execution_count": 11,
   "id": "9a01d69d",
   "metadata": {
    "execution": {
     "iopub.execute_input": "2022-06-30T06:26:34.981365Z",
     "iopub.status.busy": "2022-06-30T06:26:34.980949Z",
     "iopub.status.idle": "2022-06-30T06:26:35.021321Z",
     "shell.execute_reply": "2022-06-30T06:26:35.020553Z"
    },
    "id": "c710kzvoHjD3",
    "outputId": "3c9b9cf0-f899-4904-bc82-f41ed54dc3d0",
    "papermill": {
     "duration": 0.06095,
     "end_time": "2022-06-30T06:26:35.023770",
     "exception": false,
     "start_time": "2022-06-30T06:26:34.962820",
     "status": "completed"
    },
    "tags": []
   },
   "outputs": [
    {
     "data": {
      "text/html": [
       "<div>                            <div id=\"c79ebe73-aa22-4997-a92e-d38ba9f804c4\" class=\"plotly-graph-div\" style=\"height:525px; width:100%;\"></div>            <script type=\"text/javascript\">                require([\"plotly\"], function(Plotly) {                    window.PLOTLYENV=window.PLOTLYENV || {};                                    if (document.getElementById(\"c79ebe73-aa22-4997-a92e-d38ba9f804c4\")) {                    Plotly.newPlot(                        \"c79ebe73-aa22-4997-a92e-d38ba9f804c4\",                        [{\"hovertext\":[605.0,209.0,28.0,18.0,16.0,7.0,5.0],\"marker\":{\"color\":[\"#3562e8\",\"#eb3462\",\"#a7c8d1\",\"#ccc504\"],\"line\":{\"color\":\"black\",\"width\":1}},\"x\":[1,1,0,1,0,0,0,3,0,1,1,0,0,1,0,0,4,0,1,0,0,0,0,0,3,1,0,3,0,0,0,1,0,0,1,1,0,0,2,1,1,1,0,1,0,0,1,0,2,1,4,0,1,1,0,0,0,0,1,5,0,0,1,3,0,1,0,0,4,2,0,5,0,1,0,0,0,0,0,0,0,0,0,0,0,3,1,0,3,0,0,0,1,1,0,0,0,0,0,1,0,0,0,0,2,0,0,0,0,1,0,1,0,1,0,0,0,1,0,4,2,0,1,0,0,1,0,0,1,0,0,0,1,1,0,0,0,1,0,0,0,0,1,0,0,1,0,2,0,0,0,1,0,0,0,0,0,0,0,8,0,0,0,0,4,0,0,1,0,0,0,4,1,0,0,1,3,0,0,0,8,0,4,2,0,0,1,0,1,0,0,0,1,1,0,0,0,0,0,0,0,8,0,0,0,0,1,0,0,0,0,0,0,0,1,1,0,1,0,0,0,0,0,0,1,0,0,0,0,3,1,0,0,4,0,0,1,0,0,0,1,1,0,0,0,2,0,0,1,1,0,1,0,1,0,0,0,0,0,0,4,1,0,0,0,4,1,0,0,0,0,0,0,0,1,0,0,4,1,0,0,0,0,0,0,0,0,0,0,0,1,0,0,0,0,0,1,0,0,0,2,0,0,0,1,0,1,1,0,0,2,1,0,1,0,1,0,0,1,0,0,0,1,8,0,0,0,1,0,2,0,0,2,1,0,1,0,0,0,1,3,0,0,0,0,0,1,1,0,0,0,1,1,0,0,0,0,0,0,1,1,0,0,1,0,1,0,0,0,1,1,0,0,3,1,0,0,0,0,0,0,0,1,0,0,5,0,0,0,1,0,2,1,0,0,0,0,0,0,0,0,1,1,0,1,0,1,0,3,0,0,1,0,0,0,1,0,0,0,0,0,0,1,1,0,1,0,0,0,0,1,1,0,1,1,2,2,1,0,1,0,1,0,0,0,0,0,2,0,1,1,0,1,0,0,0,1,0,0,0,0,0,0,0,0,0,0,0,2,0,0,1,0,0,0,1,1,0,0,5,0,0,0,1,3,1,0,0,1,1,0,0,0,0,0,1,0,1,0,0,0,0,0,0,1,0,0,0,0,0,0,0,1,0,0,0,0,1,0,0,0,0,0,0,0,0,0,0,2,1,0,1,0,0,0,0,0,0,0,0,4,4,1,1,0,1,0,1,1,0,0,0,0,0,0,1,0,1,1,0,0,0,0,0,2,0,0,0,0,0,2,0,0,0,0,0,1,1,0,1,1,0,0,0,0,0,1,0,0,0,1,0,0,1,1,0,0,0,1,2,0,0,0,0,1,0,0,1,0,1,0,1,0,0,1,1,1,2,0,1,1,1,0,0,0,0,0,0,0,0,0,0,0,3,0,0,1,0,1,0,0,3,0,2,1,0,0,0,0,0,0,0,0,0,2,0,1,0,0,2,0,0,0,1,2,0,0,0,1,1,1,0,0,0,0,0,0,1,0,0,0,5,1,1,4,0,0,0,1,0,0,0,0,0,0,0,1,0,1,0,0,0,1,0,0,0,0,1,0,0,1,0,0,0,0,0,0,0,0,1,0,0,1,0,3,0,1,1,0,0,0,0,0,0,1,0,0,0,1,2,1,0,1,1,0,1,0,1,0,0,0,1,1,0,0,0,0,0,0,0,1,0,1,0,0,1,0,0,0,0,0,1,0,0,0,0,0,0,1,0,1,0,0,0,4,1,0,0,0,8,0,0,0,0,0,0,1,0,1,1,0,0,0,0,0,0,1,0,0,0,4,0,0,0,1,0,3,1,0,0,0,4,0,0,0,0,0,1,1,0,0,0,1,0,0,0,0,0,0,0,0,0,0,8,0,0,1,4,0,1,0,1,0,1,0,0,0,2,1,0,8,0,0,1,0,0,1,0,1,0,0,1,0,0,0,0,0,0,0,0,0,0,0,0,0,1,0,0],\"type\":\"histogram\",\"xaxis\":\"x\",\"yaxis\":\"y\"},{\"hovertext\":[676.0,117.0,80.0,5.0,5.0,4.0,1.0],\"marker\":{\"color\":[\"#3562e8\",\"#eb3462\",\"#a7c8d1\",\"#ccc504\"],\"line\":{\"color\":\"black\",\"width\":1}},\"x\":[0,0,0,0,0,0,0,1,2,0,1,0,0,5,0,0,1,0,0,0,0,0,0,0,1,5,0,2,0,0,0,0,0,0,0,0,0,0,0,0,0,0,0,2,0,0,0,0,0,0,1,0,0,0,1,0,0,0,2,2,0,0,0,2,0,1,0,0,2,0,0,2,0,0,0,0,0,0,2,0,0,0,0,0,0,0,3,0,2,0,0,0,0,2,0,0,0,1,1,0,0,0,1,0,0,0,0,0,0,0,0,0,0,0,0,0,0,0,1,2,0,0,0,0,1,0,0,0,1,0,0,0,0,0,0,0,2,0,0,0,2,0,0,0,0,1,0,2,2,0,0,0,0,2,0,1,0,0,0,2,1,0,0,0,1,2,1,4,0,0,0,1,1,0,0,1,1,0,0,0,2,0,2,1,2,0,0,0,1,0,0,0,0,1,0,0,0,1,0,0,0,2,0,0,0,1,0,0,0,0,0,0,0,0,0,0,0,0,0,0,0,0,0,0,0,0,0,0,0,1,0,0,0,2,0,0,0,2,0,0,0,0,0,0,0,0,0,2,1,0,0,1,0,0,2,2,0,0,1,0,2,1,0,0,0,1,0,1,0,0,0,1,1,0,0,0,0,1,1,0,0,0,0,0,0,0,0,0,0,0,0,0,0,0,0,0,2,0,1,0,0,0,0,0,2,0,0,0,0,0,2,1,0,1,0,0,0,2,1,0,0,0,1,2,0,0,0,1,1,0,0,1,0,0,0,0,0,0,0,1,2,0,0,0,0,0,0,1,0,0,0,1,0,0,0,1,0,0,0,4,0,1,0,0,0,0,0,0,0,0,0,0,0,1,0,0,2,0,0,0,2,0,0,0,0,2,0,0,0,2,0,0,0,2,0,0,0,0,0,0,0,0,0,0,0,0,1,0,1,0,0,0,0,0,0,1,2,0,2,0,0,0,1,1,0,0,0,0,0,0,0,0,0,0,2,2,3,4,0,1,0,0,0,0,2,1,0,1,0,2,0,0,0,0,0,0,0,0,0,0,0,0,0,0,0,0,0,0,1,0,0,2,0,0,0,0,0,0,1,2,0,0,0,0,1,0,0,0,1,0,0,0,0,0,0,0,0,2,0,0,0,0,0,0,0,2,0,0,0,0,0,0,0,0,0,0,0,0,0,0,0,0,1,0,0,0,0,0,1,1,0,1,2,0,2,0,0,0,2,2,2,2,0,0,0,0,0,1,1,2,0,0,0,0,0,0,0,1,0,0,0,0,0,0,0,0,4,0,0,0,0,0,0,0,0,0,0,0,0,1,1,0,0,0,2,0,1,0,0,0,0,0,2,0,1,0,0,0,0,1,0,0,0,0,0,0,0,2,0,5,0,0,0,0,2,1,0,1,0,0,0,1,0,0,0,0,0,0,0,0,0,0,0,2,0,0,1,5,0,0,0,2,0,1,0,0,0,0,0,0,1,0,0,0,0,0,1,0,2,0,0,0,0,0,0,0,0,0,0,1,0,0,0,0,0,0,0,6,0,0,0,2,1,2,1,0,0,1,0,1,0,0,0,0,0,0,1,0,0,0,1,0,0,0,0,0,0,1,0,0,0,0,0,0,0,0,0,0,1,0,0,0,0,0,0,0,0,0,0,0,0,0,0,0,3,0,0,0,0,2,0,0,1,1,0,0,0,1,1,0,0,2,1,0,0,0,0,0,0,0,2,0,0,0,0,0,0,0,0,0,0,3,0,0,0,0,1,0,0,0,2,0,0,0,1,2,0,0,0,2,0,0,0,0,0,0,1,0,1,2,1,0,0,0,0,0,0,0,0,0,2,0,0,0,1,0,2,1,0,0,1,1,0,0,2,0,0,0,1,0,0,0,1,0,0,0,0,0,0,0,0,0,0,2,0,1,0,2,0,1,1,0,1,1,0,3,0,0,0,0,2,0,0,0,0,0,1,0,1,0,0,0,0,0,0,0,1,1,0,0,0,0,5,0,0,2,0,0],\"type\":\"histogram\",\"xaxis\":\"x2\",\"yaxis\":\"y2\"}],                        {\"template\":{\"data\":{\"histogram2dcontour\":[{\"type\":\"histogram2dcontour\",\"colorbar\":{\"outlinewidth\":0,\"ticks\":\"\"},\"colorscale\":[[0.0,\"#0d0887\"],[0.1111111111111111,\"#46039f\"],[0.2222222222222222,\"#7201a8\"],[0.3333333333333333,\"#9c179e\"],[0.4444444444444444,\"#bd3786\"],[0.5555555555555556,\"#d8576b\"],[0.6666666666666666,\"#ed7953\"],[0.7777777777777778,\"#fb9f3a\"],[0.8888888888888888,\"#fdca26\"],[1.0,\"#f0f921\"]]}],\"choropleth\":[{\"type\":\"choropleth\",\"colorbar\":{\"outlinewidth\":0,\"ticks\":\"\"}}],\"histogram2d\":[{\"type\":\"histogram2d\",\"colorbar\":{\"outlinewidth\":0,\"ticks\":\"\"},\"colorscale\":[[0.0,\"#0d0887\"],[0.1111111111111111,\"#46039f\"],[0.2222222222222222,\"#7201a8\"],[0.3333333333333333,\"#9c179e\"],[0.4444444444444444,\"#bd3786\"],[0.5555555555555556,\"#d8576b\"],[0.6666666666666666,\"#ed7953\"],[0.7777777777777778,\"#fb9f3a\"],[0.8888888888888888,\"#fdca26\"],[1.0,\"#f0f921\"]]}],\"heatmap\":[{\"type\":\"heatmap\",\"colorbar\":{\"outlinewidth\":0,\"ticks\":\"\"},\"colorscale\":[[0.0,\"#0d0887\"],[0.1111111111111111,\"#46039f\"],[0.2222222222222222,\"#7201a8\"],[0.3333333333333333,\"#9c179e\"],[0.4444444444444444,\"#bd3786\"],[0.5555555555555556,\"#d8576b\"],[0.6666666666666666,\"#ed7953\"],[0.7777777777777778,\"#fb9f3a\"],[0.8888888888888888,\"#fdca26\"],[1.0,\"#f0f921\"]]}],\"heatmapgl\":[{\"type\":\"heatmapgl\",\"colorbar\":{\"outlinewidth\":0,\"ticks\":\"\"},\"colorscale\":[[0.0,\"#0d0887\"],[0.1111111111111111,\"#46039f\"],[0.2222222222222222,\"#7201a8\"],[0.3333333333333333,\"#9c179e\"],[0.4444444444444444,\"#bd3786\"],[0.5555555555555556,\"#d8576b\"],[0.6666666666666666,\"#ed7953\"],[0.7777777777777778,\"#fb9f3a\"],[0.8888888888888888,\"#fdca26\"],[1.0,\"#f0f921\"]]}],\"contourcarpet\":[{\"type\":\"contourcarpet\",\"colorbar\":{\"outlinewidth\":0,\"ticks\":\"\"}}],\"contour\":[{\"type\":\"contour\",\"colorbar\":{\"outlinewidth\":0,\"ticks\":\"\"},\"colorscale\":[[0.0,\"#0d0887\"],[0.1111111111111111,\"#46039f\"],[0.2222222222222222,\"#7201a8\"],[0.3333333333333333,\"#9c179e\"],[0.4444444444444444,\"#bd3786\"],[0.5555555555555556,\"#d8576b\"],[0.6666666666666666,\"#ed7953\"],[0.7777777777777778,\"#fb9f3a\"],[0.8888888888888888,\"#fdca26\"],[1.0,\"#f0f921\"]]}],\"surface\":[{\"type\":\"surface\",\"colorbar\":{\"outlinewidth\":0,\"ticks\":\"\"},\"colorscale\":[[0.0,\"#0d0887\"],[0.1111111111111111,\"#46039f\"],[0.2222222222222222,\"#7201a8\"],[0.3333333333333333,\"#9c179e\"],[0.4444444444444444,\"#bd3786\"],[0.5555555555555556,\"#d8576b\"],[0.6666666666666666,\"#ed7953\"],[0.7777777777777778,\"#fb9f3a\"],[0.8888888888888888,\"#fdca26\"],[1.0,\"#f0f921\"]]}],\"mesh3d\":[{\"type\":\"mesh3d\",\"colorbar\":{\"outlinewidth\":0,\"ticks\":\"\"}}],\"scatter\":[{\"fillpattern\":{\"fillmode\":\"overlay\",\"size\":10,\"solidity\":0.2},\"type\":\"scatter\"}],\"parcoords\":[{\"type\":\"parcoords\",\"line\":{\"colorbar\":{\"outlinewidth\":0,\"ticks\":\"\"}}}],\"scatterpolargl\":[{\"type\":\"scatterpolargl\",\"marker\":{\"colorbar\":{\"outlinewidth\":0,\"ticks\":\"\"}}}],\"bar\":[{\"error_x\":{\"color\":\"#2a3f5f\"},\"error_y\":{\"color\":\"#2a3f5f\"},\"marker\":{\"line\":{\"color\":\"#E5ECF6\",\"width\":0.5},\"pattern\":{\"fillmode\":\"overlay\",\"size\":10,\"solidity\":0.2}},\"type\":\"bar\"}],\"scattergeo\":[{\"type\":\"scattergeo\",\"marker\":{\"colorbar\":{\"outlinewidth\":0,\"ticks\":\"\"}}}],\"scatterpolar\":[{\"type\":\"scatterpolar\",\"marker\":{\"colorbar\":{\"outlinewidth\":0,\"ticks\":\"\"}}}],\"histogram\":[{\"marker\":{\"pattern\":{\"fillmode\":\"overlay\",\"size\":10,\"solidity\":0.2}},\"type\":\"histogram\"}],\"scattergl\":[{\"type\":\"scattergl\",\"marker\":{\"colorbar\":{\"outlinewidth\":0,\"ticks\":\"\"}}}],\"scatter3d\":[{\"type\":\"scatter3d\",\"line\":{\"colorbar\":{\"outlinewidth\":0,\"ticks\":\"\"}},\"marker\":{\"colorbar\":{\"outlinewidth\":0,\"ticks\":\"\"}}}],\"scattermapbox\":[{\"type\":\"scattermapbox\",\"marker\":{\"colorbar\":{\"outlinewidth\":0,\"ticks\":\"\"}}}],\"scatterternary\":[{\"type\":\"scatterternary\",\"marker\":{\"colorbar\":{\"outlinewidth\":0,\"ticks\":\"\"}}}],\"scattercarpet\":[{\"type\":\"scattercarpet\",\"marker\":{\"colorbar\":{\"outlinewidth\":0,\"ticks\":\"\"}}}],\"carpet\":[{\"aaxis\":{\"endlinecolor\":\"#2a3f5f\",\"gridcolor\":\"white\",\"linecolor\":\"white\",\"minorgridcolor\":\"white\",\"startlinecolor\":\"#2a3f5f\"},\"baxis\":{\"endlinecolor\":\"#2a3f5f\",\"gridcolor\":\"white\",\"linecolor\":\"white\",\"minorgridcolor\":\"white\",\"startlinecolor\":\"#2a3f5f\"},\"type\":\"carpet\"}],\"table\":[{\"cells\":{\"fill\":{\"color\":\"#EBF0F8\"},\"line\":{\"color\":\"white\"}},\"header\":{\"fill\":{\"color\":\"#C8D4E3\"},\"line\":{\"color\":\"white\"}},\"type\":\"table\"}],\"barpolar\":[{\"marker\":{\"line\":{\"color\":\"#E5ECF6\",\"width\":0.5},\"pattern\":{\"fillmode\":\"overlay\",\"size\":10,\"solidity\":0.2}},\"type\":\"barpolar\"}],\"pie\":[{\"automargin\":true,\"type\":\"pie\"}]},\"layout\":{\"autotypenumbers\":\"strict\",\"colorway\":[\"#636efa\",\"#EF553B\",\"#00cc96\",\"#ab63fa\",\"#FFA15A\",\"#19d3f3\",\"#FF6692\",\"#B6E880\",\"#FF97FF\",\"#FECB52\"],\"font\":{\"color\":\"#2a3f5f\"},\"hovermode\":\"closest\",\"hoverlabel\":{\"align\":\"left\"},\"paper_bgcolor\":\"white\",\"plot_bgcolor\":\"#E5ECF6\",\"polar\":{\"bgcolor\":\"#E5ECF6\",\"angularaxis\":{\"gridcolor\":\"white\",\"linecolor\":\"white\",\"ticks\":\"\"},\"radialaxis\":{\"gridcolor\":\"white\",\"linecolor\":\"white\",\"ticks\":\"\"}},\"ternary\":{\"bgcolor\":\"#E5ECF6\",\"aaxis\":{\"gridcolor\":\"white\",\"linecolor\":\"white\",\"ticks\":\"\"},\"baxis\":{\"gridcolor\":\"white\",\"linecolor\":\"white\",\"ticks\":\"\"},\"caxis\":{\"gridcolor\":\"white\",\"linecolor\":\"white\",\"ticks\":\"\"}},\"coloraxis\":{\"colorbar\":{\"outlinewidth\":0,\"ticks\":\"\"}},\"colorscale\":{\"sequential\":[[0.0,\"#0d0887\"],[0.1111111111111111,\"#46039f\"],[0.2222222222222222,\"#7201a8\"],[0.3333333333333333,\"#9c179e\"],[0.4444444444444444,\"#bd3786\"],[0.5555555555555556,\"#d8576b\"],[0.6666666666666666,\"#ed7953\"],[0.7777777777777778,\"#fb9f3a\"],[0.8888888888888888,\"#fdca26\"],[1.0,\"#f0f921\"]],\"sequentialminus\":[[0.0,\"#0d0887\"],[0.1111111111111111,\"#46039f\"],[0.2222222222222222,\"#7201a8\"],[0.3333333333333333,\"#9c179e\"],[0.4444444444444444,\"#bd3786\"],[0.5555555555555556,\"#d8576b\"],[0.6666666666666666,\"#ed7953\"],[0.7777777777777778,\"#fb9f3a\"],[0.8888888888888888,\"#fdca26\"],[1.0,\"#f0f921\"]],\"diverging\":[[0,\"#8e0152\"],[0.1,\"#c51b7d\"],[0.2,\"#de77ae\"],[0.3,\"#f1b6da\"],[0.4,\"#fde0ef\"],[0.5,\"#f7f7f7\"],[0.6,\"#e6f5d0\"],[0.7,\"#b8e186\"],[0.8,\"#7fbc41\"],[0.9,\"#4d9221\"],[1,\"#276419\"]]},\"xaxis\":{\"gridcolor\":\"white\",\"linecolor\":\"white\",\"ticks\":\"\",\"title\":{\"standoff\":15},\"zerolinecolor\":\"white\",\"automargin\":true,\"zerolinewidth\":2},\"yaxis\":{\"gridcolor\":\"white\",\"linecolor\":\"white\",\"ticks\":\"\",\"title\":{\"standoff\":15},\"zerolinecolor\":\"white\",\"automargin\":true,\"zerolinewidth\":2},\"scene\":{\"xaxis\":{\"backgroundcolor\":\"#E5ECF6\",\"gridcolor\":\"white\",\"linecolor\":\"white\",\"showbackground\":true,\"ticks\":\"\",\"zerolinecolor\":\"white\",\"gridwidth\":2},\"yaxis\":{\"backgroundcolor\":\"#E5ECF6\",\"gridcolor\":\"white\",\"linecolor\":\"white\",\"showbackground\":true,\"ticks\":\"\",\"zerolinecolor\":\"white\",\"gridwidth\":2},\"zaxis\":{\"backgroundcolor\":\"#E5ECF6\",\"gridcolor\":\"white\",\"linecolor\":\"white\",\"showbackground\":true,\"ticks\":\"\",\"zerolinecolor\":\"white\",\"gridwidth\":2}},\"shapedefaults\":{\"line\":{\"color\":\"#2a3f5f\"}},\"annotationdefaults\":{\"arrowcolor\":\"#2a3f5f\",\"arrowhead\":0,\"arrowwidth\":1},\"geo\":{\"bgcolor\":\"white\",\"landcolor\":\"#E5ECF6\",\"subunitcolor\":\"white\",\"showland\":true,\"showlakes\":true,\"lakecolor\":\"white\"},\"title\":{\"x\":0.05},\"mapbox\":{\"style\":\"light\"}}},\"xaxis\":{\"anchor\":\"y\",\"domain\":[0.0,0.45]},\"yaxis\":{\"anchor\":\"x\",\"domain\":[0.0,1.0]},\"xaxis2\":{\"anchor\":\"y2\",\"domain\":[0.55,1.0]},\"yaxis2\":{\"anchor\":\"x2\",\"domain\":[0.0,1.0],\"matches\":\"y\",\"showticklabels\":false},\"annotations\":[{\"font\":{\"size\":16},\"showarrow\":false,\"text\":\"SibSp Distribution\",\"x\":0.225,\"xanchor\":\"center\",\"xref\":\"paper\",\"y\":1.0,\"yanchor\":\"bottom\",\"yref\":\"paper\"},{\"font\":{\"size\":16},\"showarrow\":false,\"text\":\"Parch Distribution\",\"x\":0.775,\"xanchor\":\"center\",\"xref\":\"paper\",\"y\":1.0,\"yanchor\":\"bottom\",\"yref\":\"paper\"},{\"font\":{\"size\":16},\"showarrow\":false,\"text\":\"Number of Relations\",\"x\":0.5,\"xanchor\":\"center\",\"xref\":\"paper\",\"y\":0,\"yanchor\":\"top\",\"yref\":\"paper\",\"yshift\":-30}],\"font\":{\"color\":\"white\"},\"plot_bgcolor\":\"#0a0a33\",\"paper_bgcolor\":\"#0a0a33\",\"showlegend\":false,\"title\":{\"text\":\"Relations Distribution\"}},                        {\"responsive\": true}                    ).then(function(){\n",
       "                            \n",
       "var gd = document.getElementById('c79ebe73-aa22-4997-a92e-d38ba9f804c4');\n",
       "var x = new MutationObserver(function (mutations, observer) {{\n",
       "        var display = window.getComputedStyle(gd).display;\n",
       "        if (!display || display === 'none') {{\n",
       "            console.log([gd, 'removed!']);\n",
       "            Plotly.purge(gd);\n",
       "            observer.disconnect();\n",
       "        }}\n",
       "}});\n",
       "\n",
       "// Listen for the removal of the full notebook cells\n",
       "var notebookContainer = gd.closest('#notebook-container');\n",
       "if (notebookContainer) {{\n",
       "    x.observe(notebookContainer, {childList: true});\n",
       "}}\n",
       "\n",
       "// Listen for the clearing of the current output cell\n",
       "var outputEl = gd.closest('.output');\n",
       "if (outputEl) {{\n",
       "    x.observe(outputEl, {childList: true});\n",
       "}}\n",
       "\n",
       "                        })                };                });            </script>        </div>"
      ]
     },
     "metadata": {},
     "output_type": "display_data"
    }
   ],
   "source": [
    "# Making a subplot\n",
    "fig = make_subplots(rows = 1, cols = 2, subplot_titles = [f\"{column} Distribution\" for column in [\"SibSp\", \"Parch\"]], shared_yaxes = True, x_title = \"Number of Relations\")\n",
    "\n",
    "# SibSp distribution.\n",
    "sibsp = go.Histogram(x = train_df[\"SibSp\"], marker = dict(color = color_sequence, line = dict(width = 1, color = border_color)), hovertext = train_df[\"SibSp\"].value_counts())\n",
    "fig.add_traces(sibsp, rows = 1, cols = 1)\n",
    "\n",
    "# Parch distribution.\n",
    "parch = go.Histogram(x = train_df[\"Parch\"], marker = dict(color = color_sequence, line = dict(width = 1, color = border_color)), hovertext = train_df[\"Parch\"].value_counts())\n",
    "fig.add_traces(parch, rows = 1, cols = 2)\n",
    "\n",
    "fig.update_layout(plot_bgcolor = bgcolor, paper_bgcolor = bgcolor, font_color = font_color, showlegend = False, title = \"Relations Distribution\")\n",
    "fig.show()"
   ]
  },
  {
   "cell_type": "markdown",
   "id": "4cea4d8e",
   "metadata": {
    "id": "YsUvp_h-tx8s",
    "papermill": {
     "duration": 0.016765,
     "end_time": "2022-06-30T06:26:35.057429",
     "exception": false,
     "start_time": "2022-06-30T06:26:35.040664",
     "status": "completed"
    },
    "tags": []
   },
   "source": [
    "From the above graphs we can infer that most of the people onboard didn't have a relative on the ship.\n",
    "\n",
    "---"
   ]
  },
  {
   "cell_type": "markdown",
   "id": "6574b38a",
   "metadata": {
    "id": "lC4wATqey5VT",
    "papermill": {
     "duration": 0.016352,
     "end_time": "2022-06-30T06:26:35.090573",
     "exception": false,
     "start_time": "2022-06-30T06:26:35.074221",
     "status": "completed"
    },
    "tags": []
   },
   "source": [
    "## Multivariate Analysis <a id = \"multi\"></a>"
   ]
  },
  {
   "cell_type": "markdown",
   "id": "4785cbaf",
   "metadata": {
    "id": "85z60h1QzpHf",
    "papermill": {
     "duration": 0.016108,
     "end_time": "2022-06-30T06:26:35.123253",
     "exception": false,
     "start_time": "2022-06-30T06:26:35.107145",
     "status": "completed"
    },
    "tags": []
   },
   "source": [
    "Now that we know the distribution for each variable, let's check which of these factors affected in a person's survival."
   ]
  },
  {
   "cell_type": "markdown",
   "id": "93e573a2",
   "metadata": {
    "id": "OvIXgKsa0cB5",
    "papermill": {
     "duration": 0.016422,
     "end_time": "2022-06-30T06:26:35.156779",
     "exception": false,
     "start_time": "2022-06-30T06:26:35.140357",
     "status": "completed"
    },
    "tags": []
   },
   "source": [
    "### 1) Correlation Heatmap <a id = \"correlation\"></a>\n",
    "\n",
    "Let's plot the correlation heatmap for all the columns of the dataframe."
   ]
  },
  {
   "cell_type": "code",
   "execution_count": 12,
   "id": "3c2f1e74",
   "metadata": {
    "execution": {
     "iopub.execute_input": "2022-06-30T06:26:35.192949Z",
     "iopub.status.busy": "2022-06-30T06:26:35.192290Z",
     "iopub.status.idle": "2022-06-30T06:26:35.334325Z",
     "shell.execute_reply": "2022-06-30T06:26:35.333370Z"
    },
    "id": "Ik5fQ0og4xQs",
    "outputId": "a39d47c5-f455-4be2-eb50-6df801bba590",
    "papermill": {
     "duration": 0.164047,
     "end_time": "2022-06-30T06:26:35.337557",
     "exception": false,
     "start_time": "2022-06-30T06:26:35.173510",
     "status": "completed"
    },
    "tags": []
   },
   "outputs": [
    {
     "name": "stdout",
     "output_type": "stream",
     "text": [
      "Encoding key -\n",
      "\t[{'Sex': {0: 'female', 1: 'male'}}, {'Embarked': {0: 'C', 1: 'Q', 2: 'S'}}]\n",
      "----------------------------------------------------------------------------------------------------\n",
      "Encoded Table - \n"
     ]
    },
    {
     "data": {
      "text/html": [
       "<div>\n",
       "<style scoped>\n",
       "    .dataframe tbody tr th:only-of-type {\n",
       "        vertical-align: middle;\n",
       "    }\n",
       "\n",
       "    .dataframe tbody tr th {\n",
       "        vertical-align: top;\n",
       "    }\n",
       "\n",
       "    .dataframe thead th {\n",
       "        text-align: right;\n",
       "    }\n",
       "</style>\n",
       "<table border=\"1\" class=\"dataframe\">\n",
       "  <thead>\n",
       "    <tr style=\"text-align: right;\">\n",
       "      <th></th>\n",
       "      <th>Survived</th>\n",
       "      <th>Pclass</th>\n",
       "      <th>Sex</th>\n",
       "      <th>Age</th>\n",
       "      <th>SibSp</th>\n",
       "      <th>Parch</th>\n",
       "      <th>Fare</th>\n",
       "      <th>Embarked</th>\n",
       "    </tr>\n",
       "  </thead>\n",
       "  <tbody>\n",
       "    <tr>\n",
       "      <th>0</th>\n",
       "      <td>0</td>\n",
       "      <td>3</td>\n",
       "      <td>1</td>\n",
       "      <td>22.0</td>\n",
       "      <td>1</td>\n",
       "      <td>0</td>\n",
       "      <td>7.2500</td>\n",
       "      <td>2</td>\n",
       "    </tr>\n",
       "    <tr>\n",
       "      <th>1</th>\n",
       "      <td>1</td>\n",
       "      <td>1</td>\n",
       "      <td>0</td>\n",
       "      <td>38.0</td>\n",
       "      <td>1</td>\n",
       "      <td>0</td>\n",
       "      <td>71.2833</td>\n",
       "      <td>0</td>\n",
       "    </tr>\n",
       "    <tr>\n",
       "      <th>2</th>\n",
       "      <td>1</td>\n",
       "      <td>3</td>\n",
       "      <td>0</td>\n",
       "      <td>26.0</td>\n",
       "      <td>0</td>\n",
       "      <td>0</td>\n",
       "      <td>7.9250</td>\n",
       "      <td>2</td>\n",
       "    </tr>\n",
       "    <tr>\n",
       "      <th>3</th>\n",
       "      <td>1</td>\n",
       "      <td>1</td>\n",
       "      <td>0</td>\n",
       "      <td>35.0</td>\n",
       "      <td>1</td>\n",
       "      <td>0</td>\n",
       "      <td>53.1000</td>\n",
       "      <td>2</td>\n",
       "    </tr>\n",
       "    <tr>\n",
       "      <th>4</th>\n",
       "      <td>0</td>\n",
       "      <td>3</td>\n",
       "      <td>1</td>\n",
       "      <td>35.0</td>\n",
       "      <td>0</td>\n",
       "      <td>0</td>\n",
       "      <td>8.0500</td>\n",
       "      <td>2</td>\n",
       "    </tr>\n",
       "  </tbody>\n",
       "</table>\n",
       "</div>"
      ],
      "text/plain": [
       "   Survived  Pclass  Sex   Age  SibSp  Parch     Fare  Embarked\n",
       "0         0       3    1  22.0      1      0   7.2500         2\n",
       "1         1       1    0  38.0      1      0  71.2833         0\n",
       "2         1       3    0  26.0      0      0   7.9250         2\n",
       "3         1       1    0  35.0      1      0  53.1000         2\n",
       "4         0       3    1  35.0      0      0   8.0500         2"
      ]
     },
     "execution_count": 12,
     "metadata": {},
     "output_type": "execute_result"
    }
   ],
   "source": [
    "# Encoding the values in Embarked.\n",
    "from sklearn.preprocessing import LabelEncoder\n",
    "\n",
    "temp_df = train_df.copy()\n",
    "le = LabelEncoder()\n",
    "\n",
    "def encode_label(column):\n",
    "  temp_df[column] = le.fit_transform(temp_df[column])\n",
    "  return {column: dict(enumerate(le.classes_))}\n",
    "\n",
    "encoding_key = list(map(encode_label, [\"Sex\", \"Embarked\"]))\n",
    "print(f\"Encoding key -\\n\\t{encoding_key}\\n{'-' * 100}\")\n",
    "\n",
    "print(\"Encoded Table - \")\n",
    "temp_df.head()"
   ]
  },
  {
   "cell_type": "code",
   "execution_count": 13,
   "id": "de55e279",
   "metadata": {
    "execution": {
     "iopub.execute_input": "2022-06-30T06:26:35.375818Z",
     "iopub.status.busy": "2022-06-30T06:26:35.375392Z",
     "iopub.status.idle": "2022-06-30T06:26:35.445447Z",
     "shell.execute_reply": "2022-06-30T06:26:35.444449Z"
    },
    "id": "R1fwpIzqwo2V",
    "outputId": "0e940b54-8b39-4d36-8c55-27bd84311666",
    "papermill": {
     "duration": 0.091282,
     "end_time": "2022-06-30T06:26:35.447442",
     "exception": false,
     "start_time": "2022-06-30T06:26:35.356160",
     "status": "completed"
    },
    "tags": []
   },
   "outputs": [
    {
     "data": {
      "text/html": [
       "<div>                            <div id=\"d89c8e8e-2aca-4488-b3a1-9cb969bd4092\" class=\"plotly-graph-div\" style=\"height:700px; width:100%;\"></div>            <script type=\"text/javascript\">                require([\"plotly\"], function(Plotly) {                    window.PLOTLYENV=window.PLOTLYENV || {};                                    if (document.getElementById(\"d89c8e8e-2aca-4488-b3a1-9cb969bd4092\")) {                    Plotly.newPlot(                        \"d89c8e8e-2aca-4488-b3a1-9cb969bd4092\",                        [{\"coloraxis\":\"coloraxis\",\"name\":\"0\",\"texttemplate\":\"%{z}\",\"x\":[\"Survived\",\"Pclass\",\"Sex\",\"Age\",\"SibSp\",\"Parch\",\"Fare\",\"Embarked\"],\"y\":[\"Survived\",\"Pclass\",\"Sex\",\"Age\",\"SibSp\",\"Parch\",\"Fare\",\"Embarked\"],\"z\":[[null,null,null,null,null,null,null,null],[-0.33,null,null,null,null,null,null,null],[-0.55,0.13,null,null,null,null,null,null],[-0.07,-0.34,0.08,null,null,null,null,null],[-0.03,0.08,-0.11,-0.23,null,null,null,null],[0.08,0.02,-0.25,-0.17,0.42,null,null,null],[0.26,-0.6,-0.22,0.1,0.21,0.26,null,null],[-0.16,0.15,0.11,-0.02,0.07,0.04,-0.2,null]],\"type\":\"heatmap\",\"xaxis\":\"x\",\"yaxis\":\"y\",\"hovertemplate\":\"x: %{x}<br>y: %{y}<br>color: %{z}<extra></extra>\"}],                        {\"template\":{\"data\":{\"histogram2dcontour\":[{\"type\":\"histogram2dcontour\",\"colorbar\":{\"outlinewidth\":0,\"ticks\":\"\"},\"colorscale\":[[0.0,\"#0d0887\"],[0.1111111111111111,\"#46039f\"],[0.2222222222222222,\"#7201a8\"],[0.3333333333333333,\"#9c179e\"],[0.4444444444444444,\"#bd3786\"],[0.5555555555555556,\"#d8576b\"],[0.6666666666666666,\"#ed7953\"],[0.7777777777777778,\"#fb9f3a\"],[0.8888888888888888,\"#fdca26\"],[1.0,\"#f0f921\"]]}],\"choropleth\":[{\"type\":\"choropleth\",\"colorbar\":{\"outlinewidth\":0,\"ticks\":\"\"}}],\"histogram2d\":[{\"type\":\"histogram2d\",\"colorbar\":{\"outlinewidth\":0,\"ticks\":\"\"},\"colorscale\":[[0.0,\"#0d0887\"],[0.1111111111111111,\"#46039f\"],[0.2222222222222222,\"#7201a8\"],[0.3333333333333333,\"#9c179e\"],[0.4444444444444444,\"#bd3786\"],[0.5555555555555556,\"#d8576b\"],[0.6666666666666666,\"#ed7953\"],[0.7777777777777778,\"#fb9f3a\"],[0.8888888888888888,\"#fdca26\"],[1.0,\"#f0f921\"]]}],\"heatmap\":[{\"type\":\"heatmap\",\"colorbar\":{\"outlinewidth\":0,\"ticks\":\"\"},\"colorscale\":[[0.0,\"#0d0887\"],[0.1111111111111111,\"#46039f\"],[0.2222222222222222,\"#7201a8\"],[0.3333333333333333,\"#9c179e\"],[0.4444444444444444,\"#bd3786\"],[0.5555555555555556,\"#d8576b\"],[0.6666666666666666,\"#ed7953\"],[0.7777777777777778,\"#fb9f3a\"],[0.8888888888888888,\"#fdca26\"],[1.0,\"#f0f921\"]]}],\"heatmapgl\":[{\"type\":\"heatmapgl\",\"colorbar\":{\"outlinewidth\":0,\"ticks\":\"\"},\"colorscale\":[[0.0,\"#0d0887\"],[0.1111111111111111,\"#46039f\"],[0.2222222222222222,\"#7201a8\"],[0.3333333333333333,\"#9c179e\"],[0.4444444444444444,\"#bd3786\"],[0.5555555555555556,\"#d8576b\"],[0.6666666666666666,\"#ed7953\"],[0.7777777777777778,\"#fb9f3a\"],[0.8888888888888888,\"#fdca26\"],[1.0,\"#f0f921\"]]}],\"contourcarpet\":[{\"type\":\"contourcarpet\",\"colorbar\":{\"outlinewidth\":0,\"ticks\":\"\"}}],\"contour\":[{\"type\":\"contour\",\"colorbar\":{\"outlinewidth\":0,\"ticks\":\"\"},\"colorscale\":[[0.0,\"#0d0887\"],[0.1111111111111111,\"#46039f\"],[0.2222222222222222,\"#7201a8\"],[0.3333333333333333,\"#9c179e\"],[0.4444444444444444,\"#bd3786\"],[0.5555555555555556,\"#d8576b\"],[0.6666666666666666,\"#ed7953\"],[0.7777777777777778,\"#fb9f3a\"],[0.8888888888888888,\"#fdca26\"],[1.0,\"#f0f921\"]]}],\"surface\":[{\"type\":\"surface\",\"colorbar\":{\"outlinewidth\":0,\"ticks\":\"\"},\"colorscale\":[[0.0,\"#0d0887\"],[0.1111111111111111,\"#46039f\"],[0.2222222222222222,\"#7201a8\"],[0.3333333333333333,\"#9c179e\"],[0.4444444444444444,\"#bd3786\"],[0.5555555555555556,\"#d8576b\"],[0.6666666666666666,\"#ed7953\"],[0.7777777777777778,\"#fb9f3a\"],[0.8888888888888888,\"#fdca26\"],[1.0,\"#f0f921\"]]}],\"mesh3d\":[{\"type\":\"mesh3d\",\"colorbar\":{\"outlinewidth\":0,\"ticks\":\"\"}}],\"scatter\":[{\"fillpattern\":{\"fillmode\":\"overlay\",\"size\":10,\"solidity\":0.2},\"type\":\"scatter\"}],\"parcoords\":[{\"type\":\"parcoords\",\"line\":{\"colorbar\":{\"outlinewidth\":0,\"ticks\":\"\"}}}],\"scatterpolargl\":[{\"type\":\"scatterpolargl\",\"marker\":{\"colorbar\":{\"outlinewidth\":0,\"ticks\":\"\"}}}],\"bar\":[{\"error_x\":{\"color\":\"#2a3f5f\"},\"error_y\":{\"color\":\"#2a3f5f\"},\"marker\":{\"line\":{\"color\":\"#E5ECF6\",\"width\":0.5},\"pattern\":{\"fillmode\":\"overlay\",\"size\":10,\"solidity\":0.2}},\"type\":\"bar\"}],\"scattergeo\":[{\"type\":\"scattergeo\",\"marker\":{\"colorbar\":{\"outlinewidth\":0,\"ticks\":\"\"}}}],\"scatterpolar\":[{\"type\":\"scatterpolar\",\"marker\":{\"colorbar\":{\"outlinewidth\":0,\"ticks\":\"\"}}}],\"histogram\":[{\"marker\":{\"pattern\":{\"fillmode\":\"overlay\",\"size\":10,\"solidity\":0.2}},\"type\":\"histogram\"}],\"scattergl\":[{\"type\":\"scattergl\",\"marker\":{\"colorbar\":{\"outlinewidth\":0,\"ticks\":\"\"}}}],\"scatter3d\":[{\"type\":\"scatter3d\",\"line\":{\"colorbar\":{\"outlinewidth\":0,\"ticks\":\"\"}},\"marker\":{\"colorbar\":{\"outlinewidth\":0,\"ticks\":\"\"}}}],\"scattermapbox\":[{\"type\":\"scattermapbox\",\"marker\":{\"colorbar\":{\"outlinewidth\":0,\"ticks\":\"\"}}}],\"scatterternary\":[{\"type\":\"scatterternary\",\"marker\":{\"colorbar\":{\"outlinewidth\":0,\"ticks\":\"\"}}}],\"scattercarpet\":[{\"type\":\"scattercarpet\",\"marker\":{\"colorbar\":{\"outlinewidth\":0,\"ticks\":\"\"}}}],\"carpet\":[{\"aaxis\":{\"endlinecolor\":\"#2a3f5f\",\"gridcolor\":\"white\",\"linecolor\":\"white\",\"minorgridcolor\":\"white\",\"startlinecolor\":\"#2a3f5f\"},\"baxis\":{\"endlinecolor\":\"#2a3f5f\",\"gridcolor\":\"white\",\"linecolor\":\"white\",\"minorgridcolor\":\"white\",\"startlinecolor\":\"#2a3f5f\"},\"type\":\"carpet\"}],\"table\":[{\"cells\":{\"fill\":{\"color\":\"#EBF0F8\"},\"line\":{\"color\":\"white\"}},\"header\":{\"fill\":{\"color\":\"#C8D4E3\"},\"line\":{\"color\":\"white\"}},\"type\":\"table\"}],\"barpolar\":[{\"marker\":{\"line\":{\"color\":\"#E5ECF6\",\"width\":0.5},\"pattern\":{\"fillmode\":\"overlay\",\"size\":10,\"solidity\":0.2}},\"type\":\"barpolar\"}],\"pie\":[{\"automargin\":true,\"type\":\"pie\"}]},\"layout\":{\"autotypenumbers\":\"strict\",\"colorway\":[\"#636efa\",\"#EF553B\",\"#00cc96\",\"#ab63fa\",\"#FFA15A\",\"#19d3f3\",\"#FF6692\",\"#B6E880\",\"#FF97FF\",\"#FECB52\"],\"font\":{\"color\":\"#2a3f5f\"},\"hovermode\":\"closest\",\"hoverlabel\":{\"align\":\"left\"},\"paper_bgcolor\":\"white\",\"plot_bgcolor\":\"#E5ECF6\",\"polar\":{\"bgcolor\":\"#E5ECF6\",\"angularaxis\":{\"gridcolor\":\"white\",\"linecolor\":\"white\",\"ticks\":\"\"},\"radialaxis\":{\"gridcolor\":\"white\",\"linecolor\":\"white\",\"ticks\":\"\"}},\"ternary\":{\"bgcolor\":\"#E5ECF6\",\"aaxis\":{\"gridcolor\":\"white\",\"linecolor\":\"white\",\"ticks\":\"\"},\"baxis\":{\"gridcolor\":\"white\",\"linecolor\":\"white\",\"ticks\":\"\"},\"caxis\":{\"gridcolor\":\"white\",\"linecolor\":\"white\",\"ticks\":\"\"}},\"coloraxis\":{\"colorbar\":{\"outlinewidth\":0,\"ticks\":\"\"}},\"colorscale\":{\"sequential\":[[0.0,\"#0d0887\"],[0.1111111111111111,\"#46039f\"],[0.2222222222222222,\"#7201a8\"],[0.3333333333333333,\"#9c179e\"],[0.4444444444444444,\"#bd3786\"],[0.5555555555555556,\"#d8576b\"],[0.6666666666666666,\"#ed7953\"],[0.7777777777777778,\"#fb9f3a\"],[0.8888888888888888,\"#fdca26\"],[1.0,\"#f0f921\"]],\"sequentialminus\":[[0.0,\"#0d0887\"],[0.1111111111111111,\"#46039f\"],[0.2222222222222222,\"#7201a8\"],[0.3333333333333333,\"#9c179e\"],[0.4444444444444444,\"#bd3786\"],[0.5555555555555556,\"#d8576b\"],[0.6666666666666666,\"#ed7953\"],[0.7777777777777778,\"#fb9f3a\"],[0.8888888888888888,\"#fdca26\"],[1.0,\"#f0f921\"]],\"diverging\":[[0,\"#8e0152\"],[0.1,\"#c51b7d\"],[0.2,\"#de77ae\"],[0.3,\"#f1b6da\"],[0.4,\"#fde0ef\"],[0.5,\"#f7f7f7\"],[0.6,\"#e6f5d0\"],[0.7,\"#b8e186\"],[0.8,\"#7fbc41\"],[0.9,\"#4d9221\"],[1,\"#276419\"]]},\"xaxis\":{\"gridcolor\":\"white\",\"linecolor\":\"white\",\"ticks\":\"\",\"title\":{\"standoff\":15},\"zerolinecolor\":\"white\",\"automargin\":true,\"zerolinewidth\":2},\"yaxis\":{\"gridcolor\":\"white\",\"linecolor\":\"white\",\"ticks\":\"\",\"title\":{\"standoff\":15},\"zerolinecolor\":\"white\",\"automargin\":true,\"zerolinewidth\":2},\"scene\":{\"xaxis\":{\"backgroundcolor\":\"#E5ECF6\",\"gridcolor\":\"white\",\"linecolor\":\"white\",\"showbackground\":true,\"ticks\":\"\",\"zerolinecolor\":\"white\",\"gridwidth\":2},\"yaxis\":{\"backgroundcolor\":\"#E5ECF6\",\"gridcolor\":\"white\",\"linecolor\":\"white\",\"showbackground\":true,\"ticks\":\"\",\"zerolinecolor\":\"white\",\"gridwidth\":2},\"zaxis\":{\"backgroundcolor\":\"#E5ECF6\",\"gridcolor\":\"white\",\"linecolor\":\"white\",\"showbackground\":true,\"ticks\":\"\",\"zerolinecolor\":\"white\",\"gridwidth\":2}},\"shapedefaults\":{\"line\":{\"color\":\"#2a3f5f\"}},\"annotationdefaults\":{\"arrowcolor\":\"#2a3f5f\",\"arrowhead\":0,\"arrowwidth\":1},\"geo\":{\"bgcolor\":\"white\",\"landcolor\":\"#E5ECF6\",\"subunitcolor\":\"white\",\"showland\":true,\"showlakes\":true,\"lakecolor\":\"white\"},\"title\":{\"x\":0.05},\"mapbox\":{\"style\":\"light\"}}},\"xaxis\":{\"anchor\":\"y\",\"domain\":[0.0,1.0],\"scaleanchor\":\"y\",\"constrain\":\"domain\",\"showgrid\":false},\"yaxis\":{\"anchor\":\"x\",\"domain\":[0.0,1.0],\"autorange\":\"reversed\",\"constrain\":\"domain\",\"showgrid\":false},\"coloraxis\":{\"colorscale\":[[0.0,\"#0d0887\"],[0.1111111111111111,\"#46039f\"],[0.2222222222222222,\"#7201a8\"],[0.3333333333333333,\"#9c179e\"],[0.4444444444444444,\"#bd3786\"],[0.5555555555555556,\"#d8576b\"],[0.6666666666666666,\"#ed7953\"],[0.7777777777777778,\"#fb9f3a\"],[0.8888888888888888,\"#fdca26\"],[1.0,\"#f0f921\"]]},\"margin\":{\"t\":60},\"font\":{\"color\":\"white\"},\"height\":700,\"paper_bgcolor\":\"#0a0a33\",\"plot_bgcolor\":\"#0a0a33\"},                        {\"responsive\": true}                    ).then(function(){\n",
       "                            \n",
       "var gd = document.getElementById('d89c8e8e-2aca-4488-b3a1-9cb969bd4092');\n",
       "var x = new MutationObserver(function (mutations, observer) {{\n",
       "        var display = window.getComputedStyle(gd).display;\n",
       "        if (!display || display === 'none') {{\n",
       "            console.log([gd, 'removed!']);\n",
       "            Plotly.purge(gd);\n",
       "            observer.disconnect();\n",
       "        }}\n",
       "}});\n",
       "\n",
       "// Listen for the removal of the full notebook cells\n",
       "var notebookContainer = gd.closest('#notebook-container');\n",
       "if (notebookContainer) {{\n",
       "    x.observe(notebookContainer, {childList: true});\n",
       "}}\n",
       "\n",
       "// Listen for the clearing of the current output cell\n",
       "var outputEl = gd.closest('.output');\n",
       "if (outputEl) {{\n",
       "    x.observe(outputEl, {childList: true});\n",
       "}}\n",
       "\n",
       "                        })                };                });            </script>        </div>"
      ]
     },
     "metadata": {},
     "output_type": "display_data"
    }
   ],
   "source": [
    "# Correlation matrix for train_df.\n",
    "mask = np.triu(np.ones_like(temp_df.corr(), dtype = bool))\n",
    "corr = round(temp_df.corr(), 2).mask(mask)\n",
    "\n",
    "corr_matrix = px.imshow(corr, text_auto = True)\n",
    "corr_matrix.update_layout(height = 700, paper_bgcolor = bgcolor, plot_bgcolor = bgcolor, font_color = font_color, xaxis_showgrid = False, yaxis_showgrid = False)\n",
    "corr_matrix.show()"
   ]
  },
  {
   "cell_type": "markdown",
   "id": "4aaad58d",
   "metadata": {
    "id": "hFxDrQR80tQh",
    "papermill": {
     "duration": 0.016763,
     "end_time": "2022-06-30T06:26:35.481891",
     "exception": false,
     "start_time": "2022-06-30T06:26:35.465128",
     "status": "completed"
    },
    "tags": []
   },
   "source": [
    "From the above graph we can see that `Pclass` and `Fare` have the highest correlation out of all the column pairs. A correlation coefficient of -0.6 means that higher the passenger's Pclass value, lower the fare they pay. Meaning, passengers of higher economic backgrounds (Pclass = 1) would pay the highest fares while passengers of lower economic backgrounds (Pclass = 3) would pay the lowest fares.\n",
    "\n",
    "\\\n",
    "\n",
    "The correlation coefficient between `Sex` and `Survived` is -0.55 suggesting that if a passenger has a high value of sex (Sex = 1 / male), their survival rate would be very low.\n",
    "\n",
    "\\\n",
    "\n",
    "The correlation coefficient of 0.26 between `Fare` and `Survived` columns suggests that passengers who paid higher fares had higher survival rates.\n",
    "\n",
    "\\\n",
    "\n",
    "The correlation coefficient of -0.33 between `Pclass` and `Survived` columns suggests that passengers with a higher Pclass value (lower economic background) had lower chances of survival.\n",
    "\n",
    "\\\n",
    "\n",
    "The correlation coefficient of 0.42 between `SibSp` and `Parch` columns suggests that passengers who had siblings onboard had higher chances of having a parent/child onboard aswell and vice versa.\n",
    "\n",
    "\\\n",
    "\n",
    "The correlation coefficient of -0.34 between `Age` and `Pclass` suggests that most passengers that belonged to a higher economic background were had more age, while most passengers that belonged to a lower economic background had lesser age.\n",
    "\n",
    "---"
   ]
  },
  {
   "cell_type": "markdown",
   "id": "371ed36b",
   "metadata": {
    "id": "rxl3Runwq57_",
    "papermill": {
     "duration": 0.016538,
     "end_time": "2022-06-30T06:26:35.515394",
     "exception": false,
     "start_time": "2022-06-30T06:26:35.498856",
     "status": "completed"
    },
    "tags": []
   },
   "source": [
    "### 2) Distribution based on Survival (Age and Fare) <a id = \"age-and-fare\"></a>\n",
    "\n",
    "Let's first check the difference in distributions of `Age` and `Fare` columns for people who survived and for people who didn't."
   ]
  },
  {
   "cell_type": "code",
   "execution_count": 14,
   "id": "2dfc267f",
   "metadata": {
    "execution": {
     "iopub.execute_input": "2022-06-30T06:26:35.550958Z",
     "iopub.status.busy": "2022-06-30T06:26:35.550603Z",
     "iopub.status.idle": "2022-06-30T06:26:35.654609Z",
     "shell.execute_reply": "2022-06-30T06:26:35.653864Z"
    },
    "id": "xrX_QKSwPqTO",
    "outputId": "7f5a0510-a120-4bc1-93dd-bea153e92850",
    "papermill": {
     "duration": 0.124047,
     "end_time": "2022-06-30T06:26:35.656570",
     "exception": false,
     "start_time": "2022-06-30T06:26:35.532523",
     "status": "completed"
    },
    "tags": []
   },
   "outputs": [
    {
     "data": {
      "text/html": [
       "<div>                            <div id=\"4c95ed17-42b8-46f1-b429-5386153752d3\" class=\"plotly-graph-div\" style=\"height:525px; width:100%;\"></div>            <script type=\"text/javascript\">                require([\"plotly\"], function(Plotly) {                    window.PLOTLYENV=window.PLOTLYENV || {};                                    if (document.getElementById(\"4c95ed17-42b8-46f1-b429-5386153752d3\")) {                    Plotly.newPlot(                        \"4c95ed17-42b8-46f1-b429-5386153752d3\",                        [{\"legendgroup\":\"Didn't Survive\",\"marker\":{\"color\":\"lime\"},\"mode\":\"lines\",\"name\":\"Didn't Survive\",\"showlegend\":true,\"x\":[1.0,1.146,1.292,1.438,1.584,1.73,1.876,2.0220000000000002,2.168,2.314,2.46,2.606,2.752,2.8979999999999997,3.044,3.19,3.336,3.482,3.628,3.774,3.92,4.066,4.212,4.3580000000000005,4.504,4.65,4.795999999999999,4.942,5.088,5.234,5.38,5.526,5.672,5.818,5.964,6.11,6.256,6.402,6.548,6.694,6.84,6.986,7.132,7.278,7.424,7.57,7.716,7.862,8.008,8.154,8.3,8.446,8.591999999999999,8.738,8.884,9.03,9.176,9.322,9.468,9.614,9.76,9.906,10.052,10.198,10.344,10.49,10.636,10.782,10.928,11.074,11.22,11.366,11.512,11.658,11.804,11.95,12.096,12.242,12.388,12.534,12.68,12.826,12.972,13.118,13.264,13.41,13.556,13.702,13.848,13.994,14.14,14.286,14.432,14.578,14.724,14.87,15.016,15.162,15.308,15.454,15.6,15.746,15.892,16.038,16.183999999999997,16.33,16.476,16.622,16.768,16.914,17.06,17.206,17.352,17.498,17.644,17.79,17.936,18.082,18.228,18.374,18.52,18.666,18.812,18.958,19.104,19.25,19.396,19.542,19.688,19.834,19.98,20.126,20.272,20.418,20.564,20.71,20.856,21.002,21.148,21.294,21.44,21.586,21.732,21.878,22.024,22.17,22.316,22.462,22.608,22.754,22.9,23.046,23.192,23.338,23.484,23.63,23.776,23.922,24.068,24.214,24.36,24.506,24.652,24.798,24.944,25.09,25.236,25.382,25.528,25.674,25.82,25.966,26.112,26.258,26.404,26.55,26.696,26.842,26.988,27.134,27.28,27.426,27.572,27.718,27.864,28.01,28.156,28.302,28.448,28.594,28.74,28.886,29.032,29.178,29.324,29.47,29.616,29.762,29.908,30.054,30.2,30.346,30.492,30.638,30.784,30.93,31.076,31.222,31.368,31.514,31.66,31.806,31.952,32.098,32.244,32.39,32.536,32.682,32.828,32.974000000000004,33.12,33.266,33.412,33.558,33.704,33.85,33.996,34.142,34.288,34.434,34.58,34.726,34.872,35.018,35.164,35.31,35.456,35.602,35.748,35.894,36.04,36.186,36.332,36.478,36.624,36.77,36.916,37.062,37.208,37.354,37.5,37.646,37.792,37.938,38.084,38.23,38.376,38.522,38.668,38.814,38.96,39.106,39.252,39.398,39.544,39.69,39.836,39.982,40.128,40.274,40.42,40.566,40.712,40.858,41.004,41.15,41.296,41.442,41.588,41.734,41.88,42.026,42.172,42.318,42.464,42.61,42.756,42.902,43.048,43.194,43.34,43.486,43.632,43.778,43.924,44.07,44.216,44.362,44.508,44.654,44.8,44.946,45.092,45.238,45.384,45.53,45.676,45.822,45.968,46.114,46.26,46.406,46.552,46.698,46.844,46.99,47.136,47.282,47.428,47.574,47.72,47.866,48.012,48.158,48.304,48.45,48.596,48.742,48.888,49.034,49.18,49.326,49.472,49.618,49.764,49.91,50.056,50.202,50.348,50.494,50.64,50.786,50.932,51.078,51.224,51.37,51.516,51.662,51.808,51.954,52.1,52.246,52.392,52.538,52.684,52.83,52.976,53.122,53.268,53.414,53.56,53.706,53.852,53.998,54.144,54.29,54.436,54.582,54.728,54.874,55.02,55.166,55.312,55.458,55.604,55.75,55.896,56.042,56.188,56.334,56.48,56.626,56.772,56.918,57.064,57.21,57.356,57.502,57.648,57.794,57.94,58.086,58.232,58.378,58.524,58.67,58.816,58.962,59.108,59.254,59.4,59.546,59.692,59.838,59.984,60.13,60.276,60.422,60.568,60.714,60.86,61.006,61.152,61.298,61.444,61.59,61.736,61.882,62.028,62.174,62.32,62.466,62.612,62.758,62.904,63.05,63.196,63.342,63.488,63.634,63.78,63.926,64.072,64.218,64.364,64.50999999999999,64.656,64.80199999999999,64.94800000000001,65.094,65.24,65.386,65.532,65.678,65.824,65.97,66.116,66.262,66.408,66.554,66.7,66.846,66.992,67.138,67.284,67.43,67.576,67.722,67.868,68.014,68.16,68.306,68.452,68.598,68.744,68.89,69.036,69.182,69.328,69.474,69.62,69.766,69.912,70.058,70.204,70.35,70.496,70.642,70.788,70.934,71.08,71.226,71.372,71.518,71.664,71.81,71.956,72.102,72.248,72.394,72.54,72.686,72.832,72.978,73.124,73.27,73.416,73.562,73.708,73.854],\"xaxis\":\"x\",\"y\":[0.0027525238402758083,0.0028150729771381344,0.0028759740336723543,0.0029351431258635065,0.0029925081925278583,0.0030480094041969315,0.0031015994506490363,0.0031532437038394624,0.0032029202547202776,0.003250619824241595,0.003296345550651875,0.0033401126570475454,0.0033819480049219796,0.0034218895412092758,0.00345998564797447,0.0034962944054443565,0.0035308827804704855,0.0035638257537492523,0.0035952054001638627,0.003625109937443266,0.003653632758937076,0.0036808714666663133,0.0037069269209226924,0.003731902322543717,0.0037559023435876776,0.0037790323214768476,0.0038013975307676783,0.0038231025455661744,0.003844250704236092,0.0038649436864790694,0.00388528121111071,0.00390536086094583,0.003925278039166411,0.003945126059406198,0.003964996369578953,0.003984978907237739,0.004005162582011532,0.0040256358784599945,0.004046487570549217,0.0040678075369157745,0.00408968766418295,0.004112222823852999,0.004135511906750998,0.004159658897660627,0.004184773971695348,0.00421097459310763,0.0042383865966641775,0.004267145231424143,0.004297396146750226,0.0043292963006642095,0.004363014771228267,0.004398733452481029,0.004436647617578231,0.004476966333163176,0.004519912710607446,0.004565723981596599,0.004614651387562706,0.004666959874663676,0.004722927588344269,0.004782845163962178,0.004847014812484943,0.004915749202836129,0.004989370145051955,0.005068207080974756,0.005152595391723078,0.0052428745336099885,0.005339386016499919,0.00544247124077465,0.005552469211094036,0.005669714146961652,0.005794533011723306,0.0059272429830156395,0.006068148888829408,0.006217540634247134,0.006375690644548435,0.006542851350741576,0.006719252743679329,0.006905100022746467,0.007100571364674922,0.007305815837353322,0.007520951482562474,0.0077460635903987005,0.00798120318675667,0.008226385753647755,0.008481590200347892,0.00874675810141774,0.009021793215538292,0.009306561296875066,0.009600890208346612,0.009904570343748536,0.010217355363188192,0.010538963243745517,0.010869077644703207,0.011207349584107308,0.011553399420843512,0.011906819133856935,0.012267174887628945,0.012634009870549813,0.013006847390422595,0.013385194208994788,0.013768544095161735,0.014156381574322408,0.014548185849301535,0.014943434866292932,0.01534160949743232,0.015742197809874688,0.016144699389652694,0.016548629687116945,0.016953524349427682,0.01735894350438875,0.017764475958884245,0.018169743274325443,0.018574403680846834,0.018978155791503727,0.01938074207746966,0.019781952065190726,0.020181625216671738,0.020579653454556136,0.02097598329443891,0.021370617547946846,0.021763616561555614,0.022155098957912428,0.02254524184861468,0.02293428048999087,0.023322507356447576,0.023710270609413567,0.024097971943830038,0.024486063798523278,0.02487504592165117,0.025265461287720014,0.025657891368440086,0.026052950765875833,0.02645128122293101,0.02685354503316161,0.027260417879159737,0.027672581136247577,0.028090713685898543,0.028515483291058265,0.02894753759330709,0.02938749479944957,0.02983593413256825,0.03029338612967023,0.030760322874710175,0.03123714826181422,0.03172418838888142,0.032221682186207405,0.03272977238829482,0.03324849695941004,0.03377778108464609,0.03431742983811727,0.034867121638376505,0.035426402598129916,0.035994681870771185,0.03657122809014002,0.03715516699221211,0.03774548029817482,0.03834100592758294,0.03894043959806699,0.03954233785452933,0.04014512255598444,0.04074708683239041,0.04134640250710551,0.04194112896324707,0.04252922341440355,0.04310855252214612,0.04367690528483291,0.04423200710458074,0.044771534922264405,0.04529313329428227,0.04579443126986005,0.046273059914109814,0.04672667031019881,0.047152951863997546,0.04754965072671295,0.047914588145414785,0.04824567854820451,0.048540947170121265,0.0487985470278449,0.04901677505580825,0.049194087223496996,0.049329112463409874,0.04942066525125909,0.04946775669438768,0.04946960400084605,0.049425638219903874,0.04933551016468907,0.04919909444889424,0.0490164915916883,0.04878802816788541,0.048514255003603596,0.04819594344083195,0.04783407971710983,0.04742985752859353,0.046984668865799495,0.04650009323097556,0.04597788536405607,0.04541996162027256,0.04482838515647793,0.04420535009492807,0.043553164842510886,0.04287423475009816,0.042171044300808924,0.04144613901744599,0.0407021072782922,0.03994156222685428,0.0391671239551756,0.03838140213212377,0.037586979237803915,0.03678639455315464,0.03598212904008814,0.03517659123250865,0.03437210424243299,0.03357089396854633,0.0327750785771186,0.031986659307567986,0.03120751263736704,0.03043938382369257,0.029683881822472308,0.028942475569506357,0.028216491593339166,0.027507112915695745,0.026815379182741024,0.026142187959267395,0.02548829710827668,0.02485432817034146,0.024240770650644883,0.023647987116710834,0.02307621900651715,0.022525593044897433,0.02199612816579442,0.021487742838957297,0.021000262701952786,0.02053342840178297,0.020086903554824998,0.019660282739097375,0.019253099438878794,0.018864833868298594,0.018494920607555698,0.01814275599275964,0.017807705207886958,0.017489109034894826,0.01718629022550274,0.01689855946545162,0.016625220909075582,0.016365577268704596,0.016118934449680412,0.015884605727571884,0.015661915469470676,0.01545020240600774,0.01524882246494891,0.015057151180882614,0.014874585698629175,0.014700546390576207,0.014534478110212752,0.014375851105718367,0.014224161618596576,0.014078932193061442,0.013939711722236216,0.01380607525723844,0.013677623604954043,0.013553982739780361,0.013434803053894644,0.013319758469698541,0.013208545437063693,0.013100881836861433,0.012996505811055417,0.012895174538372587,0.012796662973287508,0.01270076256475665,0.012607279969850433,0.012516035776156769,0.01242686324557768,0.012339607090919257,0.012254122295485524,0.012170272984727616,0.012087931357876367,0.012006976686392877,0.011927294385005912,0.011848775160070794,0.011771314238970317,0.011694810683293439,0.011619166787560297,0.011544287564323802,0.011470080315558438,0.011396454289358432,0.011323320420105441,0.011250591149440464,0.011178180324586328,0.011106003169827027,0.011033976326259751,0.01096201795430653,0.010890047892908964,0.010817987868841203,0.010745761749167788,0.010673295829553108,0.01060051915089839,0.010527363836654436,0.010453765443122093,0.010379663315124214,0.010305000939602018,0.01022972628995769,0.010153792154329615,0.010077156441440987,0.009999782458201583,0.009921639153851821,0.009842701326117621,0.009762949785572567,0.009682371475174147,0.009600959542739719,0.009518713364938343,0.009435638522188653,0.009351746724649095,0.009267055690258855,0.009181588976521148,0.009095375768396093,0.009008450625291008,0.00892085319068026,0.00883262786835142,0.008743823469657075,0.008654492836440063,0.00856469244450002,0.00847448199257494,0.008383923981825784,0.008293083290740813,0.008202026750220272,0.008110822723370286,0.008019540694233988,0.007928250869329323,0.007837023795450647,0.0077459299967435336,0.007655039633583467,0.007564422185292813,0.007474146158227709,0.007384278820268046,0.007294885962256671,0.0072060316864711385,0.007117778221778399,0.007030185764727834,0.006943312345484929,0.0068572137172052796,0.006771943267194253,0.00668755194799847,0.006604088226426776,0.006521598048406471,0.006440124817535179,0.006359709385194861,0.006280390050143173,0.006202202565586175,0.006125180151860593,0.006049353513006534,0.005974750855687914,0.005901397909112852,0.005829317944812516,0.00575853179534901,0.005689057871237932,0.005620912175581623,0.005554108316110996,0.005488657514525797,0.005424568613199828,0.005361848079475928,0.005300500007917617,0.005240526121003928,0.0051819257688535385,0.005124695928644254,0.005068831204452316,0.005014323828274662,0.00496116366301896,0.004909338208249803,0.004858832609467557,0.004809629671671689,0.004761709877922961,0.004715051413571185,0.004669630196760306,0.004625419915758584,0.004582392073594208,0.004540516040404017,0.004499759113828069,0.004460086587704617,0.004421461829243292,0.004383846364774988,0.004347199974099056,0.004311480793372402,0.00427664542640858,0.004242649064183269,0.004209445612270551,0.004176987825868185,0.00414522745200445,0.004114115378460369,0.004083601788884451,0.004053636323526364,0.004024168244970517,0.003995146608210379,0.003966520434370722,0.003938238887357299,0.003910251452692688,0.0038825081177824685,0.003854959552847882,0.003827557291759432,0.0038002539120096258,0.00377300321307189,0.0037457603924061166,0.00371848221838743,0.003691127199453294,0.00366365574878384,0.0036360303438486073,0.0036082156801708074,0.003580178818673675,0.0035518893259836827,0.003523319407069552,0.0034944440295943094,0.0034652410393487096,0.003435691266118848,0.0034057786193177762,0.0033754901726817683,0.0033448162372970176,0.0033137504221839396,0.0032822896816247856,0.003250434348379468,0.00321818815189595,0.0031855582205890538,0.0031525550672376152,0.0031191925565387064,0.0030854878538621945,0.0030514613542727454,0.0030171365909330418,0.0029825401220739574,0.002947701395818245,0.0029126525922746824,0.002877428442482502,0.0028420660239806693,0.0028066045330037578,0.0027710850335647026,0.002735550183971905,0.002700043941641954,0.0026646112474047194,0.0026292976908506207,0.0025941491586339714,0.0025592114680154515,0.002524529988293373,0.002490149253129702,0.002456112567115017,0.0024224616102278547,0.0023892360441203912,0.0023564731243960147,0.002324207323227123,0.0022924699667872172,0.0022612888920328397,0.002230688127364504,0.002200687601616151,0.0021713028856686187,0.002142544970752199,0.0021144200871977253,0.0020869295670164593,0.0020600697532402847,0.0020338319584407485,0.0020082024742748158,0.0019831626332852594,0.0019586889235238794,0.0019347531558764524,0.001911322683261193,0.0018883606701593655,0.0018658264102299842,0.0018436756890728924,0.0018218611885480148,0.0018003329284457831,0.0017790387407452194,0.0017579247712028888,0.0017369360025969141,0.0017160167936132412,0.001695111427113047,0.001674164661364921,0.0016531222777665035,0.0016319316186185167,0.0016105421086490253,0.00158890575421476,0.0015669776144250655,0.0015447162388368156,0.0015220840668476953,0.0014990477844623062,0.001475578634710196,0.0014516526786467194,0.0014272510045548763,0.0014023598836771086,0.0013769708715281796,0.0013510808545618687,0.001324692042673155,0.0012978119087029161,0.0012704530767631526,0.001242633161807826,0.0012143745634292128,0.001185704217354594,0.0011566533085474676,0.0011272569501765077,0.0010975538330011585,0.0010675858499332178,0.0010373977006687403,0.0010070364813452395,0.0009765512641676246,0.0009459926718660888,0.000915412451704947],\"yaxis\":\"y\",\"type\":\"scatter\"},{\"legendgroup\":\"Survived\",\"marker\":{\"color\":\"orange\"},\"mode\":\"lines\",\"name\":\"Survived\",\"showlegend\":true,\"x\":[0.42,0.57916,0.73832,0.89748,1.05664,1.2158,1.37496,1.53412,1.69328,1.85244,2.0116,2.17076,2.32992,2.48908,2.64824,2.8074,2.96656,3.12572,3.2848800000000002,3.4440399999999998,3.6031999999999997,3.76236,3.92152,4.08068,4.23984,4.399,4.55816,4.71732,4.87648,5.03564,5.1948,5.35396,5.51312,5.67228,5.83144,5.9906,6.149760000000001,6.30892,6.46808,6.62724,6.7863999999999995,6.9455599999999995,7.10472,7.26388,7.42304,7.582199999999999,7.741359999999999,7.900519999999999,8.05968,8.21884,8.378,8.53716,8.69632,8.85548,9.01464,9.1738,9.33296,9.492119999999998,9.65128,9.81044,9.9696,10.12876,10.28792,10.44708,10.60624,10.7654,10.92456,11.08372,11.24288,11.40204,11.5612,11.720360000000001,11.879520000000001,12.03868,12.19784,12.357,12.51616,12.67532,12.83448,12.99364,13.1528,13.31196,13.471119999999999,13.630279999999999,13.78944,13.9486,14.10776,14.26692,14.42608,14.585239999999999,14.744399999999999,14.903559999999999,15.062719999999999,15.221879999999999,15.381039999999999,15.540199999999999,15.69936,15.85852,16.017680000000002,16.176840000000002,16.336000000000002,16.495160000000002,16.654320000000002,16.813480000000002,16.972640000000002,17.131800000000002,17.290960000000002,17.450120000000002,17.609280000000002,17.768440000000002,17.9276,18.08676,18.24592,18.405079999999998,18.564239999999998,18.723399999999998,18.88256,19.04172,19.20088,19.36004,19.5192,19.67836,19.83752,19.99668,20.15584,20.315,20.47416,20.63332,20.79248,20.95164,21.1108,21.26996,21.42912,21.58828,21.74744,21.9066,22.06576,22.22492,22.38408,22.54324,22.7024,22.861560000000004,23.020720000000004,23.179880000000004,23.339040000000004,23.498200000000004,23.65736,23.81652,23.97568,24.13484,24.294,24.45316,24.61232,24.77148,24.93064,25.0898,25.24896,25.40812,25.56728,25.72644,25.8856,26.04476,26.20392,26.36308,26.52224,26.6814,26.84056,26.999720000000003,27.158880000000003,27.318040000000003,27.477200000000003,27.636360000000003,27.795520000000003,27.954680000000003,28.113840000000003,28.273000000000003,28.432160000000003,28.591320000000003,28.75048,28.90964,29.0688,29.22796,29.38712,29.54628,29.70544,29.8646,30.02376,30.18292,30.34208,30.50124,30.6604,30.81956,30.978720000000003,31.137880000000003,31.297040000000003,31.456200000000003,31.615360000000003,31.774520000000003,31.933680000000003,32.09284,32.252,32.41116,32.57032,32.72948,32.88864,33.0478,33.20696,33.36612,33.52528,33.68444,33.8436,34.00276,34.16192,34.32108,34.48024,34.6394,34.79856,34.95772,35.11688,35.27604,35.4352,35.59436,35.75352,35.91268,36.07184,36.231,36.390159999999995,36.54932,36.708479999999994,36.86764,37.026799999999994,37.18596,37.34512,37.50428,37.66344,37.8226,37.98176,38.14092,38.30008,38.45924,38.6184,38.77756,38.93672,39.09588,39.25504,39.4142,39.57336,39.73252,39.89168,40.05084,40.21,40.36916,40.52832,40.68748,40.84664,41.0058,41.16496,41.32412000000001,41.48328,41.64244,41.8016,41.96076,42.11992,42.27908,42.43824,42.5974,42.75656,42.91572,43.07488,43.23404,43.3932,43.55236,43.71152,43.87068,44.02984,44.189,44.34816,44.50732,44.66648,44.82564,44.9848,45.14396,45.30312000000001,45.46228,45.62144000000001,45.7806,45.93976000000001,46.09892,46.25808000000001,46.41724,46.57640000000001,46.73556,46.89472,47.05388,47.21304,47.3722,47.53136,47.69052,47.84968,48.00884,48.168,48.32716,48.48632,48.64548,48.80464,48.9638,49.12296,49.28212,49.44128,49.600440000000006,49.7596,49.918760000000006,50.07792,50.237080000000006,50.39624,50.555400000000006,50.71456,50.873720000000006,51.03288,51.192040000000006,51.3512,51.510360000000006,51.66952,51.82868,51.98784,52.147,52.30616,52.46532,52.62448,52.78364,52.9428,53.10196,53.26112,53.42028,53.579440000000005,53.7386,53.897760000000005,54.05692,54.216080000000005,54.37524,54.534400000000005,54.69356,54.852720000000005,55.01188,55.171040000000005,55.3302,55.489360000000005,55.64852,55.807680000000005,55.96684,56.126000000000005,56.28516,56.444320000000005,56.60348,56.762640000000005,56.9218,57.08096,57.24012,57.39928,57.558440000000004,57.7176,57.876760000000004,58.03592,58.195080000000004,58.35424,58.513400000000004,58.67256,58.831720000000004,58.99088,59.150040000000004,59.3092,59.468360000000004,59.62752,59.786680000000004,59.94584,60.105000000000004,60.26416,60.423320000000004,60.58248,60.741640000000004,60.9008,61.059960000000004,61.21912,61.378280000000004,61.537440000000004,61.696600000000004,61.855760000000004,62.01492,62.174080000000004,62.333239999999996,62.4924,62.651559999999996,62.81072,62.969879999999996,63.12904,63.288199999999996,63.44736,63.606519999999996,63.76568,63.924839999999996,64.084,64.24315999999999,64.40232,64.56148,64.72064,64.8798,65.03896,65.19812,65.35728,65.51644,65.6756,65.83476,65.99392,66.15308,66.31224,66.4714,66.63056,66.78972,66.94888,67.10803999999999,67.2672,67.42636,67.58552,67.74467999999999,67.90384,68.063,68.22216,68.38131999999999,68.54048,68.69964,68.8588,69.01795999999999,69.17712,69.33628,69.49544,69.65459999999999,69.81376,69.97292,70.13208,70.29124,70.4504,70.60956,70.76872,70.92788,71.08704,71.2462,71.40536,71.56452,71.72368,71.88284,72.042,72.20116,72.36031999999999,72.51948,72.67864,72.8378,72.99695999999999,73.15612,73.31528,73.47444,73.63359999999999,73.79276,73.95192,74.11108,74.27024,74.4294,74.58856,74.74772,74.90688,75.06604,75.2252,75.38436,75.54352,75.70268,75.86184,76.021,76.18016,76.33932,76.49848,76.65764,76.8168,76.97596,77.13512,77.29428,77.45344,77.61259999999999,77.77176,77.93092,78.09008,78.24924,78.4084,78.56756,78.72672,78.88588,79.04504,79.2042,79.36336,79.52252,79.68168,79.84084],\"xaxis\":\"x\",\"y\":[0.00769786581144676,0.007842428426741446,0.00798132024123716,0.008114213656671173,0.008240801040049232,0.008360796489129694,0.0084739374996767,0.008579986523105624,0.008678732403939345,0.008769991687375746,0.008853609788228337,0.008929462013533573,0.008997454432204694,0.009057524586247923,0.009109642039223752,0.009153808758828633,0.009190059331671434,0.009218461009520172,0.009239113587478658,0.009252149115714103,0.00925773144748261,0.00925605562727796,0.009247347123955372,0.009231860914643316,0.009209880426147501,0.009181716341366934,0.009147705278974386,0.009108208355260806,0.00906360963760251,0.009014314499477656,0.0089607478873367,0.008903352509918664,0.008842586960804456,0.008778923785111246,0.008712847501262713,0.00864485258872328,0.008575441452464234,0.008505122374742675,0.008434407464526289,0.008363810614594649,0.008293845475997997,0.008225023459163703,0.008157851770516948,0.008092831493030835,0.008030455718650612,0.007971207740051106,0.007915559308694548,0.007863968965659654,0.007816880451220488,0.007774721198667017,0.00773790091738222,0.007706810269728535,0.007681819645846378,0.007663278040037223,0.007651512031988387,0.007646824875699338,0.0076494956985892135,0.007659778812900236,0.007677903141159543,0.007704071757123336,0.0077384615432950655,0.007781222965785919,0.007832479966962217,0.00789232997600348,0.00796084403716723,0.008038067055225187,0.00812401815719049,0.008218691169101034,0.008322055206251813,0.008434055374879661,0.00855461358289642,0.008683629456836527,0.008820981361735798,0.008966527520187395,0.009120107226329367,0.009281542150008489,0.009450637725838191,0.009627184621326694,0.009810960277700084,0.010001730516485634,0.010199251204359284,0.01040326996820272,0.010613527951764925,0.010829761604786268,0.0110517044949279,0.011279089132359886,0.011511648796406166,0.011749119353229672,0.011991241053173856,0.012237760296062258,0.012488431352507325,0.012743018029090608,0.013001295265167119,0.013263050649010144,0.013528085841063488,0.013796217892206341,0.014067280445166466,0.014341124807543347,0.01461762088532932,0.014896657966341034,0.015178145343601455,0.015462012769443012,0.015748210731931573,0.016036710546145225,0.016327504253869685,0.01662060432639878,0.016916043166343403,0.017213872405657745,0.01751416199847263,0.017816999108786126,0.0181224867945845,0.01843074249154962,0.018741896301141227,0.019056089089509332,0.019373470405392754,0.019694196226868296,0.020018426548531507,0.02034632282239202,0.02067804526744385,0.021013750064507224,0.02135358645451641,0.021697693759936142,0.022046198350404198,0.022399210575006608,0.022756821684777682,0.023119100770060987,0.023486091738251585,0.02385781035814942,0.024234241397674088,0.02461533588200079,0.02500100849926909,0.02539113518087404,0.025785550882958794,0.026184047595088567,0.026586372601177518,0.02699222701657202,0.02740126462375093,0.027813091027395487,0.028227263147608605,0.028643289067827288,0.029060628251499913,0.029478692138878344,0.029896845132352683,0.03031440597562637,0.0307306495287374,0.031144808937488416,0.03155607819230024,0.031963615067871334,0.03236654443135591,0.032763961903096335,0.033154937850309874,0.03353852169057254,0.03391374647850525,0.03427963374579862,0.03463519856164974,0.034979454777871746,0.03531142042041141,0.035630123186815035,0.035934606007346805,0.03622393262602147,0.03649719315678887,0.036753509569532605,0.03699204106041621,0.037211989261466835,0.0374126032451091,0.0375931842806657,0.03775309030161226,0.03789174004460654,0.038008616823970935,0.03810327190839348,0.038175327470061714,0.03822447908025305,0.03825049772950224,0.03825323135482795,0.03823260586106188,0.038188625628039576,0.038121373500218936,0.038031010260145055,0.03791777359200144,0.03778197654624292,0.03762400552091485,0.03744431777968969,0.03724343853082993,0.03702195759517556,0.036780525694803175,0.03651985039717815,0.03624069175237999,0.03594385766330312,0.035630199030589615,0.035300604715427314,0.03495599636423549,0.034597323139654794,0.03422555640217082,0.03384168438613062,0.03344670691288682,0.03304163018234149,0.032627461682292906,0.03220520525273917,0.03177585633971717,0.03134039747036942,0.030899793977808756,0.03045499000100896,0.03000690478146015,0.029556429274719544,0.029104423091325465,0.028651711777860373,0.02819908444529884,0.027747291748199693,0.027297044214845047,0.026849010925115935,0.0264038185297756,0.025962050601926003,0.025524247308735207,0.02509090538913407,0.024662478421053163,0.024239377359934648,0.02382197132871769,0.02341058863824934,0.023005518016131987,0.02260701002136199,0.022215278621739984,0.021830502910927172,0.021452828942165842,0.021082371656061326,0.020719216880412884,0.02036342338086065,0.020015024942064558,0.019674032460223027,0.0193404360289475,0.019014207001815706,0.018695300016303595,0.018383654965221125,0.018079198903232136,0.017781847877500378,0.017491508672956162,0.01720808046410338,0.016931456366672912,0.016661524883759198,0.01639817124234705,0.016141278617333894,0.01589072924127111,0.01564640539909067,0.015408190308034793,0.015175968883879959,0.014949628395330022,0.014729059009161343,0.014514154229324772,0.014304811233764564,0.014100931113191068,0.013902419016464012,0.013709184207597452,0.013521140039700898,0.013338203851426674,0.013160296791703333,0.012987343578710333,0.0128192721991865,0.012656013554276514,0.012497501058202225,0.01234367019610458,0.012194458047439665,0.012049802781329342,0.011909643130262252,0.011773917848518351,0.011642565161644539,0.011515522213243043,0.011392724515244881,0.011274105407724786,0.011159595534173786,0.0110491223379743,0.010942609585621401,0.010839976922000082,0.01074113946275994,0.010646007428524663,0.0105544858253346,0.010466474175343224,0.010381866301375628,0.010300550168509948,0.010222407785359235,0.01014731516721932,0.010075142362704492,0.010005753544927828,0.009939007167693345,0.00987475618656446,0.009812848344059466,0.009753126517605083,0.009695429128263247,0.00963959060763662,0.009585441919765321,0.009532811134254783,0.00948152404633196,0.009431404839018857,0.009382276782146008,0.009333962962510729,0.009286287039119255,0.009239074017146087,0.009192151033999365,0.009145348150704634,0.009098499141710258,0.009051442276181458,0.009004021083885223,0.008956085098875086,0.008907490574364922,0.008858101162428317,0.008807788552476893,0.008756433062849078,0.00870392418027937,0.008650161042509994,0.008595052859846292,0.008538519272039255,0.008480490637493624,0.008420908252443628,0.008359724498401146,0.008296902916854523,0.00823241821087533,0.008166256173963939,0.008098413547127002,0.008028897805823866,0.007957726879035608,0.007884928803295273,0.007810541315064078,0.0077346113853402725,0.007657194700840949,0.007578355096498123,0.0074981639443558335,0.00741669950424207,0.007334046241817538,0.007250294119770398,0.007165537868033604,0.007079876238949226,0.006993411253294036,0.006906247443014646,0.006818491096402065,0.0067302495112666425,0.0066416302614603,0.006552740481836953,0.006463686176448873,0.0063745715544507335,0.006285498397830475,0.006196565464708977,0.006107867931557864,0.006019496877276827,0.005931538811657318,0.0058440752503400965,0.0057571823379556865,0.005670930520722022,0.005585384269367577,0.005500601852852289,0.005416635162977605,0.005333529589611361,0.005251323945906836,0.005170050442568522,0.005089734709912006,0.005010395866182203,0.004932046630334718,0.004854693477247699,0.004778336833118807,0.004702971308611271,0.004628585967145501,0.004555164625587676,0.004482686184462803,0.004411124984717001,0.004340451187970896,0.004270631177142725,0.004201627974274414,0.004133401672366885,0.004065909878020223,0.0039991081616807195,0.0039329505123181525,0.003867389793394133,0.003802378197033783,0.003737867693379597,0.0036738104721864054,0.003610159373810917,0.0035468683068568523,0.0034838926498581705,0.0034211896345171357,0.0033587187081612537,0.0032964418732430185,0.003234324001878368,0.0031723331236033826,0.0031104406847237693,0.0030486217778366354,0.0029868553403189398,0.002925124320799977,0.002863415812866166,0.002801721155482605,0.0027400359998573237,0.0026783603427179997,0.00261669852621634,0.002555059204919863,0.0024934552805925595,0.0024319038057035937,0.002370425856832912,0.002309046379364896,0.0022477940050708725,0.0021867008443792104,0.002125802255313466,0.002065136591244504,0.0020047449297485405,0.0019446707849894592,0.0018849598061473683,0.0018256594644971162,0.0017668187317973385,0.001708487752683688,0.001650717513767225,0.0015935595121221613,0.0015370654258044397,0.0014812867889763648,0.0014262746741221849,0.001372079383726763,0.0013187501536555577,0.001266334870320576,0.0012148798035455407,0.0011644293568564713,0.0011150258367231035,0.0010667092420648201,0.001019517075114043,0.0009734841745033918,0.0009286425712124971,0.0008850213677791179,0.0008426466409494662,0.0008015413677172215,0.0007617253744815508,0.0007232153088445525,0.0006860246333692838,0.0006501636404335866,0.0006156394871433871,0.0005824562491143856,0.0005506149917934727,0.0005201138578726516,0.0004909481692490531,0.00046311054190567303,0.00043659101202875425,0.0004113771716396682,0.000387454312001131,0.0003648055730597196,0.0003434120972076405,0.0003232531856863625,0.00030430645601135813,0.00028654799887024314,0.0002699525330340752,0.00025449355692243455,0.00024014349557532872,0.00022687384190732467,0.00021465529124985584,0.0002034578683246007,0.0001932510459323907,0.00018400385478645355,0.0001756849840641971,0.00016826287239643596,0.00016170578915529224,0.0001559819060403847,0.0001510593590958366,0.00014690630141669554,0.00014349094692130203,0.00014078160567475252,0.00013874671134695828,0.00013735484147589828,0.00013657473128187383,0.00013637528184122757,0.00013672556347771734,0.00013759481526620147,0.00013895244156640502,0.0001407680065143013,0.00014301122739522167,0.00014565196780654853,0.00014866023148915115,0.00015200615766623285,0.00015566001867665314,0.00015959222062789224,0.00016377330772261947,0.00016817397083328389,0.00017276506081244144,0.00017751760693383186,0.00018240284076178183,0.00018739222564564487,0.00019245749193302442,0.00019757067789180968,0.00020270417622794654,0.00020783078598469914,0.00021292376951124404,0.0002179569140950359,0.00022290459776470463,0.0002277418586894045,0.00023244446752757744,0.00023698900201395322,0.00024135292301910073,0.00024551465127165494,0.00024945364390006316,0.0002531504699286683,0.0002565868838525202,0.0002597458964165288,0.0002626118417374355,0.0002651704399313621,0.0002674088544450733,0.0002693157433350326,0.00027088130379424025,0.00027209730929190573,0.00027295713876438073,0.0002734557973764168],\"yaxis\":\"y\",\"type\":\"scatter\"},{\"legendgroup\":\"Didn't Survive\",\"marker\":{\"color\":\"red\"},\"mode\":\"lines\",\"name\":\"Didn't Survive\",\"showlegend\":true,\"x\":[0.0,0.526,1.052,1.578,2.104,2.63,3.156,3.682,4.208,4.734,5.26,5.786,6.312,6.838,7.364,7.89,8.416,8.942,9.468,9.994,10.52,11.046,11.572,12.098,12.624,13.15,13.676,14.202,14.728,15.254,15.78,16.306,16.832,17.358,17.884,18.41,18.936,19.462,19.988,20.514,21.04,21.566,22.092,22.618,23.144,23.67,24.196,24.722,25.248,25.774,26.3,26.826,27.352,27.878,28.404,28.93,29.456,29.982,30.508,31.034,31.56,32.086,32.612,33.138,33.664,34.19,34.716,35.242,35.768,36.294,36.82,37.346,37.872,38.398,38.924,39.45,39.976,40.502,41.028,41.554,42.08,42.606,43.132,43.658,44.184,44.71,45.236,45.762,46.288,46.814,47.34,47.866,48.392,48.918,49.444,49.97,50.496,51.022,51.548,52.074,52.6,53.126,53.652,54.178,54.704,55.23,55.756,56.282,56.808,57.334,57.86,58.386,58.912,59.438,59.964,60.49,61.016,61.542,62.068,62.594,63.12,63.646,64.172,64.698,65.224,65.75,66.276,66.802,67.328,67.854,68.38,68.906,69.432,69.958,70.484,71.01,71.536,72.062,72.588,73.114,73.64,74.166,74.692,75.218,75.744,76.27,76.796,77.322,77.848,78.374,78.9,79.426,79.952,80.478,81.004,81.53,82.056,82.582,83.108,83.634,84.16,84.686,85.212,85.738,86.264,86.79,87.316,87.842,88.368,88.894,89.42,89.946,90.472,90.998,91.524,92.05,92.576,93.102,93.628,94.154,94.68,95.206,95.732,96.258,96.784,97.31,97.836,98.362,98.888,99.414,99.94,100.466,100.992,101.518,102.044,102.57,103.096,103.622,104.148,104.674,105.2,105.726,106.252,106.778,107.304,107.83,108.356,108.882,109.408,109.934,110.46,110.986,111.512,112.038,112.564,113.09,113.616,114.142,114.668,115.194,115.72,116.246,116.772,117.298,117.824,118.35,118.876,119.402,119.928,120.454,120.98,121.506,122.032,122.558,123.084,123.61,124.136,124.662,125.188,125.714,126.24,126.766,127.292,127.818,128.344,128.87,129.396,129.922,130.448,130.974,131.5,132.026,132.552,133.078,133.604,134.13,134.656,135.182,135.708,136.234,136.76,137.286,137.812,138.338,138.864,139.39,139.916,140.442,140.968,141.494,142.02,142.546,143.072,143.598,144.124,144.65,145.176,145.702,146.228,146.754,147.28,147.806,148.332,148.858,149.384,149.91,150.436,150.962,151.488,152.014,152.54,153.066,153.592,154.118,154.644,155.17,155.696,156.222,156.748,157.274,157.8,158.326,158.852,159.378,159.904,160.43,160.956,161.482,162.008,162.534,163.06,163.586,164.112,164.638,165.164,165.69,166.216,166.742,167.268,167.794,168.32,168.846,169.372,169.898,170.424,170.95,171.476,172.002,172.528,173.054,173.58,174.106,174.632,175.158,175.684,176.21,176.736,177.262,177.788,178.314,178.84,179.366,179.892,180.418,180.944,181.47,181.996,182.522,183.048,183.574,184.1,184.626,185.152,185.678,186.204,186.73,187.256,187.782,188.308,188.834,189.36,189.886,190.412,190.938,191.464,191.99,192.516,193.042,193.568,194.094,194.62,195.146,195.672,196.198,196.724,197.25,197.776,198.302,198.828,199.354,199.88,200.406,200.932,201.458,201.984,202.51,203.036,203.562,204.088,204.614,205.14,205.666,206.192,206.718,207.244,207.77,208.296,208.822,209.348,209.874,210.4,210.926,211.452,211.978,212.504,213.03,213.556,214.082,214.608,215.134,215.66,216.186,216.712,217.238,217.764,218.29,218.816,219.342,219.868,220.394,220.92,221.446,221.972,222.498,223.024,223.55,224.076,224.602,225.128,225.654,226.18,226.706,227.232,227.758,228.284,228.81,229.336,229.862,230.388,230.914,231.44,231.966,232.492,233.018,233.544,234.07,234.596,235.122,235.648,236.174,236.7,237.226,237.752,238.278,238.804,239.33,239.856,240.382,240.908,241.434,241.96,242.486,243.012,243.538,244.064,244.59,245.116,245.642,246.168,246.694,247.22,247.746,248.272,248.798,249.324,249.85,250.376,250.902,251.428,251.954,252.48,253.006,253.532,254.058,254.584,255.11,255.636,256.162,256.688,257.214,257.74,258.266,258.792,259.318,259.844,260.37,260.896,261.422,261.948,262.474],\"xaxis\":\"x2\",\"y\":[0.01807170760798977,0.019056179654701202,0.02003358274851348,0.020997669946689737,0.02194206403334639,0.02286033684028703,0.0237460927246747,0.02459305467079749,0.025395151357127277,0.026146603443971347,0.02684200729544372,0.02747641435510488,0.028045404448753267,0.028545151390269766,0.028972479415218043,0.02932490915861568,0.029600692122916435,0.02979883284345599,0.029919098243920916,0.029962013975474024,0.029928847841062686,0.0298215807119712,0.029642865637732514,0.029395976124374612,0.029084744801632024,0.028713493910184008,0.028286959209395172,0.02781020903005071,0.02728856027236529,0.02672749317586808,0.026132566665033503,0.02550933600467484,0.024863274385566028,0.024199699908171765,0.023523709246539928,0.022840119061924777,0.022153416003778893,0.021467715891873136,0.02078673242503272,0.0201137555166541,0.019451639121701475,0.018802798200496414,0.01816921426674772,0.017552448795359908,0.016953663623022173,0.016373647363714244,0.015812846783264056,0.015271402032073089,0.014749184622192229,0.01424583705227631,0.013760813028965755,0.013293417302687198,0.012842844225973008,0.012408214249074694,0.011988607686597234,0.011583095215791905,0.011190764697789329,0.010810744043449744,0.010442219971997548,0.01008445262996692,0.009736786147481245,0.009398655306315841,0.009069588577909874,0.008749207858411975,0.008437225281418935,0.008133437527262111,0.007837718070930283,0.007550007819818578,0.007270304588611502,0.006998651843173905,0.006735127119941804,0.006479830493714841,0.006232873426731905,0.005994368287240914,0.00576441877815625,0.0055431114674342925,0.005330508562936067,0.005126642027061884,0.004931509081416913,0.004745069110083027,0.004567241932408246,0.004397907383072051,0.004236906108846705,0.004084041468096577,0.0039390824006394955,0.003801767122017483,0.0036718074872710677,0.0035488938646883374,0.003432700359359934,0.0033228902293279236,0.0032191213432648715,0.003121051537544503,0.0030283437418547887,0.0029406707557544784,0.002857719573394235,0.002779195169640631,0.0027048236776983647,0.0026343549056837925,0.0025675641571402488,0.002504253337895131,0.0024442513486504,0.002387413778997494,0.002333621933894459,0.002282781237797331,0.0022348190743769667,0.0021896821308782567,0.002147333325518014,0.002107748403727491,0.0020709122944164377,0.0020368153206949922,0.002005449360606068,0.001976804052402972,0.0019508631358114473,0.0019276010156375387,0.0019069796271669796,0.0018889456742282183,0.0018734283007812728,0.0018603372456993481,0.0018495615183091918,0.001840968619547695,0.0018344043205868598,0.0018296929977917515,0.0018266385102163347,0.001825025593807643,0.0018246217353559413,0.0018251794792457474,0.001826439111443841,0.0018281316580784008,0.0018299821305478052,0.0018317129454297283,0.0018330474455751774,0.0018337134486520958,0.0018334467509891527,0.00183199451775709,0.0018291184951700755,0.001824597986316544,0.0018182325392354433,0.0018098443037175903,0.0017992800217984965,0.0017864126257805567,0.0017711424266417788,0.0017533978846303614,0.0017331359624968225,0.0017103420699890843,0.0016850296157654224,0.0016572391896274806,0.001627037403833417,0.0015945154271426547,0.0015597872491205451,0.0015229877150761586,0.0014842703738270218,0.0014438051813138923,0.0014017761029792076,0.0013583786568466376,0.0013138174374796132,0.0012683036585506354,0.0012220527487225206,0.0011752820320345986,0.0011282085201109696,0.0010810468393711104,0.0010340073121325023,0.0009872942061510306,0.0009411041628443046,0.0008956248102753246,0.0008510335630207794,0.000807496607383671,0.0007651680670985713,0.0007241893417741057,0.0006846886078661882,0.0006467804700094573,0.0006105657490756476,0.0005761313923844947,0.0005435504910624603,0.0005128823896102053,0.0004841728732726695,0.00045745441976415696,0.0004327465032323541,0.0004100559399862095,0.000389377267391114,0.0003706931493716453,0.0003539748040738389,0.0003391824513395211,0.00032626577964981146,0.0003151644340219249,0.0003058085279177048,0.0002981191834781107,0.00029200910528079155,0.0002873831932875539,0.0002841392006801445,0.0002821684418680821,0.00028135655510059084,0.0002815843228522741,0.0002827285515220216,0.0002846630100446944,0.0002872594248366056,0.0002903885261604409,0.00029392113859252634,0.00029772930589905776,0.00030168743837271945,0.00030567346863906355,0.0003095700001988267,0.000313265431604351,0.000316655038239306,0.0003196419932299406,0.0003221383090953162,0.0003240656823574598,0.0003253562244756308,0.00032595306411888753,0.00032581080790727396,0.0003248958492774804,0.00032318651799315254,0.0003206730659411307,0.000317357488142635,0.00031325318126759007,0.00030838444527434266,0.00030278583701125655,0.00029650138762169056,0.00028958369830843847,0.00028209293136749486,0.00027409571533648853,0.00026566398457724343,0.0002568737745969429,0.000247803994896056,0.00023853520111662342,0.00022914838776898411,0.00021972382186879368,0.00021033993646044424,0.00020107230128791235,0.0001919926858562855,0.00018316822786762686,0.00017466071757606333,0.00016652600605132343,0.00015881354272736777,0.00015156604499930927,0.00014481930006841778,0.00013860209676661933,0.00013293628275715079,0.00012783694033912714,0.00012331267210693596,0.0001193659859512984,0.0001159937673536114,0.00011318782563109534,0.00011093549974678484,0.00010922030851292728,0.00010802262949502203,0.00010732039067176392,0.00010708975892813829,0.00010730580975866931,0.0001079431631380323,0.00010897657137778913,0.00011038144592910859,0.00011213431150646415,0.00011421317758611168,0.00011659781925930586,0.00011926996157043947,0.000122213363813575,0.0001254138027578981,0.00012885895637590407,0.00013253819230202603,0.00013644226789118934,0.00014056295130783714,0.00014489257548363582,0.00014942353896185804,0.00015414776952459808,0.0001590561680052945,0.00016413805075992811,0.00016938060985158862,0.00017476841005308367,0.00018028294126402596,0.00018590224386239008,0.0001916006228744049,0.00019734846467873605,0.00020311216730838265,0.00020885419234261966,0.00021453324297470303,0.00022010456919696248,0.00022552039727308031,0.00023073047688580448,0.0002356827356789705,0.0002403240274771348,0.00024460095738078894,0.00024846076430706115,0.00025185223946817576,0.00025472665782830625,0.00025703869880866026,0.0002587473324523758,0.00025981664792213224,0.00026021660256632015,0.0002599236718115147,0.00025892138275421906,0.0002572007174470819,0.00025476037540042844,0.0002516068886320404,0.0002477545865708402,0.00024322541212369345,0.00023804859411999258,0.00023226018503284032,0.00022590247622557497,0.00021902330588934014,0.00021167527724031733,0.00020391490637311868,0.00019580172038049563,0.00018739732693237446,0.0001787644764649493,0.00016996613749012212,0.00016106460434336156,0.00015212065500704762,0.00014319277455340706,0.00013433645733293653,0.0001256035983838973,0.00011704198175172022,0.00010869487057841777,0.00010060070104125791,0.00009279287956935289,0.00008529968031861142,0.0000781442376998496,0.00007134462687861908,0.00006491402363115977,0.000058860933767569264,0.00005318948152576852,0.000047899745890535754,0.00004298813368196882,0.00003844777845882004,0.00003426895475828182,0.00003043949790350879,0.00002694522050842299,0.000023770317849660526,0.000020897755411728708,0.000018309633099255706,0.000015987521808733526,0.000013912769224772382,0.00001206677282118641,0.000010431219079432837,8.988288866055085e-6,7.72082972265518e-6,6.612496507882612e-6,5.647862387345437e-6,4.812502595115434e-6,4.093053694277973e-6,3.4772512515376622e-6,2.9539489223576326e-6,2.5131219302485265e-6,2.1458578293984336e-6,1.844337277025016e-6,1.6018073237255653e-6,1.4125494693137688e-6,1.2718444400005668e-6,1.1759353311512318e-6,1.1219904379971087e-6,1.108066773229393e-6,1.1330749528908531e-6,1.196745826927623e-6,1.2995989437784943e-6,1.4429126743014715e-6,1.6286955833598932e-6,1.859658431184911e-6,2.1391860144421237e-6,2.4713079216405058e-6,2.860667181677434e-6,3.312485730102025e-6,3.832525606872607e-6,4.4270448332371705e-6,5.102746994476262e-6,5.86672367940693e-6,6.72638909556204e-6,7.689406388481198e-6,8.763605440934999e-6,9.956892208070351e-6,0.000011277149950842549,0.00001273213305461251,0.000014329354452911715,0.000016075968007310937,0.000017978647511223682,0.00002004346427575357,0.000022275765506515994,0.000024680055879049998,0.000027259884855090988,0.000030017742342038193,0.000032954965274795035,0.00003607165758670678,0.000039366625831535035,0.00004283733242174436,0.00004647986806412274,0.000050288944510191674,0.00005425790820821368,0.000058378774861965365,0.00006264228428821904,0.00006703797434234087,0.0000715542720738418,0.00007617859970644386,0.00008089749253562604,0.00008569672542491468,0.00009056144428222919,0.00009547629872783276,0.00010042557213964359,0.00010539330538821619,0.00011036341085473809,0.000115319773756357,0.00012024633837270963,0.00012512717745759378,0.00012994654390600198,0.00013468890459950822,0.00013933895723820737,0.0001438816318479356,0.00014830207948888767,0.00015258565144761257,0.00015671787283239892,0.00016068441497952543,0.00016447107138726306,0.00016806374200505067,0.00017144843060385784,0.0001746112596358783,0.00017753850646193693,0.00018021666409688154,0.00018263252871908572,0.00018477331514022853,0.00018662680027278758,0.0001881814934076531,0.00018942683086912347,0.000190353391397335,0.00019095312746693002,0.00019121960673150742,0.00019114825692830535,0.00019073660692332315,0.00018998451615337972,0.0001888943845500113,0.0001874713351232424,0.00018572336174434818,0.00018366143528947927,0.00018129956217495893,0.00017865479040611218,0.00017574715954287698,0.00017259959241894713,0.00016923772799342312,0.00016568969631790503,0.00016198583821866897,0.00015815837387355737,0.00015424102595818705,0.00015026860440032764,0.0001462765609730157,0.0001423005229394211,0.00013837581570503912,0.00013453698491154272,0.00013081732860518335,0.00012724845002220337,0.00012385984115349233,0.00012067850658771462,0.00011772863620103281,0.0001150313340843315,0.00011260440970431681,0.00011046223571795264,0.00010861567514074643,0.00010707207875330167,0.00010583535176569581,0.00010490608689651533,0.00010428175921490676,0.00010395697639193495,0.00010392377646270087,0.00010417196386114243,0.00010468947339918216,0.00010546275105928883,0.00010647713998605426,0.00010771725992131923,0.00010916736854263972,0.00011081169374010519,0.00011263472679437625,0.00011462146768061068,0.00011675761528861735,0.00011902969717798975,0.00012142513552674214,0.00012393224812262834,0.00012654018551989862,0.0001292388077673255,0.00013201850632925052,0.00013486997889299176,0.00013778396660816495,0.000140750964866286,0.00014376091994023759,0.0001468029246110458,0.0001498649262749309,0.00015293346092260497,0.0001559934258072427,0.00015902790257653083,0.0001620180411640391,0.00016494301285892621,0.00016778003875941508,0.00017050449733695092,0.00017309011217813737,0.0001755092182223445,0.00017773310207100303,0.00017973240930787838,0.00018147760933322224,0.00018293950606734565,0.00018408978109958022,0.00018490155451236372,0.00018534994774708442,0.00018541263253025341,0.00018507035005841126,0.00018430738534112013,0.00018311198279743807],\"yaxis\":\"y2\",\"type\":\"scatter\"},{\"legendgroup\":\"Survived\",\"marker\":{\"color\":\"turquoise\"},\"mode\":\"lines\",\"name\":\"Survived\",\"showlegend\":true,\"x\":[0.0,0.526,1.052,1.578,2.104,2.63,3.156,3.682,4.208,4.734,5.26,5.786,6.312,6.838,7.364,7.89,8.416,8.942,9.468,9.994,10.52,11.046,11.572,12.098,12.624,13.15,13.676,14.202,14.728,15.254,15.78,16.306,16.832,17.358,17.884,18.41,18.936,19.462,19.988,20.514,21.04,21.566,22.092,22.618,23.144,23.67,24.196,24.722,25.248,25.774,26.3,26.826,27.352,27.878,28.404,28.93,29.456,29.982,30.508,31.034,31.56,32.086,32.612,33.138,33.664,34.19,34.716,35.242,35.768,36.294,36.82,37.346,37.872,38.398,38.924,39.45,39.976,40.502,41.028,41.554,42.08,42.606,43.132,43.658,44.184,44.71,45.236,45.762,46.288,46.814,47.34,47.866,48.392,48.918,49.444,49.97,50.496,51.022,51.548,52.074,52.6,53.126,53.652,54.178,54.704,55.23,55.756,56.282,56.808,57.334,57.86,58.386,58.912,59.438,59.964,60.49,61.016,61.542,62.068,62.594,63.12,63.646,64.172,64.698,65.224,65.75,66.276,66.802,67.328,67.854,68.38,68.906,69.432,69.958,70.484,71.01,71.536,72.062,72.588,73.114,73.64,74.166,74.692,75.218,75.744,76.27,76.796,77.322,77.848,78.374,78.9,79.426,79.952,80.478,81.004,81.53,82.056,82.582,83.108,83.634,84.16,84.686,85.212,85.738,86.264,86.79,87.316,87.842,88.368,88.894,89.42,89.946,90.472,90.998,91.524,92.05,92.576,93.102,93.628,94.154,94.68,95.206,95.732,96.258,96.784,97.31,97.836,98.362,98.888,99.414,99.94,100.466,100.992,101.518,102.044,102.57,103.096,103.622,104.148,104.674,105.2,105.726,106.252,106.778,107.304,107.83,108.356,108.882,109.408,109.934,110.46,110.986,111.512,112.038,112.564,113.09,113.616,114.142,114.668,115.194,115.72,116.246,116.772,117.298,117.824,118.35,118.876,119.402,119.928,120.454,120.98,121.506,122.032,122.558,123.084,123.61,124.136,124.662,125.188,125.714,126.24,126.766,127.292,127.818,128.344,128.87,129.396,129.922,130.448,130.974,131.5,132.026,132.552,133.078,133.604,134.13,134.656,135.182,135.708,136.234,136.76,137.286,137.812,138.338,138.864,139.39,139.916,140.442,140.968,141.494,142.02,142.546,143.072,143.598,144.124,144.65,145.176,145.702,146.228,146.754,147.28,147.806,148.332,148.858,149.384,149.91,150.436,150.962,151.488,152.014,152.54,153.066,153.592,154.118,154.644,155.17,155.696,156.222,156.748,157.274,157.8,158.326,158.852,159.378,159.904,160.43,160.956,161.482,162.008,162.534,163.06,163.586,164.112,164.638,165.164,165.69,166.216,166.742,167.268,167.794,168.32,168.846,169.372,169.898,170.424,170.95,171.476,172.002,172.528,173.054,173.58,174.106,174.632,175.158,175.684,176.21,176.736,177.262,177.788,178.314,178.84,179.366,179.892,180.418,180.944,181.47,181.996,182.522,183.048,183.574,184.1,184.626,185.152,185.678,186.204,186.73,187.256,187.782,188.308,188.834,189.36,189.886,190.412,190.938,191.464,191.99,192.516,193.042,193.568,194.094,194.62,195.146,195.672,196.198,196.724,197.25,197.776,198.302,198.828,199.354,199.88,200.406,200.932,201.458,201.984,202.51,203.036,203.562,204.088,204.614,205.14,205.666,206.192,206.718,207.244,207.77,208.296,208.822,209.348,209.874,210.4,210.926,211.452,211.978,212.504,213.03,213.556,214.082,214.608,215.134,215.66,216.186,216.712,217.238,217.764,218.29,218.816,219.342,219.868,220.394,220.92,221.446,221.972,222.498,223.024,223.55,224.076,224.602,225.128,225.654,226.18,226.706,227.232,227.758,228.284,228.81,229.336,229.862,230.388,230.914,231.44,231.966,232.492,233.018,233.544,234.07,234.596,235.122,235.648,236.174,236.7,237.226,237.752,238.278,238.804,239.33,239.856,240.382,240.908,241.434,241.96,242.486,243.012,243.538,244.064,244.59,245.116,245.642,246.168,246.694,247.22,247.746,248.272,248.798,249.324,249.85,250.376,250.902,251.428,251.954,252.48,253.006,253.532,254.058,254.584,255.11,255.636,256.162,256.688,257.214,257.74,258.266,258.792,259.318,259.844,260.37,260.896,261.422,261.948,262.474],\"xaxis\":\"x2\",\"y\":[0.009673896273982902,0.009937653686924893,0.010199289442374823,0.010458306160444747,0.01071420481079367,0.010966486518008545,0.011214654389651864,0.011458215356952892,0.011696682017972705,0.011929574473005005,0.012156422141985998,0.012376765553776769,0.012590158097349912,0.012796167725157332,0.012994378599273002,0.01318439267129375,0.013365831187434259,0.013538336110767973,0.013701571453136887,0.013855224509873636,0.013999006991144815,0.014132656044426789,0.014255935163356513,0.01436863497895813,0.014470573930016196,0.014561598810149822,0.014641585189925383,0.014710437713125912,0.01476809026706351,0.014814506027573816,0.014849677380061158,0.014873625718662785,0.01488640112627086,0.014888081938780568,0.014878774197523432,0.014858610994391305,0.014827751714656062,0.014786381182940745,0.01473470871820004,0.01467296710391735,0.014601411480026834,0.014520318163316536,0.014429983403268367,0.014330722080441588,0.01422286635460883,0.014106764269911752,0.013982778324319045,0.013851284010642013,0.013712668336300114,0.013567328328928008,0.013415669534783532,0.013258104516753431,0.013095051358562574,0.01292693218157922,0.012754171680370196,0.01257719568290449,0.012396429741028864,0.01221229775655007,0.012025220647955543,0.011835615062489823,0.01164389213797995,0.01145045631847052,0.011255704227388402,0.011060023601611827,0.010863792289466807,0.010667377315318903,0.010471134013069738,0.010275405230506502,0.010080520606090347,0.009886795919405954,0.009694532516130977,0.009504016808021647,0.009315519848049814,0.009129296980469204,0.008945587565234428,0.008764614775847892,0.008586585469368526,0.008411690126981227,0.008240102863204087,0.008071981501496238,0.007907467713731594,0.007746687220719132,0.007589750050684051,0.007436750852376262,0.007287769259245712,0.0071428703009204135,0.007002104858043116,0.006865510156369736,0.00673311029590731,0.006604916810772653,0.006480929255387794,0.006361135812593053,0.006245513919256399,0.006134030904987303,0.0060266446396253556,0.005923304185267863,0.005823950448726612,0.005728516830459509,0.005636929866208585,0.005549109857788498,0.005464971489708191,0.005384424428570286,0.005307373902475118,0.0052337212579574065,0.005163364492298341,0.005096198759383379,0.0050321168476111225,0.004971009628698541,0.004912766476568804,0.0048572756558464165,0.004804424679816512,0.004754100638027615,0.004706190494026555,0.004660581354007097,0.004617160707427218,0.004575816640901123,0.0045364380268983285,0.004498914688981417,0.004463137545484232,0.004428998733672413,0.004396391716536264,0.004365211374442224,0.004335354083912737,0.004306717785815532,0.004279202045222495,0.004252708105146735,0.004227138936284985,0.004202399284783277,0.004178395719908315,0.0041550366833483,0.004132232541686579,0.004109895643393661,0.0040879403814694125,0.004066283262642134,0.004044842983796806,0.0040235405160658115,0.0040022991967737205,0.003981044829188125,0.003959705789793125,0.003938213142575027,0.003916500759593288,0.0038945054469074042,0.0038721670747442613,0.0038494287106228785,0.0038262367540073698,0.003802541070934588,0.0037782951269631853,0.003753456116716195,0.003727985088240054,0.0037018470603808677,0.0036750111313820256,0.003647450576937763,0.0036191429359918727,0.003590070082651259,0.003560218282686504,0.0035295782332166754,0.0034981450843199727,0.003465918441474532,0.0034329023479115293,0.0033991052461543494,0.003364539918219441,0.0033292234041648267,0.0032931768988876684,0.003256425627290656,0.003218998698155099,0.00318092893727431,0.0031422527006108856,0.003103009668444101,0.0030632426216659512,0.003022997201564138,0.0029823216545961486,0.002941266563807781,0.002899884568681311,0.0028582300753109647,0.0028163589588957563,0.002774328260611201,0.0027321958809709995,0.0026900202718178495,0.0026478601290883053,0.002605774088480804,0.002563820426118956,0.0025220567662446406,0.00248053979789789,0.002439325002445262,0.002398466393705168,0.0023580162722903505,0.0023180249956450604,0.0022785407651000123,0.0022396094311030105,0.002201274317609928,0.0021635760664410436,0.002126552502223721,0.0020902385183563747,0.0020546659842420266,0.002019863673855311,0.00198585721552571,0.0019526690626442654,0.0019203184848328885,0.0018888215789557264,0.0018581912992029891,0.0018284375053398841,0.0017995670280882949,0.0017715837504976028,0.001744488704063979,0.0017182801782756412,0.0016929538421949961,0.0016685028766377423,0.001644918115473753,0.0016221881945548545,0.0016002997067701768,0.0015792373617399308,0.0015589841486828675,0.0015395215010303629,0.0015208294614101941,0.0015028868456846763,0.0014856714047998423,0.0014691599832833498,0.0014533286733180142,0.0014381529634135402,0.0014236078808000953,0.0014096681267726336,0.0013963082043226445,0.0013835025375033966,0.0013712255820843198,0.0013594519271586088,0.0013481563874746623,0.0013373140863650827,0.0013269005292461007,0.0013168916677542618,0.001307263954675387,0.0012979943899025768,0.0012890605577345758,0.0012804406558930166,0.0012721135166962716,0.0012640586208788607,0.0012562561045883205,0.0012486867601261727,0.001241332031026329,0.0012341740020827751,0.001227195384949387,0.0012203794999383086,0.001213710254639799,0.0012071721199766164,0.0012007501042900523,0.0011944297260333546,0.0011881969856221044,0.0011820383369605491,0.0011759406591289252,0.0011698912286795492,0.0011638776929500327,0.001157888044760576,0.0011519105988198367,0.001145933970120529,0.0011399470545626694,0.0011339390119992465,0.001127899251856892,0.001121817421443007,0.0011156833970112547,0.001109487277619621,0.001103219381779604,0.0010968702468618075,0.0010904306311924007,0.0010838915187466522,0.001077244126320335,0.0010704799130369666,0.0010635905920288963,0.0010565681441130057,0.0010494048332672366,0.0010420932237022672,0.0010346261983132645,0.0010269969782897063,0.0010191991436565967,0.001011226654518038,0.0010030738727735346,0.0009947355840790235,0.0009862070198277393,0.0009774838789308696,0.0009685623491842048,0.0009594391280145414,0.0009501114424084446,0.0009405770678356025,0.0009308343459899375,0.0009208822011830272,0.00091072015523665,0.0009003483407341748,0.0008897675125037158,0.0008789790572197898,0.0008679850010242113,0.0008567880150812382,0.0008453914189964127,0.0008337991820430479,0.0008220159221547991,0.0008100469026571955,0.0007978980267253584,0.0007855758295690961,0.000773087468360528,0.0007604407099326797,0.0007476439162906964,0.0007347060279897147,0.0007216365454455426,0.0007084455082556591,0.0006951434726186832,0.0006817414869504789,0.0006682510658042111,0.0006546841622098957,0.0006410531385564491,0.000627370736145614,0.0006136500435525971,0.0005999044639326708,0.0005861476814163069,0.0005723936267377632,0.000558656442243213,0.0005449504464246678,0.0005312900981250257,0.00051768996055762,0.000504164665280665,0.0004907288762630651,0.00047739725417319867,0.00046418442101655227,0.0004511049252416244,0.00043817320742624787,0.00042540356664865864,0.00041281012763930597,0.00040040680880049393,0.00038820729117189514,0.0003762249884105283,0.0003644730178443333,0.0003529641726489658,0.00034171089518799237,0.00033072525154751077,0.0003200189072872795,0.0003096031044219806,0.0002994886396382364,0.0002896858437456213,0.0002802045623531709,0.000271054137756913,0.00026224339201875275,0.0002537806112126977,0.0002456735308109691,0.00023792932217997942,0.00023055458015452417,0.00022355531165786207,0.0002169369253354946,0.00021070422217157948,0.00020486138705878683,0.0001994119812950962,0.00019435893598445766,0.00018970454632225746,0.00018545046675115946,0.000181597706977939,0.000178146628847359,0.0001750969440748112,0.00017244771284526044,0.0001701973432918643,0.0001683435918733858,0.00016688356467504524,0.00016581371966266118,0.000165129869924704,0.00016482718794110198,0.00016490021092123585,0.00016534284725640755,0.0001661483841341205,0.00016730949636268382,0.00016881825645489277,0.00017066614601881556,0.00017284406850198697,0.00017534236333258243,0.00017815082149739994,0.00018125870259175897,0.00018465475337074366,0.00018832722782463848,0.00019226390879398315,0.00019645213113148136,0.00020087880640913983,0.0002055304491595606,0.00021039320463039882,0.00021545287802071233,0.00022069496515742204,0.0002261046845594693,0.00023166701082662244,0.00023736670927941862,0.00024318837176647213,0.00024911645354552873,0.00025513531113528103,0.00026122924102614303,0.0002673825191301107,0.00027357944084245643,0.0002798043615815183,0.00028604173766721194,0.0002922761673942097,0.0002984924321520091,0.0003046755374413578,0.000310810753634742,0.00031688365632782776,0.0003228801661288788,0.00032878658773420025,0.0003345896481395235,0.0003402765338399231,0.0003458349268742075,0.0003512530395737836,0.00035651964788055435,0.0003616241231035007,0.00036655646198908114,0.0003713073149863667,0.00037586801259390553,0.00038023058968151316,0.00038438780768653455,0.0003883331745905096,0.0003920609625885719,0.00039556622337027256,0.0003988448009368485,0.0004018933418861788,0.00040470930310287505,0.0004072909567970516,0.00040963739284142516,0.0004117485183624659,0.00041362505454746955,0.0004152685306356255,0.00041668127506756244,0.00041786640377443655,0.0004188278055945327,0.00041957012481260467,0.000420098740824858,0.0004204197449406735,0.00042053991434090566,0.00042046668322195577,0.00042020811116484213,0.00041977284877920226,0.0004191701006836128,0.00041840958589575976,0.0004175014957188882,0.0004164564492245184,0.0004152854464456435,0.00041399981940941675,0.00041261118115365096,0.00041113137288714994,0.0004095724094698965,0.00040794642340525575,0.00040626560755250115,0.00040454215678394914,0.0004027882088266137,0.00040101578454340144,0.00039923672792323,0.0003974626460628919,0.00039570484943578146,0.00039397429275355177,0.0003922815167361717,0.000390636591113504,0.00038904905918724097,0.0003875278842856366,0.00038608139844479455,0.00038471725364917244,0.00038344237596030657,0.0003822629228564603,0.0003811842440968583,0.00038021084641234415,0.0003793463623096673,0.0003785935232591638,0.00037795413751538954,0.0003774290727973511,0.0003770182440294683,0.000376720606316405,0.00037653415329460144,0.00037645592097091584,0.00037648199712442753,0.00037660753631147575,0.00037682678047659874,0.000377133085133566,0.00037751895104141817,0.0003779760612607158,0.0003784953234353631,0.00037906691710580775,0.0003796803458204398,0.0003803244937740387,0.00038098768666547107,0.0003816577564319077,0.00038232210948395564,0.0003829677980356171,0.0003835815940952416,0.0003841500656588957,0.00038465965462616326,0.0003850967559405091,0.0003854477974422588,0.0003856993199121105,0.0003858380567771005,0.00038585101294914733,0.00038572554226883244,0.00038544942303391644,0.0003850109311032699,0.00038439891008231185,0.00038360283811566474,0.0003826128908363283,0.00038142000004813477,0.0003800159077493171,0.000378393215139416,0.00037654542628923595,0.00037446698619372895,0.00037215331297023416,0.0003696008240090207,0.0003668069559291552],\"yaxis\":\"y2\",\"type\":\"scatter\"}],                        {\"template\":{\"data\":{\"histogram2dcontour\":[{\"type\":\"histogram2dcontour\",\"colorbar\":{\"outlinewidth\":0,\"ticks\":\"\"},\"colorscale\":[[0.0,\"#0d0887\"],[0.1111111111111111,\"#46039f\"],[0.2222222222222222,\"#7201a8\"],[0.3333333333333333,\"#9c179e\"],[0.4444444444444444,\"#bd3786\"],[0.5555555555555556,\"#d8576b\"],[0.6666666666666666,\"#ed7953\"],[0.7777777777777778,\"#fb9f3a\"],[0.8888888888888888,\"#fdca26\"],[1.0,\"#f0f921\"]]}],\"choropleth\":[{\"type\":\"choropleth\",\"colorbar\":{\"outlinewidth\":0,\"ticks\":\"\"}}],\"histogram2d\":[{\"type\":\"histogram2d\",\"colorbar\":{\"outlinewidth\":0,\"ticks\":\"\"},\"colorscale\":[[0.0,\"#0d0887\"],[0.1111111111111111,\"#46039f\"],[0.2222222222222222,\"#7201a8\"],[0.3333333333333333,\"#9c179e\"],[0.4444444444444444,\"#bd3786\"],[0.5555555555555556,\"#d8576b\"],[0.6666666666666666,\"#ed7953\"],[0.7777777777777778,\"#fb9f3a\"],[0.8888888888888888,\"#fdca26\"],[1.0,\"#f0f921\"]]}],\"heatmap\":[{\"type\":\"heatmap\",\"colorbar\":{\"outlinewidth\":0,\"ticks\":\"\"},\"colorscale\":[[0.0,\"#0d0887\"],[0.1111111111111111,\"#46039f\"],[0.2222222222222222,\"#7201a8\"],[0.3333333333333333,\"#9c179e\"],[0.4444444444444444,\"#bd3786\"],[0.5555555555555556,\"#d8576b\"],[0.6666666666666666,\"#ed7953\"],[0.7777777777777778,\"#fb9f3a\"],[0.8888888888888888,\"#fdca26\"],[1.0,\"#f0f921\"]]}],\"heatmapgl\":[{\"type\":\"heatmapgl\",\"colorbar\":{\"outlinewidth\":0,\"ticks\":\"\"},\"colorscale\":[[0.0,\"#0d0887\"],[0.1111111111111111,\"#46039f\"],[0.2222222222222222,\"#7201a8\"],[0.3333333333333333,\"#9c179e\"],[0.4444444444444444,\"#bd3786\"],[0.5555555555555556,\"#d8576b\"],[0.6666666666666666,\"#ed7953\"],[0.7777777777777778,\"#fb9f3a\"],[0.8888888888888888,\"#fdca26\"],[1.0,\"#f0f921\"]]}],\"contourcarpet\":[{\"type\":\"contourcarpet\",\"colorbar\":{\"outlinewidth\":0,\"ticks\":\"\"}}],\"contour\":[{\"type\":\"contour\",\"colorbar\":{\"outlinewidth\":0,\"ticks\":\"\"},\"colorscale\":[[0.0,\"#0d0887\"],[0.1111111111111111,\"#46039f\"],[0.2222222222222222,\"#7201a8\"],[0.3333333333333333,\"#9c179e\"],[0.4444444444444444,\"#bd3786\"],[0.5555555555555556,\"#d8576b\"],[0.6666666666666666,\"#ed7953\"],[0.7777777777777778,\"#fb9f3a\"],[0.8888888888888888,\"#fdca26\"],[1.0,\"#f0f921\"]]}],\"surface\":[{\"type\":\"surface\",\"colorbar\":{\"outlinewidth\":0,\"ticks\":\"\"},\"colorscale\":[[0.0,\"#0d0887\"],[0.1111111111111111,\"#46039f\"],[0.2222222222222222,\"#7201a8\"],[0.3333333333333333,\"#9c179e\"],[0.4444444444444444,\"#bd3786\"],[0.5555555555555556,\"#d8576b\"],[0.6666666666666666,\"#ed7953\"],[0.7777777777777778,\"#fb9f3a\"],[0.8888888888888888,\"#fdca26\"],[1.0,\"#f0f921\"]]}],\"mesh3d\":[{\"type\":\"mesh3d\",\"colorbar\":{\"outlinewidth\":0,\"ticks\":\"\"}}],\"scatter\":[{\"fillpattern\":{\"fillmode\":\"overlay\",\"size\":10,\"solidity\":0.2},\"type\":\"scatter\"}],\"parcoords\":[{\"type\":\"parcoords\",\"line\":{\"colorbar\":{\"outlinewidth\":0,\"ticks\":\"\"}}}],\"scatterpolargl\":[{\"type\":\"scatterpolargl\",\"marker\":{\"colorbar\":{\"outlinewidth\":0,\"ticks\":\"\"}}}],\"bar\":[{\"error_x\":{\"color\":\"#2a3f5f\"},\"error_y\":{\"color\":\"#2a3f5f\"},\"marker\":{\"line\":{\"color\":\"#E5ECF6\",\"width\":0.5},\"pattern\":{\"fillmode\":\"overlay\",\"size\":10,\"solidity\":0.2}},\"type\":\"bar\"}],\"scattergeo\":[{\"type\":\"scattergeo\",\"marker\":{\"colorbar\":{\"outlinewidth\":0,\"ticks\":\"\"}}}],\"scatterpolar\":[{\"type\":\"scatterpolar\",\"marker\":{\"colorbar\":{\"outlinewidth\":0,\"ticks\":\"\"}}}],\"histogram\":[{\"marker\":{\"pattern\":{\"fillmode\":\"overlay\",\"size\":10,\"solidity\":0.2}},\"type\":\"histogram\"}],\"scattergl\":[{\"type\":\"scattergl\",\"marker\":{\"colorbar\":{\"outlinewidth\":0,\"ticks\":\"\"}}}],\"scatter3d\":[{\"type\":\"scatter3d\",\"line\":{\"colorbar\":{\"outlinewidth\":0,\"ticks\":\"\"}},\"marker\":{\"colorbar\":{\"outlinewidth\":0,\"ticks\":\"\"}}}],\"scattermapbox\":[{\"type\":\"scattermapbox\",\"marker\":{\"colorbar\":{\"outlinewidth\":0,\"ticks\":\"\"}}}],\"scatterternary\":[{\"type\":\"scatterternary\",\"marker\":{\"colorbar\":{\"outlinewidth\":0,\"ticks\":\"\"}}}],\"scattercarpet\":[{\"type\":\"scattercarpet\",\"marker\":{\"colorbar\":{\"outlinewidth\":0,\"ticks\":\"\"}}}],\"carpet\":[{\"aaxis\":{\"endlinecolor\":\"#2a3f5f\",\"gridcolor\":\"white\",\"linecolor\":\"white\",\"minorgridcolor\":\"white\",\"startlinecolor\":\"#2a3f5f\"},\"baxis\":{\"endlinecolor\":\"#2a3f5f\",\"gridcolor\":\"white\",\"linecolor\":\"white\",\"minorgridcolor\":\"white\",\"startlinecolor\":\"#2a3f5f\"},\"type\":\"carpet\"}],\"table\":[{\"cells\":{\"fill\":{\"color\":\"#EBF0F8\"},\"line\":{\"color\":\"white\"}},\"header\":{\"fill\":{\"color\":\"#C8D4E3\"},\"line\":{\"color\":\"white\"}},\"type\":\"table\"}],\"barpolar\":[{\"marker\":{\"line\":{\"color\":\"#E5ECF6\",\"width\":0.5},\"pattern\":{\"fillmode\":\"overlay\",\"size\":10,\"solidity\":0.2}},\"type\":\"barpolar\"}],\"pie\":[{\"automargin\":true,\"type\":\"pie\"}]},\"layout\":{\"autotypenumbers\":\"strict\",\"colorway\":[\"#636efa\",\"#EF553B\",\"#00cc96\",\"#ab63fa\",\"#FFA15A\",\"#19d3f3\",\"#FF6692\",\"#B6E880\",\"#FF97FF\",\"#FECB52\"],\"font\":{\"color\":\"#2a3f5f\"},\"hovermode\":\"closest\",\"hoverlabel\":{\"align\":\"left\"},\"paper_bgcolor\":\"white\",\"plot_bgcolor\":\"#E5ECF6\",\"polar\":{\"bgcolor\":\"#E5ECF6\",\"angularaxis\":{\"gridcolor\":\"white\",\"linecolor\":\"white\",\"ticks\":\"\"},\"radialaxis\":{\"gridcolor\":\"white\",\"linecolor\":\"white\",\"ticks\":\"\"}},\"ternary\":{\"bgcolor\":\"#E5ECF6\",\"aaxis\":{\"gridcolor\":\"white\",\"linecolor\":\"white\",\"ticks\":\"\"},\"baxis\":{\"gridcolor\":\"white\",\"linecolor\":\"white\",\"ticks\":\"\"},\"caxis\":{\"gridcolor\":\"white\",\"linecolor\":\"white\",\"ticks\":\"\"}},\"coloraxis\":{\"colorbar\":{\"outlinewidth\":0,\"ticks\":\"\"}},\"colorscale\":{\"sequential\":[[0.0,\"#0d0887\"],[0.1111111111111111,\"#46039f\"],[0.2222222222222222,\"#7201a8\"],[0.3333333333333333,\"#9c179e\"],[0.4444444444444444,\"#bd3786\"],[0.5555555555555556,\"#d8576b\"],[0.6666666666666666,\"#ed7953\"],[0.7777777777777778,\"#fb9f3a\"],[0.8888888888888888,\"#fdca26\"],[1.0,\"#f0f921\"]],\"sequentialminus\":[[0.0,\"#0d0887\"],[0.1111111111111111,\"#46039f\"],[0.2222222222222222,\"#7201a8\"],[0.3333333333333333,\"#9c179e\"],[0.4444444444444444,\"#bd3786\"],[0.5555555555555556,\"#d8576b\"],[0.6666666666666666,\"#ed7953\"],[0.7777777777777778,\"#fb9f3a\"],[0.8888888888888888,\"#fdca26\"],[1.0,\"#f0f921\"]],\"diverging\":[[0,\"#8e0152\"],[0.1,\"#c51b7d\"],[0.2,\"#de77ae\"],[0.3,\"#f1b6da\"],[0.4,\"#fde0ef\"],[0.5,\"#f7f7f7\"],[0.6,\"#e6f5d0\"],[0.7,\"#b8e186\"],[0.8,\"#7fbc41\"],[0.9,\"#4d9221\"],[1,\"#276419\"]]},\"xaxis\":{\"gridcolor\":\"white\",\"linecolor\":\"white\",\"ticks\":\"\",\"title\":{\"standoff\":15},\"zerolinecolor\":\"white\",\"automargin\":true,\"zerolinewidth\":2},\"yaxis\":{\"gridcolor\":\"white\",\"linecolor\":\"white\",\"ticks\":\"\",\"title\":{\"standoff\":15},\"zerolinecolor\":\"white\",\"automargin\":true,\"zerolinewidth\":2},\"scene\":{\"xaxis\":{\"backgroundcolor\":\"#E5ECF6\",\"gridcolor\":\"white\",\"linecolor\":\"white\",\"showbackground\":true,\"ticks\":\"\",\"zerolinecolor\":\"white\",\"gridwidth\":2},\"yaxis\":{\"backgroundcolor\":\"#E5ECF6\",\"gridcolor\":\"white\",\"linecolor\":\"white\",\"showbackground\":true,\"ticks\":\"\",\"zerolinecolor\":\"white\",\"gridwidth\":2},\"zaxis\":{\"backgroundcolor\":\"#E5ECF6\",\"gridcolor\":\"white\",\"linecolor\":\"white\",\"showbackground\":true,\"ticks\":\"\",\"zerolinecolor\":\"white\",\"gridwidth\":2}},\"shapedefaults\":{\"line\":{\"color\":\"#2a3f5f\"}},\"annotationdefaults\":{\"arrowcolor\":\"#2a3f5f\",\"arrowhead\":0,\"arrowwidth\":1},\"geo\":{\"bgcolor\":\"white\",\"landcolor\":\"#E5ECF6\",\"subunitcolor\":\"white\",\"showland\":true,\"showlakes\":true,\"lakecolor\":\"white\"},\"title\":{\"x\":0.05},\"mapbox\":{\"style\":\"light\"}}},\"xaxis\":{\"anchor\":\"y\",\"domain\":[0.0,0.45],\"showgrid\":false},\"yaxis\":{\"anchor\":\"x\",\"domain\":[0.0,1.0]},\"xaxis2\":{\"anchor\":\"y2\",\"domain\":[0.55,1.0],\"showgrid\":false},\"yaxis2\":{\"anchor\":\"x2\",\"domain\":[0.0,1.0]},\"annotations\":[{\"font\":{\"size\":16},\"showarrow\":false,\"text\":\"Age Distribution\",\"x\":0.225,\"xanchor\":\"center\",\"xref\":\"paper\",\"y\":1.0,\"yanchor\":\"bottom\",\"yref\":\"paper\"},{\"font\":{\"size\":16},\"showarrow\":false,\"text\":\"Fare Distribution\",\"x\":0.775,\"xanchor\":\"center\",\"xref\":\"paper\",\"y\":1.0,\"yanchor\":\"bottom\",\"yref\":\"paper\"}],\"font\":{\"color\":\"white\"},\"showlegend\":false,\"paper_bgcolor\":\"#0a0a33\",\"plot_bgcolor\":\"#0a0a33\",\"title\":{\"text\":\"Distribution based on Survival\"}},                        {\"responsive\": true}                    ).then(function(){\n",
       "                            \n",
       "var gd = document.getElementById('4c95ed17-42b8-46f1-b429-5386153752d3');\n",
       "var x = new MutationObserver(function (mutations, observer) {{\n",
       "        var display = window.getComputedStyle(gd).display;\n",
       "        if (!display || display === 'none') {{\n",
       "            console.log([gd, 'removed!']);\n",
       "            Plotly.purge(gd);\n",
       "            observer.disconnect();\n",
       "        }}\n",
       "}});\n",
       "\n",
       "// Listen for the removal of the full notebook cells\n",
       "var notebookContainer = gd.closest('#notebook-container');\n",
       "if (notebookContainer) {{\n",
       "    x.observe(notebookContainer, {childList: true});\n",
       "}}\n",
       "\n",
       "// Listen for the clearing of the current output cell\n",
       "var outputEl = gd.closest('.output');\n",
       "if (outputEl) {{\n",
       "    x.observe(outputEl, {childList: true});\n",
       "}}\n",
       "\n",
       "                        })                };                });            </script>        </div>"
      ]
     },
     "metadata": {},
     "output_type": "display_data"
    }
   ],
   "source": [
    "# Making a subplot.\n",
    "fig = make_subplots(rows = 1, cols = 2, subplot_titles = [f\"{name} Distribution\" for name in [\"Age\", \"Fare\"]])\n",
    "\n",
    "# Plotting the KDE plot for Age.\n",
    "age_data = [train_df.groupby(\"Survived\")[\"Age\"].get_group(group) for group in train_df[\"Survived\"].unique()]\n",
    "age_kde = ff.create_distplot(\n",
    "    hist_data = age_data, group_labels = [\"Didn't Survive\", \"Survived\"], \n",
    "    show_rug = False, show_hist = False, colors = [\"lime\", \"orange\"]\n",
    "    )\n",
    "fig.add_traces(age_kde.data, rows = 1, cols = 1)\n",
    "\n",
    "# Plotting the KDE plot for Fare.\n",
    "fare_data = [train_df.groupby(\"Survived\")[\"Fare\"].get_group(group) for group in train_df[\"Survived\"].unique()]\n",
    "fare_kde = ff.create_distplot(\n",
    "    hist_data = fare_data, group_labels = [\"Didn't Survive\", \"Survived\"], \n",
    "    show_rug = False, show_hist = False, colors = [\"red\", \"turquoise\"]\n",
    "    )\n",
    "fig.add_traces(fare_kde.data, rows = 1, cols = 2)\n",
    "\n",
    "fig.update_layout(showlegend = False, paper_bgcolor = bgcolor, plot_bgcolor = bgcolor, font_color = font_color, title = \"Distribution based on Survival\")\n",
    "fig.update_layout({f\"xaxis{i}\": dict(showgrid = False) for i in range(1,3)})\n",
    "fig.show()"
   ]
  },
  {
   "cell_type": "markdown",
   "id": "73b98fdd",
   "metadata": {
    "id": "43ae81K80e9k",
    "papermill": {
     "duration": 0.017656,
     "end_time": "2022-06-30T06:26:35.692651",
     "exception": false,
     "start_time": "2022-06-30T06:26:35.674995",
     "status": "completed"
    },
    "tags": []
   },
   "source": [
    "#### **i) Analysis on Age** <a id = \"age-analysis\"></a>\n",
    "From the above graph we can see that the trends in `Age` are relatively the same for both groups."
   ]
  },
  {
   "cell_type": "markdown",
   "id": "911d7530",
   "metadata": {
    "id": "CkC0hlWW4Dr8",
    "papermill": {
     "duration": 0.017696,
     "end_time": "2022-06-30T06:26:35.728240",
     "exception": false,
     "start_time": "2022-06-30T06:26:35.710544",
     "status": "completed"
    },
    "tags": []
   },
   "source": [
    "#### **ii) Analysis on Fare** <a id = \"fare-analysis\"></a>\n",
    "\n",
    "The trend in `Fare` however tells us that the people who paid a higher price for the ticket had a higher chance of survival. This observation kind of makes sense as people who paid a higher price would have been provived much safer cabins, and might have been given priority during the evacuation because of their societial status (the high correlation between `Pclass` and `Fare` supports this arguement). \n",
    "\n",
    "This is further supported by the high correlation between `Fare` and `Survived` columns. \n",
    "\n",
    "This also suggests that the people who paid higher ticket fares might belong to a higher economic class. Meaning, if we see that the people belonging to a higher economic class had a higher survival rate, our hypothesis of **\"priority during evacuation\"** would have more support.\n",
    "\n",
    "---"
   ]
  },
  {
   "cell_type": "markdown",
   "id": "bdd25f39",
   "metadata": {
    "id": "JoQkb2-_2Hrf",
    "papermill": {
     "duration": 0.019119,
     "end_time": "2022-06-30T06:26:35.766214",
     "exception": false,
     "start_time": "2022-06-30T06:26:35.747095",
     "status": "completed"
    },
    "tags": []
   },
   "source": [
    "### 3) Distribution based on Survival (Pclass, Sex, and Embarked) <a id = \"pclass-sex-embarked\"></a>\n",
    "\n",
    "Now let's check whether a passenger's `Pclass`, `Sex`, or `Embarked` value could have affected their survival rate."
   ]
  },
  {
   "cell_type": "code",
   "execution_count": 15,
   "id": "b2b0887c",
   "metadata": {
    "execution": {
     "iopub.execute_input": "2022-06-30T06:26:35.803917Z",
     "iopub.status.busy": "2022-06-30T06:26:35.803376Z",
     "iopub.status.idle": "2022-06-30T06:26:36.025768Z",
     "shell.execute_reply": "2022-06-30T06:26:36.024760Z"
    },
    "id": "LIOs2SoNoHWV",
    "outputId": "a03bfb27-96eb-4fc0-b65d-f34a04813f67",
    "papermill": {
     "duration": 0.243372,
     "end_time": "2022-06-30T06:26:36.027551",
     "exception": false,
     "start_time": "2022-06-30T06:26:35.784179",
     "status": "completed"
    },
    "tags": []
   },
   "outputs": [
    {
     "data": {
      "text/html": [
       "<div>                            <div id=\"547f0882-2ff3-4eae-91de-4e2badf49a69\" class=\"plotly-graph-div\" style=\"height:525px; width:100%;\"></div>            <script type=\"text/javascript\">                require([\"plotly\"], function(Plotly) {                    window.PLOTLYENV=window.PLOTLYENV || {};                                    if (document.getElementById(\"547f0882-2ff3-4eae-91de-4e2badf49a69\")) {                    Plotly.newPlot(                        \"547f0882-2ff3-4eae-91de-4e2badf49a69\",                        [{\"alignmentgroup\":\"True\",\"bingroup\":\"x\",\"hovertemplate\":\"Survived=0<br>Pclass=%{x}<br>count=%{y}<extra></extra>\",\"legendgroup\":\"0\",\"marker\":{\"color\":\"#3562e8\",\"line\":{\"color\":\"black\",\"width\":1},\"pattern\":{\"shape\":\"\"}},\"name\":\"0\",\"offsetgroup\":\"0\",\"orientation\":\"v\",\"showlegend\":true,\"texttemplate\":\"%{value}\",\"x\":[3,3,3,1,3,3,3,3,3,3,2,3,3,1,3,1,2,1,1,3,3,3,2,3,3,3,3,3,3,3,1,3,3,3,1,3,1,3,3,2,3,2,3,3,3,3,3,1,3,3,3,3,3,1,3,3,3,1,2,3,3,1,3,3,3,3,1,3,3,3,3,3,3,2,1,3,2,3,2,1,3,3,3,3,3,2,2,1,3,1,3,3,2,2,3,2,2,2,3,3,3,1,3,3,3,3,3,3,3,3,1,3,1,3,3,1,3,3,1,2,3,3,2,3,1,3,3,2,3,3,2,3,3,3,3,3,3,3,3,2,3,2,2,2,3,3,3,3,2,3,3,2,2,3,2,2,2,3,2,3,3,1,3,2,3,3,1,3,3,3,1,1,3,2,3,1,1,3,2,3,3,3,3,1,3,3,2,3,3,1,3,1,3,3,2,2,3,2,2,3,3,3,3,1,1,3,3,1,1,2,2,2,3,3,1,3,3,3,3,2,3,2,3,3,3,3,3,3,1,3,1,3,3,3,3,2,3,3,3,3,3,2,2,3,3,3,3,2,3,3,3,3,3,2,3,2,3,3,3,3,3,3,3,3,3,1,3,1,2,3,3,2,3,1,3,1,3,3,1,2,3,3,2,1,3,3,3,3,1,2,3,3,3,2,3,3,1,3,3,3,1,1,3,3,3,1,3,3,3,3,3,1,3,3,3,1,3,3,3,3,3,3,1,3,2,3,3,3,1,3,3,3,1,1,3,2,3,1,1,3,3,2,3,3,3,3,3,3,3,3,3,2,1,3,2,3,3,3,3,3,2,3,3,3,3,1,3,3,3,3,3,3,3,3,3,2,3,3,3,1,2,3,3,3,1,3,3,2,3,3,3,3,3,3,3,3,3,2,3,3,2,1,3,1,3,2,2,3,3,1,2,2,3,3,3,3,3,3,2,2,3,3,3,3,1,2,3,1,3,3,3,3,2,1,3,2,3,3,3,3,2,2,3,2,3,3,2,2,2,3,3,3,3,1,3,1,3,1,3,3,3,3,2,3,3,3,3,1,3,3,3,3,3,2,3,3,3,3,1,3,3,3,3,1,3,2,3,1,3,2,3,3,2,3,1,3,2,3,3,2,3,3,1,3,2,3,3,1,3,3,3,3,3,3,3,3,3,2,3,3,3,3,3,2,3,3,3,2,3,3,2,3,2,1,3,3,1,3,3,3,3,3,3,2,3,3,2,3,3],\"xaxis\":\"x\",\"yaxis\":\"y\",\"type\":\"histogram\"},{\"alignmentgroup\":\"True\",\"bingroup\":\"x\",\"hovertemplate\":\"Survived=1<br>Pclass=%{x}<br>count=%{y}<extra></extra>\",\"legendgroup\":\"1\",\"marker\":{\"color\":\"#eb3462\",\"line\":{\"color\":\"black\",\"width\":1},\"pattern\":{\"shape\":\"\"}},\"name\":\"1\",\"offsetgroup\":\"1\",\"orientation\":\"v\",\"showlegend\":true,\"texttemplate\":\"%{value}\",\"x\":[1,3,1,3,2,3,1,2,2,3,2,3,1,3,3,1,3,3,3,2,3,3,1,2,1,2,2,1,3,2,3,3,2,3,3,3,2,3,1,1,2,3,3,3,2,3,3,3,2,1,3,3,3,1,3,2,3,1,3,2,3,3,1,2,3,2,1,1,3,3,3,3,1,2,1,3,1,3,1,2,1,3,2,3,2,1,3,1,1,2,3,3,1,1,3,2,3,1,3,3,3,2,3,1,1,1,1,3,3,2,1,1,1,1,1,1,3,2,1,1,2,2,1,2,3,1,3,1,1,3,2,1,2,2,3,3,1,3,3,1,3,3,1,1,1,3,1,3,1,2,2,1,3,1,3,2,3,2,1,3,2,2,2,2,3,1,3,2,1,2,2,2,3,1,2,1,3,1,1,3,1,2,1,3,2,2,3,3,1,1,3,1,1,2,1,3,3,1,1,2,2,1,1,2,2,3,2,1,1,1,2,2,2,2,1,3,3,1,1,3,3,2,1,1,3,2,1,3,2,1,1,1,1,2,1,2,1,1,2,1,3,2,2,1,3,1,1,1,2,1,3,3,1,1,3,2,3,1,3,1,2,2,3,1,1,1,3,3,3,1,1,2,1,1,3,1,1,1,2,2,1,2,3,1,1,1,3,2,2,3,2,2,1,3,1,1,2,3,1,3,1,3,3,1,3,2,1,3,3,1,1,3,3,2,3,1,3,2,1,3,1,1,1,1,3,1,1,3,1,2,2,3,1,2,3,1,2,1,1],\"xaxis\":\"x\",\"yaxis\":\"y\",\"type\":\"histogram\"},{\"alignmentgroup\":\"True\",\"bingroup\":\"x\",\"hovertemplate\":\"Survived=0<br>Sex=%{x}<br>count=%{y}<extra></extra>\",\"legendgroup\":\"0\",\"marker\":{\"color\":\"#3562e8\",\"line\":{\"color\":\"black\",\"width\":1},\"pattern\":{\"shape\":\"\"}},\"name\":\"0\",\"offsetgroup\":\"0\",\"orientation\":\"v\",\"showlegend\":true,\"texttemplate\":\"%{value}\",\"x\":[\"male\",\"male\",\"male\",\"male\",\"male\",\"male\",\"male\",\"female\",\"male\",\"female\",\"male\",\"female\",\"male\",\"male\",\"male\",\"male\",\"male\",\"male\",\"male\",\"male\",\"female\",\"female\",\"female\",\"male\",\"male\",\"male\",\"male\",\"female\",\"male\",\"male\",\"male\",\"male\",\"male\",\"male\",\"male\",\"male\",\"male\",\"male\",\"male\",\"male\",\"female\",\"male\",\"male\",\"male\",\"male\",\"male\",\"male\",\"male\",\"male\",\"male\",\"male\",\"male\",\"male\",\"male\",\"male\",\"male\",\"male\",\"male\",\"male\",\"female\",\"male\",\"male\",\"male\",\"male\",\"male\",\"male\",\"male\",\"female\",\"male\",\"female\",\"female\",\"male\",\"male\",\"male\",\"male\",\"female\",\"male\",\"male\",\"male\",\"male\",\"male\",\"male\",\"male\",\"male\",\"female\",\"male\",\"male\",\"male\",\"male\",\"male\",\"female\",\"male\",\"male\",\"male\",\"female\",\"male\",\"male\",\"male\",\"male\",\"male\",\"male\",\"male\",\"male\",\"male\",\"male\",\"male\",\"male\",\"male\",\"male\",\"female\",\"male\",\"male\",\"male\",\"male\",\"male\",\"male\",\"male\",\"male\",\"female\",\"male\",\"male\",\"female\",\"male\",\"male\",\"male\",\"male\",\"male\",\"male\",\"male\",\"male\",\"female\",\"male\",\"male\",\"male\",\"male\",\"female\",\"male\",\"male\",\"male\",\"male\",\"male\",\"male\",\"male\",\"male\",\"male\",\"male\",\"male\",\"male\",\"male\",\"female\",\"male\",\"male\",\"male\",\"female\",\"male\",\"male\",\"male\",\"female\",\"male\",\"male\",\"male\",\"male\",\"female\",\"male\",\"male\",\"female\",\"male\",\"male\",\"female\",\"male\",\"male\",\"male\",\"female\",\"male\",\"male\",\"male\",\"male\",\"female\",\"male\",\"male\",\"male\",\"male\",\"male\",\"male\",\"male\",\"male\",\"male\",\"female\",\"male\",\"male\",\"male\",\"female\",\"male\",\"male\",\"male\",\"female\",\"male\",\"male\",\"male\",\"male\",\"male\",\"male\",\"male\",\"male\",\"male\",\"male\",\"male\",\"male\",\"male\",\"male\",\"male\",\"male\",\"male\",\"male\",\"male\",\"male\",\"male\",\"male\",\"male\",\"female\",\"male\",\"male\",\"female\",\"male\",\"male\",\"male\",\"male\",\"male\",\"male\",\"female\",\"male\",\"male\",\"male\",\"male\",\"male\",\"male\",\"male\",\"male\",\"male\",\"male\",\"female\",\"male\",\"male\",\"male\",\"female\",\"male\",\"female\",\"male\",\"male\",\"male\",\"female\",\"male\",\"male\",\"male\",\"female\",\"male\",\"female\",\"male\",\"male\",\"male\",\"female\",\"male\",\"male\",\"male\",\"male\",\"male\",\"female\",\"male\",\"male\",\"male\",\"male\",\"male\",\"male\",\"male\",\"male\",\"male\",\"male\",\"male\",\"male\",\"male\",\"male\",\"male\",\"male\",\"male\",\"male\",\"male\",\"male\",\"female\",\"male\",\"male\",\"male\",\"male\",\"male\",\"male\",\"male\",\"female\",\"male\",\"male\",\"male\",\"male\",\"male\",\"male\",\"male\",\"male\",\"male\",\"female\",\"male\",\"male\",\"female\",\"female\",\"female\",\"male\",\"male\",\"male\",\"male\",\"male\",\"male\",\"male\",\"male\",\"male\",\"male\",\"male\",\"male\",\"male\",\"male\",\"male\",\"male\",\"female\",\"male\",\"male\",\"female\",\"female\",\"male\",\"male\",\"male\",\"male\",\"male\",\"male\",\"male\",\"male\",\"male\",\"male\",\"male\",\"female\",\"male\",\"male\",\"female\",\"male\",\"male\",\"male\",\"female\",\"male\",\"male\",\"male\",\"male\",\"male\",\"male\",\"male\",\"male\",\"female\",\"male\",\"male\",\"male\",\"male\",\"male\",\"male\",\"male\",\"male\",\"male\",\"female\",\"male\",\"male\",\"male\",\"male\",\"female\",\"male\",\"male\",\"male\",\"male\",\"male\",\"male\",\"male\",\"male\",\"male\",\"male\",\"female\",\"male\",\"male\",\"female\",\"male\",\"male\",\"female\",\"male\",\"male\",\"male\",\"male\",\"female\",\"male\",\"male\",\"female\",\"male\",\"male\",\"male\",\"male\",\"male\",\"male\",\"male\",\"male\",\"male\",\"male\",\"male\",\"male\",\"male\",\"male\",\"female\",\"female\",\"male\",\"male\",\"male\",\"male\",\"male\",\"male\",\"male\",\"male\",\"male\",\"male\",\"male\",\"male\",\"male\",\"female\",\"male\",\"male\",\"male\",\"male\",\"male\",\"male\",\"male\",\"male\",\"male\",\"male\",\"male\",\"male\",\"male\",\"male\",\"female\",\"male\",\"male\",\"male\",\"male\",\"male\",\"female\",\"male\",\"male\",\"male\",\"male\",\"male\",\"male\",\"male\",\"male\",\"male\",\"male\",\"male\",\"male\",\"male\",\"male\",\"male\",\"male\",\"male\",\"female\",\"male\",\"male\",\"male\",\"male\",\"female\",\"male\",\"male\",\"male\",\"male\",\"male\",\"male\",\"male\",\"male\",\"male\",\"male\",\"male\",\"male\",\"female\",\"male\",\"male\",\"male\",\"male\",\"female\",\"male\",\"male\",\"male\",\"female\",\"male\",\"male\",\"male\",\"male\",\"female\",\"male\",\"male\",\"female\",\"male\",\"male\",\"male\",\"male\",\"male\",\"male\",\"male\",\"male\",\"male\",\"male\",\"male\",\"male\",\"male\",\"male\",\"male\",\"male\",\"male\",\"male\",\"male\",\"male\",\"male\",\"male\",\"female\",\"female\",\"male\",\"male\",\"male\",\"female\",\"male\",\"male\",\"male\",\"male\",\"male\",\"male\",\"male\",\"male\",\"male\",\"male\",\"female\",\"male\",\"male\",\"female\",\"male\",\"female\",\"male\"],\"xaxis\":\"x2\",\"yaxis\":\"y2\",\"type\":\"histogram\"},{\"alignmentgroup\":\"True\",\"bingroup\":\"x\",\"hovertemplate\":\"Survived=1<br>Sex=%{x}<br>count=%{y}<extra></extra>\",\"legendgroup\":\"1\",\"marker\":{\"color\":\"#eb3462\",\"line\":{\"color\":\"black\",\"width\":1},\"pattern\":{\"shape\":\"\"}},\"name\":\"1\",\"offsetgroup\":\"1\",\"orientation\":\"v\",\"showlegend\":true,\"texttemplate\":\"%{value}\",\"x\":[\"female\",\"female\",\"female\",\"female\",\"female\",\"female\",\"female\",\"female\",\"male\",\"female\",\"male\",\"female\",\"male\",\"female\",\"female\",\"female\",\"female\",\"male\",\"female\",\"female\",\"female\",\"female\",\"female\",\"female\",\"male\",\"female\",\"female\",\"female\",\"male\",\"female\",\"female\",\"male\",\"male\",\"female\",\"male\",\"female\",\"female\",\"female\",\"female\",\"male\",\"female\",\"female\",\"male\",\"female\",\"female\",\"male\",\"male\",\"female\",\"female\",\"female\",\"female\",\"female\",\"male\",\"female\",\"female\",\"female\",\"male\",\"female\",\"female\",\"male\",\"female\",\"female\",\"male\",\"female\",\"female\",\"male\",\"female\",\"female\",\"female\",\"male\",\"male\",\"female\",\"male\",\"female\",\"female\",\"female\",\"female\",\"male\",\"male\",\"male\",\"female\",\"female\",\"female\",\"female\",\"female\",\"male\",\"female\",\"female\",\"female\",\"female\",\"male\",\"male\",\"female\",\"female\",\"male\",\"female\",\"female\",\"female\",\"female\",\"male\",\"male\",\"male\",\"female\",\"female\",\"female\",\"male\",\"female\",\"female\",\"male\",\"female\",\"male\",\"female\",\"female\",\"female\",\"female\",\"female\",\"female\",\"female\",\"female\",\"female\",\"female\",\"female\",\"female\",\"female\",\"female\",\"female\",\"female\",\"female\",\"female\",\"male\",\"male\",\"female\",\"female\",\"female\",\"female\",\"male\",\"female\",\"female\",\"female\",\"female\",\"female\",\"female\",\"female\",\"male\",\"female\",\"female\",\"female\",\"female\",\"female\",\"female\",\"female\",\"male\",\"male\",\"female\",\"female\",\"female\",\"male\",\"male\",\"female\",\"male\",\"female\",\"female\",\"female\",\"female\",\"male\",\"male\",\"female\",\"female\",\"female\",\"female\",\"female\",\"female\",\"male\",\"male\",\"female\",\"male\",\"female\",\"male\",\"male\",\"male\",\"female\",\"female\",\"male\",\"female\",\"female\",\"female\",\"female\",\"female\",\"male\",\"female\",\"male\",\"female\",\"female\",\"female\",\"male\",\"male\",\"male\",\"male\",\"female\",\"female\",\"female\",\"female\",\"female\",\"female\",\"female\",\"female\",\"female\",\"female\",\"female\",\"female\",\"male\",\"female\",\"male\",\"male\",\"male\",\"male\",\"female\",\"female\",\"female\",\"female\",\"male\",\"male\",\"female\",\"male\",\"female\",\"female\",\"female\",\"male\",\"female\",\"female\",\"female\",\"male\",\"female\",\"female\",\"male\",\"female\",\"male\",\"male\",\"female\",\"female\",\"female\",\"female\",\"female\",\"male\",\"male\",\"female\",\"male\",\"male\",\"female\",\"female\",\"male\",\"female\",\"male\",\"male\",\"female\",\"female\",\"female\",\"male\",\"male\",\"female\",\"female\",\"male\",\"female\",\"male\",\"female\",\"male\",\"female\",\"male\",\"female\",\"female\",\"male\",\"female\",\"male\",\"female\",\"male\",\"female\",\"male\",\"female\",\"female\",\"female\",\"male\",\"female\",\"female\",\"female\",\"male\",\"female\",\"male\",\"female\",\"female\",\"male\",\"female\",\"male\",\"female\",\"male\",\"female\",\"female\",\"female\",\"female\",\"female\",\"female\",\"female\",\"female\",\"male\",\"female\",\"female\",\"female\",\"male\",\"male\",\"male\",\"female\",\"female\",\"male\",\"female\",\"male\",\"male\",\"female\",\"female\",\"male\",\"female\",\"male\",\"male\",\"female\",\"female\",\"female\",\"female\",\"female\",\"male\",\"female\",\"female\",\"female\",\"female\",\"male\",\"female\",\"female\",\"female\",\"female\",\"female\",\"female\",\"male\"],\"xaxis\":\"x2\",\"yaxis\":\"y2\",\"type\":\"histogram\"},{\"alignmentgroup\":\"True\",\"bingroup\":\"x\",\"hovertemplate\":\"Survived=0<br>Embarked=%{x}<br>count=%{y}<extra></extra>\",\"legendgroup\":\"0\",\"marker\":{\"color\":\"#3562e8\",\"line\":{\"color\":\"black\",\"width\":1},\"pattern\":{\"shape\":\"\"}},\"name\":\"0\",\"offsetgroup\":\"0\",\"orientation\":\"v\",\"showlegend\":true,\"texttemplate\":\"%{value}\",\"x\":[\"S\",\"S\",\"Q\",\"S\",\"S\",\"S\",\"S\",\"S\",\"Q\",\"S\",\"S\",\"S\",\"C\",\"S\",\"S\",\"C\",\"S\",\"C\",\"S\",\"S\",\"S\",\"S\",\"S\",\"C\",\"S\",\"Q\",\"C\",\"S\",\"S\",\"S\",\"C\",\"C\",\"S\",\"C\",\"S\",\"S\",\"C\",\"S\",\"S\",\"S\",\"S\",\"S\",\"C\",\"S\",\"S\",\"S\",\"S\",\"S\",\"S\",\"S\",\"S\",\"S\",\"S\",\"S\",\"S\",\"S\",\"S\",\"C\",\"S\",\"S\",\"S\",\"S\",\"S\",\"S\",\"S\",\"S\",\"S\",\"C\",\"S\",\"S\",\"C\",\"S\",\"Q\",\"S\",\"C\",\"S\",\"S\",\"S\",\"C\",\"S\",\"Q\",\"S\",\"C\",\"S\",\"S\",\"S\",\"C\",\"S\",\"S\",\"C\",\"C\",\"Q\",\"S\",\"S\",\"S\",\"S\",\"S\",\"S\",\"S\",\"S\",\"S\",\"C\",\"S\",\"S\",\"S\",\"S\",\"S\",\"S\",\"S\",\"S\",\"S\",\"S\",\"S\",\"Q\",\"S\",\"C\",\"S\",\"S\",\"C\",\"S\",\"S\",\"S\",\"C\",\"S\",\"S\",\"Q\",\"S\",\"S\",\"Q\",\"S\",\"S\",\"S\",\"S\",\"S\",\"C\",\"S\",\"S\",\"S\",\"S\",\"S\",\"Q\",\"S\",\"S\",\"S\",\"S\",\"S\",\"S\",\"S\",\"S\",\"S\",\"S\",\"S\",\"S\",\"S\",\"S\",\"S\",\"S\",\"C\",\"S\",\"S\",\"C\",\"Q\",\"S\",\"S\",\"S\",\"S\",\"S\",\"S\",\"S\",\"Q\",\"S\",\"S\",\"Q\",\"S\",\"S\",\"S\",\"C\",\"S\",\"S\",\"Q\",\"Q\",\"S\",\"S\",\"S\",\"C\",\"S\",\"C\",\"S\",\"S\",\"C\",\"C\",\"S\",\"S\",\"S\",\"C\",\"S\",\"S\",\"S\",\"S\",\"S\",\"S\",\"S\",\"S\",\"S\",\"S\",\"S\",\"S\",\"S\",\"S\",\"S\",\"S\",\"S\",\"S\",\"S\",\"S\",\"C\",\"S\",\"C\",\"S\",\"S\",\"S\",\"C\",\"C\",\"S\",\"Q\",\"S\",\"S\",\"S\",\"C\",\"S\",\"C\",\"C\",\"S\",\"S\",\"S\",\"S\",\"S\",\"Q\",\"S\",\"S\",\"S\",\"S\",\"S\",\"S\",\"S\",\"S\",\"S\",\"S\",\"S\",\"S\",\"S\",\"S\",\"Q\",\"S\",\"S\",\"S\",\"S\",\"C\",\"Q\",\"S\",\"S\",\"S\",\"S\",\"Q\",\"S\",\"S\",\"S\",\"S\",\"S\",\"S\",\"S\",\"S\",\"S\",\"C\",\"S\",\"S\",\"Q\",\"S\",\"S\",\"S\",\"S\",\"S\",\"S\",\"S\",\"Q\",\"S\",\"S\",\"S\",\"S\",\"S\",\"S\",\"S\",\"S\",\"S\",\"S\",\"S\",\"C\",\"S\",\"S\",\"S\",\"S\",\"C\",\"S\",\"C\",\"S\",\"S\",\"S\",\"S\",\"Q\",\"Q\",\"S\",\"C\",\"S\",\"S\",\"S\",\"S\",\"Q\",\"S\",\"S\",\"C\",\"C\",\"Q\",\"S\",\"S\",\"S\",\"C\",\"C\",\"S\",\"S\",\"S\",\"S\",\"S\",\"C\",\"S\",\"S\",\"S\",\"Q\",\"S\",\"C\",\"Q\",\"S\",\"S\",\"S\",\"S\",\"S\",\"S\",\"S\",\"C\",\"S\",\"S\",\"C\",\"S\",\"C\",\"C\",\"S\",\"S\",\"S\",\"S\",\"S\",\"Q\",\"S\",\"S\",\"S\",\"C\",\"S\",\"S\",\"S\",\"S\",\"S\",\"S\",\"S\",\"Q\",\"S\",\"S\",\"S\",\"S\",\"C\",\"S\",\"S\",\"S\",\"Q\",\"S\",\"Q\",\"S\",\"S\",\"S\",\"S\",\"S\",\"S\",\"S\",\"S\",\"S\",\"S\",\"S\",\"S\",\"S\",\"Q\",\"S\",\"S\",\"Q\",\"S\",\"C\",\"C\",\"S\",\"S\",\"S\",\"S\",\"S\",\"S\",\"S\",\"S\",\"S\",\"S\",\"S\",\"S\",\"Q\",\"S\",\"S\",\"S\",\"C\",\"S\",\"S\",\"S\",\"C\",\"S\",\"S\",\"S\",\"C\",\"S\",\"C\",\"Q\",\"S\",\"S\",\"S\",\"S\",\"S\",\"S\",\"Q\",\"S\",\"S\",\"S\",\"S\",\"S\",\"S\",\"S\",\"C\",\"S\",\"S\",\"S\",\"S\",\"S\",\"S\",\"S\",\"S\",\"S\",\"S\",\"S\",\"S\",\"Q\",\"S\",\"S\",\"S\",\"S\",\"S\",\"S\",\"S\",\"S\",\"C\",\"Q\",\"Q\",\"S\",\"S\",\"S\",\"S\",\"C\",\"S\",\"Q\",\"Q\",\"S\",\"S\",\"S\",\"S\",\"Q\",\"C\",\"Q\",\"S\",\"S\",\"C\",\"S\",\"S\",\"C\",\"S\",\"S\",\"S\",\"S\",\"S\",\"S\",\"S\",\"S\",\"S\",\"S\",\"S\",\"S\",\"S\",\"C\",\"S\",\"S\",\"S\",\"S\",\"Q\",\"S\",\"C\",\"S\",\"S\",\"S\",\"S\",\"S\",\"S\",\"C\",\"S\",\"S\",\"S\",\"C\",\"S\",\"S\",\"S\",\"C\",\"S\",\"C\",\"S\",\"S\",\"S\",\"S\",\"S\",\"S\",\"S\",\"S\",\"S\",\"S\",\"S\",\"S\",\"S\",\"S\",\"S\",\"S\",\"Q\",\"S\",\"S\",\"Q\"],\"xaxis\":\"x3\",\"yaxis\":\"y3\",\"type\":\"histogram\"},{\"alignmentgroup\":\"True\",\"bingroup\":\"x\",\"hovertemplate\":\"Survived=1<br>Embarked=%{x}<br>count=%{y}<extra></extra>\",\"legendgroup\":\"1\",\"marker\":{\"color\":\"#eb3462\",\"line\":{\"color\":\"black\",\"width\":1},\"pattern\":{\"shape\":\"\"}},\"name\":\"1\",\"offsetgroup\":\"1\",\"orientation\":\"v\",\"showlegend\":true,\"texttemplate\":\"%{value}\",\"x\":[\"C\",\"S\",\"S\",\"S\",\"C\",\"S\",\"S\",\"S\",\"S\",\"C\",\"S\",\"Q\",\"S\",\"S\",\"Q\",\"C\",\"Q\",\"C\",\"C\",\"C\",\"Q\",\"Q\",\"C\",\"S\",\"S\",\"S\",\"S\",\"S\",\"C\",\"S\",\"S\",\"S\",\"S\",\"S\",\"S\",\"Q\",\"S\",\"S\",\"S\",\"C\",\"S\",\"S\",\"S\",\"Q\",\"S\",\"C\",\"S\",\"C\",\"S\",\"S\",\"S\",\"S\",\"S\",\"S\",\"Q\",\"S\",\"S\",\"S\",\"S\",\"S\",\"S\",\"Q\",\"S\",\"S\",\"S\",\"S\",\"C\",\"C\",\"Q\",\"S\",\"C\",\"Q\",\"C\",\"S\",\"C\",\"S\",\"C\",\"S\",\"S\",\"S\",\"S\",\"S\",\"S\",\"Q\",\"S\",\"S\",\"C\",\"C\",\"S\",\"S\",\"S\",\"S\",\"S\",\"S\",\"S\",\"S\",\"Q\",\"S\",\"S\",\"S\",\"S\",\"S\",\"Q\",\"S\",\"C\",\"S\",\"C\",\"Q\",\"Q\",\"Q\",\"S\",\"C\",\"C\",\"C\",\"C\",\"C\",\"S\",\"S\",\"S\",\"C\",\"Q\",\"S\",\"C\",\"S\",\"S\",\"C\",\"Q\",\"S\",\"C\",\"S\",\"S\",\"S\",\"S\",\"S\",\"S\",\"S\",\"S\",\"Q\",\"Q\",\"C\",\"C\",\"Q\",\"C\",\"C\",\"C\",\"S\",\"C\",\"C\",\"S\",\"S\",\"C\",\"S\",\"S\",\"C\",\"S\",\"S\",\"S\",\"S\",\"Q\",\"S\",\"S\",\"S\",\"S\",\"S\",\"S\",\"S\",\"S\",\"S\",\"S\",\"S\",\"S\",\"S\",\"S\",\"S\",\"S\",\"S\",\"C\",\"S\",\"C\",\"C\",\"S\",\"S\",\"S\",\"C\",\"S\",\"C\",\"S\",\"S\",\"C\",\"S\",\"S\",\"C\",\"S\",\"S\",\"S\",\"S\",\"Q\",\"S\",\"C\",\"S\",\"S\",\"S\",\"C\",\"S\",\"S\",\"C\",\"S\",\"C\",\"C\",\"S\",\"S\",\"S\",\"C\",\"S\",\"C\",\"C\",\"S\",\"C\",\"S\",\"S\",\"S\",\"S\",\"S\",\"S\",\"Q\",\"S\",\"S\",\"S\",\"S\",\"C\",\"S\",\"C\",\"C\",\"S\",\"C\",\"S\",\"C\",\"S\",\"C\",\"S\",\"Q\",\"S\",\"S\",\"S\",\"C\",\"S\",\"S\",\"C\",\"S\",\"C\",\"S\",\"C\",\"C\",\"C\",\"S\",\"S\",\"Q\",\"S\",\"S\",\"S\",\"S\",\"S\",\"S\",\"C\",\"S\",\"S\",\"C\",\"S\",\"Q\",\"C\",\"S\",\"S\",\"S\",\"S\",\"C\",\"C\",\"S\",\"C\",\"S\",\"S\",\"S\",\"S\",\"Q\",\"S\",\"S\",\"C\",\"S\",\"S\",\"S\",\"S\",\"S\",\"S\",\"S\",\"C\",\"S\",\"S\",\"S\",\"S\",\"S\",\"C\",\"S\",\"S\",\"S\",\"S\",\"S\",\"S\",\"S\",\"C\",\"S\",\"S\",\"S\",\"S\",\"S\",\"C\",\"Q\",\"S\",\"C\",\"S\",\"C\",\"S\",\"C\",\"C\",\"C\",\"S\",\"S\",\"S\",\"S\",\"C\",\"S\",\"S\",\"C\",\"S\",\"S\",\"C\",\"C\",\"C\",\"S\",\"S\",\"C\"],\"xaxis\":\"x3\",\"yaxis\":\"y3\",\"type\":\"histogram\"}],                        {\"template\":{\"data\":{\"histogram2dcontour\":[{\"type\":\"histogram2dcontour\",\"colorbar\":{\"outlinewidth\":0,\"ticks\":\"\"},\"colorscale\":[[0.0,\"#0d0887\"],[0.1111111111111111,\"#46039f\"],[0.2222222222222222,\"#7201a8\"],[0.3333333333333333,\"#9c179e\"],[0.4444444444444444,\"#bd3786\"],[0.5555555555555556,\"#d8576b\"],[0.6666666666666666,\"#ed7953\"],[0.7777777777777778,\"#fb9f3a\"],[0.8888888888888888,\"#fdca26\"],[1.0,\"#f0f921\"]]}],\"choropleth\":[{\"type\":\"choropleth\",\"colorbar\":{\"outlinewidth\":0,\"ticks\":\"\"}}],\"histogram2d\":[{\"type\":\"histogram2d\",\"colorbar\":{\"outlinewidth\":0,\"ticks\":\"\"},\"colorscale\":[[0.0,\"#0d0887\"],[0.1111111111111111,\"#46039f\"],[0.2222222222222222,\"#7201a8\"],[0.3333333333333333,\"#9c179e\"],[0.4444444444444444,\"#bd3786\"],[0.5555555555555556,\"#d8576b\"],[0.6666666666666666,\"#ed7953\"],[0.7777777777777778,\"#fb9f3a\"],[0.8888888888888888,\"#fdca26\"],[1.0,\"#f0f921\"]]}],\"heatmap\":[{\"type\":\"heatmap\",\"colorbar\":{\"outlinewidth\":0,\"ticks\":\"\"},\"colorscale\":[[0.0,\"#0d0887\"],[0.1111111111111111,\"#46039f\"],[0.2222222222222222,\"#7201a8\"],[0.3333333333333333,\"#9c179e\"],[0.4444444444444444,\"#bd3786\"],[0.5555555555555556,\"#d8576b\"],[0.6666666666666666,\"#ed7953\"],[0.7777777777777778,\"#fb9f3a\"],[0.8888888888888888,\"#fdca26\"],[1.0,\"#f0f921\"]]}],\"heatmapgl\":[{\"type\":\"heatmapgl\",\"colorbar\":{\"outlinewidth\":0,\"ticks\":\"\"},\"colorscale\":[[0.0,\"#0d0887\"],[0.1111111111111111,\"#46039f\"],[0.2222222222222222,\"#7201a8\"],[0.3333333333333333,\"#9c179e\"],[0.4444444444444444,\"#bd3786\"],[0.5555555555555556,\"#d8576b\"],[0.6666666666666666,\"#ed7953\"],[0.7777777777777778,\"#fb9f3a\"],[0.8888888888888888,\"#fdca26\"],[1.0,\"#f0f921\"]]}],\"contourcarpet\":[{\"type\":\"contourcarpet\",\"colorbar\":{\"outlinewidth\":0,\"ticks\":\"\"}}],\"contour\":[{\"type\":\"contour\",\"colorbar\":{\"outlinewidth\":0,\"ticks\":\"\"},\"colorscale\":[[0.0,\"#0d0887\"],[0.1111111111111111,\"#46039f\"],[0.2222222222222222,\"#7201a8\"],[0.3333333333333333,\"#9c179e\"],[0.4444444444444444,\"#bd3786\"],[0.5555555555555556,\"#d8576b\"],[0.6666666666666666,\"#ed7953\"],[0.7777777777777778,\"#fb9f3a\"],[0.8888888888888888,\"#fdca26\"],[1.0,\"#f0f921\"]]}],\"surface\":[{\"type\":\"surface\",\"colorbar\":{\"outlinewidth\":0,\"ticks\":\"\"},\"colorscale\":[[0.0,\"#0d0887\"],[0.1111111111111111,\"#46039f\"],[0.2222222222222222,\"#7201a8\"],[0.3333333333333333,\"#9c179e\"],[0.4444444444444444,\"#bd3786\"],[0.5555555555555556,\"#d8576b\"],[0.6666666666666666,\"#ed7953\"],[0.7777777777777778,\"#fb9f3a\"],[0.8888888888888888,\"#fdca26\"],[1.0,\"#f0f921\"]]}],\"mesh3d\":[{\"type\":\"mesh3d\",\"colorbar\":{\"outlinewidth\":0,\"ticks\":\"\"}}],\"scatter\":[{\"fillpattern\":{\"fillmode\":\"overlay\",\"size\":10,\"solidity\":0.2},\"type\":\"scatter\"}],\"parcoords\":[{\"type\":\"parcoords\",\"line\":{\"colorbar\":{\"outlinewidth\":0,\"ticks\":\"\"}}}],\"scatterpolargl\":[{\"type\":\"scatterpolargl\",\"marker\":{\"colorbar\":{\"outlinewidth\":0,\"ticks\":\"\"}}}],\"bar\":[{\"error_x\":{\"color\":\"#2a3f5f\"},\"error_y\":{\"color\":\"#2a3f5f\"},\"marker\":{\"line\":{\"color\":\"#E5ECF6\",\"width\":0.5},\"pattern\":{\"fillmode\":\"overlay\",\"size\":10,\"solidity\":0.2}},\"type\":\"bar\"}],\"scattergeo\":[{\"type\":\"scattergeo\",\"marker\":{\"colorbar\":{\"outlinewidth\":0,\"ticks\":\"\"}}}],\"scatterpolar\":[{\"type\":\"scatterpolar\",\"marker\":{\"colorbar\":{\"outlinewidth\":0,\"ticks\":\"\"}}}],\"histogram\":[{\"marker\":{\"pattern\":{\"fillmode\":\"overlay\",\"size\":10,\"solidity\":0.2}},\"type\":\"histogram\"}],\"scattergl\":[{\"type\":\"scattergl\",\"marker\":{\"colorbar\":{\"outlinewidth\":0,\"ticks\":\"\"}}}],\"scatter3d\":[{\"type\":\"scatter3d\",\"line\":{\"colorbar\":{\"outlinewidth\":0,\"ticks\":\"\"}},\"marker\":{\"colorbar\":{\"outlinewidth\":0,\"ticks\":\"\"}}}],\"scattermapbox\":[{\"type\":\"scattermapbox\",\"marker\":{\"colorbar\":{\"outlinewidth\":0,\"ticks\":\"\"}}}],\"scatterternary\":[{\"type\":\"scatterternary\",\"marker\":{\"colorbar\":{\"outlinewidth\":0,\"ticks\":\"\"}}}],\"scattercarpet\":[{\"type\":\"scattercarpet\",\"marker\":{\"colorbar\":{\"outlinewidth\":0,\"ticks\":\"\"}}}],\"carpet\":[{\"aaxis\":{\"endlinecolor\":\"#2a3f5f\",\"gridcolor\":\"white\",\"linecolor\":\"white\",\"minorgridcolor\":\"white\",\"startlinecolor\":\"#2a3f5f\"},\"baxis\":{\"endlinecolor\":\"#2a3f5f\",\"gridcolor\":\"white\",\"linecolor\":\"white\",\"minorgridcolor\":\"white\",\"startlinecolor\":\"#2a3f5f\"},\"type\":\"carpet\"}],\"table\":[{\"cells\":{\"fill\":{\"color\":\"#EBF0F8\"},\"line\":{\"color\":\"white\"}},\"header\":{\"fill\":{\"color\":\"#C8D4E3\"},\"line\":{\"color\":\"white\"}},\"type\":\"table\"}],\"barpolar\":[{\"marker\":{\"line\":{\"color\":\"#E5ECF6\",\"width\":0.5},\"pattern\":{\"fillmode\":\"overlay\",\"size\":10,\"solidity\":0.2}},\"type\":\"barpolar\"}],\"pie\":[{\"automargin\":true,\"type\":\"pie\"}]},\"layout\":{\"autotypenumbers\":\"strict\",\"colorway\":[\"#636efa\",\"#EF553B\",\"#00cc96\",\"#ab63fa\",\"#FFA15A\",\"#19d3f3\",\"#FF6692\",\"#B6E880\",\"#FF97FF\",\"#FECB52\"],\"font\":{\"color\":\"#2a3f5f\"},\"hovermode\":\"closest\",\"hoverlabel\":{\"align\":\"left\"},\"paper_bgcolor\":\"white\",\"plot_bgcolor\":\"#E5ECF6\",\"polar\":{\"bgcolor\":\"#E5ECF6\",\"angularaxis\":{\"gridcolor\":\"white\",\"linecolor\":\"white\",\"ticks\":\"\"},\"radialaxis\":{\"gridcolor\":\"white\",\"linecolor\":\"white\",\"ticks\":\"\"}},\"ternary\":{\"bgcolor\":\"#E5ECF6\",\"aaxis\":{\"gridcolor\":\"white\",\"linecolor\":\"white\",\"ticks\":\"\"},\"baxis\":{\"gridcolor\":\"white\",\"linecolor\":\"white\",\"ticks\":\"\"},\"caxis\":{\"gridcolor\":\"white\",\"linecolor\":\"white\",\"ticks\":\"\"}},\"coloraxis\":{\"colorbar\":{\"outlinewidth\":0,\"ticks\":\"\"}},\"colorscale\":{\"sequential\":[[0.0,\"#0d0887\"],[0.1111111111111111,\"#46039f\"],[0.2222222222222222,\"#7201a8\"],[0.3333333333333333,\"#9c179e\"],[0.4444444444444444,\"#bd3786\"],[0.5555555555555556,\"#d8576b\"],[0.6666666666666666,\"#ed7953\"],[0.7777777777777778,\"#fb9f3a\"],[0.8888888888888888,\"#fdca26\"],[1.0,\"#f0f921\"]],\"sequentialminus\":[[0.0,\"#0d0887\"],[0.1111111111111111,\"#46039f\"],[0.2222222222222222,\"#7201a8\"],[0.3333333333333333,\"#9c179e\"],[0.4444444444444444,\"#bd3786\"],[0.5555555555555556,\"#d8576b\"],[0.6666666666666666,\"#ed7953\"],[0.7777777777777778,\"#fb9f3a\"],[0.8888888888888888,\"#fdca26\"],[1.0,\"#f0f921\"]],\"diverging\":[[0,\"#8e0152\"],[0.1,\"#c51b7d\"],[0.2,\"#de77ae\"],[0.3,\"#f1b6da\"],[0.4,\"#fde0ef\"],[0.5,\"#f7f7f7\"],[0.6,\"#e6f5d0\"],[0.7,\"#b8e186\"],[0.8,\"#7fbc41\"],[0.9,\"#4d9221\"],[1,\"#276419\"]]},\"xaxis\":{\"gridcolor\":\"white\",\"linecolor\":\"white\",\"ticks\":\"\",\"title\":{\"standoff\":15},\"zerolinecolor\":\"white\",\"automargin\":true,\"zerolinewidth\":2},\"yaxis\":{\"gridcolor\":\"white\",\"linecolor\":\"white\",\"ticks\":\"\",\"title\":{\"standoff\":15},\"zerolinecolor\":\"white\",\"automargin\":true,\"zerolinewidth\":2},\"scene\":{\"xaxis\":{\"backgroundcolor\":\"#E5ECF6\",\"gridcolor\":\"white\",\"linecolor\":\"white\",\"showbackground\":true,\"ticks\":\"\",\"zerolinecolor\":\"white\",\"gridwidth\":2},\"yaxis\":{\"backgroundcolor\":\"#E5ECF6\",\"gridcolor\":\"white\",\"linecolor\":\"white\",\"showbackground\":true,\"ticks\":\"\",\"zerolinecolor\":\"white\",\"gridwidth\":2},\"zaxis\":{\"backgroundcolor\":\"#E5ECF6\",\"gridcolor\":\"white\",\"linecolor\":\"white\",\"showbackground\":true,\"ticks\":\"\",\"zerolinecolor\":\"white\",\"gridwidth\":2}},\"shapedefaults\":{\"line\":{\"color\":\"#2a3f5f\"}},\"annotationdefaults\":{\"arrowcolor\":\"#2a3f5f\",\"arrowhead\":0,\"arrowwidth\":1},\"geo\":{\"bgcolor\":\"white\",\"landcolor\":\"#E5ECF6\",\"subunitcolor\":\"white\",\"showland\":true,\"showlakes\":true,\"lakecolor\":\"white\"},\"title\":{\"x\":0.05},\"mapbox\":{\"style\":\"light\"}}},\"xaxis\":{\"anchor\":\"y\",\"domain\":[0.0,0.2888888888888889]},\"yaxis\":{\"anchor\":\"x\",\"domain\":[0.0,1.0],\"range\":[0,510]},\"xaxis2\":{\"anchor\":\"y2\",\"domain\":[0.35555555555555557,0.6444444444444445]},\"yaxis2\":{\"anchor\":\"x2\",\"domain\":[0.0,1.0],\"matches\":\"y\",\"showticklabels\":false,\"range\":[0,510]},\"xaxis3\":{\"anchor\":\"y3\",\"domain\":[0.7111111111111111,1.0]},\"yaxis3\":{\"anchor\":\"x3\",\"domain\":[0.0,1.0],\"matches\":\"y\",\"showticklabels\":false,\"range\":[0,510]},\"annotations\":[{\"font\":{\"size\":16},\"showarrow\":false,\"text\":\"Distribution for Pclass\",\"x\":0.14444444444444446,\"xanchor\":\"center\",\"xref\":\"paper\",\"y\":1.0,\"yanchor\":\"bottom\",\"yref\":\"paper\"},{\"font\":{\"size\":16},\"showarrow\":false,\"text\":\"Distribution for Sex\",\"x\":0.5,\"xanchor\":\"center\",\"xref\":\"paper\",\"y\":1.0,\"yanchor\":\"bottom\",\"yref\":\"paper\"},{\"font\":{\"size\":16},\"showarrow\":false,\"text\":\"Distribution for Embarked\",\"x\":0.8555555555555556,\"xanchor\":\"center\",\"xref\":\"paper\",\"y\":1.0,\"yanchor\":\"bottom\",\"yref\":\"paper\"}],\"font\":{\"color\":\"white\"},\"paper_bgcolor\":\"#0a0a33\",\"plot_bgcolor\":\"#0a0a33\",\"showlegend\":false,\"title\":{\"text\":\"Variables grouped by survivors\"}},                        {\"responsive\": true}                    ).then(function(){\n",
       "                            \n",
       "var gd = document.getElementById('547f0882-2ff3-4eae-91de-4e2badf49a69');\n",
       "var x = new MutationObserver(function (mutations, observer) {{\n",
       "        var display = window.getComputedStyle(gd).display;\n",
       "        if (!display || display === 'none') {{\n",
       "            console.log([gd, 'removed!']);\n",
       "            Plotly.purge(gd);\n",
       "            observer.disconnect();\n",
       "        }}\n",
       "}});\n",
       "\n",
       "// Listen for the removal of the full notebook cells\n",
       "var notebookContainer = gd.closest('#notebook-container');\n",
       "if (notebookContainer) {{\n",
       "    x.observe(notebookContainer, {childList: true});\n",
       "}}\n",
       "\n",
       "// Listen for the clearing of the current output cell\n",
       "var outputEl = gd.closest('.output');\n",
       "if (outputEl) {{\n",
       "    x.observe(outputEl, {childList: true});\n",
       "}}\n",
       "\n",
       "                        })                };                });            </script>        </div>"
      ]
     },
     "metadata": {},
     "output_type": "display_data"
    }
   ],
   "source": [
    "# Making a subplot\n",
    "fig = make_subplots(rows = 1, cols = 3, subplot_titles = [f\"Distribution for {column}\" for column in [\"Pclass\", \"Sex\", \"Embarked\"]], shared_yaxes = True)\n",
    "\n",
    "# Grouped distribution for Pclass\n",
    "survivor_by_pclass = px.histogram(data_frame = train_df, x = \"Pclass\", color = \"Survived\", barmode = \"group\", text_auto = True, color_discrete_sequence = color_sequence)\n",
    "survivor_by_pclass.update_traces(marker = dict(line = dict(width = 1, color = border_color)))\n",
    "fig.add_traces(survivor_by_pclass.data, rows = 1, cols = 1)\n",
    "\n",
    "# Grouped distribution for Sex\n",
    "survivor_by_sex = px.histogram(data_frame = train_df, x = \"Sex\", color = \"Survived\", barmode = \"group\", text_auto = True, color_discrete_sequence = color_sequence)\n",
    "survivor_by_sex.update_traces(marker = dict(line = dict(width = 1, color = border_color)))\n",
    "fig.add_traces(survivor_by_sex.data, rows = 1, cols = 2)\n",
    "\n",
    "# Grouped distribution for Embarked\n",
    "survivor_by_embarked = px.histogram(data_frame = train_df, x = \"Embarked\", color = \"Survived\", barmode = \"group\", text_auto = True, color_discrete_sequence = color_sequence)\n",
    "survivor_by_embarked.update_traces(marker = dict(line = dict(width = 1, color = border_color)))\n",
    "fig.add_traces(survivor_by_embarked.data, rows = 1, cols = 3)\n",
    "\n",
    "fig.update_layout(paper_bgcolor = bgcolor, plot_bgcolor = bgcolor, font_color = font_color, showlegend = False, title = \"Variables grouped by survivors\")\n",
    "fig.update_layout({f\"yaxis{i}\":dict(range = [0,510]) for i in range(1, 4)})\n",
    "fig.show()"
   ]
  },
  {
   "cell_type": "markdown",
   "id": "a1522da9",
   "metadata": {
    "id": "NSgrNqQc2dTq",
    "papermill": {
     "duration": 0.017944,
     "end_time": "2022-06-30T06:26:36.064450",
     "exception": false,
     "start_time": "2022-06-30T06:26:36.046506",
     "status": "completed"
    },
    "tags": []
   },
   "source": [
    "From the above graph we can see that most of the passengers who weren't able to survive were -\n",
    "\n",
    "1. From a lower economic background.\n",
    "2. Male.\n",
    "3. Boarded the ship at Southampton (Embarked = \"S\")."
   ]
  },
  {
   "cell_type": "markdown",
   "id": "64bfb508",
   "metadata": {
    "id": "BIX3rwSV28Y9",
    "papermill": {
     "duration": 0.017895,
     "end_time": "2022-06-30T06:26:36.100970",
     "exception": false,
     "start_time": "2022-06-30T06:26:36.083075",
     "status": "completed"
    },
    "tags": []
   },
   "source": [
    "#### **i) Analysis on Pclass** <a id = \"pclass\"></a>\n",
    "Most of the people belonging to a lower economic backgroud (Pclass = 3) were not able to survive the disaster, while most of the people belonging to a higher economic background were able to (Pclass = 1). This is also supported by the high correlation between `Pclass` and `Survived`.\n",
    "\n",
    "The above statement also provides support for our hypothesis of **priority during evacuation**. The reason behind such a trend might be the influence of these people on the society. It is very possible that the people of a higher economic background might have been big business owners, politicians or government officials."
   ]
  },
  {
   "cell_type": "markdown",
   "id": "4fad1a48",
   "metadata": {
    "id": "KpUZPnyr4L9L",
    "papermill": {
     "duration": 0.018144,
     "end_time": "2022-06-30T06:26:36.137274",
     "exception": false,
     "start_time": "2022-06-30T06:26:36.119130",
     "status": "completed"
    },
    "tags": []
   },
   "source": [
    "#### **ii) Analysis on Sex** <a id = \"sex\"></a>\n",
    "\n",
    "Out of the survivors most of the passengers were women (Sex = female), while out of the non-survivors most of the passengers were men (Sex = male). This is also shown by the correlation coefficient between `Sex` and `Survived`. This might be because of the unofficial societial rule of \"women and children first\" during any kind of disaster."
   ]
  },
  {
   "cell_type": "markdown",
   "id": "61eccc1b",
   "metadata": {
    "id": "V4G3nklI4pTP",
    "papermill": {
     "duration": 0.018118,
     "end_time": "2022-06-30T06:26:36.173783",
     "exception": false,
     "start_time": "2022-06-30T06:26:36.155665",
     "status": "completed"
    },
    "tags": []
   },
   "source": [
    "#### **iii) Analysis on Embarked** <a id = \"embarked\"></a>\n",
    "\n",
    "Most of the people who boarded the ship at Southampton (Embarked = \"S\") were not able to survive the disaster, while most of the people who boarded the ship at Cherbourg (Embarked = \"C\") were able to survive. This might be because most of the passengers who were from Southampton were either male of were from a lower economic backgroud. \n",
    "\n",
    "The above statement supported by the correlation matrix as the `Embarked` column has the correlation coefficient of 0.15 and 0.11 respectively for `Pclass` and `Sex`. This suggests that for higher values of `Embarked` (Embarked = 3 means Southampton), we would have higher values of `Pclass` (Pclass = 3 means lower economic class) and `Sex` (Sex = 1 means male).\n",
    "\n",
    "---"
   ]
  },
  {
   "cell_type": "markdown",
   "id": "6b15904f",
   "metadata": {
    "id": "RMF6OQLfLjEd",
    "papermill": {
     "duration": 0.01785,
     "end_time": "2022-06-30T06:26:36.209975",
     "exception": false,
     "start_time": "2022-06-30T06:26:36.192125",
     "status": "completed"
    },
    "tags": []
   },
   "source": [
    "### 4) Distribution based on Survival (SibSp and Parch) <a id = \"sibsp-parch\"></a>\n",
    "\n",
    "Now let's check whether a passenger's `SibSp`, or `Parch` value could have affected their survival rate."
   ]
  },
  {
   "cell_type": "code",
   "execution_count": 16,
   "id": "555b771d",
   "metadata": {
    "execution": {
     "iopub.execute_input": "2022-06-30T06:26:36.247540Z",
     "iopub.status.busy": "2022-06-30T06:26:36.247191Z",
     "iopub.status.idle": "2022-06-30T06:26:36.325828Z",
     "shell.execute_reply": "2022-06-30T06:26:36.324789Z"
    },
    "id": "aOSrrITyu6Pt",
    "outputId": "43c65052-a4f4-4eb6-e268-091d40f72bcc",
    "papermill": {
     "duration": 0.100128,
     "end_time": "2022-06-30T06:26:36.328241",
     "exception": false,
     "start_time": "2022-06-30T06:26:36.228113",
     "status": "completed"
    },
    "tags": []
   },
   "outputs": [
    {
     "data": {
      "text/html": [
       "<div>                            <div id=\"500d32fe-ff71-4cd1-bcff-b85f0f0283b6\" class=\"plotly-graph-div\" style=\"height:525px; width:100%;\"></div>            <script type=\"text/javascript\">                require([\"plotly\"], function(Plotly) {                    window.PLOTLYENV=window.PLOTLYENV || {};                                    if (document.getElementById(\"500d32fe-ff71-4cd1-bcff-b85f0f0283b6\")) {                    Plotly.newPlot(                        \"500d32fe-ff71-4cd1-bcff-b85f0f0283b6\",                        [{\"legendgroup\":\"Didn't Survive\",\"marker\":{\"color\":\"lime\"},\"mode\":\"lines\",\"name\":\"Didn't Survive\",\"showlegend\":true,\"x\":[0.0,0.016,0.032,0.048,0.064,0.08,0.096,0.112,0.128,0.144,0.16,0.176,0.192,0.208,0.224,0.24,0.256,0.272,0.288,0.304,0.32,0.336,0.352,0.368,0.384,0.4,0.416,0.432,0.448,0.464,0.48,0.496,0.512,0.528,0.544,0.56,0.576,0.592,0.608,0.624,0.64,0.656,0.672,0.688,0.704,0.72,0.736,0.752,0.768,0.784,0.8,0.816,0.832,0.848,0.864,0.88,0.896,0.912,0.928,0.944,0.96,0.976,0.992,1.008,1.024,1.04,1.056,1.072,1.088,1.104,1.12,1.136,1.152,1.168,1.184,1.2,1.216,1.232,1.248,1.264,1.28,1.296,1.312,1.328,1.344,1.36,1.376,1.392,1.408,1.424,1.44,1.456,1.472,1.488,1.504,1.52,1.536,1.552,1.568,1.584,1.6,1.616,1.632,1.648,1.664,1.68,1.696,1.712,1.728,1.744,1.76,1.776,1.792,1.808,1.824,1.84,1.856,1.872,1.888,1.904,1.92,1.936,1.952,1.968,1.984,2.0,2.016,2.032,2.048,2.064,2.08,2.096,2.112,2.128,2.144,2.16,2.176,2.192,2.208,2.224,2.24,2.256,2.272,2.288,2.304,2.32,2.336,2.352,2.368,2.384,2.4,2.416,2.432,2.448,2.464,2.48,2.496,2.512,2.528,2.544,2.56,2.576,2.592,2.608,2.624,2.64,2.656,2.672,2.688,2.704,2.72,2.736,2.752,2.768,2.784,2.8,2.816,2.832,2.848,2.864,2.88,2.896,2.912,2.928,2.944,2.96,2.976,2.992,3.008,3.024,3.04,3.056,3.072,3.088,3.104,3.12,3.136,3.152,3.168,3.184,3.2,3.216,3.232,3.248,3.264,3.28,3.296,3.312,3.328,3.344,3.36,3.376,3.392,3.408,3.424,3.44,3.456,3.472,3.488,3.504,3.52,3.536,3.552,3.568,3.584,3.6,3.616,3.632,3.648,3.664,3.68,3.696,3.712,3.728,3.744,3.76,3.776,3.792,3.808,3.824,3.84,3.856,3.872,3.888,3.904,3.92,3.936,3.952,3.968,3.984,4.0,4.016,4.032,4.048,4.064,4.08,4.096,4.112,4.128,4.144,4.16,4.176,4.192,4.208,4.224,4.24,4.256,4.272,4.288,4.304,4.32,4.336,4.352,4.368,4.384,4.4,4.416,4.432,4.448,4.464,4.48,4.496,4.512,4.528,4.544,4.56,4.576,4.592,4.608,4.624,4.64,4.656,4.672,4.688,4.704,4.72,4.736,4.752,4.768,4.784,4.8,4.816,4.832,4.848,4.864,4.88,4.896,4.912,4.928,4.944,4.96,4.976,4.992,5.008,5.024,5.04,5.056,5.072,5.088,5.104,5.12,5.136,5.152,5.168,5.184,5.2,5.216,5.232,5.248,5.264,5.28,5.296,5.312,5.328,5.344,5.36,5.376,5.392,5.408,5.424,5.44,5.456,5.472,5.488,5.504,5.52,5.536,5.552,5.568,5.584,5.6,5.616,5.632,5.648,5.664,5.68,5.696,5.712,5.728,5.744,5.76,5.776,5.792,5.808,5.824,5.84,5.856,5.872,5.888,5.904,5.92,5.936,5.952,5.968,5.984,6.0,6.016,6.032,6.048,6.064,6.08,6.096,6.112,6.128,6.144,6.16,6.176,6.192,6.208,6.224,6.24,6.256,6.272,6.288,6.304,6.32,6.336,6.352,6.368,6.384,6.4,6.416,6.432,6.448,6.464,6.48,6.496,6.512,6.528,6.544,6.56,6.576,6.592,6.608,6.624,6.64,6.656,6.672,6.688,6.704,6.72,6.736,6.752,6.768,6.784,6.8,6.816,6.832,6.848,6.864,6.88,6.896,6.912,6.928,6.944,6.96,6.976,6.992,7.008,7.024,7.04,7.056,7.072,7.088,7.104,7.12,7.136,7.152,7.168,7.184,7.2,7.216,7.232,7.248,7.264,7.28,7.296,7.312,7.328,7.344,7.36,7.376,7.392,7.408,7.424,7.44,7.456,7.472,7.488,7.504,7.52,7.536,7.552,7.568,7.584,7.6,7.616,7.632,7.648,7.664,7.68,7.696,7.712,7.728,7.744,7.76,7.776,7.792,7.808,7.824,7.84,7.856,7.872,7.888,7.904,7.92,7.936,7.952,7.968,7.984],\"xaxis\":\"x\",\"y\":[0.7971733358981173,0.7969835544601258,0.7953360659348664,0.7922490545952379,0.7877495333446096,0.7818731195328802,0.7746637275206287,0.7661731815820381,0.7564607537490515,0.7455926321366737,0.733641326137476,0.7206850156198716,0.706806851898147,0.6920942187558711,0.6766379621901049,0.6605315978006756,0.6438705048728958,0.626751116197892,0.6092701125429136,0.5915236304325385,0.5736064915369992,0.5556114614961564,0.5376285454474153,0.5197443268848762,0.5020413557693402,0.48459759104625955,0.4674859019264041,0.45077363145531013,0.43452222505536003,0.4187869258823062,0.4036165380079116,0.38905325763340537,0.37513257176470877,0.361883223049056,0.34932723879074956,0.33748002153844686,0.32635049807169486,0.31594132311458206,0.3062491336716404,0.2972648495166305,0.2889740150685622,0.28135717766088564,0.2743902970468344,0.2680451808846247,0.26228994090720853,0.25708946449903314,0.2524058964734363,0.24819912596390448,0.24442727350720225,0.24104717360135905,0.23801484826250746,0.23528596737761193,0.23281629195070275,0.23056209666458852,0.2284805685239767,0.2265301787059733,0.22467102511629505,0.22286514353060874,0.22107678558701446,0.21927266228439815,0.21742215202885437,0.2154974726536484,0.21347381721427372,0.21132945372555326,0.20904578936017104,0.20660739996414287,0.20400202606211906,0.20122053682113114,0.19825686371362905,0.19510790586613505,0.19177340929789644,0.18825582244145625,0.18456013049372746,0.18069367127021785,0.176665935326087,0.17248835316521066,0.1681740723827985,0.16373772757828683,0.15919520583490923,0.15456341049107347,0.14986002582891306,0.14510328517862503,0.1403117447863976,0.13550406562129502,0.13069880510541784,0.12591422054545728,0.12116808582519698,0.11647752269146591,0.11185884773359261,0.10732743592197067,0.10289760133811708,0.09858249549974588,0.0943940234625432,0.09034277766843699,0.08643798931002408,0.08268749679508627,0.07909773072482129,0.07567371464637322,0.07241908070505353,0.06933609920523377,0.06642572099138408,0.0636876314821378,0.06112031513040324,0.058721129040739804,0.05648638445072102,0.054411434774916966,0.05249076891721589,0.050718108578277035,0.049086508318605435,0.04758845718269613,0.04621598074443964,0.04496074249713882,0.04381414358168244,0.04276741992228339,0.04181173591945647,0.040938273933376894,0.04013831887639425,0.03940333732009347,0.038725050609191576,0.038095501560705985,0.03750711441163448,0.036952747761141685,0.036425740333383354,0.03591994946416208,0.03542978228814528,0.034950219673048954,0.03447683301269675,0.0340057940519294,0.033533877972804736,0.03305846002315284,0.03257750601527189,0.03208955706424071,0.03159370897189903,0.03108958669401976,0.030577314354508164,0.030057481291708446,0.029531104638050292,0.028999588945516498,0.02846468337577884,0.027928436975568828,0.027393152555058285,0.026861339679931585,0.026335667276704406,0.02581891633591297,0.02531393317936829,0.024823583736019027,0.024350709246435683,0.02389808378879728,0.023468373989920147,0.02306410125356936,0.022687606805416115,0.022341019819840664,0.022026228858625263,0.021744856815761632,0.021498239526332882,0.021287408161020885,0.02111307549146198,0.020975626075634204,0.020875110376944096,0.02081124279582464,0.020783403558712835,0.020790644376325832,0.020831697751422237,0.020904989785828738,0.021008656307606823,0.02114056211195452,0.021298323083951524,0.021479330947695014,0.02168078036491436,0.021899698086902022,0.022132973846780667,0.02237739266484206,0.02262966822808459,0.022886476996368418,0.02314449268182074,0.023400420745457715,0.02365103255552438,0.02389319885583515,0.024123922199497265,0.024340368013832072,0.024539893976013905,0.024720077395902387,0.024878740322607628,0.02501397211436214,0.025124149237074463,0.025207952085294503,0.025264378649886274,0.025292754889262525,0.02529274169512362,0.02526433837898542,0.025207882641907882,0.02512404702636843,0.025013831885718617,0.024878554942739592,0.02471983754398163,0.024539587750523336,0.024339980438059624,0.024123434609534984,0.023892588151507542,0.023650270290822114,0.02339947203071493,0.023143314864979895,0.022885018085152524,0.022627865008673684,0.02237516846564646,0.022130235888040445,0.02189633434805613,0.02167665589187487,0.021474283511268795,0.02129215808862566,0.021133046640990315,0.020999512175872054,0.020893885455973673,0.020818238951838344,0.020774363240848578,0.02076374608823854,0.02078755442097182,0.020846619378689514,0.02094142459763027,0.021072097853661143,0.02123840615954314,0.021439754379484224,0.02167518739112741,0.021943395791609224,0.022242725110440745,0.022571188457970594,0.02292648250434663,0.0233060066505084,0.023706885220095085,0.02412599246959269,0.02455998018388218,0.02500530759594674,0.025458273343200336,0.025915049149066612,0.026371714897411573,0.02682429474956957,0.027268793939294496,0.027701235870339565,0.028117699134748386,0.02851435406756641,0.02888749845570151,0.029233592025194016,0.02954928934223598,0.02983147077888316,0.03007727121443797,0.030284106167765154,0.03044969508410254,0.030572081531915322,0.030649650100634744,0.030681139828269248,0.030665654028354628,0.030602666427996396,0.030492023572203406,0.030333943493754106,0.030129010691780266,0.02987816750549019,0.02958270201134208,0.029244232611891317,0.028864689521918077,0.028446293391744128,0.027991531338401564,0.02750313068210552,0.0269840307079726,0.02643735279084982,0.025866369234301145,0.025274471183140954,0.024665135972395176,0.024041894274283097,0.023408297398890932,0.02276788509387693,0.022124154174091238,0.021480528293758974,0.020840329152252052,0.020206749399902517,0.019582827483241038,0.018971424639964395,0.0183752042233303,0.017796613504030116,0.017237868065381225,0.016700938875359204,0.016187542086991667,0.015699131587354385,0.015236894285207405,0.01480174809850247,0.014394342575863545,0.014015062060913217,0.013664031285189998,0.013341123254506936,0.013045969275057185,0.012777970949435126,0.01253631395904985,0.012319983438160534,0.012127780735934644,0.011958341356472838,0.011810153862589923,0.011681579527209012,0.011570872516418506,0.011476200390458427,0.011395664713030829,0.011327321565256166,0.011269201768202959,0.011219330627082805,0.011175747020801664,0.01113652167246862,0.011099774449553268,0.011063690556526349,0.01102653549787487,0.010986668705219858,0.010942555738731603,0.010892778989990528,0.01083604683072173,0.010771201169281482,0.010697223394227486,0.010613238701593844,0.010518518819445679,0.010412483159734769,0.010294698443246871,0.010164876858356922,0.010022872828229378,0.009868678473867286,0.009702417871885765,0.009524340215938964,0.009334811999257613,0.009134308342669298,0.00892340359771076,0.008702761357958848,0.0084731240134876,0.00823530198341192,0.007990162759839037,0.007738619893275789,0.007481622044719983,0.007220142223402865,0.006955167321577501,0.006687688049011838,0.006418689360106733,0.006149141455996865,0.005879991432786454,0.005612155635415683,0.005346512764736292,0.005083897773387047,0.004825096574183952,0.004570841573153569,0.004321808028200493,0.004078611223863868,0.003841804442811861,0.003611877705761427,0.0033892572434871806,0.003174305657566716,0.0029673227205555992,0.002768546761418228,0.0025781565782729238,0.002396273817828362,0.0022229657592652257,0.002058248439705134,0.0019020900587486678,0.0017544146007809336,0.0016151056157541338,0.0014840101018691867,0.001360942436895495,0.0012456883086887176,0.0011380085996883322,0.0010376431846993758,0.000944314605987388,0.0008577315945488441,0.0007775924112733159,0.00070358798650825,0.0006354048411998216,0.0005727277772510738,0.0005152423289569784,0.0004626369713011488,0.00041460508449546766,0.00037084667738655297,0.00033106987522485626,0.00029499217978530925,0.00026234151194177193,0.00023285704853784204,0.0002062898667759566,0.0001824034103828746,0.00016097379252444835,0.0001417899508613159,0.00012465367028764815,0.00010937948880682794,0.00009579450170141781,0.0000837380786806214,0.00007306150806703772,0.00006362758134506659,0.00005531013056394334,0.00004799353019515583,0.00004157217411108027,0.000035949937400912126,0.00003103963179076995,0.000026762462504155616,0.000023047493501152457,0.000019831127181777605,0.000017056603840266618,0.000014673525420003919,0.000012637407448327776,0.000010909262429604484,9.455217444943136e-6,8.24616824722498e-6,7.257471748744041e-6,6.468678472357012e-6,5.863306271093688e-6,5.4286564101304e-6,5.155672942432097e-6,5.038846188013435e-6,5.076161038803429e-6,5.269090748123529e-6,5.622636816974978e-6,6.145415549490017e-6,6.849791807592885e-6,7.752060440521038e-6,8.872675788679e-6,0.000010236529553656042,0.00001187327717756689,0.000013817712675858821,0.000016110191609407723,0.000018797101555675537,0.000021931379037175304,0.000025573071381621182,0.00002978994141613923,0.00003465811223329453,0.000040262748506510796,0.00004669876997555763,0.00005407159177008234,0.00006249788519382816,0.0000721063514600503,0.00008303849965823124,0.00009544941895515055,0.00010950853370448544,0.0001254003287765663,0.00014332503104529294,0.00016349923160759478,0.0001861564319906404,0.0002115474963549725,0.00023994099056263746,0.0002716233879854112,0.0003068991211191741,0.0003460904574872937,0.0003895371780007386,0.00043759603593764,0.0004906399750514649,0.0005490570860542346,0.0006132492818857858,0.0006836306738040324,0.0007606256324415954,0.0008446665205906578,0.0009361910876133416,0.0010356395190317,0.0011434511390228449,0.0012600607682121607,0.001385894744290568,0.0015213666185371398,0.00166687254724974,0.0018227864033041642,0.0019894546394936983,0.0021671909418514855,0.0023562707177194305,0.0025569254697840756,0.0027693371135240194,0.0029936323013730493,0.0032298768222602265,0.003478070149903103,0.0037381402171644865,0.004009938496802161,0.004293235470917478,0.004587716572226153,0.004892978679831358,0.005208527250388455,0.005533774162350975,0.005868036346335079,0.006210535268520849,0.00656039732643762,0.006916655207496879,0.007278250250316233,0.007644035837324187,0.008012781834481208,0.008383180080364367,0.008753850912528408,0.009123350704192795,0.009490180369148381,0.009852794777582247,0.010209613010551781,0.010559029366372399,0.010899425018493211,0.011229180211791857,0.011546686872886206,0.011850361500279119,0.012138658192149508,0.01241008166357086,0.012663200101042622,0.012896657700585784,0.013109186736367632,0.013299619009923854,0.013466896535536836,0.0136100813251562,0.01372836414631746,0.013821072138685917,0.013887675188942177,0.013927790979512153],\"yaxis\":\"y\",\"type\":\"scatter\"},{\"legendgroup\":\"Survived\",\"marker\":{\"color\":\"red\"},\"mode\":\"lines\",\"name\":\"Survived\",\"showlegend\":true,\"x\":[0.0,0.008,0.016,0.024,0.032,0.04,0.048,0.056,0.064,0.072,0.08,0.088,0.096,0.104,0.112,0.12,0.128,0.136,0.144,0.152,0.16,0.168,0.176,0.184,0.192,0.2,0.208,0.216,0.224,0.232,0.24,0.248,0.256,0.264,0.272,0.28,0.288,0.296,0.304,0.312,0.32,0.328,0.336,0.344,0.352,0.36,0.368,0.376,0.384,0.392,0.4,0.408,0.416,0.424,0.432,0.44,0.448,0.456,0.464,0.472,0.48,0.488,0.496,0.504,0.512,0.52,0.528,0.536,0.544,0.552,0.56,0.568,0.576,0.584,0.592,0.6,0.608,0.616,0.624,0.632,0.64,0.648,0.656,0.664,0.672,0.68,0.688,0.696,0.704,0.712,0.72,0.728,0.736,0.744,0.752,0.76,0.768,0.776,0.784,0.792,0.8,0.808,0.816,0.824,0.832,0.84,0.848,0.856,0.864,0.872,0.88,0.888,0.896,0.904,0.912,0.92,0.928,0.936,0.944,0.952,0.96,0.968,0.976,0.984,0.992,1.0,1.008,1.016,1.024,1.032,1.04,1.048,1.056,1.064,1.072,1.08,1.088,1.096,1.104,1.112,1.12,1.128,1.136,1.144,1.152,1.16,1.168,1.176,1.184,1.192,1.2,1.208,1.216,1.224,1.232,1.24,1.248,1.256,1.264,1.272,1.28,1.288,1.296,1.304,1.312,1.32,1.328,1.336,1.344,1.352,1.36,1.368,1.376,1.384,1.392,1.4,1.408,1.416,1.424,1.432,1.44,1.448,1.456,1.464,1.472,1.48,1.488,1.496,1.504,1.512,1.52,1.528,1.536,1.544,1.552,1.56,1.568,1.576,1.584,1.592,1.6,1.608,1.616,1.624,1.632,1.64,1.648,1.656,1.664,1.672,1.68,1.688,1.696,1.704,1.712,1.72,1.728,1.736,1.744,1.752,1.76,1.768,1.776,1.784,1.792,1.8,1.808,1.816,1.824,1.832,1.84,1.848,1.856,1.864,1.872,1.88,1.888,1.896,1.904,1.912,1.92,1.928,1.936,1.944,1.952,1.96,1.968,1.976,1.984,1.992,2.0,2.008,2.016,2.024,2.032,2.04,2.048,2.056,2.064,2.072,2.08,2.088,2.096,2.104,2.112,2.12,2.128,2.136,2.144,2.152,2.16,2.168,2.176,2.184,2.192,2.2,2.208,2.216,2.224,2.232,2.24,2.248,2.256,2.264,2.272,2.28,2.288,2.296,2.304,2.312,2.32,2.328,2.336,2.344,2.352,2.36,2.368,2.376,2.384,2.392,2.4,2.408,2.416,2.424,2.432,2.44,2.448,2.456,2.464,2.472,2.48,2.488,2.496,2.504,2.512,2.52,2.528,2.536,2.544,2.552,2.56,2.568,2.576,2.584,2.592,2.6,2.608,2.616,2.624,2.632,2.64,2.648,2.656,2.664,2.672,2.68,2.688,2.696,2.704,2.712,2.72,2.728,2.736,2.744,2.752,2.76,2.768,2.776,2.784,2.792,2.8,2.808,2.816,2.824,2.832,2.84,2.848,2.856,2.864,2.872,2.88,2.888,2.896,2.904,2.912,2.92,2.928,2.936,2.944,2.952,2.96,2.968,2.976,2.984,2.992,3.0,3.008,3.016,3.024,3.032,3.04,3.048,3.056,3.064,3.072,3.08,3.088,3.096,3.104,3.112,3.12,3.128,3.136,3.144,3.152,3.16,3.168,3.176,3.184,3.192,3.2,3.208,3.216,3.224,3.232,3.24,3.248,3.256,3.264,3.272,3.28,3.288,3.296,3.304,3.312,3.32,3.328,3.336,3.344,3.352,3.36,3.368,3.376,3.384,3.392,3.4,3.408,3.416,3.424,3.432,3.44,3.448,3.456,3.464,3.472,3.48,3.488,3.496,3.504,3.512,3.52,3.528,3.536,3.544,3.552,3.56,3.568,3.576,3.584,3.592,3.6,3.608,3.616,3.624,3.632,3.64,3.648,3.656,3.664,3.672,3.68,3.688,3.696,3.704,3.712,3.72,3.728,3.736,3.744,3.752,3.76,3.768,3.776,3.784,3.792,3.8,3.808,3.816,3.824,3.832,3.84,3.848,3.856,3.864,3.872,3.88,3.888,3.896,3.904,3.912,3.92,3.928,3.936,3.944,3.952,3.96,3.968,3.976,3.984,3.992],\"xaxis\":\"x\",\"y\":[1.0995592036043764,1.0988465546541621,1.0967041641754107,1.093140518312787,1.0881696467674118,1.0818110342775884,1.0740894973092396,1.065035027109864,1.0546826005823642,1.0430719607211743,1.0302473686186597,1.0162573292928687,1.001154293805027,0.9849943403243002,0.9678368369571303,0.9497440892866585,0.9307809756636016,0.9110145733526969,0.8905137786684924,0.8693489242305033,0.8475913964319421,0.8253132561486459,0.80258686561737,0.7794845242867067,0.7560781162919896,0.732438772029361,0.7086365461071223,0.684740113736279,0.6608164873910984,0.6369307553261545,0.6131458432829145,0.5895223004588757,0.5661181105493898,0.5429885284085982,0.5201859426154439,0.4977597639754939,0.4757563397422859,0.45421889310544117,0.4331874872689813,0.4126990132344899,0.3927872002109122,0.373482647398371,0.35481287573762493,0.3368023980810895,0.31947280612642853,0.3028428723594672,0.28692866518034094,0.27174367533469296,0.25729895174049255,0.2436032447897575,0.23066315521276454,0.2184832866188962,0.20706639987267533,0.1964135675239573,0.18652432658699383,0.1773968280525506,0.16902798161912563,0.16141359424221857,0.15454850122303398,0.14842668868856812,0.1430414064523064,0.13838527038727746,0.1344503535896648,0.13122826576016117,0.1287102203805122,0.1268870894129954,0.1257494453996692,0.12528759098505035,0.1254915760292788,0.12635120261789087,0.12785601840794947,0.12999529887765984,0.1327580191668668,0.13613281630810853,0.14010794275155974,0.144671212181376,0.14980993870518272,0.1555108705719561,0.1617601196359108,0.16854308783469862,0.17584439198875318,0.18364778825474093,0.19193609757939786,0.20069113350032086,0.20989363362754024,0.21952319611365492,0.2295582223811695,0.23997586732357726,0.25075199813174903,0.26186116281997196,0.2732765694367105,0.2849700768446766,0.29691219784364487,0.30907211528867745,0.32141771172672795,0.33391561293737243,0.34653124561966603,0.3592289093182629,0.3719718625292403,0.3847224227714293,0.3974420802533158,0.4100916246113736,0.4226312840435649,0.435020876014571,0.4472199685675686,0.4591880511439025,0.4708847136875075,0.48226983269747226,0.49330376279102134,0.5039475322518976,0.5141630409665771,0.5239132590944474,0.5331624247784126,0.5418762391807579,0.5500220571249772,0.557569071639173,0.5644884907295018,0.570753704763521,0.5763404429125807,0.5812269171887227,0.5853939527145438,0.5888251029824895,0.5915067489924098,0.5934281813008927,0.5945816641715905,0.5949624811808005,0.5945689618045213,0.5934024886906986,0.591467485501022,0.5887713853881681,0.5853245803549749,0.5811403519196215,0.5762347836827417,0.5706266565577559,0.5643373275812057,0.55739059336511,0.5498125393858752,0.5416313764228438,0.5328772655634048,0.5235821332787847,0.5137794781453379,0.5035041708392304,0.4927922490673738,0.48168070911515376,0.4702072956905179,0.45841029172639597,0.44632830976823296,0.4340000865227039,0.4214642820773678,0.4087592852210144,0.3959230262015005,0.38299279815374465,0.370005088316589,0.35699542003500184,0.34399820641539813,0.3310466163683267,0.31817245363585533,0.3054060492629326,0.29277616783370763,0.2803099276575293,0.2680327349560518,0.255968231974327,0.24413825881601575,0.23256282868721917,0.22126011612572613,0.21024645769385764,0.19953636452393742,0.18914254602664787,0.17907594400426194,0.1693457763534604,0.15995958949605057,0.15092331864063568,0.14224135495371804,0.13391661870471097,0.12595063744554058,0.11834362829122441,0.1110945833827338,0.10420135763659799,0.09766075791668238,0.09146863280128376,0.08561996216263276,0.08010894582500609,0.07492909062122458,0.07007329522446683,0.06553393219227861,0.06130292672153021,0.05737183167619441,0.05373189851340113,0.05037414379657819,0.04728941104705032,0.044468427746564294,0.041901857362390306,0.03958034632344569,0.0374945659298291,0.03563524922900805,0.033993222939262054,0.03255943454472224,0.03132497472620164,0.030281095327921333,0.029419223092067074,0.028730969420864963,0.0282081364495205,0.027842719732965038,0.02762690786497128,0.027553079359924782,0.027613797135503774,0.027801800938841395,0.028109998059615872,0.028531452671084548,0.029059374134531725,0.029687104594155213,0.030408106178251067,0.031215948108899542,0.032104294006402655,0.03306688965671922,0.034097551490285316,0.035190155999129204,0.036338630296326786,0.03753694399779234,0.03877910258144348,0.040059142353064695,0.0413711271220436,0.042709146663712935,0.04406731701857688,0.04543978265244949,0.0468207204756587,0.04820434569429903,0.04958491944211321,0.05095675811829734,0.052314244334453947,0.05365183935329977,0.05496409688273927,0.05624567807169026,0.05749136753876583,0.05869609025170117,0.05985492906437252,0.06096314270949608,0.06201618403868746,0.06300971829754635,0.06393964122186074,0.06480209674186174,0.06559349408472617,0.06631052407113143,0.06695017440956648,0.06750974380217697,0.06798685468806054,0.06837946446397516,0.06868587503820704,0.06890474059067093,0.06903507343101242,0.06907624786624648,0.06902800201017104,0.06889043748808893,0.06866401701207257,0.06834955982383584,0.06794823502397103,0.06746155282762517,0.06689135380738984,0.06623979620400487,0.06550934140422987,0.06470273770269243,0.06382300248050511,0.06287340294778021,0.061857435609713816,0.060778804626548326,0.05964139924636316,0.05844927049619663,0.057206607321478746,0.05591771236606805,0.05458697758544522,0.053218859883760475,0.05181785696162784,0.05038848355581158,0.0489352482444325,0.047462630982137356,0.04597506151897174,0.0444768988446603,0.04297241178678309,0.041465760877142384,0.03996098158562989,0.03846196900532674,0.036972464056599014,0.03549604126177176,0.034036098125794806,0.03259584614229927,0.03117830342879833,0.029786288979644634,0.02842241851089027,0.027089101857524087,0.025788541870824477,0.024522734751848855,0.023293471746489637,0.022102342118114154,0.020950737305639483,0.019839856167998368,0.01877071121034829,0.017744135683073634,0.016760791441601683,0.015821177453288593,0.014925638837072513,0.014074376322200401,0.0132674560140448,0.012504819357760575,0.01178629319422346,0.011111599807246188,0.010480366866400545,0.00989213717579446,0.009346378145766079,0.008842490911568142,0.008379819030634434,0.007957656697854807,0.007575256426342258,0.007231836149376815,0.006926585707470328,0.006658672692735558,0.006427247630896905,0.006231448489272196,0.006070404506832933,0.005943239349951361,0.005849073604618521,0.005787026622723198,0.0057562177463750435,0.005755766940200756,0.005784794867011709,0.005842422447203838,0.005927769946687975,0.006039955642040858,0.006178094114897736,0.006341294230369817,0.006528656856451752,0.0067392723829833075,0.00697221809974516,0.007226555493701798,0.007501327525256646,0.007795555942672281,0.008108238692531598,0.008438347482297204,0.008784825548679842,0.0091465856826715,0.009522508558764207,0.009911441412082429,0.010312197102944821,0.01072355360376422,0.011144253938246812,0.011573006597583717,0.012008486452811004,0.012449336176772992,0.01289416818322691,0.01334156708461847,0.013790092664006584,0.014238283350560701,0.014684660182081725,0.015127731232141879,0.015565996473785277,0.015997953046317875,0.016422100886623568,0.016836948681709103,0.017241020094880558,0.017632860214114227,0.01801104216788231,0.01837417385093692,0.018720904700413196,0.01904993246108914,0.019360009877773723,0.019649951252592814,0.01991863880542486,0.020165028776886983,0.02038815721509765,0.020587145389916697,0.020761204781467087,0.02090964159344244,0.02103186074596028,0.021127369307486835,0.0211957793305801,0.021236810061814538,0.021250289502201144,0.02123615530062552,0.021194454969229903,0.021125345416178096,0.021029091797799215,0.02090606569861939,0.0207567426541938,0.020581699037863287,0.020381608338511863,0.020157236862026234,0.019909438894390653,0.019639151369133936,0.019347388086128715,0.019035233532480475,0.018703836359399394,0.01835440257149148,0.017988188486816964,0.017606493527328196,0.017210652899915246,0.016802030228255656,0.016382010194999068,0.015951991252537066,0.015513378458739329,0.015067576491614618,0.014615982893916904,0.014159981595309703,0.013700936755874938,0.013240186970559436,0.01277903986965013,0.012318767145616284,0.011860600031714331,0.011405725252677667,0.01095528146267209,0.010510356180543894,0.010071983227281898,0.009641140665608098,0.009218749236759409,0.008805671284868298,0.008402710154940844,0.008010610046301695,0.007630056299564024,0.0072616760917155005,0.006906039510814279,0.0065636609790797945,0.0062350009908560865,0.005920468130029596,0.0056204213300021216,0.005335172338254048,0.005064988346876733,0.004810094750199151,0.0045706779907698095,0.004346888455465269,0.0041388433843644315,0.003946629756231302,0.0037703071159678413,0.0036099103112070033,0.003465452107290409,0.0033369256521886817,0.0032243067654483515,0.003127556027960921,0.0030466206522192078,0.002981436115726894,0.0029319275433318417,0.002898010827435809,0.0028795934782663304,0.0028765751996553215,0.0028888481890276766,0.002916297163537956,0.002958799117479622,0.003016222819206217,0.0030884280588242183,0.003175264660821495,0.0032765712785609727,0.003392173990176309,0.003521884717833593,0.0036654994945524233,0.0038227966047901683,0.003993534626769426,0.004177450406051307,0.004374256991111833,0.004583641562651266,0.004805263389041092,0.005038751840683618,0.005283704496109566,0.005539685372368921,0.005806223311667728,0.006082810555272716,0.006368901534440976,0.006663911906542529,0.006967217862630272,0.007278155730490536,0.007596021894685609,0.007920073052299548,0.00824952682003711,0.00858356270502738,0.008921323448179619,0.009261916745253274,0.009604417346977845,0.009947869535623875,0.010291289971423985,0.010633670898215675,0.010973983693666256,0.011311182745492237,0.011644209631242524,0.011971997575526163,0.012293476155071394,0.012607576218752348,0.012913234986749272,0.013209401290363194,0.013495040911717385,0.013769141980684439,0.014030720384904034,0.014278825147729098,0.014512543728377193,0.014731007198479674,0.014933395249628046,0.015118940987409096,0.015286935468801638,0.015436731941661206,0.015567749747333487,0.01567947785018589,0.015771477961004976,0.015843387224738083,0.015894920446925195,0.015925871837324503],\"yaxis\":\"y\",\"type\":\"scatter\"},{\"legendgroup\":\"Didn't Survive\",\"marker\":{\"color\":\"orange\"},\"mode\":\"lines\",\"name\":\"Didn't Survive\",\"showlegend\":true,\"x\":[0.0,0.012,0.024,0.036,0.048,0.06,0.072,0.084,0.096,0.108,0.12,0.132,0.144,0.156,0.168,0.18,0.192,0.204,0.216,0.228,0.24,0.252,0.264,0.276,0.288,0.3,0.312,0.324,0.336,0.348,0.36,0.372,0.384,0.396,0.408,0.42,0.432,0.444,0.456,0.468,0.48,0.492,0.504,0.516,0.528,0.54,0.552,0.564,0.576,0.588,0.6,0.612,0.624,0.636,0.648,0.66,0.672,0.684,0.696,0.708,0.72,0.732,0.744,0.756,0.768,0.78,0.792,0.804,0.816,0.828,0.84,0.852,0.864,0.876,0.888,0.9,0.912,0.924,0.936,0.948,0.96,0.972,0.984,0.996,1.008,1.02,1.032,1.044,1.056,1.068,1.08,1.092,1.104,1.116,1.128,1.14,1.152,1.164,1.176,1.188,1.2,1.212,1.224,1.236,1.248,1.26,1.272,1.284,1.296,1.308,1.32,1.332,1.344,1.356,1.368,1.38,1.392,1.404,1.416,1.428,1.44,1.452,1.464,1.476,1.488,1.5,1.512,1.524,1.536,1.548,1.56,1.572,1.584,1.596,1.608,1.62,1.632,1.644,1.656,1.668,1.68,1.692,1.704,1.716,1.728,1.74,1.752,1.764,1.776,1.788,1.8,1.812,1.824,1.836,1.848,1.86,1.872,1.884,1.896,1.908,1.92,1.932,1.944,1.956,1.968,1.98,1.992,2.004,2.016,2.028,2.04,2.052,2.064,2.076,2.088,2.1,2.112,2.124,2.136,2.148,2.16,2.172,2.184,2.196,2.208,2.22,2.232,2.244,2.256,2.268,2.28,2.292,2.304,2.316,2.328,2.34,2.352,2.364,2.376,2.388,2.4,2.412,2.424,2.436,2.448,2.46,2.472,2.484,2.496,2.508,2.52,2.532,2.544,2.556,2.568,2.58,2.592,2.604,2.616,2.628,2.64,2.652,2.664,2.676,2.688,2.7,2.712,2.724,2.736,2.748,2.76,2.772,2.784,2.796,2.808,2.82,2.832,2.844,2.856,2.868,2.88,2.892,2.904,2.916,2.928,2.94,2.952,2.964,2.976,2.988,3.0,3.012,3.024,3.036,3.048,3.06,3.072,3.084,3.096,3.108,3.12,3.132,3.144,3.156,3.168,3.18,3.192,3.204,3.216,3.228,3.24,3.252,3.264,3.276,3.288,3.3,3.312,3.324,3.336,3.348,3.36,3.372,3.384,3.396,3.408,3.42,3.432,3.444,3.456,3.468,3.48,3.492,3.504,3.516,3.528,3.54,3.552,3.564,3.576,3.588,3.6,3.612,3.624,3.636,3.648,3.66,3.672,3.684,3.696,3.708,3.72,3.732,3.744,3.756,3.768,3.78,3.792,3.804,3.816,3.828,3.84,3.852,3.864,3.876,3.888,3.9,3.912,3.924,3.936,3.948,3.96,3.972,3.984,3.996,4.008,4.02,4.032,4.044,4.056,4.068,4.08,4.092,4.104,4.116,4.128,4.14,4.152,4.164,4.176,4.188,4.2,4.212,4.224,4.236,4.248,4.26,4.272,4.284,4.296,4.308,4.32,4.332,4.344,4.356,4.368,4.38,4.392,4.404,4.416,4.428,4.44,4.452,4.464,4.476,4.488,4.5,4.512,4.524,4.536,4.548,4.56,4.572,4.584,4.596,4.608,4.62,4.632,4.644,4.656,4.668,4.68,4.692,4.704,4.716,4.728,4.74,4.752,4.764,4.776,4.788,4.8,4.812,4.824,4.836,4.848,4.86,4.872,4.884,4.896,4.908,4.92,4.932,4.944,4.956,4.968,4.98,4.992,5.004,5.016,5.028,5.04,5.052,5.064,5.076,5.088,5.1,5.112,5.124,5.136,5.148,5.16,5.172,5.184,5.196,5.208,5.22,5.232,5.244,5.256,5.268,5.28,5.292,5.304,5.316,5.328,5.34,5.352,5.364,5.376,5.388,5.4,5.412,5.424,5.436,5.448,5.46,5.472,5.484,5.496,5.508,5.52,5.532,5.544,5.556,5.568,5.58,5.592,5.604,5.616,5.628,5.64,5.652,5.664,5.676,5.688,5.7,5.712,5.724,5.736,5.748,5.76,5.772,5.784,5.796,5.808,5.82,5.832,5.844,5.856,5.868,5.88,5.892,5.904,5.916,5.928,5.94,5.952,5.964,5.976,5.988],\"xaxis\":\"x2\",\"y\":[1.3871709821916842,1.3853384377508025,1.379848130471808,1.3707437978275665,1.3580976029380634,1.3420091950615096,1.3226044171050142,1.3000336839909234,1.2744700615317863,1.246107080591628,1.215156325631641,1.1818448401655146,1.1464123941161695,1.1091086595367674,1.070190341618663,1.0299183113751018,0.9885547849008339,0.9463605917279176,0.9035925716114704,0.8605011351900222,0.8173280194876849,0.7743042642894747,0.7316484301598071,0.6895650734239986,0.6482434879280149,0.6078567179636917,0.5685608415156582,0.5304945180619134,0.4937787906394485,0.45851712784868087,0.42479568798045053,0.3926837845512339,0.36223453025604047,0.333485634703479,0.3064603302790464,0.28116840007072463,0.25760728195062416,0.23576322359379123,0.21561246437499723,0.19712242165538466,0.18025286088624906,0.16495703114839322,0.15118275014142324,0.13887342516995557,0.1279689992759338,0.11840681427615857,0.11012238502453148,0.10305008167813288,0.09712371906079245,0.09227705434974967,0.08844419622977857,0.08555993034178516,0.08355996728277762,0.08238112058133587,0.08196142297364103,0.08224018994131196,0.08315803985056437,0.08465688016368547,0.08667986909346516,0.08917136175716907,0.0920768493799086,0.09534289942070646,0.09891710367313808,0.10274804045176815,0.10678525594261858,0.11097926869751702,0.11528160011523211,0.11964483260360201,0.12402269598184135,0.12837018158548605,0.13264368250116376,0.1368011574054538,0.14080231463048776,0.14460881234521358,0.14818447013858208,0.1514954868303302,0.15451065902320657,0.15720159475174725,0.15954291657719238,0.1615124486225336,0.16309138232988787,0.16426441614393564,0.16501986486778755,0.16534973508519882,0.1652497637779004,0.16471941806897974,0.16376185487161446,0.16238384009474804,0.16059562793157256,0.1584108016106841,0.15584607780260243,0.15292107762639037,0.14965806787468094,0.1460816766554296,0.14221858812241023,0.138097221324724,0.13374739844187067,0.12920000778267154,0.12448666691346322,0.11963939114757523,0.11469027238035727,0.10967117290139651,0.1046134383696952,0.09954763361214267,0.09450330431560817,0.08950876704483127,0.08459092934866767,0.0797751410330466,0.0750850769969135,0.07054265136313397,0.06616796200472141,0.061979263980951244,0.05799296986963182,0.05422367452080742,0.050684201371055206,0.04738566715212949,0.044337561606644524,0.041547838688095716,0.03902301567285896,0.03676827664535944,0.03478757693079391,0.03308374523735255,0.03165858052519543,0.030512940935068802,0.029646822476822616,0.029059425588172795,0.028749208117195627,0.028713923748366288,0.028950645371339956,0.02945577337412056,0.030225029317784216,0.03125343590888944,0.03253528461881501,0.03406409269777855,0.03583255168700083,0.037832469838008344,0.0400547110967915,0.042489133496832164,0.04512452992434541,0.04794857426797449,0.05094777594158346,0.054107445671962386,0.05741167527375051,0.060843333894167205,0.06438408290355728,0.06801441124003742,0.07171369259403264,0.07546026534975013,0.07923153569503255,0.08300410377932868,0.08675391225344789,0.09045641597665667,0.09408677113945293,0.09762004153713738,0.10103141925268125,0.10429645658002844,0.10739130565195357,0.11029296194052192,0.1129795075814835,0.115430350343663,0.11762645402539823,0.11955055611488144,0.12118736870013805,0.12252375885526764,0.12354890505755334,0.12425442659856059,0.12463448343196905,0.12468584444076485,0.12440792269378141,0.12380277688247002,0.12287507876830774,0.12163204711404783,0.12008334920268297,0.11824097165148598,0.11611906279065748,0.11373374938394697,0.11110293091074634,0.10824605499607172,0.10518387785916797,0.10193821384811981,0.09853167823412437,0.09498742745475613,0.09132890092268534,0.08757956835927644,0.08376268637767793,0.0799010677356049,0.0760168663137207,0.07213138046220437,0.06826487690746522,0.06443643693513576,0.06066382607673067,0.056963388037628515,0.05334996312475664,0.04983683097402786,0.046435676949628454,0.04315658119775419,0.040008028992988574,0.03699694072126322,0.03412871960272654,0.03140731507274996,0.0288352996100836,0.026413956726776495,0.024143377812522418,0.02202256555311548,0.020049541714240737,0.01822145719273232,0.016534702381952145,0.01498501607003155,0.0135675912831449,0.012277176694563683,0.01110817243797392,0.01005471938476261,0.009110781164466461,0.008270218420652127,0.007526854997079592,0.006874535937661904,0.00630717735570941,0.005818808381131249,0.005403605527208565,0.005055919930395033,0.004770298007060465,0.004541496140380871,0.004364490059355778,0.004234479601231359,0.004146889559771866,0.004097367316437922,0.004081777931370035,0.004096197338033332,0.004136904241422105,0.004200371266841455,0.004283255846455338,0.004382391265939957,0.0044947782255561845,0.004617577200494206,0.004748101816070896,0.004883813385750767,0.005022316695351053,0.00516135705634807,0.00529881859593298,0.005432723702209643,0.00556123350034748,0.0056826492000940625,0.005795414127137162,0.005898116230537735,0.005989490845825051,0.006068423488186118,0.0061339524521777065,0.006185271003088564,0.006221728959900604,0.0062428334900539156,0.006248248961124784,0.006237795723221448,0.006211447727473599,0.006169328919490003,0.0061117083811247155,0.006038994228374461,0.005951726306810686,0.005850567757764723,0.005736295557739333,0.005609790159513586,0.005472024385541064,0.005324051742032728,0.005166994335209955,0.005002030579382232,0.004830382889657014,0.0046533055502598975,0.004472072942794339,0.0042879683075794095,0.004102273195852807,0.003916257751592919,0.003731171939545477,0.0035482378113532464,0.003368642875133471,0.0031935346061089417,0.0030240161076642647,0.002861142904150186,0.0027059208195560633,0.002559304870436666,0.0024221990777910083,0.0022954570814670903,0.0021798834225603626,0.002076235344568655,0.001985224953069792,0.0019075215666290335,0.0018437540886731955,0.0017945132312575318,0.0017603534269947359,0.0017417942748286707,0.0017393213786634032,0.0017533864548717878,0.0017844066051117952,0.0018327626743118099,0.0018987966397269781,0.0019828080051379504,0.002085049204031074,0.00220572004638735,0.0023449612748986815,0.002502847327373802,0.002679378432118184,0.0028744721914833525,0.0030879548348911527,0.0033195523457674155,0.0035688816863112525,0.003835442359268507,0.004118608556311587,0.004417622147771519,0.0047315867679285275,0.005059463243560735,0.0054000666008135415,0.005752064866658105,0.006113979856375296,0.006484190107902782,0.006860936087948254,0.007242327754084141,0.007626354512335267,0.00801089756192537,0.008393744568860932,0.008772606559004423,0.009145136870405919,0.009508951955156757,0.009861653774149435,0.010200853485112155,0.010524196086312963,0.010829385646497498,0.011114210726902706,0.011376569584399535,0.011614494736589476,0.01182617647044612,0.012009984886045457,0.012164490086040008,0.012288480149512967,0.012380976565185843,0.012441246842895454,0.012468814072840324,0.012463463258176932,0.012425244306817362,0.012354471631314036,0.012251720370010925,0.012117819306649224,0.0119538406278006,0.01176108671637589,0.011541074233625732,0.011295515790247145,0.011026299548337951,0.010735467129093696,0.010425190225636233,0.0100977463357401,0.009755494035278242,0.009400848209966929,0.009036255650722785,0.008664171397140045,0.00828703618495077,0.007907255317710351,0.007527179241386706,0.007149086054150634,0.0067751661336997865,0.006407509012158368,0.006048092575267223,0.005698774609470539,0.005361286668830215,0.005037230184580823,0.0047280746946133535,0.004435158029142138,0.0041596882530412025,0.0039027471354511137,0.0036652948937271218,0.003448175941932027,0.0032521253640396992,0.003077775828814225,0.002925664666843313,0.002796240840175024,0.002689871551061879,0.002606848257977689,0.0025473918937718924,0.002511657111914333,0.0024997354215507404,0.002511657109768421,0.0025473918892604435,0.0026068482506414505,0.0026898715401603808,0.0027962408246201345,0.002925664645102765,0.003077775798777711,0.0032521253228374033,0.0034481758856921407,0.0036652948172547018,0.003902747031805417,0.004159688112982068,0.004435157840407766,0.004728074440981507,0.005037229844652605,0.005361286214459542,0.005698774003742559,0.006048091769904299,0.00640750794420198,0.0067751647212795675,0.007149084191106331,0.007527176790453607,0.007907252101911798,0.008287031976760542,0.008664165904880346,0.00903624850154742,0.00940083892864095,0.009755482017801331,0.010097730816667594,0.010425170237724442,0.010735441453630746,0.011026266654212915,0.011295473759453376,0.011541020670484039,0.0117610186372941,0.011953754327852544,0.012117710198653927,0.01225158279111639,0.012354298611336216,0.012425027291751106,0.012463191781379784,0.012468475365393562,0.012440825373571475,0.01238045349930356,0.012287832714751304,0.01216369083201708,0.012009000823175608,0.01182496807228022,0.011613014788553816,0.01137476186061131,0.011112008475593998,0.010826709863574448,0.010520953555767234,0.010196934564448621,0.009856929902768978,0.00950327286380798,0.009138327470478094,0.008764463491660457,0.008384032395890454,0.007999344582824485,0.007612648195577151,0.007226109774916322,0.006841796970412886,0.006461663475189782,0.0060875363011302745,0.0057211054615110835,0.005363916079168621,0.0050173628915730325,0.004682687080531745,0.004360975314516906,0.004053160856499939,0.00376002656022695,0.003482209553458912,0.003220207388063348,0.0029743854240452954,0.0027449852075785287,0.0025321336016364752,0.002335852431608564,0.0021560684168970843,0.0019926231724249057,0.0018452830806745145,0.0017137488547176423,0.001597664635043121,0.0014966264872043177,0.0014101901927436801,0.0013378782518929184,0.0012791860425996322,0.0012335871059481625,0.0012005375525214633,0.00117947960724414,0.0011698443313657642,0.0011710535791568432,0.0011825212633293075,0.0012036540169503562,0.0012338513505445944,0.0012725054110843646,0.0013190004546174631,0.0013727121463945387,0.001433006801605178,0.001499240676330309,0.0015707594122315025,0.0016468977300306321,0.0017269794562274272,0.001810317955036962,0.0018962170235094745,0.0019839722925561972,0.002072873160499469,0.002162205269162901,0.002251253515794015,0.0023393055776483006,0.0024256559102318396,0.0025096101653625524,0.0025904899617066593,0.002667637928590193,0.0027404229339507953,0.002808245399517454,0.0028705426008680513,0.002926793847048386,0.0029765254340120765,0.0030193152682693927,0.0030547970617623393,0.0030826640059994945,0.003102671842713357,0.0031146412595168607],\"yaxis\":\"y2\",\"type\":\"scatter\"},{\"legendgroup\":\"Survived\",\"marker\":{\"color\":\"turquoise\"},\"mode\":\"lines\",\"name\":\"Survived\",\"showlegend\":true,\"x\":[0.0,0.01,0.02,0.03,0.04,0.05,0.06,0.07,0.08,0.09,0.1,0.11,0.12,0.13,0.14,0.15,0.16,0.17,0.18,0.19,0.2,0.21,0.22,0.23,0.24,0.25,0.26,0.27,0.28,0.29,0.3,0.31,0.32,0.33,0.34,0.35,0.36,0.37,0.38,0.39,0.4,0.41,0.42,0.43,0.44,0.45,0.46,0.47,0.48,0.49,0.5,0.51,0.52,0.53,0.54,0.55,0.56,0.57,0.58,0.59,0.6,0.61,0.62,0.63,0.64,0.65,0.66,0.67,0.68,0.69,0.7,0.71,0.72,0.73,0.74,0.75,0.76,0.77,0.78,0.79,0.8,0.81,0.82,0.83,0.84,0.85,0.86,0.87,0.88,0.89,0.9,0.91,0.92,0.93,0.94,0.95,0.96,0.97,0.98,0.99,1.0,1.01,1.02,1.03,1.04,1.05,1.06,1.07,1.08,1.09,1.1,1.11,1.12,1.13,1.14,1.15,1.16,1.17,1.18,1.19,1.2,1.21,1.22,1.23,1.24,1.25,1.26,1.27,1.28,1.29,1.3,1.31,1.32,1.33,1.34,1.35,1.36,1.37,1.38,1.39,1.4,1.41,1.42,1.43,1.44,1.45,1.46,1.47,1.48,1.49,1.5,1.51,1.52,1.53,1.54,1.55,1.56,1.57,1.58,1.59,1.6,1.61,1.62,1.63,1.64,1.65,1.66,1.67,1.68,1.69,1.7,1.71,1.72,1.73,1.74,1.75,1.76,1.77,1.78,1.79,1.8,1.81,1.82,1.83,1.84,1.85,1.86,1.87,1.88,1.89,1.9,1.91,1.92,1.93,1.94,1.95,1.96,1.97,1.98,1.99,2.0,2.01,2.02,2.03,2.04,2.05,2.06,2.07,2.08,2.09,2.1,2.11,2.12,2.13,2.14,2.15,2.16,2.17,2.18,2.19,2.2,2.21,2.22,2.23,2.24,2.25,2.26,2.27,2.28,2.29,2.3,2.31,2.32,2.33,2.34,2.35,2.36,2.37,2.38,2.39,2.4,2.41,2.42,2.43,2.44,2.45,2.46,2.47,2.48,2.49,2.5,2.51,2.52,2.53,2.54,2.55,2.56,2.57,2.58,2.59,2.6,2.61,2.62,2.63,2.64,2.65,2.66,2.67,2.68,2.69,2.7,2.71,2.72,2.73,2.74,2.75,2.76,2.77,2.78,2.79,2.8,2.81,2.82,2.83,2.84,2.85,2.86,2.87,2.88,2.89,2.9,2.91,2.92,2.93,2.94,2.95,2.96,2.97,2.98,2.99,3.0,3.01,3.02,3.03,3.04,3.05,3.06,3.07,3.08,3.09,3.1,3.11,3.12,3.13,3.14,3.15,3.16,3.17,3.18,3.19,3.2,3.21,3.22,3.23,3.24,3.25,3.26,3.27,3.28,3.29,3.3,3.31,3.32,3.33,3.34,3.35,3.36,3.37,3.38,3.39,3.4,3.41,3.42,3.43,3.44,3.45,3.46,3.47,3.48,3.49,3.5,3.51,3.52,3.53,3.54,3.55,3.56,3.57,3.58,3.59,3.6,3.61,3.62,3.63,3.64,3.65,3.66,3.67,3.68,3.69,3.7,3.71,3.72,3.73,3.74,3.75,3.76,3.77,3.78,3.79,3.8,3.81,3.82,3.83,3.84,3.85,3.86,3.87,3.88,3.89,3.9,3.91,3.92,3.93,3.94,3.95,3.96,3.97,3.98,3.99,4.0,4.01,4.02,4.03,4.04,4.05,4.06,4.07,4.08,4.09,4.1,4.11,4.12,4.13,4.14,4.15,4.16,4.17,4.18,4.19,4.2,4.21,4.22,4.23,4.24,4.25,4.26,4.27,4.28,4.29,4.3,4.31,4.32,4.33,4.34,4.35,4.36,4.37,4.38,4.39,4.4,4.41,4.42,4.43,4.44,4.45,4.46,4.47,4.48,4.49,4.5,4.51,4.52,4.53,4.54,4.55,4.56,4.57,4.58,4.59,4.6,4.61,4.62,4.63,4.64,4.65,4.66,4.67,4.68,4.69,4.7,4.71,4.72,4.73,4.74,4.75,4.76,4.77,4.78,4.79,4.8,4.81,4.82,4.83,4.84,4.85,4.86,4.87,4.88,4.89,4.9,4.91,4.92,4.93,4.94,4.95,4.96,4.97,4.98,4.99],\"xaxis\":\"x2\",\"y\":[1.1266288543411629,1.125672730144631,1.1227895189149644,1.1179944081357154,1.1113124117902593,1.1027781647611274,1.0924356369440211,1.0803377705760935,1.06654604517602,1.0511299753246273,1.034166547265581,1.0157396009666106,0.9959391648424715,0.9748607507943217,0.9526046175618281,0.9292750106084485,0.9049793868685293,0.8798276326743704,0.853931283057674,0.8274027503850857,0.8003545699493904,0.7728986697030211,0.7451456707991854,0.7172042250073227,0.6891803944062161,0.6611770780413551,0.6332934894758926,0.6056246883799818,0.5782611685039092,0.5512885035793205,0.5247870519021113,0.4988317195821971,0.47349178170951517,0.4488307599932875,0.42490635479046235,0.4017704288575641,0.37946903964423534,0.35804251650096075,0.33752557880230677,0.3179474906916754,0.29933224793612545,0.2816987922388977,0.2650612482920068,0.24942917885870114,0.2348078532522708,0.2211985247185778,0.20859871243027314,0.19700248405401546,0.18640073515252514,0.17678146202340278,0.16813002494964033,0.16042939923517238,0.15366041181548312,0.14780196166079052,0.14283122262102052,0.1387238277904766,0.13545403488984653,0.1329948725676729,0.1313182679073754,0.13039515578434038,0.13019557104603977,0.13068872478298763,0.1318430662162254,0.13362633194560725,0.13600558448039493,0.13894724210837794,0.14241710225129986,0.14638036050270256,0.15080162755004417,0.15564494614727067,0.16087381022851158,0.16645118814065415,0.1723395518246716,0.17850091359610143,0.18489687196734075,0.19148866772247225,0.19823725120317398,0.20510336149646102,0.21204761793598698,0.21903062404331458,0.22601308374840698,0.23295592944474994,0.23982046115824,0.2465684958451614,0.253162525587313,0.2595658832257773,0.2657429137726548,0.27165914976561023,0.2772814885861472,0.28257836965152916,0.2875199493140025,0.29207827126071895,0.2962274302041254,0.29994372668568836,0.3032058108850241,0.305994813430673,0.30829446134620525,0.3100911774335214,0.31137416159168935,0.3121354527906915,0.3123699706616645,0.31207553592436055,0.3112528691444926,0.3099055675935048,0.30804006026696057,0.3056655414000307,0.3027938830953175,0.29943952794457174,0.2956193627779725,0.2913525749081349,0.2866604924476929,0.28156641046567193,0.2760954049065156,0.27027413632421116,0.264130645580864,0.2576941437233629,0.25099479828283094,0.24406351823956549,0.2369317398618099,0.22963121556107743,0.2221938078116135,0.2146512900592553,0.20703515639759243,0.19937644162047258,0.19170555307208945,0.18405211551322842,0.1764448300077206,0.1689113476110381,0.1614781584164573,0.15417049628736468,0.14701225938047657,0.1400259463473711,0.1332326078941465,0.12665181318389973,0.12030163038698798,0.11419862052169924,0.10835784358519514,0.10279287585284859,0.09751583712455682,0.09253742662015588,0.08786696617302057,0.0835124493413913,0.07948059505061911,0.07577690439567458,0.07240571927098143,0.06937028155265068,0.0666727916349787,0.0643144652169045,0.06229558734303974,0.06061556282582829,0.05927296230807792,0.05826556336629189,0.05759038620245218,0.057243723622843044,0.05722116515466144,0.057517615302264125,0.058127306092523916,0.05904380420078704,0.06026001308313632,0.06176817066513253,0.06355984325007824,0.06562591640949064,0.06795658370336545,0.07054133414680423,0.07336893939152778,0.0764274416250215,0.0797041432059255,0.08318559905159054,0.08685761277240185,0.090705237507781,0.09471278236128193,0.09886382525758985,0.10314123295367997,0.10752718883104954,0.1120032289775006,0.11655028693696942,0.12114874736658399,0.125778508693297,0.1304190547106862,0.1350495349019652,0.13964885312050618,0.14419576410673654,0.14866897717259425,0.15304726624436563,0.15730958532398984,0.1614351883101273,0.16540375201558316,0.1691955011288411,0.1727913337963574,0.17617294645007214,0.17932295647260327,0.18222502128139081,0.18486395242328985,0.18722582330258294,0.18929806921806824,0.1910695784579026,0.19253077329343424,0.19367367982374029,0.19449198574973112,0.19498108529805466,0.1951381106688329,0.1949619495449323,0.19445324837130534,0.19361440128844243,0.19244952478120905,0.1909644182805704,0.1891665111281506,0.18706479647948976,0.18466975287879203,0.18199325438341812,0.1790484702482456,0.17584975529642016,0.17241253220226346,0.16875316699300333,0.164888839137435,0.1608374076311508,0.1566172745092006,0.1522472472181277,0.1477464012606667,0.1431339444887526,0.1384290843648896,0.1336508994398158,0.12881821620716657,0.12394949239548018,0.11906270764615265,0.11417526240511917,0.10930388572806105,0.10446455256623946,0.0996724109646492,0.09494171946837186,0.09028579489879301,0.08571697053072702,0.08124656457631829,0.0768848587634421,0.07264108668678536,0.06852343150995087,0.06453903250798018,0.060693999862295726,0.05699343705486272,0.05344147015567119,0.05004128325754482,0.046795159284700606,0.043704525386096815,0.04077000212094883,0.0379914556511887,0.03536805217333838,0.03289831384932391,0.030580175531194465,0.028411041617455467,0.02638784242764656,0.024507089535765178,0.022764929560999684,0.021157195974862566,0.019679458546109238,0.018327070107743065,0.017095210392966277,0.015978926748222468,0.014973171590682337,0.014072836533902209,0.013272783158325415,0.012567870452238188,0.01195297899332578,0.011423031980750991,0.010973013262462276,0.010597982532085326,0.010293087894207211,0.01005357601613801,0.009874800098440994,0.009752225905815735,0.009681436104527645,0.009658133152779023,0.009678140986532522,0.0097374057356854,0.009831995694540057,0.009958100756631897,0.010112031507583264,0.010290218151184291,0.010489209423791886,0.010705671630817858,0.010936387916968063,0.011178257859403344,0.01142829745051235,0.01168363951488089,0.011941534583657432,0.012199352229162429,0.012454582843553252,0.012704839827884439,0.012947862142213617,0.013181517153666014,0.01340380370773524,0.013612855338656159,0.01380694352751126,0.013984480911842475,0.014144024347931713,0.01428427772653442,0.014404094444625318,0.014502479439527729,0.014578590697509783,0.014631740156373987,0.014661393930548208,0.014667171797500158,0.01464884589571396,0.014606338596751227,0.014539719526825165,0.014449201726595324,0.014335136951294958,0.0141980101265932,0.014038432988531547,0.013857136948244468,0.013654965233768556,0.013432864371879186,0.013191875082410182,0.012933122665764758,0.012657806971211771,0.012367192038988816,0.012062595513151378,0.011745377924485524,0.0114169319436414,0.01107867170397277,0.01073202229143981,0.01037840949542068,0.010019249909486258,0.009655941465234977,0.009289854475297775,0.00892232325375128,0.008554638373580281,0.008188039611667506,0.007823709622229957,0.007462768369830777,0.0071062683432369786,0.006755190561625414,0.006410441375108444,0.006072850052396491,0.005743167139758972,0.005422063567401991,0.005110130472038525,0.004807879697868365,0.004515744932463884,0.004234083429220972,0.003963178264103392,0.0037032410713935863,0.0034544152010534002,0.003216779239074664,0.002990350831821953,0.0027750907557937366,0.0025709071753926035,0.0023776600331350418,0.0021951655191712995,0.0020232005699501593,0.0018615073492674152,0.0017097976687007318,0.0015677573084724736,0.001435050204016617,0.0013113224678771994,0.001196206220961349,0.001089323211540501,0.0009902882046773694,0.0008987121288977559,0.000814204970876471,0.0007363784126253465,0.0006648482091234421,0.0005992363074901416,0.0005391727116508434,0.0004842970989706315,0.0004342601975274659,0.0003887249345637404,0.0003473673681981854,0.00030987741571002393,0.0002759593926376588,0.0002453323775829793,0.00021773041799969548,0.0001929025923927733,0.00017061294428941012,0.0001506403030854549,0.00013277800644928667,0.00011683353840334247,0.00010262809652585852,0.00008999610094559513,0.00007878465696249261,0.00006885298223819418,0.000060071808581180894,0.0000523227674191548,0.00004549776712173709,0.00003949836942280281,0.00003423517130551289,0.000029627197863824513,0.000025601310849829724,0.00002209163686270349,0.000019039018436849668,0.000016390490646919958,0.000014098785267437617,0.000012121864005166028,0.000010422481862513559,8.967781288612476e-6,7.728917428939453e-6,6.680714491503077e-6,5.801353004248671e-6,5.072087540539084e-6,4.476994333220254e-6,4.002748078470326e-6,3.638427143895488e-6,3.375346336606862e-6,3.206916351760476e-6,3.1285290057805754e-6,3.137467356834628e-6,3.2328398238374004e-6,3.4155374302505593e-6,3.688213316314542e-6,4.055283679414128e-6,4.522949313576524e-6,5.099236922404027e-6,5.794059372097846e-6,6.619294029938239e-6,7.588878296260412e-6,8.718921382521617e-6,0.000010027831312752447,0.000011536456029139028,0.000013268237363717524,0.000015249376496591362,0.000017509009356623157,0.000020079390233566176,0.000022996081662008608,0.000026298148408753268,0.000030028353148427342,0.00003423335114986389,0.00003896388102144369,0.00004427494828108924,0.00005022599823062821,0.000056881074330029456,0.00006430895799051742,0.00007258328544335035,0.00008178263710011093,0.0000919905946083844,0.0001032957606316272,0.00011579173625216582,0.00012957705082003874,0.0001447550390564582,0.00016143366027720072,0.0001797252547365097,0.00019974623231358172,0.0002216166890783569,0.00024545994768701633,0.0002714020180753321,0.0002995709755429335,0.00033009625405588483,0.00036310785343857344,0.00039873546007697256,0.00043710748180963554,0.0004783499988343928,0.0005225856336982717,0.0005699323447549546,0.0006205021488540932,0.0006743997804539636,0.0007317212958045382,0.000792552632311569,0.0008569681346406061,0.0009250290605283122,0.0009967820806117253,0.0010722577878360521,0.0011514692331315369,0.0012344105050315416,0.0013210553717102728,0.0014113560045227555,0.001505241802507967,0.0016026183374443746,0.0017033664389076513,0.0018073414383548093,0.0019143725905368834,0.002024262689513506,0.0021367878952061295,0.0022516977847832076,0.0023687156412283685,0.0024875389892145376,0.002607840385913513,0.0027292684716347377,0.0028514492822410693,0.002973987822168265,0.0030964698936195552,0.003218464174161808,0.0033395245315646967,0.003459192561349812,0.003577000329206267,0.003692473297239036,0.0038051334099986536,0.003914502313451476,0.004020104677539258,0.004121471590794261,0.004218143993665405,0.004309676115812737,0.004395638881672897,0.0044756232481160535,0.004549243438022534,0.00461614003411643,0.004675982898406041,0.0047284738840919684,0.0047733493087964264,0.004810382160420134,0.004839384009813042,0.004860206607713421,0.004872743147019289],\"yaxis\":\"y2\",\"type\":\"scatter\"}],                        {\"template\":{\"data\":{\"histogram2dcontour\":[{\"type\":\"histogram2dcontour\",\"colorbar\":{\"outlinewidth\":0,\"ticks\":\"\"},\"colorscale\":[[0.0,\"#0d0887\"],[0.1111111111111111,\"#46039f\"],[0.2222222222222222,\"#7201a8\"],[0.3333333333333333,\"#9c179e\"],[0.4444444444444444,\"#bd3786\"],[0.5555555555555556,\"#d8576b\"],[0.6666666666666666,\"#ed7953\"],[0.7777777777777778,\"#fb9f3a\"],[0.8888888888888888,\"#fdca26\"],[1.0,\"#f0f921\"]]}],\"choropleth\":[{\"type\":\"choropleth\",\"colorbar\":{\"outlinewidth\":0,\"ticks\":\"\"}}],\"histogram2d\":[{\"type\":\"histogram2d\",\"colorbar\":{\"outlinewidth\":0,\"ticks\":\"\"},\"colorscale\":[[0.0,\"#0d0887\"],[0.1111111111111111,\"#46039f\"],[0.2222222222222222,\"#7201a8\"],[0.3333333333333333,\"#9c179e\"],[0.4444444444444444,\"#bd3786\"],[0.5555555555555556,\"#d8576b\"],[0.6666666666666666,\"#ed7953\"],[0.7777777777777778,\"#fb9f3a\"],[0.8888888888888888,\"#fdca26\"],[1.0,\"#f0f921\"]]}],\"heatmap\":[{\"type\":\"heatmap\",\"colorbar\":{\"outlinewidth\":0,\"ticks\":\"\"},\"colorscale\":[[0.0,\"#0d0887\"],[0.1111111111111111,\"#46039f\"],[0.2222222222222222,\"#7201a8\"],[0.3333333333333333,\"#9c179e\"],[0.4444444444444444,\"#bd3786\"],[0.5555555555555556,\"#d8576b\"],[0.6666666666666666,\"#ed7953\"],[0.7777777777777778,\"#fb9f3a\"],[0.8888888888888888,\"#fdca26\"],[1.0,\"#f0f921\"]]}],\"heatmapgl\":[{\"type\":\"heatmapgl\",\"colorbar\":{\"outlinewidth\":0,\"ticks\":\"\"},\"colorscale\":[[0.0,\"#0d0887\"],[0.1111111111111111,\"#46039f\"],[0.2222222222222222,\"#7201a8\"],[0.3333333333333333,\"#9c179e\"],[0.4444444444444444,\"#bd3786\"],[0.5555555555555556,\"#d8576b\"],[0.6666666666666666,\"#ed7953\"],[0.7777777777777778,\"#fb9f3a\"],[0.8888888888888888,\"#fdca26\"],[1.0,\"#f0f921\"]]}],\"contourcarpet\":[{\"type\":\"contourcarpet\",\"colorbar\":{\"outlinewidth\":0,\"ticks\":\"\"}}],\"contour\":[{\"type\":\"contour\",\"colorbar\":{\"outlinewidth\":0,\"ticks\":\"\"},\"colorscale\":[[0.0,\"#0d0887\"],[0.1111111111111111,\"#46039f\"],[0.2222222222222222,\"#7201a8\"],[0.3333333333333333,\"#9c179e\"],[0.4444444444444444,\"#bd3786\"],[0.5555555555555556,\"#d8576b\"],[0.6666666666666666,\"#ed7953\"],[0.7777777777777778,\"#fb9f3a\"],[0.8888888888888888,\"#fdca26\"],[1.0,\"#f0f921\"]]}],\"surface\":[{\"type\":\"surface\",\"colorbar\":{\"outlinewidth\":0,\"ticks\":\"\"},\"colorscale\":[[0.0,\"#0d0887\"],[0.1111111111111111,\"#46039f\"],[0.2222222222222222,\"#7201a8\"],[0.3333333333333333,\"#9c179e\"],[0.4444444444444444,\"#bd3786\"],[0.5555555555555556,\"#d8576b\"],[0.6666666666666666,\"#ed7953\"],[0.7777777777777778,\"#fb9f3a\"],[0.8888888888888888,\"#fdca26\"],[1.0,\"#f0f921\"]]}],\"mesh3d\":[{\"type\":\"mesh3d\",\"colorbar\":{\"outlinewidth\":0,\"ticks\":\"\"}}],\"scatter\":[{\"fillpattern\":{\"fillmode\":\"overlay\",\"size\":10,\"solidity\":0.2},\"type\":\"scatter\"}],\"parcoords\":[{\"type\":\"parcoords\",\"line\":{\"colorbar\":{\"outlinewidth\":0,\"ticks\":\"\"}}}],\"scatterpolargl\":[{\"type\":\"scatterpolargl\",\"marker\":{\"colorbar\":{\"outlinewidth\":0,\"ticks\":\"\"}}}],\"bar\":[{\"error_x\":{\"color\":\"#2a3f5f\"},\"error_y\":{\"color\":\"#2a3f5f\"},\"marker\":{\"line\":{\"color\":\"#E5ECF6\",\"width\":0.5},\"pattern\":{\"fillmode\":\"overlay\",\"size\":10,\"solidity\":0.2}},\"type\":\"bar\"}],\"scattergeo\":[{\"type\":\"scattergeo\",\"marker\":{\"colorbar\":{\"outlinewidth\":0,\"ticks\":\"\"}}}],\"scatterpolar\":[{\"type\":\"scatterpolar\",\"marker\":{\"colorbar\":{\"outlinewidth\":0,\"ticks\":\"\"}}}],\"histogram\":[{\"marker\":{\"pattern\":{\"fillmode\":\"overlay\",\"size\":10,\"solidity\":0.2}},\"type\":\"histogram\"}],\"scattergl\":[{\"type\":\"scattergl\",\"marker\":{\"colorbar\":{\"outlinewidth\":0,\"ticks\":\"\"}}}],\"scatter3d\":[{\"type\":\"scatter3d\",\"line\":{\"colorbar\":{\"outlinewidth\":0,\"ticks\":\"\"}},\"marker\":{\"colorbar\":{\"outlinewidth\":0,\"ticks\":\"\"}}}],\"scattermapbox\":[{\"type\":\"scattermapbox\",\"marker\":{\"colorbar\":{\"outlinewidth\":0,\"ticks\":\"\"}}}],\"scatterternary\":[{\"type\":\"scatterternary\",\"marker\":{\"colorbar\":{\"outlinewidth\":0,\"ticks\":\"\"}}}],\"scattercarpet\":[{\"type\":\"scattercarpet\",\"marker\":{\"colorbar\":{\"outlinewidth\":0,\"ticks\":\"\"}}}],\"carpet\":[{\"aaxis\":{\"endlinecolor\":\"#2a3f5f\",\"gridcolor\":\"white\",\"linecolor\":\"white\",\"minorgridcolor\":\"white\",\"startlinecolor\":\"#2a3f5f\"},\"baxis\":{\"endlinecolor\":\"#2a3f5f\",\"gridcolor\":\"white\",\"linecolor\":\"white\",\"minorgridcolor\":\"white\",\"startlinecolor\":\"#2a3f5f\"},\"type\":\"carpet\"}],\"table\":[{\"cells\":{\"fill\":{\"color\":\"#EBF0F8\"},\"line\":{\"color\":\"white\"}},\"header\":{\"fill\":{\"color\":\"#C8D4E3\"},\"line\":{\"color\":\"white\"}},\"type\":\"table\"}],\"barpolar\":[{\"marker\":{\"line\":{\"color\":\"#E5ECF6\",\"width\":0.5},\"pattern\":{\"fillmode\":\"overlay\",\"size\":10,\"solidity\":0.2}},\"type\":\"barpolar\"}],\"pie\":[{\"automargin\":true,\"type\":\"pie\"}]},\"layout\":{\"autotypenumbers\":\"strict\",\"colorway\":[\"#636efa\",\"#EF553B\",\"#00cc96\",\"#ab63fa\",\"#FFA15A\",\"#19d3f3\",\"#FF6692\",\"#B6E880\",\"#FF97FF\",\"#FECB52\"],\"font\":{\"color\":\"#2a3f5f\"},\"hovermode\":\"closest\",\"hoverlabel\":{\"align\":\"left\"},\"paper_bgcolor\":\"white\",\"plot_bgcolor\":\"#E5ECF6\",\"polar\":{\"bgcolor\":\"#E5ECF6\",\"angularaxis\":{\"gridcolor\":\"white\",\"linecolor\":\"white\",\"ticks\":\"\"},\"radialaxis\":{\"gridcolor\":\"white\",\"linecolor\":\"white\",\"ticks\":\"\"}},\"ternary\":{\"bgcolor\":\"#E5ECF6\",\"aaxis\":{\"gridcolor\":\"white\",\"linecolor\":\"white\",\"ticks\":\"\"},\"baxis\":{\"gridcolor\":\"white\",\"linecolor\":\"white\",\"ticks\":\"\"},\"caxis\":{\"gridcolor\":\"white\",\"linecolor\":\"white\",\"ticks\":\"\"}},\"coloraxis\":{\"colorbar\":{\"outlinewidth\":0,\"ticks\":\"\"}},\"colorscale\":{\"sequential\":[[0.0,\"#0d0887\"],[0.1111111111111111,\"#46039f\"],[0.2222222222222222,\"#7201a8\"],[0.3333333333333333,\"#9c179e\"],[0.4444444444444444,\"#bd3786\"],[0.5555555555555556,\"#d8576b\"],[0.6666666666666666,\"#ed7953\"],[0.7777777777777778,\"#fb9f3a\"],[0.8888888888888888,\"#fdca26\"],[1.0,\"#f0f921\"]],\"sequentialminus\":[[0.0,\"#0d0887\"],[0.1111111111111111,\"#46039f\"],[0.2222222222222222,\"#7201a8\"],[0.3333333333333333,\"#9c179e\"],[0.4444444444444444,\"#bd3786\"],[0.5555555555555556,\"#d8576b\"],[0.6666666666666666,\"#ed7953\"],[0.7777777777777778,\"#fb9f3a\"],[0.8888888888888888,\"#fdca26\"],[1.0,\"#f0f921\"]],\"diverging\":[[0,\"#8e0152\"],[0.1,\"#c51b7d\"],[0.2,\"#de77ae\"],[0.3,\"#f1b6da\"],[0.4,\"#fde0ef\"],[0.5,\"#f7f7f7\"],[0.6,\"#e6f5d0\"],[0.7,\"#b8e186\"],[0.8,\"#7fbc41\"],[0.9,\"#4d9221\"],[1,\"#276419\"]]},\"xaxis\":{\"gridcolor\":\"white\",\"linecolor\":\"white\",\"ticks\":\"\",\"title\":{\"standoff\":15},\"zerolinecolor\":\"white\",\"automargin\":true,\"zerolinewidth\":2},\"yaxis\":{\"gridcolor\":\"white\",\"linecolor\":\"white\",\"ticks\":\"\",\"title\":{\"standoff\":15},\"zerolinecolor\":\"white\",\"automargin\":true,\"zerolinewidth\":2},\"scene\":{\"xaxis\":{\"backgroundcolor\":\"#E5ECF6\",\"gridcolor\":\"white\",\"linecolor\":\"white\",\"showbackground\":true,\"ticks\":\"\",\"zerolinecolor\":\"white\",\"gridwidth\":2},\"yaxis\":{\"backgroundcolor\":\"#E5ECF6\",\"gridcolor\":\"white\",\"linecolor\":\"white\",\"showbackground\":true,\"ticks\":\"\",\"zerolinecolor\":\"white\",\"gridwidth\":2},\"zaxis\":{\"backgroundcolor\":\"#E5ECF6\",\"gridcolor\":\"white\",\"linecolor\":\"white\",\"showbackground\":true,\"ticks\":\"\",\"zerolinecolor\":\"white\",\"gridwidth\":2}},\"shapedefaults\":{\"line\":{\"color\":\"#2a3f5f\"}},\"annotationdefaults\":{\"arrowcolor\":\"#2a3f5f\",\"arrowhead\":0,\"arrowwidth\":1},\"geo\":{\"bgcolor\":\"white\",\"landcolor\":\"#E5ECF6\",\"subunitcolor\":\"white\",\"showland\":true,\"showlakes\":true,\"lakecolor\":\"white\"},\"title\":{\"x\":0.05},\"mapbox\":{\"style\":\"light\"}}},\"xaxis\":{\"anchor\":\"y\",\"domain\":[0.0,0.45],\"showgrid\":false},\"yaxis\":{\"anchor\":\"x\",\"domain\":[0.0,1.0]},\"xaxis2\":{\"anchor\":\"y2\",\"domain\":[0.55,1.0],\"showgrid\":false},\"yaxis2\":{\"anchor\":\"x2\",\"domain\":[0.0,1.0],\"matches\":\"y\",\"showticklabels\":false},\"annotations\":[{\"font\":{\"size\":16},\"showarrow\":false,\"text\":\"SibSp Distribution\",\"x\":0.225,\"xanchor\":\"center\",\"xref\":\"paper\",\"y\":1.0,\"yanchor\":\"bottom\",\"yref\":\"paper\"},{\"font\":{\"size\":16},\"showarrow\":false,\"text\":\"Parch Distribution\",\"x\":0.775,\"xanchor\":\"center\",\"xref\":\"paper\",\"y\":1.0,\"yanchor\":\"bottom\",\"yref\":\"paper\"},{\"font\":{\"size\":16},\"showarrow\":false,\"text\":\"Number of Relations\",\"x\":0.5,\"xanchor\":\"center\",\"xref\":\"paper\",\"y\":0,\"yanchor\":\"top\",\"yref\":\"paper\",\"yshift\":-30}],\"font\":{\"color\":\"white\"},\"plot_bgcolor\":\"#0a0a33\",\"paper_bgcolor\":\"#0a0a33\",\"showlegend\":false,\"title\":{\"text\":\"Relations Distribution\"}},                        {\"responsive\": true}                    ).then(function(){\n",
       "                            \n",
       "var gd = document.getElementById('500d32fe-ff71-4cd1-bcff-b85f0f0283b6');\n",
       "var x = new MutationObserver(function (mutations, observer) {{\n",
       "        var display = window.getComputedStyle(gd).display;\n",
       "        if (!display || display === 'none') {{\n",
       "            console.log([gd, 'removed!']);\n",
       "            Plotly.purge(gd);\n",
       "            observer.disconnect();\n",
       "        }}\n",
       "}});\n",
       "\n",
       "// Listen for the removal of the full notebook cells\n",
       "var notebookContainer = gd.closest('#notebook-container');\n",
       "if (notebookContainer) {{\n",
       "    x.observe(notebookContainer, {childList: true});\n",
       "}}\n",
       "\n",
       "// Listen for the clearing of the current output cell\n",
       "var outputEl = gd.closest('.output');\n",
       "if (outputEl) {{\n",
       "    x.observe(outputEl, {childList: true});\n",
       "}}\n",
       "\n",
       "                        })                };                });            </script>        </div>"
      ]
     },
     "metadata": {},
     "output_type": "display_data"
    }
   ],
   "source": [
    "# Making a subplot\n",
    "fig = make_subplots(rows = 1, cols = 2, subplot_titles = [f\"{column} Distribution\" for column in [\"SibSp\", \"Parch\"]], shared_yaxes = True, x_title = \"Number of Relations\")\n",
    "\n",
    "# Plotting the KDE plot for SibSp.\n",
    "sibsp_data = [train_df.groupby(\"Survived\")[\"SibSp\"].get_group(group) for group in train_df[\"Survived\"].unique()]\n",
    "sibsp_kde = ff.create_distplot(\n",
    "    hist_data = sibsp_data, group_labels = [\"Didn't Survive\", \"Survived\"], \n",
    "    show_rug = False, show_hist = False, colors = [\"lime\", \"red\"]\n",
    "    )\n",
    "fig.add_traces(sibsp_kde.data, rows = 1, cols = 1)\n",
    "\n",
    "# Plotting the KDE plot for Parch.\n",
    "parch_data = [train_df.groupby(\"Survived\")[\"Parch\"].get_group(group) for group in train_df[\"Survived\"].unique()]\n",
    "parch_kde = ff.create_distplot(\n",
    "    hist_data = parch_data, group_labels = [\"Didn't Survive\", \"Survived\"], \n",
    "    show_rug = False, show_hist = False, colors = [\"orange\", \"turquoise\"]\n",
    "    )\n",
    "fig.add_traces(parch_kde.data, rows = 1, cols = 2)\n",
    "\n",
    "fig.update_layout(plot_bgcolor = bgcolor, paper_bgcolor = bgcolor, font_color = font_color, showlegend = False, title = \"Relations Distribution\")\n",
    "fig.update_layout({f\"xaxis{i}\": dict(showgrid = False) for i in range(1,3)})\n",
    "fig.show()"
   ]
  },
  {
   "cell_type": "markdown",
   "id": "4c2f6bbc",
   "metadata": {
    "id": "CF19yRaeLWDB",
    "papermill": {
     "duration": 0.019628,
     "end_time": "2022-06-30T06:26:36.367835",
     "exception": false,
     "start_time": "2022-06-30T06:26:36.348207",
     "status": "completed"
    },
    "tags": []
   },
   "source": [
    "#### **i) Analysis on SibSp** <a id = \"sibsp\"></a>\n",
    "\n",
    "From the above graph we can see that passengers who had 1 sibling onboard somehow had higher survival rates. This might be because they helped each other out (??) or it might just be a random coincidence."
   ]
  },
  {
   "cell_type": "markdown",
   "id": "3613b12c",
   "metadata": {
    "id": "K79i7RofMnJ6",
    "papermill": {
     "duration": 0.01853,
     "end_time": "2022-06-30T06:26:36.405432",
     "exception": false,
     "start_time": "2022-06-30T06:26:36.386902",
     "status": "completed"
    },
    "tags": []
   },
   "source": [
    "#### ii) **Analysis on Parch** <a id = \"parch\"></a>\n",
    "\n",
    "From the above graph we can see that the trends in `Parch` value were relatively the same for both the groups.\n",
    "\n",
    "---"
   ]
  },
  {
   "cell_type": "markdown",
   "id": "693e1c23",
   "metadata": {
    "papermill": {
     "duration": 0.018648,
     "end_time": "2022-06-30T06:26:36.442970",
     "exception": false,
     "start_time": "2022-06-30T06:26:36.424322",
     "status": "completed"
    },
    "tags": []
   },
   "source": [
    "## EDA outcomes <a id = \"eda-outcomes\"></a>\n",
    "\n",
    "From the EDA we did above, it seems like `Pclass`, `Fare`, and `Sex` would be the most significant features in model building.\n",
    "\n",
    "---"
   ]
  },
  {
   "cell_type": "markdown",
   "id": "74bc4dc1",
   "metadata": {
    "id": "1gKyOx9bNCvB",
    "papermill": {
     "duration": 0.01844,
     "end_time": "2022-06-30T06:26:36.480539",
     "exception": false,
     "start_time": "2022-06-30T06:26:36.462099",
     "status": "completed"
    },
    "tags": []
   },
   "source": [
    "# Machine Learning models <a id = \"ml\"></a>"
   ]
  },
  {
   "cell_type": "markdown",
   "id": "2bc59066",
   "metadata": {
    "id": "F69PMfe1uRX2",
    "papermill": {
     "duration": 0.018408,
     "end_time": "2022-06-30T06:26:36.517669",
     "exception": false,
     "start_time": "2022-06-30T06:26:36.499261",
     "status": "completed"
    },
    "tags": []
   },
   "source": [
    "As this is a classification problem, we'll be using **Decision Trees** and **Random Forests** to predict a passenger's survival."
   ]
  },
  {
   "cell_type": "markdown",
   "id": "f3dce890",
   "metadata": {
    "papermill": {
     "duration": 0.018594,
     "end_time": "2022-06-30T06:26:36.555063",
     "exception": false,
     "start_time": "2022-06-30T06:26:36.536469",
     "status": "completed"
    },
    "tags": []
   },
   "source": [
    "## Encoding string values. <a id = \"encode\"></a>\n",
    "\n",
    "In our dataframe, there are a few columns with string values. Those being `Sex` and `Embarked`. Neither are ordinal variables meaning encoding the values as 0, 1, 2... won't make much sense. So let's do **one-hot encoding** on them."
   ]
  },
  {
   "cell_type": "code",
   "execution_count": 17,
   "id": "00548ebb",
   "metadata": {
    "execution": {
     "iopub.execute_input": "2022-06-30T06:26:36.594949Z",
     "iopub.status.busy": "2022-06-30T06:26:36.594241Z",
     "iopub.status.idle": "2022-06-30T06:26:36.613140Z",
     "shell.execute_reply": "2022-06-30T06:26:36.612260Z"
    },
    "papermill": {
     "duration": 0.041383,
     "end_time": "2022-06-30T06:26:36.615324",
     "exception": false,
     "start_time": "2022-06-30T06:26:36.573941",
     "status": "completed"
    },
    "tags": []
   },
   "outputs": [
    {
     "data": {
      "text/html": [
       "<div>\n",
       "<style scoped>\n",
       "    .dataframe tbody tr th:only-of-type {\n",
       "        vertical-align: middle;\n",
       "    }\n",
       "\n",
       "    .dataframe tbody tr th {\n",
       "        vertical-align: top;\n",
       "    }\n",
       "\n",
       "    .dataframe thead th {\n",
       "        text-align: right;\n",
       "    }\n",
       "</style>\n",
       "<table border=\"1\" class=\"dataframe\">\n",
       "  <thead>\n",
       "    <tr style=\"text-align: right;\">\n",
       "      <th></th>\n",
       "      <th>Survived</th>\n",
       "      <th>Pclass</th>\n",
       "      <th>Age</th>\n",
       "      <th>SibSp</th>\n",
       "      <th>Parch</th>\n",
       "      <th>Fare</th>\n",
       "      <th>Sex_male</th>\n",
       "      <th>Embarked_Q</th>\n",
       "      <th>Embarked_S</th>\n",
       "    </tr>\n",
       "  </thead>\n",
       "  <tbody>\n",
       "    <tr>\n",
       "      <th>0</th>\n",
       "      <td>0</td>\n",
       "      <td>3</td>\n",
       "      <td>22.0</td>\n",
       "      <td>1</td>\n",
       "      <td>0</td>\n",
       "      <td>7.2500</td>\n",
       "      <td>1</td>\n",
       "      <td>0</td>\n",
       "      <td>1</td>\n",
       "    </tr>\n",
       "    <tr>\n",
       "      <th>1</th>\n",
       "      <td>1</td>\n",
       "      <td>1</td>\n",
       "      <td>38.0</td>\n",
       "      <td>1</td>\n",
       "      <td>0</td>\n",
       "      <td>71.2833</td>\n",
       "      <td>0</td>\n",
       "      <td>0</td>\n",
       "      <td>0</td>\n",
       "    </tr>\n",
       "    <tr>\n",
       "      <th>2</th>\n",
       "      <td>1</td>\n",
       "      <td>3</td>\n",
       "      <td>26.0</td>\n",
       "      <td>0</td>\n",
       "      <td>0</td>\n",
       "      <td>7.9250</td>\n",
       "      <td>0</td>\n",
       "      <td>0</td>\n",
       "      <td>1</td>\n",
       "    </tr>\n",
       "    <tr>\n",
       "      <th>3</th>\n",
       "      <td>1</td>\n",
       "      <td>1</td>\n",
       "      <td>35.0</td>\n",
       "      <td>1</td>\n",
       "      <td>0</td>\n",
       "      <td>53.1000</td>\n",
       "      <td>0</td>\n",
       "      <td>0</td>\n",
       "      <td>1</td>\n",
       "    </tr>\n",
       "    <tr>\n",
       "      <th>4</th>\n",
       "      <td>0</td>\n",
       "      <td>3</td>\n",
       "      <td>35.0</td>\n",
       "      <td>0</td>\n",
       "      <td>0</td>\n",
       "      <td>8.0500</td>\n",
       "      <td>1</td>\n",
       "      <td>0</td>\n",
       "      <td>1</td>\n",
       "    </tr>\n",
       "  </tbody>\n",
       "</table>\n",
       "</div>"
      ],
      "text/plain": [
       "   Survived  Pclass   Age  SibSp  Parch     Fare  Sex_male  Embarked_Q  \\\n",
       "0         0       3  22.0      1      0   7.2500         1           0   \n",
       "1         1       1  38.0      1      0  71.2833         0           0   \n",
       "2         1       3  26.0      0      0   7.9250         0           0   \n",
       "3         1       1  35.0      1      0  53.1000         0           0   \n",
       "4         0       3  35.0      0      0   8.0500         1           0   \n",
       "\n",
       "   Embarked_S  \n",
       "0           1  \n",
       "1           0  \n",
       "2           1  \n",
       "3           1  \n",
       "4           1  "
      ]
     },
     "execution_count": 17,
     "metadata": {},
     "output_type": "execute_result"
    }
   ],
   "source": [
    "# Encoding the string columns.\n",
    "str_df = train_df.select_dtypes(include = object)\n",
    "train_df.drop(columns = str_df.columns, inplace = True)\n",
    "encoded_df = pd.get_dummies(data = str_df, drop_first = True)\n",
    "train_df = pd.concat([train_df, encoded_df], axis = 1)\n",
    "train_df.head()"
   ]
  },
  {
   "cell_type": "markdown",
   "id": "d1f6f37a",
   "metadata": {
    "papermill": {
     "duration": 0.019328,
     "end_time": "2022-06-30T06:26:36.653962",
     "exception": false,
     "start_time": "2022-06-30T06:26:36.634634",
     "status": "completed"
    },
    "tags": []
   },
   "source": [
    "## Splitting the data <a id = \"split\"></a>\n",
    "\n",
    "Now that the string values have encoded, let's split our data into training and testing data. Even though the file names for both the datasets is `train.csv` and `test.csv`, we can't use `test.csv` as a test data to evaluate our model's performance as it doesn't have the `Survived` column in it."
   ]
  },
  {
   "cell_type": "code",
   "execution_count": 18,
   "id": "23bd30de",
   "metadata": {
    "execution": {
     "iopub.execute_input": "2022-06-30T06:26:36.694336Z",
     "iopub.status.busy": "2022-06-30T06:26:36.693695Z",
     "iopub.status.idle": "2022-06-30T06:26:36.770546Z",
     "shell.execute_reply": "2022-06-30T06:26:36.769864Z"
    },
    "papermill": {
     "duration": 0.099246,
     "end_time": "2022-06-30T06:26:36.772406",
     "exception": false,
     "start_time": "2022-06-30T06:26:36.673160",
     "status": "completed"
    },
    "tags": []
   },
   "outputs": [
    {
     "data": {
      "text/html": [
       "<div>\n",
       "<style scoped>\n",
       "    .dataframe tbody tr th:only-of-type {\n",
       "        vertical-align: middle;\n",
       "    }\n",
       "\n",
       "    .dataframe tbody tr th {\n",
       "        vertical-align: top;\n",
       "    }\n",
       "\n",
       "    .dataframe thead th {\n",
       "        text-align: right;\n",
       "    }\n",
       "</style>\n",
       "<table border=\"1\" class=\"dataframe\">\n",
       "  <thead>\n",
       "    <tr style=\"text-align: right;\">\n",
       "      <th></th>\n",
       "      <th>Pclass</th>\n",
       "      <th>Age</th>\n",
       "      <th>SibSp</th>\n",
       "      <th>Parch</th>\n",
       "      <th>Fare</th>\n",
       "      <th>Sex_male</th>\n",
       "      <th>Embarked_Q</th>\n",
       "      <th>Embarked_S</th>\n",
       "    </tr>\n",
       "  </thead>\n",
       "  <tbody>\n",
       "    <tr>\n",
       "      <th>486</th>\n",
       "      <td>1</td>\n",
       "      <td>35.0</td>\n",
       "      <td>1</td>\n",
       "      <td>0</td>\n",
       "      <td>90.0000</td>\n",
       "      <td>0</td>\n",
       "      <td>0</td>\n",
       "      <td>1</td>\n",
       "    </tr>\n",
       "    <tr>\n",
       "      <th>293</th>\n",
       "      <td>3</td>\n",
       "      <td>24.0</td>\n",
       "      <td>0</td>\n",
       "      <td>0</td>\n",
       "      <td>8.8500</td>\n",
       "      <td>0</td>\n",
       "      <td>0</td>\n",
       "      <td>1</td>\n",
       "    </tr>\n",
       "    <tr>\n",
       "      <th>172</th>\n",
       "      <td>3</td>\n",
       "      <td>1.0</td>\n",
       "      <td>1</td>\n",
       "      <td>1</td>\n",
       "      <td>11.1333</td>\n",
       "      <td>0</td>\n",
       "      <td>0</td>\n",
       "      <td>1</td>\n",
       "    </tr>\n",
       "    <tr>\n",
       "      <th>450</th>\n",
       "      <td>2</td>\n",
       "      <td>36.0</td>\n",
       "      <td>1</td>\n",
       "      <td>2</td>\n",
       "      <td>27.7500</td>\n",
       "      <td>1</td>\n",
       "      <td>0</td>\n",
       "      <td>1</td>\n",
       "    </tr>\n",
       "    <tr>\n",
       "      <th>361</th>\n",
       "      <td>2</td>\n",
       "      <td>29.0</td>\n",
       "      <td>1</td>\n",
       "      <td>0</td>\n",
       "      <td>27.7208</td>\n",
       "      <td>1</td>\n",
       "      <td>0</td>\n",
       "      <td>0</td>\n",
       "    </tr>\n",
       "    <tr>\n",
       "      <th>...</th>\n",
       "      <td>...</td>\n",
       "      <td>...</td>\n",
       "      <td>...</td>\n",
       "      <td>...</td>\n",
       "      <td>...</td>\n",
       "      <td>...</td>\n",
       "      <td>...</td>\n",
       "      <td>...</td>\n",
       "    </tr>\n",
       "    <tr>\n",
       "      <th>106</th>\n",
       "      <td>3</td>\n",
       "      <td>21.0</td>\n",
       "      <td>0</td>\n",
       "      <td>0</td>\n",
       "      <td>7.6500</td>\n",
       "      <td>0</td>\n",
       "      <td>0</td>\n",
       "      <td>1</td>\n",
       "    </tr>\n",
       "    <tr>\n",
       "      <th>271</th>\n",
       "      <td>3</td>\n",
       "      <td>25.0</td>\n",
       "      <td>0</td>\n",
       "      <td>0</td>\n",
       "      <td>0.0000</td>\n",
       "      <td>1</td>\n",
       "      <td>0</td>\n",
       "      <td>1</td>\n",
       "    </tr>\n",
       "    <tr>\n",
       "      <th>863</th>\n",
       "      <td>3</td>\n",
       "      <td>28.0</td>\n",
       "      <td>8</td>\n",
       "      <td>2</td>\n",
       "      <td>69.5500</td>\n",
       "      <td>0</td>\n",
       "      <td>0</td>\n",
       "      <td>1</td>\n",
       "    </tr>\n",
       "    <tr>\n",
       "      <th>436</th>\n",
       "      <td>3</td>\n",
       "      <td>21.0</td>\n",
       "      <td>2</td>\n",
       "      <td>2</td>\n",
       "      <td>34.3750</td>\n",
       "      <td>0</td>\n",
       "      <td>0</td>\n",
       "      <td>1</td>\n",
       "    </tr>\n",
       "    <tr>\n",
       "      <th>102</th>\n",
       "      <td>1</td>\n",
       "      <td>21.0</td>\n",
       "      <td>0</td>\n",
       "      <td>1</td>\n",
       "      <td>77.2875</td>\n",
       "      <td>1</td>\n",
       "      <td>0</td>\n",
       "      <td>1</td>\n",
       "    </tr>\n",
       "  </tbody>\n",
       "</table>\n",
       "<p>621 rows × 8 columns</p>\n",
       "</div>"
      ],
      "text/plain": [
       "     Pclass   Age  SibSp  Parch     Fare  Sex_male  Embarked_Q  Embarked_S\n",
       "486       1  35.0      1      0  90.0000         0           0           1\n",
       "293       3  24.0      0      0   8.8500         0           0           1\n",
       "172       3   1.0      1      1  11.1333         0           0           1\n",
       "450       2  36.0      1      2  27.7500         1           0           1\n",
       "361       2  29.0      1      0  27.7208         1           0           0\n",
       "..      ...   ...    ...    ...      ...       ...         ...         ...\n",
       "106       3  21.0      0      0   7.6500         0           0           1\n",
       "271       3  25.0      0      0   0.0000         1           0           1\n",
       "863       3  28.0      8      2  69.5500         0           0           1\n",
       "436       3  21.0      2      2  34.3750         0           0           1\n",
       "102       1  21.0      0      1  77.2875         1           0           1\n",
       "\n",
       "[621 rows x 8 columns]"
      ]
     },
     "execution_count": 18,
     "metadata": {},
     "output_type": "execute_result"
    }
   ],
   "source": [
    "# Splitting the data.\n",
    "from sklearn.model_selection import train_test_split\n",
    "\n",
    "features_df = train_df.drop(columns = [\"Survived\"])\n",
    "target_df = train_df[\"Survived\"]\n",
    "\n",
    "X_train, X_test, y_train, y_test = train_test_split(features_df, target_df, test_size = 0.3, random_state = 42)\n",
    "X_train"
   ]
  },
  {
   "cell_type": "markdown",
   "id": "fc91b24e",
   "metadata": {
    "papermill": {
     "duration": 0.019138,
     "end_time": "2022-06-30T06:26:36.811387",
     "exception": false,
     "start_time": "2022-06-30T06:26:36.792249",
     "status": "completed"
    },
    "tags": []
   },
   "source": [
    "The original `train_df` had 888 rows after data cleaning. The train data `X_train` we got after splitting the original data has 621 rows. This might cause some issues as our predictions can be more accurate if we have more data.\n",
    "\n",
    "---"
   ]
  },
  {
   "cell_type": "markdown",
   "id": "84a614e6",
   "metadata": {
    "papermill": {
     "duration": 0.019147,
     "end_time": "2022-06-30T06:26:36.850070",
     "exception": false,
     "start_time": "2022-06-30T06:26:36.830923",
     "status": "completed"
    },
    "tags": []
   },
   "source": [
    "## Baseline models <a id = \"baseline\"></a>"
   ]
  },
  {
   "cell_type": "markdown",
   "id": "ce81f41c",
   "metadata": {
    "execution": {
     "iopub.execute_input": "2022-06-30T05:48:01.400818Z",
     "iopub.status.busy": "2022-06-30T05:48:01.400190Z",
     "iopub.status.idle": "2022-06-30T05:48:01.407728Z",
     "shell.execute_reply": "2022-06-30T05:48:01.406593Z",
     "shell.execute_reply.started": "2022-06-30T05:48:01.400751Z"
    },
    "papermill": {
     "duration": 0.01965,
     "end_time": "2022-06-30T06:26:36.889733",
     "exception": false,
     "start_time": "2022-06-30T06:26:36.870083",
     "status": "completed"
    },
    "tags": []
   },
   "source": [
    "Now that our data has been split into train and test, let's make a baseline model using it. We'll try both Decision Trees and Random Forest for this."
   ]
  },
  {
   "cell_type": "markdown",
   "id": "e5f1f0d9",
   "metadata": {
    "papermill": {
     "duration": 0.019419,
     "end_time": "2022-06-30T06:26:36.929079",
     "exception": false,
     "start_time": "2022-06-30T06:26:36.909660",
     "status": "completed"
    },
    "tags": []
   },
   "source": [
    "### 1) Decision Tree Classifier <a id = \"dtree1\"></a>"
   ]
  },
  {
   "cell_type": "code",
   "execution_count": 19,
   "id": "545f4eed",
   "metadata": {
    "execution": {
     "iopub.execute_input": "2022-06-30T06:26:36.970369Z",
     "iopub.status.busy": "2022-06-30T06:26:36.969701Z",
     "iopub.status.idle": "2022-06-30T06:26:37.190819Z",
     "shell.execute_reply": "2022-06-30T06:26:37.189800Z"
    },
    "papermill": {
     "duration": 0.244142,
     "end_time": "2022-06-30T06:26:37.193116",
     "exception": false,
     "start_time": "2022-06-30T06:26:36.948974",
     "status": "completed"
    },
    "tags": []
   },
   "outputs": [],
   "source": [
    "# Importing the algorithms.\n",
    "from sklearn.tree import DecisionTreeClassifier\n",
    "from sklearn.ensemble import RandomForestClassifier"
   ]
  },
  {
   "cell_type": "code",
   "execution_count": 20,
   "id": "ef455b7e",
   "metadata": {
    "execution": {
     "iopub.execute_input": "2022-06-30T06:26:37.234367Z",
     "iopub.status.busy": "2022-06-30T06:26:37.233939Z",
     "iopub.status.idle": "2022-06-30T06:26:37.250498Z",
     "shell.execute_reply": "2022-06-30T06:26:37.249581Z"
    },
    "papermill": {
     "duration": 0.039613,
     "end_time": "2022-06-30T06:26:37.252697",
     "exception": false,
     "start_time": "2022-06-30T06:26:37.213084",
     "status": "completed"
    },
    "tags": []
   },
   "outputs": [
    {
     "name": "stdout",
     "output_type": "stream",
     "text": [
      "Training data accuracy = 98.23%\n",
      "Testing data accuracy = 77.90%\n"
     ]
    }
   ],
   "source": [
    "# Making a baseline Decision Tree model.\n",
    "dtree_clf = DecisionTreeClassifier()\n",
    "dtree_clf.fit(X_train, y_train)\n",
    "print(f\"Training data accuracy = {dtree_clf.score(X_train, y_train) * 100:.2f}%\")\n",
    "print(f\"Testing data accuracy = {dtree_clf.score(X_test, y_test)* 100:.2f}%\")"
   ]
  },
  {
   "cell_type": "markdown",
   "id": "9b7527cd",
   "metadata": {
    "papermill": {
     "duration": 0.019376,
     "end_time": "2022-06-30T06:26:37.292428",
     "exception": false,
     "start_time": "2022-06-30T06:26:37.273052",
     "status": "completed"
    },
    "tags": []
   },
   "source": [
    "As we can see above, the accuracy of the model has a huge difference for the training and the testing data. This is a standard characteristic of the Decision Tree algorithm. It tends to overfit a lot. Let's get a better understanding of the predictions using `confusion_matrix` and `classification_report`."
   ]
  },
  {
   "cell_type": "code",
   "execution_count": 21,
   "id": "2d6bf49b",
   "metadata": {
    "execution": {
     "iopub.execute_input": "2022-06-30T06:26:37.333847Z",
     "iopub.status.busy": "2022-06-30T06:26:37.333393Z",
     "iopub.status.idle": "2022-06-30T06:26:37.337342Z",
     "shell.execute_reply": "2022-06-30T06:26:37.336679Z"
    },
    "papermill": {
     "duration": 0.026649,
     "end_time": "2022-06-30T06:26:37.339086",
     "exception": false,
     "start_time": "2022-06-30T06:26:37.312437",
     "status": "completed"
    },
    "tags": []
   },
   "outputs": [],
   "source": [
    "# Importing plot_confusion_matrix, classification_report functions.\n",
    "from sklearn.metrics import classification_report, confusion_matrix"
   ]
  },
  {
   "cell_type": "code",
   "execution_count": 22,
   "id": "b8776722",
   "metadata": {
    "execution": {
     "iopub.execute_input": "2022-06-30T06:26:37.382240Z",
     "iopub.status.busy": "2022-06-30T06:26:37.381586Z",
     "iopub.status.idle": "2022-06-30T06:26:37.404112Z",
     "shell.execute_reply": "2022-06-30T06:26:37.402855Z"
    },
    "papermill": {
     "duration": 0.048299,
     "end_time": "2022-06-30T06:26:37.407467",
     "exception": false,
     "start_time": "2022-06-30T06:26:37.359168",
     "status": "completed"
    },
    "tags": []
   },
   "outputs": [
    {
     "name": "stdout",
     "output_type": "stream",
     "text": [
      "For Train Predictions -\n",
      "\n",
      "Confusion Matrix -\n",
      "[[388   1]\n",
      " [ 10 222]]\n",
      "\n",
      "Classification Report -\n",
      "              precision    recall  f1-score   support\n",
      "\n",
      "           0       0.97      1.00      0.99       389\n",
      "           1       1.00      0.96      0.98       232\n",
      "\n",
      "    accuracy                           0.98       621\n",
      "   macro avg       0.99      0.98      0.98       621\n",
      "weighted avg       0.98      0.98      0.98       621\n",
      "\n",
      "----------------------------------------------------------------------------------------------------\n",
      "For Test Predictions -\n",
      "\n",
      "Confusion Matrix -\n",
      "[[137  23]\n",
      " [ 36  71]]\n",
      "\n",
      "Classification Report -\n",
      "              precision    recall  f1-score   support\n",
      "\n",
      "           0       0.79      0.86      0.82       160\n",
      "           1       0.76      0.66      0.71       107\n",
      "\n",
      "    accuracy                           0.78       267\n",
      "   macro avg       0.77      0.76      0.76       267\n",
      "weighted avg       0.78      0.78      0.78       267\n",
      "\n"
     ]
    }
   ],
   "source": [
    "# Printing the confusion matrix and the classification report.\n",
    "dtree_train_pred = dtree_clf.predict(X_train)\n",
    "dtree_test_pred = dtree_clf.predict(X_test)\n",
    "\n",
    "print(f\"For Train Predictions -\\n\")\n",
    "print(f\"Confusion Matrix -\")\n",
    "print(confusion_matrix(y_train, dtree_train_pred))\n",
    "print(f\"\\nClassification Report -\")\n",
    "print(classification_report(y_train, dtree_train_pred))\n",
    "\n",
    "print(\"-\" * 100)\n",
    "\n",
    "print(f\"For Test Predictions -\\n\")\n",
    "print(f\"Confusion Matrix -\")\n",
    "print(confusion_matrix(y_test, dtree_test_pred))\n",
    "print(f\"\\nClassification Report -\")\n",
    "print(classification_report(y_test, dtree_test_pred))"
   ]
  },
  {
   "cell_type": "markdown",
   "id": "dba21856",
   "metadata": {
    "papermill": {
     "duration": 0.019669,
     "end_time": "2022-06-30T06:26:37.447769",
     "exception": false,
     "start_time": "2022-06-30T06:26:37.428100",
     "status": "completed"
    },
    "tags": []
   },
   "source": [
    "From the classification reports for the train and test data, we can see that the precision and recall scores are very good for the training data but average for the test data. This shows that our model is overfitting the data heavily.\n",
    "\n",
    "Let's try Random Forest to tackle this issue."
   ]
  },
  {
   "cell_type": "markdown",
   "id": "1d826a75",
   "metadata": {
    "papermill": {
     "duration": 0.019212,
     "end_time": "2022-06-30T06:26:37.486629",
     "exception": false,
     "start_time": "2022-06-30T06:26:37.467417",
     "status": "completed"
    },
    "tags": []
   },
   "source": [
    "### 2) Random Forest Classifier <a id = \"rf1\"></a>"
   ]
  },
  {
   "cell_type": "code",
   "execution_count": 23,
   "id": "5cc42a43",
   "metadata": {
    "execution": {
     "iopub.execute_input": "2022-06-30T06:26:37.528147Z",
     "iopub.status.busy": "2022-06-30T06:26:37.527782Z",
     "iopub.status.idle": "2022-06-30T06:26:37.728817Z",
     "shell.execute_reply": "2022-06-30T06:26:37.727848Z"
    },
    "papermill": {
     "duration": 0.224925,
     "end_time": "2022-06-30T06:26:37.731803",
     "exception": false,
     "start_time": "2022-06-30T06:26:37.506878",
     "status": "completed"
    },
    "tags": []
   },
   "outputs": [
    {
     "name": "stdout",
     "output_type": "stream",
     "text": [
      "Training data accuracy = 98.23%\n",
      "Testing data accuracy = 80.52%\n"
     ]
    }
   ],
   "source": [
    "# Making a model using Random Forest Classifier.\n",
    "rf_clf = RandomForestClassifier()\n",
    "rf_clf.fit(X_train, y_train)\n",
    "print(f\"Training data accuracy = {rf_clf.score(X_train, y_train) * 100:.2f}%\")\n",
    "print(f\"Testing data accuracy = {rf_clf.score(X_test, y_test)* 100:.2f}%\")"
   ]
  },
  {
   "cell_type": "code",
   "execution_count": 24,
   "id": "671bcc42",
   "metadata": {
    "execution": {
     "iopub.execute_input": "2022-06-30T06:26:37.774986Z",
     "iopub.status.busy": "2022-06-30T06:26:37.773973Z",
     "iopub.status.idle": "2022-06-30T06:26:37.829827Z",
     "shell.execute_reply": "2022-06-30T06:26:37.828906Z"
    },
    "papermill": {
     "duration": 0.079258,
     "end_time": "2022-06-30T06:26:37.832307",
     "exception": false,
     "start_time": "2022-06-30T06:26:37.753049",
     "status": "completed"
    },
    "tags": []
   },
   "outputs": [
    {
     "name": "stdout",
     "output_type": "stream",
     "text": [
      "For Train Predictions -\n",
      "\n",
      "Confusion Matrix -\n",
      "[[385   4]\n",
      " [  7 225]]\n",
      "\n",
      "Classification Report -\n",
      "              precision    recall  f1-score   support\n",
      "\n",
      "           0       0.98      0.99      0.99       389\n",
      "           1       0.98      0.97      0.98       232\n",
      "\n",
      "    accuracy                           0.98       621\n",
      "   macro avg       0.98      0.98      0.98       621\n",
      "weighted avg       0.98      0.98      0.98       621\n",
      "\n",
      "----------------------------------------------------------------------------------------------------\n",
      "For Test Predictions -\n",
      "\n",
      "Confusion Matrix -\n",
      "[[139  21]\n",
      " [ 31  76]]\n",
      "\n",
      "Classification Report -\n",
      "              precision    recall  f1-score   support\n",
      "\n",
      "           0       0.82      0.87      0.84       160\n",
      "           1       0.78      0.71      0.75       107\n",
      "\n",
      "    accuracy                           0.81       267\n",
      "   macro avg       0.80      0.79      0.79       267\n",
      "weighted avg       0.80      0.81      0.80       267\n",
      "\n"
     ]
    }
   ],
   "source": [
    "# Printing the confusion matrix and the classification report.\n",
    "rf_train_pred = rf_clf.predict(X_train)\n",
    "rf_test_pred = rf_clf.predict(X_test)\n",
    "\n",
    "print(f\"For Train Predictions -\\n\")\n",
    "print(f\"Confusion Matrix -\")\n",
    "print(confusion_matrix(y_train, rf_train_pred))\n",
    "print(f\"\\nClassification Report -\")\n",
    "print(classification_report(y_train, rf_train_pred))\n",
    "\n",
    "print(\"-\" * 100)\n",
    "\n",
    "print(f\"For Test Predictions -\\n\")\n",
    "print(f\"Confusion Matrix -\")\n",
    "print(confusion_matrix(y_test, rf_test_pred))\n",
    "print(f\"\\nClassification Report -\")\n",
    "print(classification_report(y_test, rf_test_pred))"
   ]
  },
  {
   "cell_type": "markdown",
   "id": "bf1cd08a",
   "metadata": {
    "papermill": {
     "duration": 0.019921,
     "end_time": "2022-06-30T06:26:37.872783",
     "exception": false,
     "start_time": "2022-06-30T06:26:37.852862",
     "status": "completed"
    },
    "tags": []
   },
   "source": [
    "Even though we have a better accuracy score for the test data, the overfitting hasn't been resolved. From the classification report we can see that our model is able to predict class 0 better than class 1. That might be because of the target imbalance. Let's try and fix it.\n",
    "\n",
    "---"
   ]
  },
  {
   "cell_type": "markdown",
   "id": "1b8982d1",
   "metadata": {
    "papermill": {
     "duration": 0.01996,
     "end_time": "2022-06-30T06:26:37.912883",
     "exception": false,
     "start_time": "2022-06-30T06:26:37.892923",
     "status": "completed"
    },
    "tags": []
   },
   "source": [
    "## SMOTE Oversampling <a id = \"smote\"></a>"
   ]
  },
  {
   "cell_type": "code",
   "execution_count": 25,
   "id": "307415c3",
   "metadata": {
    "execution": {
     "iopub.execute_input": "2022-06-30T06:26:37.954977Z",
     "iopub.status.busy": "2022-06-30T06:26:37.953883Z",
     "iopub.status.idle": "2022-06-30T06:26:38.094414Z",
     "shell.execute_reply": "2022-06-30T06:26:38.093755Z"
    },
    "papermill": {
     "duration": 0.16349,
     "end_time": "2022-06-30T06:26:38.096147",
     "exception": false,
     "start_time": "2022-06-30T06:26:37.932657",
     "status": "completed"
    },
    "tags": []
   },
   "outputs": [
    {
     "data": {
      "text/plain": [
       "1    389\n",
       "0    389\n",
       "Name: Survived, dtype: int64"
      ]
     },
     "execution_count": 25,
     "metadata": {},
     "output_type": "execute_result"
    }
   ],
   "source": [
    "# Applying smote.\n",
    "from imblearn.over_sampling import SMOTE\n",
    "\n",
    "smote = SMOTE(random_state = 42)\n",
    "smote_X_train, smote_y_train = smote.fit_resample(X_train, y_train)\n",
    "smote_y_train.value_counts()"
   ]
  },
  {
   "cell_type": "markdown",
   "id": "ee4c0f20",
   "metadata": {
    "papermill": {
     "duration": 0.020786,
     "end_time": "2022-06-30T06:26:38.137100",
     "exception": false,
     "start_time": "2022-06-30T06:26:38.116314",
     "status": "completed"
    },
    "tags": []
   },
   "source": [
    "Now that we have our data balanced, let's train our models on it."
   ]
  },
  {
   "cell_type": "markdown",
   "id": "bde13268",
   "metadata": {
    "papermill": {
     "duration": 0.020435,
     "end_time": "2022-06-30T06:26:38.177948",
     "exception": false,
     "start_time": "2022-06-30T06:26:38.157513",
     "status": "completed"
    },
    "tags": []
   },
   "source": [
    "### 1) Decision Tree Classifier <a id = \"dtree2\"></a>"
   ]
  },
  {
   "cell_type": "code",
   "execution_count": 26,
   "id": "f9ea2d1e",
   "metadata": {
    "execution": {
     "iopub.execute_input": "2022-06-30T06:26:38.220777Z",
     "iopub.status.busy": "2022-06-30T06:26:38.219805Z",
     "iopub.status.idle": "2022-06-30T06:26:38.233649Z",
     "shell.execute_reply": "2022-06-30T06:26:38.232660Z"
    },
    "papermill": {
     "duration": 0.03792,
     "end_time": "2022-06-30T06:26:38.236145",
     "exception": false,
     "start_time": "2022-06-30T06:26:38.198225",
     "status": "completed"
    },
    "tags": []
   },
   "outputs": [
    {
     "name": "stdout",
     "output_type": "stream",
     "text": [
      "Training data accuracy = 98.59%\n",
      "Testing data accuracy = 76.40%\n"
     ]
    }
   ],
   "source": [
    "# Training a model on the oversampled data.\n",
    "dtree_clf2 = DecisionTreeClassifier(random_state = 42)\n",
    "dtree_clf2.fit(smote_X_train, smote_y_train)\n",
    "print(f\"Training data accuracy = {dtree_clf2.score(smote_X_train, smote_y_train) * 100:.2f}%\")\n",
    "print(f\"Testing data accuracy = {dtree_clf2.score(X_test, y_test)* 100:.2f}%\")"
   ]
  },
  {
   "cell_type": "code",
   "execution_count": 27,
   "id": "312385b6",
   "metadata": {
    "execution": {
     "iopub.execute_input": "2022-06-30T06:26:38.278780Z",
     "iopub.status.busy": "2022-06-30T06:26:38.277815Z",
     "iopub.status.idle": "2022-06-30T06:26:38.298200Z",
     "shell.execute_reply": "2022-06-30T06:26:38.296714Z"
    },
    "papermill": {
     "duration": 0.044135,
     "end_time": "2022-06-30T06:26:38.300423",
     "exception": false,
     "start_time": "2022-06-30T06:26:38.256288",
     "status": "completed"
    },
    "tags": []
   },
   "outputs": [
    {
     "name": "stdout",
     "output_type": "stream",
     "text": [
      "For Train Predictions -\n",
      "\n",
      "Confusion Matrix -\n",
      "[[388   1]\n",
      " [ 10 222]]\n",
      "\n",
      "Classification Report -\n",
      "              precision    recall  f1-score   support\n",
      "\n",
      "           0       0.97      1.00      0.99       389\n",
      "           1       1.00      0.96      0.98       232\n",
      "\n",
      "    accuracy                           0.98       621\n",
      "   macro avg       0.99      0.98      0.98       621\n",
      "weighted avg       0.98      0.98      0.98       621\n",
      "\n",
      "----------------------------------------------------------------------------------------------------\n",
      "For Test Predictions -\n",
      "\n",
      "Confusion Matrix -\n",
      "[[130  30]\n",
      " [ 33  74]]\n",
      "\n",
      "Classification Report -\n",
      "              precision    recall  f1-score   support\n",
      "\n",
      "           0       0.80      0.81      0.80       160\n",
      "           1       0.71      0.69      0.70       107\n",
      "\n",
      "    accuracy                           0.76       267\n",
      "   macro avg       0.75      0.75      0.75       267\n",
      "weighted avg       0.76      0.76      0.76       267\n",
      "\n"
     ]
    }
   ],
   "source": [
    "# Printing the confusion matrix and the classification report.\n",
    "dtree_train_pred2 = dtree_clf2.predict(X_train)\n",
    "dtree_test_pred2 = dtree_clf2.predict(X_test)\n",
    "\n",
    "print(f\"For Train Predictions -\\n\")\n",
    "print(f\"Confusion Matrix -\")\n",
    "print(confusion_matrix(y_train, dtree_train_pred2))\n",
    "print(f\"\\nClassification Report -\")\n",
    "print(classification_report(y_train, dtree_train_pred2))\n",
    "\n",
    "print(\"-\" * 100)\n",
    "\n",
    "print(f\"For Test Predictions -\\n\")\n",
    "print(f\"Confusion Matrix -\")\n",
    "print(confusion_matrix(y_test, dtree_test_pred2))\n",
    "print(f\"\\nClassification Report -\")\n",
    "print(classification_report(y_test, dtree_test_pred2))"
   ]
  },
  {
   "cell_type": "markdown",
   "id": "fe8bb40f",
   "metadata": {
    "papermill": {
     "duration": 0.019679,
     "end_time": "2022-06-30T06:26:38.340367",
     "exception": false,
     "start_time": "2022-06-30T06:26:38.320688",
     "status": "completed"
    },
    "tags": []
   },
   "source": [
    "Somehow the performance of the Decision Trees model dropped. Let's try Random Forest next."
   ]
  },
  {
   "cell_type": "markdown",
   "id": "9e4c4565",
   "metadata": {
    "papermill": {
     "duration": 0.020638,
     "end_time": "2022-06-30T06:26:38.381325",
     "exception": false,
     "start_time": "2022-06-30T06:26:38.360687",
     "status": "completed"
    },
    "tags": []
   },
   "source": [
    "### 2) Random Forest Classifier <a id = \"rf2\"></a>"
   ]
  },
  {
   "cell_type": "code",
   "execution_count": 28,
   "id": "715cdf16",
   "metadata": {
    "execution": {
     "iopub.execute_input": "2022-06-30T06:26:38.423568Z",
     "iopub.status.busy": "2022-06-30T06:26:38.423175Z",
     "iopub.status.idle": "2022-06-30T06:26:38.633312Z",
     "shell.execute_reply": "2022-06-30T06:26:38.632048Z"
    },
    "papermill": {
     "duration": 0.234451,
     "end_time": "2022-06-30T06:26:38.636049",
     "exception": false,
     "start_time": "2022-06-30T06:26:38.401598",
     "status": "completed"
    },
    "tags": []
   },
   "outputs": [
    {
     "name": "stdout",
     "output_type": "stream",
     "text": [
      "Training data accuracy = 98.59%\n",
      "Testing data accuracy = 81.27%\n"
     ]
    }
   ],
   "source": [
    "# Training a model on the oversampled data.\n",
    "rf_clf2 = RandomForestClassifier(random_state = 42)\n",
    "rf_clf2.fit(smote_X_train, smote_y_train)\n",
    "print(f\"Training data accuracy = {rf_clf2.score(smote_X_train, smote_y_train) * 100:.2f}%\")\n",
    "print(f\"Testing data accuracy = {rf_clf2.score(X_test, y_test)* 100:.2f}%\")"
   ]
  },
  {
   "cell_type": "code",
   "execution_count": 29,
   "id": "adcfc073",
   "metadata": {
    "execution": {
     "iopub.execute_input": "2022-06-30T06:26:38.680560Z",
     "iopub.status.busy": "2022-06-30T06:26:38.680158Z",
     "iopub.status.idle": "2022-06-30T06:26:38.738651Z",
     "shell.execute_reply": "2022-06-30T06:26:38.737140Z"
    },
    "papermill": {
     "duration": 0.083337,
     "end_time": "2022-06-30T06:26:38.740829",
     "exception": false,
     "start_time": "2022-06-30T06:26:38.657492",
     "status": "completed"
    },
    "tags": []
   },
   "outputs": [
    {
     "name": "stdout",
     "output_type": "stream",
     "text": [
      "For Train Predictions -\n",
      "\n",
      "Confusion Matrix -\n",
      "[[384   5]\n",
      " [  6 226]]\n",
      "\n",
      "Classification Report -\n",
      "              precision    recall  f1-score   support\n",
      "\n",
      "           0       0.98      0.99      0.99       389\n",
      "           1       0.98      0.97      0.98       232\n",
      "\n",
      "    accuracy                           0.98       621\n",
      "   macro avg       0.98      0.98      0.98       621\n",
      "weighted avg       0.98      0.98      0.98       621\n",
      "\n",
      "----------------------------------------------------------------------------------------------------\n",
      "For Test Predictions -\n",
      "\n",
      "Confusion Matrix -\n",
      "[[139  21]\n",
      " [ 29  78]]\n",
      "\n",
      "Classification Report -\n",
      "              precision    recall  f1-score   support\n",
      "\n",
      "           0       0.83      0.87      0.85       160\n",
      "           1       0.79      0.73      0.76       107\n",
      "\n",
      "    accuracy                           0.81       267\n",
      "   macro avg       0.81      0.80      0.80       267\n",
      "weighted avg       0.81      0.81      0.81       267\n",
      "\n"
     ]
    }
   ],
   "source": [
    "# Printing the confusion matrix and the classification report.\n",
    "rf_train_pred2 = rf_clf2.predict(X_train)\n",
    "rf_test_pred2 = rf_clf2.predict(X_test)\n",
    "\n",
    "print(f\"For Train Predictions -\\n\")\n",
    "print(f\"Confusion Matrix -\")\n",
    "print(confusion_matrix(y_train, rf_train_pred2))\n",
    "print(f\"\\nClassification Report -\")\n",
    "print(classification_report(y_train, rf_train_pred2))\n",
    "\n",
    "print(\"-\" * 100)\n",
    "\n",
    "print(f\"For Test Predictions -\\n\")\n",
    "print(f\"Confusion Matrix -\")\n",
    "print(confusion_matrix(y_test, rf_test_pred2))\n",
    "print(f\"\\nClassification Report -\")\n",
    "print(classification_report(y_test, rf_test_pred2))"
   ]
  },
  {
   "cell_type": "markdown",
   "id": "64766e2e",
   "metadata": {
    "papermill": {
     "duration": 0.022183,
     "end_time": "2022-06-30T06:26:38.783652",
     "exception": false,
     "start_time": "2022-06-30T06:26:38.761469",
     "status": "completed"
    },
    "tags": []
   },
   "source": [
    "Even with a balanced data our model is still overfitting."
   ]
  },
  {
   "cell_type": "markdown",
   "id": "77dc93cd",
   "metadata": {
    "papermill": {
     "duration": 0.020141,
     "end_time": "2022-06-30T06:26:38.827752",
     "exception": false,
     "start_time": "2022-06-30T06:26:38.807611",
     "status": "completed"
    },
    "tags": []
   },
   "source": [
    "As the performance on the model made by Random Forest Classifier, is better than the performance on the model made using Decision Tree Classifier, we'll try hyperparameter tuning on Random Forest to improve our accuracy.\n",
    "\n",
    "---"
   ]
  },
  {
   "cell_type": "markdown",
   "id": "3dd87024",
   "metadata": {
    "papermill": {
     "duration": 0.019952,
     "end_time": "2022-06-30T06:26:38.867874",
     "exception": false,
     "start_time": "2022-06-30T06:26:38.847922",
     "status": "completed"
    },
    "tags": []
   },
   "source": [
    "## Hyperparameter Tuning <a id = \"hyperparameter\"></a>"
   ]
  },
  {
   "cell_type": "markdown",
   "id": "2f1a4061",
   "metadata": {
    "papermill": {
     "duration": 0.019913,
     "end_time": "2022-06-30T06:26:38.907880",
     "exception": false,
     "start_time": "2022-06-30T06:26:38.887967",
     "status": "completed"
    },
    "tags": []
   },
   "source": [
    "Let's first find the maximum depth of the trees and maximum number of leaf nodes in the random forests created.\n",
    "\n",
    "If the `max_depth` and `max_leaf_nodes` are higher than needed then our model might overfit the data giving us a less generalized model."
   ]
  },
  {
   "cell_type": "code",
   "execution_count": 30,
   "id": "60923857",
   "metadata": {
    "execution": {
     "iopub.execute_input": "2022-06-30T06:26:38.949939Z",
     "iopub.status.busy": "2022-06-30T06:26:38.948833Z",
     "iopub.status.idle": "2022-06-30T06:26:38.954936Z",
     "shell.execute_reply": "2022-06-30T06:26:38.953912Z"
    },
    "papermill": {
     "duration": 0.028997,
     "end_time": "2022-06-30T06:26:38.956689",
     "exception": false,
     "start_time": "2022-06-30T06:26:38.927692",
     "status": "completed"
    },
    "tags": []
   },
   "outputs": [
    {
     "name": "stdout",
     "output_type": "stream",
     "text": [
      "Max depth for the Decision Trees made by the Random Forest was : 24\n",
      "Max number of terminal nodes for the Decision Trees made by the Random Forest was : 341\n"
     ]
    }
   ],
   "source": [
    "# Finding max_depth and max_leaf_nodes.\n",
    "max_depth = max([estimator.tree_.max_depth for estimator in rf_clf2.estimators_])\n",
    "max_leaf_nodes = max([estimator.tree_.node_count for estimator in rf_clf2.estimators_])\n",
    "\n",
    "print(f\"Max depth for the Decision Trees made by the Random Forest was : {max_depth}\")\n",
    "print(f\"Max number of terminal nodes for the Decision Trees made by the Random Forest was : {max_leaf_nodes}\")"
   ]
  },
  {
   "cell_type": "markdown",
   "id": "aa13734a",
   "metadata": {
    "papermill": {
     "duration": 0.019785,
     "end_time": "2022-06-30T06:26:38.997071",
     "exception": false,
     "start_time": "2022-06-30T06:26:38.977286",
     "status": "completed"
    },
    "tags": []
   },
   "source": [
    "Now that we know the `max_depth` and `max_leaf_nodes`, we can change the hyperparameters accordingly to achieve the most ideal results possible."
   ]
  },
  {
   "cell_type": "markdown",
   "id": "304c539c",
   "metadata": {
    "papermill": {
     "duration": 0.019471,
     "end_time": "2022-06-30T06:26:39.036365",
     "exception": false,
     "start_time": "2022-06-30T06:26:39.016894",
     "status": "completed"
    },
    "tags": []
   },
   "source": [
    "### RFE <a id = \"rfe\"></a>\n",
    "\n",
    "Along with ideal hyperparameter values, removing any redundant feature variables from the training data can also help in tackling overfitting. This can be done using **Recursive Feature Elimination** or `RFE`.\n",
    "\n",
    "We can create a `Pipeline` with `RFE` and `RandomForest` inside it and then perform Cross Validition on it to get the most ideal results."
   ]
  },
  {
   "cell_type": "code",
   "execution_count": 31,
   "id": "d37a68d7",
   "metadata": {
    "execution": {
     "iopub.execute_input": "2022-06-30T06:26:39.078275Z",
     "iopub.status.busy": "2022-06-30T06:26:39.077643Z",
     "iopub.status.idle": "2022-06-30T06:26:39.094480Z",
     "shell.execute_reply": "2022-06-30T06:26:39.093752Z"
    },
    "papermill": {
     "duration": 0.040067,
     "end_time": "2022-06-30T06:26:39.096496",
     "exception": false,
     "start_time": "2022-06-30T06:26:39.056429",
     "status": "completed"
    },
    "tags": []
   },
   "outputs": [],
   "source": [
    "# Creating a Pipeline with RFE and RandomForest inside it.\n",
    "from sklearn.feature_selection import RFE\n",
    "from sklearn.pipeline import Pipeline\n",
    "\n",
    "steps = [\n",
    "         (\"rfe\", RFE(estimator = RandomForestClassifier(random_state = 42))),\n",
    "         (\"est\", RandomForestClassifier())\n",
    "]\n",
    "rf_clf_pl = Pipeline(steps = steps)"
   ]
  },
  {
   "cell_type": "markdown",
   "id": "096db0c5",
   "metadata": {
    "papermill": {
     "duration": 0.020058,
     "end_time": "2022-06-30T06:26:39.136937",
     "exception": false,
     "start_time": "2022-06-30T06:26:39.116879",
     "status": "completed"
    },
    "tags": []
   },
   "source": [
    "### RandomizedSearchCV <a id = \"randomcv\"></a>\n",
    "\n",
    "Now to find the ideal number of features and values for `RandomForest` hyperparameters we can use `RandomizedSearchCV`. `GridSearchCV` is the ideal option but because the number of iterations required to check all the desired values would be a very big number, we would go with `RandomizedSearchCV` instead."
   ]
  },
  {
   "cell_type": "code",
   "execution_count": 32,
   "id": "777816be",
   "metadata": {
    "execution": {
     "iopub.execute_input": "2022-06-30T06:26:39.180091Z",
     "iopub.status.busy": "2022-06-30T06:26:39.179365Z",
     "iopub.status.idle": "2022-06-30T06:29:14.266493Z",
     "shell.execute_reply": "2022-06-30T06:29:14.265343Z"
    },
    "papermill": {
     "duration": 155.132358,
     "end_time": "2022-06-30T06:29:14.289462",
     "exception": false,
     "start_time": "2022-06-30T06:26:39.157104",
     "status": "completed"
    },
    "tags": []
   },
   "outputs": [
    {
     "data": {
      "text/plain": [
       "RandomizedSearchCV(cv=4,\n",
       "                   estimator=Pipeline(steps=[('rfe',\n",
       "                                              RFE(estimator=RandomForestClassifier(random_state=42))),\n",
       "                                             ('est',\n",
       "                                              RandomForestClassifier())]),\n",
       "                   n_iter=100, n_jobs=-1,\n",
       "                   param_distributions={'est__max_depth': [None, 5, 8, 11, 14,\n",
       "                                                           17, 20, 23],\n",
       "                                        'est__max_leaf_nodes': [None, 100, 120,\n",
       "                                                                140, 160, 180,\n",
       "                                                                200, 220, 240,\n",
       "                                                                260, 280, 300,\n",
       "                                                                320, 340],\n",
       "                                        'est__n_estimators': range(50, 201, 10),\n",
       "                                        'est__random_state': array([ 0, 10, 21, 31, 42]),\n",
       "                                        'rfe__n_features_to_select': range(2, 9)},\n",
       "                   random_state=42)"
      ]
     },
     "execution_count": 32,
     "metadata": {},
     "output_type": "execute_result"
    }
   ],
   "source": [
    "# Applying RandomizedSearchCV on the Pipeline we created.\n",
    "from sklearn.model_selection import RandomizedSearchCV\n",
    "\n",
    "params = {\n",
    "    \"rfe__n_features_to_select\" : range(2, smote_X_train.shape[1] + 1),\n",
    "    \"est__random_state\" : np.linspace(0, 42, 5).astype(int),\n",
    "    \"est__n_estimators\" : range(50, 201, 10),\n",
    "    \"est__max_depth\" : [None] + list(range(5, max_depth, 3)),\n",
    "    \"est__max_leaf_nodes\" : [None] + list(range(100, max_leaf_nodes, 20))\n",
    "}\n",
    "\n",
    "rs = RandomizedSearchCV(estimator = rf_clf_pl, cv = 4, param_distributions = params, n_jobs = -1, n_iter = 100, random_state = 42)\n",
    "rs.fit(smote_X_train, smote_y_train)"
   ]
  },
  {
   "cell_type": "code",
   "execution_count": 33,
   "id": "3d1a906c",
   "metadata": {
    "execution": {
     "iopub.execute_input": "2022-06-30T06:29:14.333795Z",
     "iopub.status.busy": "2022-06-30T06:29:14.332818Z",
     "iopub.status.idle": "2022-06-30T06:29:14.352011Z",
     "shell.execute_reply": "2022-06-30T06:29:14.351266Z"
    },
    "papermill": {
     "duration": 0.043409,
     "end_time": "2022-06-30T06:29:14.353833",
     "exception": false,
     "start_time": "2022-06-30T06:29:14.310424",
     "status": "completed"
    },
    "tags": []
   },
   "outputs": [
    {
     "data": {
      "text/html": [
       "<div>\n",
       "<style scoped>\n",
       "    .dataframe tbody tr th:only-of-type {\n",
       "        vertical-align: middle;\n",
       "    }\n",
       "\n",
       "    .dataframe tbody tr th {\n",
       "        vertical-align: top;\n",
       "    }\n",
       "\n",
       "    .dataframe thead th {\n",
       "        text-align: right;\n",
       "    }\n",
       "</style>\n",
       "<table border=\"1\" class=\"dataframe\">\n",
       "  <thead>\n",
       "    <tr style=\"text-align: right;\">\n",
       "      <th></th>\n",
       "      <th>rfe__n_features_to_select</th>\n",
       "      <th>est__random_state</th>\n",
       "      <th>est__n_estimators</th>\n",
       "      <th>est__max_leaf_nodes</th>\n",
       "      <th>est__max_depth</th>\n",
       "      <th>mean_test_score</th>\n",
       "    </tr>\n",
       "  </thead>\n",
       "  <tbody>\n",
       "    <tr>\n",
       "      <th>0</th>\n",
       "      <td>4</td>\n",
       "      <td>0</td>\n",
       "      <td>170</td>\n",
       "      <td>120.0</td>\n",
       "      <td>23.0</td>\n",
       "      <td>0.845797</td>\n",
       "    </tr>\n",
       "    <tr>\n",
       "      <th>1</th>\n",
       "      <td>4</td>\n",
       "      <td>0</td>\n",
       "      <td>190</td>\n",
       "      <td>260.0</td>\n",
       "      <td>17.0</td>\n",
       "      <td>0.844522</td>\n",
       "    </tr>\n",
       "    <tr>\n",
       "      <th>2</th>\n",
       "      <td>4</td>\n",
       "      <td>10</td>\n",
       "      <td>70</td>\n",
       "      <td>200.0</td>\n",
       "      <td>23.0</td>\n",
       "      <td>0.841944</td>\n",
       "    </tr>\n",
       "    <tr>\n",
       "      <th>3</th>\n",
       "      <td>4</td>\n",
       "      <td>10</td>\n",
       "      <td>110</td>\n",
       "      <td>140.0</td>\n",
       "      <td>NaN</td>\n",
       "      <td>0.839380</td>\n",
       "    </tr>\n",
       "    <tr>\n",
       "      <th>4</th>\n",
       "      <td>4</td>\n",
       "      <td>10</td>\n",
       "      <td>80</td>\n",
       "      <td>140.0</td>\n",
       "      <td>17.0</td>\n",
       "      <td>0.839380</td>\n",
       "    </tr>\n",
       "  </tbody>\n",
       "</table>\n",
       "</div>"
      ],
      "text/plain": [
       "   rfe__n_features_to_select  est__random_state  est__n_estimators  \\\n",
       "0                          4                  0                170   \n",
       "1                          4                  0                190   \n",
       "2                          4                 10                 70   \n",
       "3                          4                 10                110   \n",
       "4                          4                 10                 80   \n",
       "\n",
       "   est__max_leaf_nodes  est__max_depth  mean_test_score  \n",
       "0                120.0            23.0         0.845797  \n",
       "1                260.0            17.0         0.844522  \n",
       "2                200.0            23.0         0.841944  \n",
       "3                140.0             NaN         0.839380  \n",
       "4                140.0            17.0         0.839380  "
      ]
     },
     "execution_count": 33,
     "metadata": {},
     "output_type": "execute_result"
    }
   ],
   "source": [
    "# Checking which values yielded the best results.\n",
    "rs_results = pd.DataFrame(rs.cv_results_)[[\"params\", \"mean_test_score\"]]\n",
    "rs_results = pd.concat([pd.DataFrame(rs_results[\"params\"].tolist()), rs_results[\"mean_test_score\"]], axis = 1)\n",
    "rs_results = rs_results.loc[rs_results[\"mean_test_score\"].dropna().index, :].sort_values(by = \"mean_test_score\", ascending = False).reset_index(drop = True)\n",
    "rs_results.head()"
   ]
  },
  {
   "cell_type": "markdown",
   "id": "5a4afb24",
   "metadata": {
    "papermill": {
     "duration": 0.020355,
     "end_time": "2022-06-30T06:29:14.394885",
     "exception": false,
     "start_time": "2022-06-30T06:29:14.374530",
     "status": "completed"
    },
    "tags": []
   },
   "source": [
    "The ideal values we seem to get from Cross Validation are -\n",
    "\n",
    "* rfe_n_features_to_select = 4\n",
    "* est_random_state = 0\n",
    "* est_n_estimators = 170\n",
    "* est_max_leaf_nodes = 120\n",
    "* est_max_depth = 23\n",
    "\n",
    "Now that we have the ideal values with us, let's check the accuracy on the test data.\n"
   ]
  },
  {
   "cell_type": "code",
   "execution_count": 34,
   "id": "b12a5a19",
   "metadata": {
    "execution": {
     "iopub.execute_input": "2022-06-30T06:29:14.438663Z",
     "iopub.status.busy": "2022-06-30T06:29:14.438056Z",
     "iopub.status.idle": "2022-06-30T06:29:14.533032Z",
     "shell.execute_reply": "2022-06-30T06:29:14.531842Z"
    },
    "papermill": {
     "duration": 0.119727,
     "end_time": "2022-06-30T06:29:14.535202",
     "exception": false,
     "start_time": "2022-06-30T06:29:14.415475",
     "status": "completed"
    },
    "tags": []
   },
   "outputs": [
    {
     "name": "stdout",
     "output_type": "stream",
     "text": [
      "Training data accuracy = 98.07%\n",
      "Testing data accuracy = 81.27%\n"
     ]
    }
   ],
   "source": [
    "# Checking the accuracy on the test data.\n",
    "rf_clf_rs = rs.best_estimator_\n",
    "rf_clf_rs.score(X_test, y_test)\n",
    "\n",
    "print(f\"Training data accuracy = {rf_clf_rs.score(smote_X_train, smote_y_train) * 100:.2f}%\")\n",
    "print(f\"Testing data accuracy = {rf_clf_rs.score(X_test, y_test)* 100:.2f}%\")"
   ]
  },
  {
   "cell_type": "markdown",
   "id": "bb8e281e",
   "metadata": {
    "papermill": {
     "duration": 0.020555,
     "end_time": "2022-06-30T06:29:14.576830",
     "exception": false,
     "start_time": "2022-06-30T06:29:14.556275",
     "status": "completed"
    },
    "tags": []
   },
   "source": [
    "As you can see, even after going through so many steps the model only had a 2% boost in its accuracy. The means that either the data still has a lot of issues with it, or that `RandomForestClassifier` isn't the correct algorithm for the task.\n",
    "\n",
    "---"
   ]
  },
  {
   "cell_type": "markdown",
   "id": "74e028b8",
   "metadata": {
    "papermill": {
     "duration": 0.0203,
     "end_time": "2022-06-30T06:29:14.618077",
     "exception": false,
     "start_time": "2022-06-30T06:29:14.597777",
     "status": "completed"
    },
    "tags": []
   },
   "source": [
    "# Final Prediction <a id = \"final-pred\"></a>\n",
    "\n",
    "Now that we have a model with about 83% accuracy, let's try to predict on the real test data `test_df`.\n",
    "\n",
    "First we'll have to clean the data, then we can pass it into the model."
   ]
  },
  {
   "cell_type": "code",
   "execution_count": 35,
   "id": "0e842087",
   "metadata": {
    "execution": {
     "iopub.execute_input": "2022-06-30T06:29:14.661883Z",
     "iopub.status.busy": "2022-06-30T06:29:14.661200Z",
     "iopub.status.idle": "2022-06-30T06:29:14.684689Z",
     "shell.execute_reply": "2022-06-30T06:29:14.683753Z"
    },
    "papermill": {
     "duration": 0.048285,
     "end_time": "2022-06-30T06:29:14.687014",
     "exception": false,
     "start_time": "2022-06-30T06:29:14.638729",
     "status": "completed"
    },
    "tags": []
   },
   "outputs": [
    {
     "data": {
      "text/html": [
       "<div>\n",
       "<style scoped>\n",
       "    .dataframe tbody tr th:only-of-type {\n",
       "        vertical-align: middle;\n",
       "    }\n",
       "\n",
       "    .dataframe tbody tr th {\n",
       "        vertical-align: top;\n",
       "    }\n",
       "\n",
       "    .dataframe thead th {\n",
       "        text-align: right;\n",
       "    }\n",
       "</style>\n",
       "<table border=\"1\" class=\"dataframe\">\n",
       "  <thead>\n",
       "    <tr style=\"text-align: right;\">\n",
       "      <th></th>\n",
       "      <th>Pclass</th>\n",
       "      <th>Age</th>\n",
       "      <th>SibSp</th>\n",
       "      <th>Parch</th>\n",
       "      <th>Fare</th>\n",
       "      <th>Sex_male</th>\n",
       "      <th>Embarked_Q</th>\n",
       "      <th>Embarked_S</th>\n",
       "    </tr>\n",
       "  </thead>\n",
       "  <tbody>\n",
       "    <tr>\n",
       "      <th>0</th>\n",
       "      <td>3</td>\n",
       "      <td>34.5</td>\n",
       "      <td>0</td>\n",
       "      <td>0</td>\n",
       "      <td>7.8292</td>\n",
       "      <td>1</td>\n",
       "      <td>1</td>\n",
       "      <td>0</td>\n",
       "    </tr>\n",
       "    <tr>\n",
       "      <th>1</th>\n",
       "      <td>3</td>\n",
       "      <td>47.0</td>\n",
       "      <td>1</td>\n",
       "      <td>0</td>\n",
       "      <td>7.0000</td>\n",
       "      <td>0</td>\n",
       "      <td>0</td>\n",
       "      <td>1</td>\n",
       "    </tr>\n",
       "    <tr>\n",
       "      <th>2</th>\n",
       "      <td>2</td>\n",
       "      <td>62.0</td>\n",
       "      <td>0</td>\n",
       "      <td>0</td>\n",
       "      <td>9.6875</td>\n",
       "      <td>1</td>\n",
       "      <td>1</td>\n",
       "      <td>0</td>\n",
       "    </tr>\n",
       "    <tr>\n",
       "      <th>3</th>\n",
       "      <td>3</td>\n",
       "      <td>27.0</td>\n",
       "      <td>0</td>\n",
       "      <td>0</td>\n",
       "      <td>8.6625</td>\n",
       "      <td>1</td>\n",
       "      <td>0</td>\n",
       "      <td>1</td>\n",
       "    </tr>\n",
       "    <tr>\n",
       "      <th>4</th>\n",
       "      <td>3</td>\n",
       "      <td>22.0</td>\n",
       "      <td>1</td>\n",
       "      <td>1</td>\n",
       "      <td>12.2875</td>\n",
       "      <td>0</td>\n",
       "      <td>0</td>\n",
       "      <td>1</td>\n",
       "    </tr>\n",
       "  </tbody>\n",
       "</table>\n",
       "</div>"
      ],
      "text/plain": [
       "   Pclass   Age  SibSp  Parch     Fare  Sex_male  Embarked_Q  Embarked_S\n",
       "0       3  34.5      0      0   7.8292         1           1           0\n",
       "1       3  47.0      1      0   7.0000         0           0           1\n",
       "2       2  62.0      0      0   9.6875         1           1           0\n",
       "3       3  27.0      0      0   8.6625         1           0           1\n",
       "4       3  22.0      1      1  12.2875         0           0           1"
      ]
     },
     "execution_count": 35,
     "metadata": {},
     "output_type": "execute_result"
    }
   ],
   "source": [
    "# Creating a function to clean the data.\n",
    "def clean_data(df):\n",
    "  df.drop(columns = [\"Cabin\", \"Name\", \"Ticket\", \"PassengerId\"], inplace = True)\n",
    "\n",
    "  null_columns = df.columns[df.isna().sum().gt(0)]\n",
    "  list(map(lambda column : df[column].fillna(value = df[column].median(), inplace = True), null_columns))\n",
    "\n",
    "  str_df = df.select_dtypes(include = object)\n",
    "  df.drop(columns = str_df.columns, inplace = True)\n",
    "  encoded_df = pd.get_dummies(data = str_df, drop_first = True)\n",
    "  df = pd.concat([df, encoded_df], axis = 1)\n",
    "  \n",
    "  return df\n",
    "\n",
    "cleaned_test_df = clean_data(test_df.copy())\n",
    "cleaned_test_df.head()"
   ]
  },
  {
   "cell_type": "code",
   "execution_count": 36,
   "id": "37dd0254",
   "metadata": {
    "execution": {
     "iopub.execute_input": "2022-06-30T06:29:14.731453Z",
     "iopub.status.busy": "2022-06-30T06:29:14.731054Z",
     "iopub.status.idle": "2022-06-30T06:29:14.774440Z",
     "shell.execute_reply": "2022-06-30T06:29:14.773520Z"
    },
    "papermill": {
     "duration": 0.068638,
     "end_time": "2022-06-30T06:29:14.776821",
     "exception": false,
     "start_time": "2022-06-30T06:29:14.708183",
     "status": "completed"
    },
    "tags": []
   },
   "outputs": [
    {
     "data": {
      "text/html": [
       "<div>\n",
       "<style scoped>\n",
       "    .dataframe tbody tr th:only-of-type {\n",
       "        vertical-align: middle;\n",
       "    }\n",
       "\n",
       "    .dataframe tbody tr th {\n",
       "        vertical-align: top;\n",
       "    }\n",
       "\n",
       "    .dataframe thead th {\n",
       "        text-align: right;\n",
       "    }\n",
       "</style>\n",
       "<table border=\"1\" class=\"dataframe\">\n",
       "  <thead>\n",
       "    <tr style=\"text-align: right;\">\n",
       "      <th></th>\n",
       "      <th>PassengerId</th>\n",
       "      <th>Survived</th>\n",
       "    </tr>\n",
       "  </thead>\n",
       "  <tbody>\n",
       "    <tr>\n",
       "      <th>0</th>\n",
       "      <td>892</td>\n",
       "      <td>0</td>\n",
       "    </tr>\n",
       "    <tr>\n",
       "      <th>1</th>\n",
       "      <td>893</td>\n",
       "      <td>0</td>\n",
       "    </tr>\n",
       "    <tr>\n",
       "      <th>2</th>\n",
       "      <td>894</td>\n",
       "      <td>0</td>\n",
       "    </tr>\n",
       "    <tr>\n",
       "      <th>3</th>\n",
       "      <td>895</td>\n",
       "      <td>1</td>\n",
       "    </tr>\n",
       "    <tr>\n",
       "      <th>4</th>\n",
       "      <td>896</td>\n",
       "      <td>0</td>\n",
       "    </tr>\n",
       "  </tbody>\n",
       "</table>\n",
       "</div>"
      ],
      "text/plain": [
       "   PassengerId  Survived\n",
       "0          892         0\n",
       "1          893         0\n",
       "2          894         0\n",
       "3          895         1\n",
       "4          896         0"
      ]
     },
     "execution_count": 36,
     "metadata": {},
     "output_type": "execute_result"
    }
   ],
   "source": [
    "# Making the prediction.\n",
    "test_pred = pd.DataFrame(rf_clf_rs.predict(cleaned_test_df), columns = [\"Survived\"])\n",
    "test_pred = pd.concat([test_df[\"PassengerId\"], test_pred], axis = 1)\n",
    "test_pred.head()"
   ]
  },
  {
   "cell_type": "markdown",
   "id": "42eab77f",
   "metadata": {
    "papermill": {
     "duration": 0.021091,
     "end_time": "2022-06-30T06:29:14.819399",
     "exception": false,
     "start_time": "2022-06-30T06:29:14.798308",
     "status": "completed"
    },
    "tags": []
   },
   "source": [
    "Now that we have the predictions stored in a variable, let's store it into a `.csv` file."
   ]
  },
  {
   "cell_type": "code",
   "execution_count": 37,
   "id": "f9711707",
   "metadata": {
    "execution": {
     "iopub.execute_input": "2022-06-30T06:29:14.863851Z",
     "iopub.status.busy": "2022-06-30T06:29:14.863180Z",
     "iopub.status.idle": "2022-06-30T06:29:14.871247Z",
     "shell.execute_reply": "2022-06-30T06:29:14.870545Z"
    },
    "papermill": {
     "duration": 0.032329,
     "end_time": "2022-06-30T06:29:14.873240",
     "exception": false,
     "start_time": "2022-06-30T06:29:14.840911",
     "status": "completed"
    },
    "tags": []
   },
   "outputs": [],
   "source": [
    "# Converting the dataframe to a csv file.\n",
    "pd.DataFrame(test_pred).to_csv(\"Predictions.csv\", index = False)"
   ]
  },
  {
   "cell_type": "markdown",
   "id": "f74465e9",
   "metadata": {
    "papermill": {
     "duration": 0.020774,
     "end_time": "2022-06-30T06:29:14.915040",
     "exception": false,
     "start_time": "2022-06-30T06:29:14.894266",
     "status": "completed"
    },
    "tags": []
   },
   "source": [
    "# END OF THE NOTEBOOK\n",
    "\n",
    "---"
   ]
  }
 ],
 "metadata": {
  "kernelspec": {
   "display_name": "Python 3",
   "language": "python",
   "name": "python3"
  },
  "language_info": {
   "codemirror_mode": {
    "name": "ipython",
    "version": 3
   },
   "file_extension": ".py",
   "mimetype": "text/x-python",
   "name": "python",
   "nbconvert_exporter": "python",
   "pygments_lexer": "ipython3",
   "version": "3.7.12"
  },
  "papermill": {
   "default_parameters": {},
   "duration": 176.773424,
   "end_time": "2022-06-30T06:29:17.556290",
   "environment_variables": {},
   "exception": null,
   "input_path": "__notebook__.ipynb",
   "output_path": "__notebook__.ipynb",
   "parameters": {},
   "start_time": "2022-06-30T06:26:20.782866",
   "version": "2.3.4"
  }
 },
 "nbformat": 4,
 "nbformat_minor": 5
}
