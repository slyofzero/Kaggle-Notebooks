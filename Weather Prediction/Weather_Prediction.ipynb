{
  "cells": [
    {
      "cell_type": "markdown",
      "source": [
        "#Aim -\n",
        "To predict humidity based upon the temperature using Linear Regression.\n",
        "\n",
        "It is suggested to open this file in `Google Colab`.\n",
        "\n",
        "---"
      ],
      "metadata": {
        "id": "lKKDU69Qp-Ic"
      }
    },
    {
      "cell_type": "markdown",
      "source": [
        "Pre-requisites - \n",
        "\n",
        "\n",
        "1. [Data](https://raw.githubusercontent.com/slyofzero/Least-Squares/main/weatherHistory.csv)\\\n",
        "Source - https://www.kaggle.com/budincsevity/szeged-weather \\\n",
        "\n",
        "  You can also use the Kaggle API to download the data, just make sure you have the API Key for that data stored in your Google Drive. \\\n",
        "\n",
        "2. Knowledge about Linear Regression and `Least Squares method`. \\\n",
        "3. Modules-\n",
        "\n",
        "  * Pandas\n",
        "  * Numpy\n",
        "  * Matplotlib\n",
        "  * Sklearn\n",
        "  * Scipy\n",
        "  * Statsmodels\n",
        "\n",
        "\n",
        "\n"
      ],
      "metadata": {
        "id": "XO1GNKhSqOks"
      }
    },
    {
      "cell_type": "markdown",
      "source": [
        "---\n",
        "\n",
        "##Downloading the Dataset/Competition using the Kaggle API"
      ],
      "metadata": {
        "id": "HEyJ_pMrtkTr"
      }
    },
    {
      "cell_type": "code",
      "source": [
        "# # Uncomment this code and run it only if you want to mount your Google Drive to go with the Kaggle API method.\n",
        "# from google.colab import drive\n",
        "# drive.mount('/content/drive')"
      ],
      "metadata": {
        "id": "yOmAahj5-8U1"
      },
      "execution_count": 1,
      "outputs": []
    },
    {
      "cell_type": "code",
      "execution_count": 2,
      "metadata": {
        "id": "APv50-vNjJRn"
      },
      "outputs": [],
      "source": [
        "# # Uncomment this code and run it only if you have Mounted Google Drive to Colab and have the Kaggle API Key stored in it.\n",
        "\n",
        "# !mkdir ~/.kaggle\n",
        "# !cp [Drive location of the API key] ~/.kaggle/kaggle.json\n",
        "# !kaggle datasets download -d [name of the dataset]\n",
        "## Use {!kaggle competitions download -d [name of the dataset]} to download competitions"
      ]
    },
    {
      "cell_type": "code",
      "source": [
        "# # Uncomment this code and run it only if you have Mounted Google Drive to Colab and have the Kaggle API Key stored in it.\n",
        "\n",
        "# !unzip [location of the dataset's zip file]"
      ],
      "metadata": {
        "id": "u-0FsSDXtc9b"
      },
      "execution_count": 3,
      "outputs": []
    },
    {
      "cell_type": "markdown",
      "source": [
        "If you face any errors with this method, reference to - \\\n",
        "https://www.analyticsvidhya.com/blog/2021/06/how-to-load-kaggle-datasets-directly-into-google-colab/"
      ],
      "metadata": {
        "id": "uXINm7RMvGch"
      }
    },
    {
      "cell_type": "markdown",
      "source": [
        "###Cleaning the Data\n",
        "\n",
        "---"
      ],
      "metadata": {
        "id": "OrqltyLvnlC-"
      }
    },
    {
      "cell_type": "markdown",
      "source": [
        "Let's get rid of the null values from the dataset"
      ],
      "metadata": {
        "id": "yEl7z9mVvb_Z"
      }
    },
    {
      "cell_type": "code",
      "execution_count": 4,
      "metadata": {
        "id": "h5EmuIENThhj"
      },
      "outputs": [],
      "source": [
        "# Importing the necessary modules.\n",
        "\n",
        "import matplotlib.pyplot as plt\n",
        "import seaborn as sns\n",
        "import numpy as np\n",
        "import pandas as pd\n",
        "\n",
        "# Ignoring all the warnings.\n",
        "import warnings\n",
        "warnings.filterwarnings(\"ignore\")"
      ]
    },
    {
      "cell_type": "code",
      "execution_count": 5,
      "metadata": {
        "colab": {
          "base_uri": "https://localhost:8080/",
          "height": 458
        },
        "id": "rRryobQUigju",
        "outputId": "5d321b42-80df-4e42-cd7b-3351769fd6c3"
      },
      "outputs": [
        {
          "output_type": "execute_result",
          "data": {
            "text/plain": [
              "                  Formatted Date        Summary Precip Type  Temperature (C)  \\\n",
              "0  2006-04-01 00:00:00.000 +0200  Partly Cloudy        rain         9.472222   \n",
              "1  2006-04-01 01:00:00.000 +0200  Partly Cloudy        rain         9.355556   \n",
              "2  2006-04-01 02:00:00.000 +0200  Mostly Cloudy        rain         9.377778   \n",
              "3  2006-04-01 03:00:00.000 +0200  Partly Cloudy        rain         8.288889   \n",
              "4  2006-04-01 04:00:00.000 +0200  Mostly Cloudy        rain         8.755556   \n",
              "\n",
              "   Apparent Temperature (C)  Humidity  Wind Speed (km/h)  \\\n",
              "0                  7.388889      0.89            14.1197   \n",
              "1                  7.227778      0.86            14.2646   \n",
              "2                  9.377778      0.89             3.9284   \n",
              "3                  5.944444      0.83            14.1036   \n",
              "4                  6.977778      0.83            11.0446   \n",
              "\n",
              "   Wind Bearing (degrees)  Visibility (km)  Loud Cover  Pressure (millibars)  \\\n",
              "0                   251.0          15.8263         0.0               1015.13   \n",
              "1                   259.0          15.8263         0.0               1015.63   \n",
              "2                   204.0          14.9569         0.0               1015.94   \n",
              "3                   269.0          15.8263         0.0               1016.41   \n",
              "4                   259.0          15.8263         0.0               1016.51   \n",
              "\n",
              "                       Daily Summary  \n",
              "0  Partly cloudy throughout the day.  \n",
              "1  Partly cloudy throughout the day.  \n",
              "2  Partly cloudy throughout the day.  \n",
              "3  Partly cloudy throughout the day.  \n",
              "4  Partly cloudy throughout the day.  "
            ],
            "text/html": [
              "\n",
              "  <div id=\"df-4fd5e532-4753-49b5-a10d-b69e7ba542af\">\n",
              "    <div class=\"colab-df-container\">\n",
              "      <div>\n",
              "<style scoped>\n",
              "    .dataframe tbody tr th:only-of-type {\n",
              "        vertical-align: middle;\n",
              "    }\n",
              "\n",
              "    .dataframe tbody tr th {\n",
              "        vertical-align: top;\n",
              "    }\n",
              "\n",
              "    .dataframe thead th {\n",
              "        text-align: right;\n",
              "    }\n",
              "</style>\n",
              "<table border=\"1\" class=\"dataframe\">\n",
              "  <thead>\n",
              "    <tr style=\"text-align: right;\">\n",
              "      <th></th>\n",
              "      <th>Formatted Date</th>\n",
              "      <th>Summary</th>\n",
              "      <th>Precip Type</th>\n",
              "      <th>Temperature (C)</th>\n",
              "      <th>Apparent Temperature (C)</th>\n",
              "      <th>Humidity</th>\n",
              "      <th>Wind Speed (km/h)</th>\n",
              "      <th>Wind Bearing (degrees)</th>\n",
              "      <th>Visibility (km)</th>\n",
              "      <th>Loud Cover</th>\n",
              "      <th>Pressure (millibars)</th>\n",
              "      <th>Daily Summary</th>\n",
              "    </tr>\n",
              "  </thead>\n",
              "  <tbody>\n",
              "    <tr>\n",
              "      <th>0</th>\n",
              "      <td>2006-04-01 00:00:00.000 +0200</td>\n",
              "      <td>Partly Cloudy</td>\n",
              "      <td>rain</td>\n",
              "      <td>9.472222</td>\n",
              "      <td>7.388889</td>\n",
              "      <td>0.89</td>\n",
              "      <td>14.1197</td>\n",
              "      <td>251.0</td>\n",
              "      <td>15.8263</td>\n",
              "      <td>0.0</td>\n",
              "      <td>1015.13</td>\n",
              "      <td>Partly cloudy throughout the day.</td>\n",
              "    </tr>\n",
              "    <tr>\n",
              "      <th>1</th>\n",
              "      <td>2006-04-01 01:00:00.000 +0200</td>\n",
              "      <td>Partly Cloudy</td>\n",
              "      <td>rain</td>\n",
              "      <td>9.355556</td>\n",
              "      <td>7.227778</td>\n",
              "      <td>0.86</td>\n",
              "      <td>14.2646</td>\n",
              "      <td>259.0</td>\n",
              "      <td>15.8263</td>\n",
              "      <td>0.0</td>\n",
              "      <td>1015.63</td>\n",
              "      <td>Partly cloudy throughout the day.</td>\n",
              "    </tr>\n",
              "    <tr>\n",
              "      <th>2</th>\n",
              "      <td>2006-04-01 02:00:00.000 +0200</td>\n",
              "      <td>Mostly Cloudy</td>\n",
              "      <td>rain</td>\n",
              "      <td>9.377778</td>\n",
              "      <td>9.377778</td>\n",
              "      <td>0.89</td>\n",
              "      <td>3.9284</td>\n",
              "      <td>204.0</td>\n",
              "      <td>14.9569</td>\n",
              "      <td>0.0</td>\n",
              "      <td>1015.94</td>\n",
              "      <td>Partly cloudy throughout the day.</td>\n",
              "    </tr>\n",
              "    <tr>\n",
              "      <th>3</th>\n",
              "      <td>2006-04-01 03:00:00.000 +0200</td>\n",
              "      <td>Partly Cloudy</td>\n",
              "      <td>rain</td>\n",
              "      <td>8.288889</td>\n",
              "      <td>5.944444</td>\n",
              "      <td>0.83</td>\n",
              "      <td>14.1036</td>\n",
              "      <td>269.0</td>\n",
              "      <td>15.8263</td>\n",
              "      <td>0.0</td>\n",
              "      <td>1016.41</td>\n",
              "      <td>Partly cloudy throughout the day.</td>\n",
              "    </tr>\n",
              "    <tr>\n",
              "      <th>4</th>\n",
              "      <td>2006-04-01 04:00:00.000 +0200</td>\n",
              "      <td>Mostly Cloudy</td>\n",
              "      <td>rain</td>\n",
              "      <td>8.755556</td>\n",
              "      <td>6.977778</td>\n",
              "      <td>0.83</td>\n",
              "      <td>11.0446</td>\n",
              "      <td>259.0</td>\n",
              "      <td>15.8263</td>\n",
              "      <td>0.0</td>\n",
              "      <td>1016.51</td>\n",
              "      <td>Partly cloudy throughout the day.</td>\n",
              "    </tr>\n",
              "  </tbody>\n",
              "</table>\n",
              "</div>\n",
              "      <button class=\"colab-df-convert\" onclick=\"convertToInteractive('df-4fd5e532-4753-49b5-a10d-b69e7ba542af')\"\n",
              "              title=\"Convert this dataframe to an interactive table.\"\n",
              "              style=\"display:none;\">\n",
              "        \n",
              "  <svg xmlns=\"http://www.w3.org/2000/svg\" height=\"24px\"viewBox=\"0 0 24 24\"\n",
              "       width=\"24px\">\n",
              "    <path d=\"M0 0h24v24H0V0z\" fill=\"none\"/>\n",
              "    <path d=\"M18.56 5.44l.94 2.06.94-2.06 2.06-.94-2.06-.94-.94-2.06-.94 2.06-2.06.94zm-11 1L8.5 8.5l.94-2.06 2.06-.94-2.06-.94L8.5 2.5l-.94 2.06-2.06.94zm10 10l.94 2.06.94-2.06 2.06-.94-2.06-.94-.94-2.06-.94 2.06-2.06.94z\"/><path d=\"M17.41 7.96l-1.37-1.37c-.4-.4-.92-.59-1.43-.59-.52 0-1.04.2-1.43.59L10.3 9.45l-7.72 7.72c-.78.78-.78 2.05 0 2.83L4 21.41c.39.39.9.59 1.41.59.51 0 1.02-.2 1.41-.59l7.78-7.78 2.81-2.81c.8-.78.8-2.07 0-2.86zM5.41 20L4 18.59l7.72-7.72 1.47 1.35L5.41 20z\"/>\n",
              "  </svg>\n",
              "      </button>\n",
              "      \n",
              "  <style>\n",
              "    .colab-df-container {\n",
              "      display:flex;\n",
              "      flex-wrap:wrap;\n",
              "      gap: 12px;\n",
              "    }\n",
              "\n",
              "    .colab-df-convert {\n",
              "      background-color: #E8F0FE;\n",
              "      border: none;\n",
              "      border-radius: 50%;\n",
              "      cursor: pointer;\n",
              "      display: none;\n",
              "      fill: #1967D2;\n",
              "      height: 32px;\n",
              "      padding: 0 0 0 0;\n",
              "      width: 32px;\n",
              "    }\n",
              "\n",
              "    .colab-df-convert:hover {\n",
              "      background-color: #E2EBFA;\n",
              "      box-shadow: 0px 1px 2px rgba(60, 64, 67, 0.3), 0px 1px 3px 1px rgba(60, 64, 67, 0.15);\n",
              "      fill: #174EA6;\n",
              "    }\n",
              "\n",
              "    [theme=dark] .colab-df-convert {\n",
              "      background-color: #3B4455;\n",
              "      fill: #D2E3FC;\n",
              "    }\n",
              "\n",
              "    [theme=dark] .colab-df-convert:hover {\n",
              "      background-color: #434B5C;\n",
              "      box-shadow: 0px 1px 3px 1px rgba(0, 0, 0, 0.15);\n",
              "      filter: drop-shadow(0px 1px 2px rgba(0, 0, 0, 0.3));\n",
              "      fill: #FFFFFF;\n",
              "    }\n",
              "  </style>\n",
              "\n",
              "      <script>\n",
              "        const buttonEl =\n",
              "          document.querySelector('#df-4fd5e532-4753-49b5-a10d-b69e7ba542af button.colab-df-convert');\n",
              "        buttonEl.style.display =\n",
              "          google.colab.kernel.accessAllowed ? 'block' : 'none';\n",
              "\n",
              "        async function convertToInteractive(key) {\n",
              "          const element = document.querySelector('#df-4fd5e532-4753-49b5-a10d-b69e7ba542af');\n",
              "          const dataTable =\n",
              "            await google.colab.kernel.invokeFunction('convertToInteractive',\n",
              "                                                     [key], {});\n",
              "          if (!dataTable) return;\n",
              "\n",
              "          const docLinkHtml = 'Like what you see? Visit the ' +\n",
              "            '<a target=\"_blank\" href=https://colab.research.google.com/notebooks/data_table.ipynb>data table notebook</a>'\n",
              "            + ' to learn more about interactive tables.';\n",
              "          element.innerHTML = '';\n",
              "          dataTable['output_type'] = 'display_data';\n",
              "          await google.colab.output.renderOutput(dataTable, element);\n",
              "          const docLink = document.createElement('div');\n",
              "          docLink.innerHTML = docLinkHtml;\n",
              "          element.appendChild(docLink);\n",
              "        }\n",
              "      </script>\n",
              "    </div>\n",
              "  </div>\n",
              "  "
            ]
          },
          "metadata": {},
          "execution_count": 5
        }
      ],
      "source": [
        "# Loading the data.\n",
        "df = pd.read_csv(\"https://raw.githubusercontent.com/slyofzero/Kaggle-Notebooks/main/Weather%20Prediction/weatherHistory.csv\") # Pass in the file path if you used the Kaggle API\n",
        "df.head()"
      ]
    },
    {
      "cell_type": "code",
      "execution_count": 6,
      "metadata": {
        "colab": {
          "base_uri": "https://localhost:8080/"
        },
        "id": "n8MrCBRdzw9O",
        "outputId": "646616d0-96f1-4d6c-a2fc-5989caa76f88"
      },
      "outputs": [
        {
          "output_type": "execute_result",
          "data": {
            "text/plain": [
              "Formatted Date                0\n",
              "Summary                       0\n",
              "Precip Type                 517\n",
              "Temperature (C)               0\n",
              "Apparent Temperature (C)      0\n",
              "Humidity                      0\n",
              "Wind Speed (km/h)             0\n",
              "Wind Bearing (degrees)        0\n",
              "Visibility (km)               0\n",
              "Loud Cover                    0\n",
              "Pressure (millibars)          0\n",
              "Daily Summary                 0\n",
              "dtype: int64"
            ]
          },
          "metadata": {},
          "execution_count": 6
        }
      ],
      "source": [
        "# Checking for null values.\n",
        "df.isna().sum()"
      ]
    },
    {
      "cell_type": "code",
      "source": [
        "# Dropping all columns with any null values.\n",
        "df = df.dropna()"
      ],
      "metadata": {
        "id": "qyXAVJ_tZri7"
      },
      "execution_count": 7,
      "outputs": []
    },
    {
      "cell_type": "code",
      "source": [
        "# Checking if all the null values were handled properly or not.\n",
        "df.isna().sum()"
      ],
      "metadata": {
        "colab": {
          "base_uri": "https://localhost:8080/"
        },
        "id": "iORxydDgwmlE",
        "outputId": "02e50b81-c256-4617-c2cd-723421ac0182"
      },
      "execution_count": 8,
      "outputs": [
        {
          "output_type": "execute_result",
          "data": {
            "text/plain": [
              "Formatted Date              0\n",
              "Summary                     0\n",
              "Precip Type                 0\n",
              "Temperature (C)             0\n",
              "Apparent Temperature (C)    0\n",
              "Humidity                    0\n",
              "Wind Speed (km/h)           0\n",
              "Wind Bearing (degrees)      0\n",
              "Visibility (km)             0\n",
              "Loud Cover                  0\n",
              "Pressure (millibars)        0\n",
              "Daily Summary               0\n",
              "dtype: int64"
            ]
          },
          "metadata": {},
          "execution_count": 8
        }
      ]
    },
    {
      "cell_type": "markdown",
      "source": [
        "It's a possibility that we might need to move on to Multiple Linear Regression if Simple Linear Regression doesn't work out for us.\n",
        "\n",
        "In that case, we'll be using all feature variables present to predict the humidity.\n",
        "\n",
        "So, let's convert the `Formatted Date` column to a proper `datetime` column so we can use it for later predictions."
      ],
      "metadata": {
        "id": "M1Olf0Lxv8-L"
      }
    },
    {
      "cell_type": "code",
      "execution_count": 9,
      "metadata": {
        "colab": {
          "base_uri": "https://localhost:8080/",
          "height": 545
        },
        "id": "UFrwZUrCXfA4",
        "outputId": "b3872bf5-97a5-463e-ac37-812399f35603"
      },
      "outputs": [
        {
          "output_type": "execute_result",
          "data": {
            "text/plain": [
              "         Summary Precip Type  Temperature (C)  Apparent Temperature (C)  \\\n",
              "0  Partly Cloudy        rain         9.472222                  7.388889   \n",
              "1  Partly Cloudy        rain         9.355556                  7.227778   \n",
              "2  Mostly Cloudy        rain         9.377778                  9.377778   \n",
              "3  Partly Cloudy        rain         8.288889                  5.944444   \n",
              "4  Mostly Cloudy        rain         8.755556                  6.977778   \n",
              "\n",
              "   Humidity  Wind Speed (km/h)  Wind Bearing (degrees)  Visibility (km)  \\\n",
              "0      0.89            14.1197                   251.0          15.8263   \n",
              "1      0.86            14.2646                   259.0          15.8263   \n",
              "2      0.89             3.9284                   204.0          14.9569   \n",
              "3      0.83            14.1036                   269.0          15.8263   \n",
              "4      0.83            11.0446                   259.0          15.8263   \n",
              "\n",
              "   Loud Cover  Pressure (millibars)                      Daily Summary  Year  \\\n",
              "0         0.0               1015.13  Partly cloudy throughout the day.  2006   \n",
              "1         0.0               1015.63  Partly cloudy throughout the day.  2006   \n",
              "2         0.0               1015.94  Partly cloudy throughout the day.  2006   \n",
              "3         0.0               1016.41  Partly cloudy throughout the day.  2006   \n",
              "4         0.0               1016.51  Partly cloudy throughout the day.  2006   \n",
              "\n",
              "   Month  day  Day Name  \n",
              "0      4    1  Saturday  \n",
              "1      4    1  Saturday  \n",
              "2      4    1  Saturday  \n",
              "3      4    1  Saturday  \n",
              "4      4    1  Saturday  "
            ],
            "text/html": [
              "\n",
              "  <div id=\"df-3aa84d64-1bc6-4b8f-9398-6f7bd941be4b\">\n",
              "    <div class=\"colab-df-container\">\n",
              "      <div>\n",
              "<style scoped>\n",
              "    .dataframe tbody tr th:only-of-type {\n",
              "        vertical-align: middle;\n",
              "    }\n",
              "\n",
              "    .dataframe tbody tr th {\n",
              "        vertical-align: top;\n",
              "    }\n",
              "\n",
              "    .dataframe thead th {\n",
              "        text-align: right;\n",
              "    }\n",
              "</style>\n",
              "<table border=\"1\" class=\"dataframe\">\n",
              "  <thead>\n",
              "    <tr style=\"text-align: right;\">\n",
              "      <th></th>\n",
              "      <th>Summary</th>\n",
              "      <th>Precip Type</th>\n",
              "      <th>Temperature (C)</th>\n",
              "      <th>Apparent Temperature (C)</th>\n",
              "      <th>Humidity</th>\n",
              "      <th>Wind Speed (km/h)</th>\n",
              "      <th>Wind Bearing (degrees)</th>\n",
              "      <th>Visibility (km)</th>\n",
              "      <th>Loud Cover</th>\n",
              "      <th>Pressure (millibars)</th>\n",
              "      <th>Daily Summary</th>\n",
              "      <th>Year</th>\n",
              "      <th>Month</th>\n",
              "      <th>day</th>\n",
              "      <th>Day Name</th>\n",
              "    </tr>\n",
              "  </thead>\n",
              "  <tbody>\n",
              "    <tr>\n",
              "      <th>0</th>\n",
              "      <td>Partly Cloudy</td>\n",
              "      <td>rain</td>\n",
              "      <td>9.472222</td>\n",
              "      <td>7.388889</td>\n",
              "      <td>0.89</td>\n",
              "      <td>14.1197</td>\n",
              "      <td>251.0</td>\n",
              "      <td>15.8263</td>\n",
              "      <td>0.0</td>\n",
              "      <td>1015.13</td>\n",
              "      <td>Partly cloudy throughout the day.</td>\n",
              "      <td>2006</td>\n",
              "      <td>4</td>\n",
              "      <td>1</td>\n",
              "      <td>Saturday</td>\n",
              "    </tr>\n",
              "    <tr>\n",
              "      <th>1</th>\n",
              "      <td>Partly Cloudy</td>\n",
              "      <td>rain</td>\n",
              "      <td>9.355556</td>\n",
              "      <td>7.227778</td>\n",
              "      <td>0.86</td>\n",
              "      <td>14.2646</td>\n",
              "      <td>259.0</td>\n",
              "      <td>15.8263</td>\n",
              "      <td>0.0</td>\n",
              "      <td>1015.63</td>\n",
              "      <td>Partly cloudy throughout the day.</td>\n",
              "      <td>2006</td>\n",
              "      <td>4</td>\n",
              "      <td>1</td>\n",
              "      <td>Saturday</td>\n",
              "    </tr>\n",
              "    <tr>\n",
              "      <th>2</th>\n",
              "      <td>Mostly Cloudy</td>\n",
              "      <td>rain</td>\n",
              "      <td>9.377778</td>\n",
              "      <td>9.377778</td>\n",
              "      <td>0.89</td>\n",
              "      <td>3.9284</td>\n",
              "      <td>204.0</td>\n",
              "      <td>14.9569</td>\n",
              "      <td>0.0</td>\n",
              "      <td>1015.94</td>\n",
              "      <td>Partly cloudy throughout the day.</td>\n",
              "      <td>2006</td>\n",
              "      <td>4</td>\n",
              "      <td>1</td>\n",
              "      <td>Saturday</td>\n",
              "    </tr>\n",
              "    <tr>\n",
              "      <th>3</th>\n",
              "      <td>Partly Cloudy</td>\n",
              "      <td>rain</td>\n",
              "      <td>8.288889</td>\n",
              "      <td>5.944444</td>\n",
              "      <td>0.83</td>\n",
              "      <td>14.1036</td>\n",
              "      <td>269.0</td>\n",
              "      <td>15.8263</td>\n",
              "      <td>0.0</td>\n",
              "      <td>1016.41</td>\n",
              "      <td>Partly cloudy throughout the day.</td>\n",
              "      <td>2006</td>\n",
              "      <td>4</td>\n",
              "      <td>1</td>\n",
              "      <td>Saturday</td>\n",
              "    </tr>\n",
              "    <tr>\n",
              "      <th>4</th>\n",
              "      <td>Mostly Cloudy</td>\n",
              "      <td>rain</td>\n",
              "      <td>8.755556</td>\n",
              "      <td>6.977778</td>\n",
              "      <td>0.83</td>\n",
              "      <td>11.0446</td>\n",
              "      <td>259.0</td>\n",
              "      <td>15.8263</td>\n",
              "      <td>0.0</td>\n",
              "      <td>1016.51</td>\n",
              "      <td>Partly cloudy throughout the day.</td>\n",
              "      <td>2006</td>\n",
              "      <td>4</td>\n",
              "      <td>1</td>\n",
              "      <td>Saturday</td>\n",
              "    </tr>\n",
              "  </tbody>\n",
              "</table>\n",
              "</div>\n",
              "      <button class=\"colab-df-convert\" onclick=\"convertToInteractive('df-3aa84d64-1bc6-4b8f-9398-6f7bd941be4b')\"\n",
              "              title=\"Convert this dataframe to an interactive table.\"\n",
              "              style=\"display:none;\">\n",
              "        \n",
              "  <svg xmlns=\"http://www.w3.org/2000/svg\" height=\"24px\"viewBox=\"0 0 24 24\"\n",
              "       width=\"24px\">\n",
              "    <path d=\"M0 0h24v24H0V0z\" fill=\"none\"/>\n",
              "    <path d=\"M18.56 5.44l.94 2.06.94-2.06 2.06-.94-2.06-.94-.94-2.06-.94 2.06-2.06.94zm-11 1L8.5 8.5l.94-2.06 2.06-.94-2.06-.94L8.5 2.5l-.94 2.06-2.06.94zm10 10l.94 2.06.94-2.06 2.06-.94-2.06-.94-.94-2.06-.94 2.06-2.06.94z\"/><path d=\"M17.41 7.96l-1.37-1.37c-.4-.4-.92-.59-1.43-.59-.52 0-1.04.2-1.43.59L10.3 9.45l-7.72 7.72c-.78.78-.78 2.05 0 2.83L4 21.41c.39.39.9.59 1.41.59.51 0 1.02-.2 1.41-.59l7.78-7.78 2.81-2.81c.8-.78.8-2.07 0-2.86zM5.41 20L4 18.59l7.72-7.72 1.47 1.35L5.41 20z\"/>\n",
              "  </svg>\n",
              "      </button>\n",
              "      \n",
              "  <style>\n",
              "    .colab-df-container {\n",
              "      display:flex;\n",
              "      flex-wrap:wrap;\n",
              "      gap: 12px;\n",
              "    }\n",
              "\n",
              "    .colab-df-convert {\n",
              "      background-color: #E8F0FE;\n",
              "      border: none;\n",
              "      border-radius: 50%;\n",
              "      cursor: pointer;\n",
              "      display: none;\n",
              "      fill: #1967D2;\n",
              "      height: 32px;\n",
              "      padding: 0 0 0 0;\n",
              "      width: 32px;\n",
              "    }\n",
              "\n",
              "    .colab-df-convert:hover {\n",
              "      background-color: #E2EBFA;\n",
              "      box-shadow: 0px 1px 2px rgba(60, 64, 67, 0.3), 0px 1px 3px 1px rgba(60, 64, 67, 0.15);\n",
              "      fill: #174EA6;\n",
              "    }\n",
              "\n",
              "    [theme=dark] .colab-df-convert {\n",
              "      background-color: #3B4455;\n",
              "      fill: #D2E3FC;\n",
              "    }\n",
              "\n",
              "    [theme=dark] .colab-df-convert:hover {\n",
              "      background-color: #434B5C;\n",
              "      box-shadow: 0px 1px 3px 1px rgba(0, 0, 0, 0.15);\n",
              "      filter: drop-shadow(0px 1px 2px rgba(0, 0, 0, 0.3));\n",
              "      fill: #FFFFFF;\n",
              "    }\n",
              "  </style>\n",
              "\n",
              "      <script>\n",
              "        const buttonEl =\n",
              "          document.querySelector('#df-3aa84d64-1bc6-4b8f-9398-6f7bd941be4b button.colab-df-convert');\n",
              "        buttonEl.style.display =\n",
              "          google.colab.kernel.accessAllowed ? 'block' : 'none';\n",
              "\n",
              "        async function convertToInteractive(key) {\n",
              "          const element = document.querySelector('#df-3aa84d64-1bc6-4b8f-9398-6f7bd941be4b');\n",
              "          const dataTable =\n",
              "            await google.colab.kernel.invokeFunction('convertToInteractive',\n",
              "                                                     [key], {});\n",
              "          if (!dataTable) return;\n",
              "\n",
              "          const docLinkHtml = 'Like what you see? Visit the ' +\n",
              "            '<a target=\"_blank\" href=https://colab.research.google.com/notebooks/data_table.ipynb>data table notebook</a>'\n",
              "            + ' to learn more about interactive tables.';\n",
              "          element.innerHTML = '';\n",
              "          dataTable['output_type'] = 'display_data';\n",
              "          await google.colab.output.renderOutput(dataTable, element);\n",
              "          const docLink = document.createElement('div');\n",
              "          docLink.innerHTML = docLinkHtml;\n",
              "          element.appendChild(docLink);\n",
              "        }\n",
              "      </script>\n",
              "    </div>\n",
              "  </div>\n",
              "  "
            ]
          },
          "metadata": {},
          "execution_count": 9
        }
      ],
      "source": [
        "# Getting all datetime values.\n",
        "datetime_series = pd.to_datetime([datetime.split(\".\")[0] for datetime in df[\"Formatted Date\"]])\n",
        "\n",
        "df[\"Year\"] = datetime_series.year\n",
        "df[\"Month\"] = datetime_series.month\n",
        "df[\"day\"] = datetime_series.day\n",
        "df[\"Day Name\"] = datetime_series.day_name()\n",
        "\n",
        "df = df.drop(columns = \"Formatted Date\")\n",
        "\n",
        "df.head()"
      ]
    },
    {
      "cell_type": "markdown",
      "source": [
        "---"
      ],
      "metadata": {
        "id": "C0DRsCZqw1kd"
      }
    },
    {
      "cell_type": "markdown",
      "source": [
        "###Attempt 1 (Simple Linear Regression)\n",
        "\n",
        "---\n",
        "\n",
        "Our target variable would be the `Humidity` column while our feature varaible would be the `Temperature (C)` column.\n",
        "\n",
        "So let's create Training and Testing datasets from those columns."
      ],
      "metadata": {
        "id": "ztll5iG4npI5"
      }
    },
    {
      "cell_type": "code",
      "source": [
        "# Importing train_test_split to split the data into training and testing data.\n",
        "from sklearn.model_selection import train_test_split\n",
        "\n",
        "features = df[\"Temperature (C)\"]\n",
        "target = df[\"Humidity\"]\n",
        "\n",
        "X_train, X_test, y_train, y_test = train_test_split(features, target, test_size = 0.3, random_state = 42)\n",
        "\n",
        "# Reshaping the data so we can use LinearRegression class on it.\n",
        "X_train = np.array(X_train).reshape(-1, 1)\n",
        "y_train = np.array(y_train).reshape(-1, 1)\n",
        "\n",
        "X_test = np.array(X_test).reshape(-1, 1)\n",
        "y_test = np.array(y_test).reshape(-1, 1)"
      ],
      "metadata": {
        "id": "I-laMzJfe0Ts"
      },
      "execution_count": 10,
      "outputs": []
    },
    {
      "cell_type": "markdown",
      "source": [
        "We'll be using `Linear Regression` from `sklearn.linear_model` to create our prediction model."
      ],
      "metadata": {
        "id": "TEUlZGpO0KRu"
      }
    },
    {
      "cell_type": "code",
      "source": [
        "# Importing the LinearRegression class.\n",
        "from sklearn.linear_model import LinearRegression\n",
        "\n",
        "linreg = LinearRegression()\n",
        "# Fitting the training data into it.\n",
        "linreg.fit(X_train, y_train)\n",
        "\n",
        "# Predicting using the model for both training and testing data.\n",
        "y_train_pred = linreg.predict(X_train)\n",
        "y_test_pred = linreg.predict(X_test)"
      ],
      "metadata": {
        "id": "bqT260M0fZCE"
      },
      "execution_count": 11,
      "outputs": []
    },
    {
      "cell_type": "markdown",
      "source": [
        "Now we will import `r2_score`, `mean_squared_error` ,and `mean_absolute_error` to analyse the results of our model."
      ],
      "metadata": {
        "id": "iRh5ZiPj0VYE"
      }
    },
    {
      "cell_type": "code",
      "source": [
        "# Analysing the results of our model.\n",
        "from sklearn.metrics import r2_score, mean_squared_error, mean_absolute_error\n",
        "\n",
        "print(\"Training Data\")\n",
        "print(\"-\" * 50)\n",
        "print(f\"R2 Score: {r2_score(y_train, y_train_pred):.3f}\")\n",
        "print(f\"MSE Score: {mean_squared_error(y_train, y_train_pred):.3f}\")\n",
        "print(f\"RMSE Score: {np.sqrt(mean_squared_error(y_train, y_train_pred)):.3f}\")\n",
        "print(f\"MAE Score: {mean_absolute_error(y_train, y_train_pred):.3f}\\n\")\n",
        "\n",
        "print(\"Testing Data\")\n",
        "print(\"-\" * 50)\n",
        "print(f\"R2 Score: {r2_score(y_test, y_test_pred):.3f}\")\n",
        "print(f\"MSE Score: {mean_squared_error(y_test, y_test_pred):.3f}\")\n",
        "print(f\"RMSE Score: {np.sqrt(mean_squared_error(y_test, y_test_pred)):.3f}\")\n",
        "print(f\"MAE Score: {mean_absolute_error(y_test, y_test_pred):.3f}\\n\")"
      ],
      "metadata": {
        "colab": {
          "base_uri": "https://localhost:8080/"
        },
        "id": "RlVS1VIQg59U",
        "outputId": "7afada0b-ae80-45fe-87e3-fe64a670f9f4"
      },
      "execution_count": 12,
      "outputs": [
        {
          "output_type": "stream",
          "name": "stdout",
          "text": [
            "Training Data\n",
            "--------------------------------------------------\n",
            "R2 Score: 0.398\n",
            "MSE Score: 0.023\n",
            "RMSE Score: 0.152\n",
            "MAE Score: 0.123\n",
            "\n",
            "Testing Data\n",
            "--------------------------------------------------\n",
            "R2 Score: 0.403\n",
            "MSE Score: 0.023\n",
            "RMSE Score: 0.151\n",
            "MAE Score: 0.122\n",
            "\n"
          ]
        }
      ]
    },
    {
      "cell_type": "markdown",
      "source": [
        "Here the $R^2$ score is around $0.4$ for both the training prediction and testing prediction.\n",
        "\n",
        "This means that our model only has an accuracy of $40 \\%$ which ain't a very good accuracy.\n",
        "\n",
        "---"
      ],
      "metadata": {
        "id": "Hq8nv_aSybuF"
      }
    },
    {
      "cell_type": "markdown",
      "source": [
        "###Residual Error Analysis\n",
        "\n",
        "First, let's check the mean of all errors for both the training and test datasets.\n",
        "\n",
        "For an accurate model, we need the mean of errors to be as close to 0 as possible."
      ],
      "metadata": {
        "id": "z6szowLjnvsN"
      }
    },
    {
      "cell_type": "code",
      "source": [
        "# Plotting the mean of errors and checking if th errors are in a normal distribution.\n",
        "from scipy.stats import norm\n",
        "\n",
        "train_errors = y_train - y_train_pred\n",
        "train_errors_pdf = norm.pdf(train_errors, train_errors.mean(), train_errors.std())\n",
        "\n",
        "plt.figure(figsize = (20,5))\n",
        "plt.scatter(train_errors, train_errors_pdf)\n",
        "plt.axvline(train_errors.mean(), color = \"r\", label = f\"Mean = {train_errors.mean():.3f}\")\n",
        "plt.title(\"Training Data errors\")\n",
        "plt.legend()\n",
        "plt.show()\n",
        "\n",
        "test_errors = y_test - y_test_pred\n",
        "test_errors_pdf = norm.pdf(test_errors, test_errors.mean(), test_errors.std())\n",
        "\n",
        "plt.figure(figsize = (20,5))\n",
        "plt.scatter(test_errors, test_errors_pdf)\n",
        "plt.axvline(test_errors.mean(), color = \"r\", label = f\"Mean = {test_errors.mean():.3f}\")\n",
        "plt.title(\"Testing Data errors\")\n",
        "plt.legend()\n",
        "plt.show()"
      ],
      "metadata": {
        "colab": {
          "base_uri": "https://localhost:8080/",
          "height": 655
        },
        "id": "eJBBUuVfgxge",
        "outputId": "272561fb-1479-4a9d-8840-5bd26b0b8134"
      },
      "execution_count": 13,
      "outputs": [
        {
          "output_type": "display_data",
          "data": {
            "text/plain": [
              "<Figure size 1440x360 with 1 Axes>"
            ],
            "image/png": "[encoded data removed]"
          },
          "metadata": {
            "needs_background": "light"
          }
        },
        {
          "output_type": "display_data",
          "data": {
            "text/plain": [
              "<Figure size 1440x360 with 1 Axes>"
            ],
            "image/png": "[encoded data removed]"
          },
          "metadata": {
            "needs_background": "light"
          }
        }
      ]
    },
    {
      "cell_type": "markdown",
      "source": [
        "Here the mean of errors for both the data sets is 0.0 which is a good thing.\n",
        "\n",
        "The low $R^2$ score might be cause 1 feature variable is not sufficient to predict the Temperature.\n",
        "\n",
        "So let's use Multiple Regression for this"
      ],
      "metadata": {
        "id": "aMEaHSXHVztm"
      }
    },
    {
      "cell_type": "markdown",
      "source": [
        "---\n",
        "\n",
        "###Attempt 2 (Multiple Linear Regression)\n",
        "\n",
        "Before we move on with creating the model, we'll have to convert string data to numeric data.\n",
        "\n",
        "So let's first identify all the numeric and non-numeric feature variables and make the model according to them."
      ],
      "metadata": {
        "id": "jYtGr4SXn8Hx"
      }
    },
    {
      "cell_type": "code",
      "execution_count": 14,
      "metadata": {
        "colab": {
          "base_uri": "https://localhost:8080/"
        },
        "id": "QMZAI-QN15g5",
        "outputId": "d9146254-2847-430b-8df7-938198e4aed8"
      },
      "outputs": [
        {
          "output_type": "stream",
          "name": "stdout",
          "text": [
            "<class 'pandas.core.frame.DataFrame'>\n",
            "Int64Index: 95936 entries, 0 to 96452\n",
            "Data columns (total 15 columns):\n",
            " #   Column                    Non-Null Count  Dtype  \n",
            "---  ------                    --------------  -----  \n",
            " 0   Summary                   95936 non-null  object \n",
            " 1   Precip Type               95936 non-null  object \n",
            " 2   Temperature (C)           95936 non-null  float64\n",
            " 3   Apparent Temperature (C)  95936 non-null  float64\n",
            " 4   Humidity                  95936 non-null  float64\n",
            " 5   Wind Speed (km/h)         95936 non-null  float64\n",
            " 6   Wind Bearing (degrees)    95936 non-null  float64\n",
            " 7   Visibility (km)           95936 non-null  float64\n",
            " 8   Loud Cover                95936 non-null  float64\n",
            " 9   Pressure (millibars)      95936 non-null  float64\n",
            " 10  Daily Summary             95936 non-null  object \n",
            " 11  Year                      95936 non-null  int64  \n",
            " 12  Month                     95936 non-null  int64  \n",
            " 13  day                       95936 non-null  int64  \n",
            " 14  Day Name                  95936 non-null  object \n",
            "dtypes: float64(8), int64(3), object(4)\n",
            "memory usage: 11.7+ MB\n"
          ]
        }
      ],
      "source": [
        "# Getting the info for each column of the dataframe.\n",
        "df.info()"
      ]
    },
    {
      "cell_type": "code",
      "source": [
        "# Seperating the columns based upon their dtypes.\n",
        "numeric_df = df.select_dtypes(exclude = object)\n",
        "object_df = df.select_dtypes(include = object)"
      ],
      "metadata": {
        "id": "SfZLk7CbaFBf"
      },
      "execution_count": 15,
      "outputs": []
    },
    {
      "cell_type": "markdown",
      "source": [
        "Now we have both numeric and non-numeric data stored seperately.\n",
        "\n",
        "- For the numeric data, normalise it using \\\n",
        "$$y_{norm} = \\frac {y_{value} - y_{mean}} {y_{std}}$$\n",
        "\n",
        "- For non-numeric data, encode it using `get_dummies()` function in the `pandas` library. For more efficiency drop the first column by passing `drop_first = True`\n",
        "\n",
        "\n"
      ],
      "metadata": {
        "id": "ksXDH5UsO0rJ"
      }
    },
    {
      "cell_type": "code",
      "source": [
        "# Normalising the numeric data.\n",
        "def normalise(series):\n",
        "  if series.std() != 0:\n",
        "    norm_series = (series - series.mean()) / series.std()\n",
        "  else:\n",
        "    norm_series = np.zeros(len(series))\n",
        "\n",
        "  return norm_series\n",
        "\n",
        "normalised_numeric_df = numeric_df.apply(normalise)"
      ],
      "metadata": {
        "id": "xQ11rTkfago3"
      },
      "execution_count": 16,
      "outputs": []
    },
    {
      "cell_type": "code",
      "source": [
        "# Encoding the non-numeric data.\n",
        "object_df = pd.get_dummies(object_df, dtype = int, drop_first = True)"
      ],
      "metadata": {
        "id": "Pt2ltBtGaVsF"
      },
      "execution_count": 17,
      "outputs": []
    },
    {
      "cell_type": "code",
      "source": [
        "# Concating the normalised numeric data with the encoded non-numeric data to get the original list of columns back.\n",
        "df = pd.concat([numeric_df, object_df], axis = 1)\n",
        "normalised_df = pd.concat([normalised_numeric_df, object_df], axis = 1)"
      ],
      "metadata": {
        "id": "MEEn6ipGa66X"
      },
      "execution_count": 18,
      "outputs": []
    },
    {
      "cell_type": "code",
      "source": [
        "# Splitting the data into training and testing data.\n",
        "features = normalised_df[normalised_df.columns.drop(\"Humidity\")]\n",
        "target = normalised_df[\"Humidity\"]\n",
        "\n",
        "X_train, X_test, y_train, y_test = train_test_split(features, target, test_size = 0.3, random_state = 42)"
      ],
      "metadata": {
        "id": "B8Kg6y9lbDR7"
      },
      "execution_count": 19,
      "outputs": []
    },
    {
      "cell_type": "markdown",
      "source": [
        "For Multiple Regression, we'll use `statsmodels.api`.\n",
        "\n",
        "This would allow us to get a better look at our model's accuracy and would also allow us to use the `Ordinary Least Squares` method on our data."
      ],
      "metadata": {
        "id": "pYX7Iyb6TsVf"
      }
    },
    {
      "cell_type": "code",
      "source": [
        "# Using the Least Squares method for the new training data.\n",
        "import statsmodels.api as sm\n",
        "\n",
        "X_train_sm = sm.add_constant(X_train)\n",
        "lr = sm.OLS(y_train, X_train_sm).fit()\n",
        "\n",
        "print(lr.summary())"
      ],
      "metadata": {
        "colab": {
          "base_uri": "https://localhost:8080/"
        },
        "id": "2oD-xoX5lJ1i",
        "outputId": "ac331ea7-d4cd-4ae5-f046-270e6338ce92"
      },
      "execution_count": 20,
      "outputs": [
        {
          "output_type": "stream",
          "name": "stdout",
          "text": [
            "                            OLS Regression Results                            \n",
            "==============================================================================\n",
            "Dep. Variable:               Humidity   R-squared:                       0.575\n",
            "Model:                            OLS   Adj. R-squared:                  0.573\n",
            "Method:                 Least Squares   F-statistic:                     356.4\n",
            "Date:                Mon, 06 Jun 2022   Prob (F-statistic):               0.00\n",
            "Time:                        08:53:19   Log-Likelihood:                -66585.\n",
            "No. Observations:               67155   AIC:                         1.337e+05\n",
            "Df Residuals:                   66900   BIC:                         1.360e+05\n",
            "Df Model:                         254                                         \n",
            "Covariance Type:            nonrobust                                         \n",
            "===============================================================================================================================================================================================================\n",
            "                                                                                                                                                  coef    std err          t      P>|t|      [0.025      0.975]\n",
            "---------------------------------------------------------------------------------------------------------------------------------------------------------------------------------------------------------------\n",
            "const                                                                                                                                           1.3417      0.192      6.999      0.000       0.966       1.717\n",
            "Temperature (C)                                                                                                                                -1.2105      0.026    -46.259      0.000      -1.262      -1.159\n",
            "Apparent Temperature (C)                                                                                                                        0.5877      0.026     22.385      0.000       0.536       0.639\n",
            "Wind Speed (km/h)                                                                                                                              -0.2070      0.004    -57.580      0.000      -0.214      -0.200\n",
            "Wind Bearing (degrees)                                                                                                                          0.0475      0.003     18.334      0.000       0.042       0.053\n",
            "Visibility (km)                                                                                                                                -0.0555      0.004    -15.267      0.000      -0.063      -0.048\n",
            "Loud Cover                                                                                                                                   1.162e-13   1.93e-14      6.025      0.000    7.84e-14    1.54e-13\n",
            "Pressure (millibars)                                                                                                                           -0.0105      0.003     -3.896      0.000      -0.016      -0.005\n",
            "Year                                                                                                                                            0.0294      0.003     10.847      0.000       0.024       0.035\n",
            "Month                                                                                                                                           0.1068      0.003     39.373      0.000       0.101       0.112\n",
            "day                                                                                                                                             0.0053      0.003      2.029      0.042       0.000       0.010\n",
            "Summary_Breezy and Dry                                                                                                                         -1.1748      0.663     -1.772      0.076      -2.474       0.125\n",
            "Summary_Breezy and Foggy                                                                                                                        0.7325      0.191      3.833      0.000       0.358       1.107\n",
            "Summary_Breezy and Mostly Cloudy                                                                                                               -0.1996      0.115     -1.730      0.084      -0.426       0.027\n",
            "Summary_Breezy and Overcast                                                                                                                     0.1324      0.116      1.143      0.253      -0.095       0.359\n",
            "Summary_Breezy and Partly Cloudy                                                                                                               -0.3699      0.117     -3.169      0.002      -0.599      -0.141\n",
            "Summary_Clear                                                                                                                                  -0.1852      0.110     -1.678      0.093      -0.401       0.031\n",
            "Summary_Dangerously Windy and Partly Cloudy                                                                                                 -4.138e-14   1.16e-14     -3.571      0.000   -6.41e-14   -1.87e-14\n",
            "Summary_Drizzle                                                                                                                                -0.1622      0.204     -0.797      0.426      -0.561       0.237\n",
            "Summary_Dry                                                                                                                                    -1.1993      0.172     -6.969      0.000      -1.537      -0.862\n",
            "Summary_Dry and Mostly Cloudy                                                                                                                  -1.8478      0.234     -7.886      0.000      -2.307      -1.389\n",
            "Summary_Dry and Partly Cloudy                                                                                                                  -1.6420      0.139    -11.818      0.000      -1.914      -1.370\n",
            "Summary_Foggy                                                                                                                                  -0.0644      0.111     -0.579      0.562      -0.282       0.153\n",
            "Summary_Humid and Mostly Cloudy                                                                                                                 0.7458      0.175      4.252      0.000       0.402       1.090\n",
            "Summary_Humid and Overcast                                                                                                                      0.8911      0.345      2.584      0.010       0.215       1.567\n",
            "Summary_Humid and Partly Cloudy                                                                                                                 0.6723      0.226      2.976      0.003       0.230       1.115\n",
            "Summary_Light Rain                                                                                                                             -0.0738      0.206     -0.359      0.720      -0.477       0.329\n",
            "Summary_Mostly Cloudy                                                                                                                          -0.4072      0.110     -3.691      0.000      -0.623      -0.191\n",
            "Summary_Overcast                                                                                                                               -0.1325      0.110     -1.200      0.230      -0.349       0.084\n",
            "Summary_Partly Cloudy                                                                                                                          -0.5061      0.110     -4.588      0.000      -0.722      -0.290\n",
            "Summary_Rain                                                                                                                                   -0.0687      0.341     -0.201      0.840      -0.737       0.600\n",
            "Summary_Windy                                                                                                                                  -0.0867      0.294     -0.295      0.768      -0.662       0.489\n",
            "Summary_Windy and Dry                                                                                                                          -0.1584      0.685     -0.231      0.817      -1.502       1.185\n",
            "Summary_Windy and Foggy                                                                                                                         1.3444      0.397      3.387      0.001       0.567       2.122\n",
            "Summary_Windy and Mostly Cloudy                                                                                                                 0.0540      0.169      0.319      0.750      -0.278       0.386\n",
            "Summary_Windy and Overcast                                                                                                                      0.3387      0.168      2.019      0.043       0.010       0.667\n",
            "Summary_Windy and Partly Cloudy                                                                                                                -0.1918      0.152     -1.260      0.208      -0.490       0.106\n",
            "Precip Type_snow                                                                                                                               -0.5417      0.010    -52.222      0.000      -0.562      -0.521\n",
            "Daily Summary_Breezy and foggy until morning.                                                                                                  -1.3466      0.225     -5.972      0.000      -1.788      -0.905\n",
            "Daily Summary_Breezy and mostly cloudy overnight.                                                                                              -1.2733      0.208     -6.123      0.000      -1.681      -0.866\n",
            "Daily Summary_Breezy and partly cloudy in the afternoon.                                                                                       -1.2091      0.237     -5.106      0.000      -1.673      -0.745\n",
            "Daily Summary_Breezy in the morning and foggy in the evening.                                                                                  -0.6511      0.220     -2.964      0.003      -1.082      -0.220\n",
            "Daily Summary_Breezy in the morning and mostly cloudy starting in the evening.                                                                 -1.2862      0.220     -5.840      0.000      -1.718      -0.854\n",
            "Daily Summary_Breezy in the morning and mostly cloudy starting in the morning.                                                                 -1.5679      0.218     -7.201      0.000      -1.995      -1.141\n",
            "Daily Summary_Breezy in the morning and partly cloudy starting in the evening continuing until night.                                          -1.3337      0.223     -5.974      0.000      -1.771      -0.896\n",
            "Daily Summary_Breezy overnight and mostly cloudy throughout the day.                                                                           -0.5383      0.181     -2.976      0.003      -0.893      -0.184\n",
            "Daily Summary_Breezy overnight and overcast throughout the day.                                                                                -1.1909      0.194     -6.153      0.000      -1.570      -0.812\n",
            "Daily Summary_Breezy overnight and partly cloudy throughout the day.                                                                           -0.4160      0.220     -1.893      0.058      -0.847       0.015\n",
            "Daily Summary_Breezy overnight and partly cloudy until evening.                                                                                -1.1462      0.217     -5.280      0.000      -1.572      -0.721\n",
            "Daily Summary_Breezy starting in the afternoon continuing until evening and foggy in the evening.                                              -0.6939      0.223     -3.112      0.002      -1.131      -0.257\n",
            "Daily Summary_Breezy starting in the afternoon continuing until evening and foggy starting in the evening.                                     -0.2675      0.223     -1.200      0.230      -0.704       0.170\n",
            "Daily Summary_Breezy starting in the afternoon continuing until night and mostly cloudy starting in the evening.                               -1.3355      0.220     -6.067      0.000      -1.767      -0.904\n",
            "Daily Summary_Breezy starting in the morning continuing until afternoon and mostly cloudy starting in the morning.                             -1.6754      0.220     -7.615      0.000      -2.107      -1.244\n",
            "Daily Summary_Breezy starting in the morning continuing until afternoon and partly cloudy starting in the morning.                             -1.8357      0.220     -8.331      0.000      -2.268      -1.404\n",
            "Daily Summary_Breezy starting in the morning continuing until night.                                                                           -1.1224      0.232     -4.828      0.000      -1.578      -0.667\n",
            "Daily Summary_Breezy starting overnight continuing until afternoon and foggy starting in the morning continuing until evening.                 -0.1629      0.219     -0.745      0.457      -0.592       0.266\n",
            "Daily Summary_Breezy starting overnight continuing until afternoon and mostly cloudy starting overnight continuing until evening.              -0.2133      0.224     -0.954      0.340      -0.652       0.225\n",
            "Daily Summary_Breezy starting overnight continuing until morning and foggy in the evening.                                                     -0.8647      0.223     -3.879      0.000      -1.302      -0.428\n",
            "Daily Summary_Breezy starting overnight continuing until morning and foggy overnight.                                                          -0.5922      0.235     -2.522      0.012      -1.052      -0.132\n",
            "Daily Summary_Breezy starting overnight continuing until morning and partly cloudy starting in the morning.                                    -1.9372      0.236     -8.199      0.000      -2.400      -1.474\n",
            "Daily Summary_Breezy starting overnight continuing until morning and partly cloudy starting overnight continuing until evening.                -1.3491      0.217     -6.210      0.000      -1.775      -0.923\n",
            "Daily Summary_Breezy starting overnight continuing until morning.                                                                              -1.5960      0.223     -7.171      0.000      -2.032      -1.160\n",
            "Daily Summary_Breezy until afternoon and mostly cloudy throughout the day.                                                                     -0.5396      0.192     -2.816      0.005      -0.915      -0.164\n",
            "Daily Summary_Breezy until afternoon and overcast throughout the day.                                                                          -0.1507      0.227     -0.665      0.506      -0.595       0.294\n",
            "Daily Summary_Breezy until evening and foggy in the morning.                                                                                   -0.6976      0.222     -3.149      0.002      -1.132      -0.263\n",
            "Daily Summary_Breezy until morning and mostly cloudy throughout the day.                                                                       -0.6343      0.194     -3.262      0.001      -1.016      -0.253\n",
            "Daily Summary_Clear throughout the day.                                                                                                        -1.6884      0.159    -10.604      0.000      -2.000      -1.376\n",
            "Daily Summary_Drizzle starting in the evening.                                                                                                 -1.0320      0.347     -2.972      0.003      -1.713      -0.351\n",
            "Daily Summary_Drizzle until morning.                                                                                                           -0.7088      0.235     -3.010      0.003      -1.170      -0.247\n",
            "Daily Summary_Foggy in the afternoon.                                                                                                          -0.4378      0.173     -2.524      0.012      -0.778      -0.098\n",
            "Daily Summary_Foggy in the evening.                                                                                                            -0.9212      0.164     -5.607      0.000      -1.243      -0.599\n",
            "Daily Summary_Foggy in the morning and breezy starting in the afternoon continuing until night.                                                -0.8344      0.223     -3.743      0.000      -1.271      -0.397\n",
            "Daily Summary_Foggy in the morning.                                                                                                            -0.8549      0.157     -5.442      0.000      -1.163      -0.547\n",
            "Daily Summary_Foggy overnight and breezy in the morning.                                                                                       -0.4391      0.214     -2.048      0.041      -0.859      -0.019\n",
            "Daily Summary_Foggy overnight.                                                                                                                 -0.8092      0.158     -5.117      0.000      -1.119      -0.499\n",
            "Daily Summary_Foggy starting in the afternoon and breezy starting in the afternoon continuing until evening.                                   -0.7592      0.232     -3.273      0.001      -1.214      -0.305\n",
            "Daily Summary_Foggy starting in the afternoon continuing until evening.                                                                        -0.8345      0.163     -5.111      0.000      -1.155      -0.515\n",
            "Daily Summary_Foggy starting in the afternoon continuing until night.                                                                          -0.8561      0.168     -5.081      0.000      -1.186      -0.526\n",
            "Daily Summary_Foggy starting in the afternoon.                                                                                                 -0.9340      0.163     -5.728      0.000      -1.254      -0.614\n",
            "Daily Summary_Foggy starting in the evening continuing until night.                                                                            -0.5212      0.172     -3.031      0.002      -0.858      -0.184\n",
            "Daily Summary_Foggy starting in the evening.                                                                                                   -0.9077      0.158     -5.743      0.000      -1.217      -0.598\n",
            "Daily Summary_Foggy starting in the morning continuing until afternoon and breezy starting in the evening.                                     -0.5288      0.226     -2.336      0.019      -0.973      -0.085\n",
            "Daily Summary_Foggy starting in the morning continuing until afternoon.                                                                        -0.7693      0.162     -4.761      0.000      -1.086      -0.453\n",
            "Daily Summary_Foggy starting in the morning continuing until evening and breezy in the evening.                                                -0.9005      0.224     -4.023      0.000      -1.339      -0.462\n",
            "Daily Summary_Foggy starting in the morning continuing until evening.                                                                          -0.8184      0.164     -4.988      0.000      -1.140      -0.497\n",
            "Daily Summary_Foggy starting in the morning continuing until night.                                                                            -1.0923      0.163     -6.681      0.000      -1.413      -0.772\n",
            "Daily Summary_Foggy starting in the morning.                                                                                                   -1.0961      0.172     -6.369      0.000      -1.433      -0.759\n",
            "Daily Summary_Foggy starting overnight continuing until afternoon and breezy in the morning.                                                   -0.2496      0.219     -1.139      0.255      -0.679       0.180\n",
            "Daily Summary_Foggy starting overnight continuing until afternoon.                                                                             -0.9681      0.161     -5.998      0.000      -1.285      -0.652\n",
            "Daily Summary_Foggy starting overnight continuing until evening.                                                                               -0.8807      0.163     -5.403      0.000      -1.200      -0.561\n",
            "Daily Summary_Foggy starting overnight continuing until morning and breezy in the afternoon.                                                   -1.3074      0.235     -5.566      0.000      -1.768      -0.847\n",
            "Daily Summary_Foggy starting overnight continuing until morning and breezy starting in the evening continuing until night.                     -0.3776      0.240     -1.576      0.115      -0.847       0.092\n",
            "Daily Summary_Foggy starting overnight continuing until morning and breezy starting in the evening.                                            -0.5583      0.196     -2.852      0.004      -0.942      -0.175\n",
            "Daily Summary_Foggy starting overnight continuing until morning and breezy starting in the morning continuing until afternoon.                 -0.4310      0.193     -2.228      0.026      -0.810      -0.052\n",
            "Daily Summary_Foggy starting overnight continuing until morning.                                                                               -0.8911      0.157     -5.669      0.000      -1.199      -0.583\n",
            "Daily Summary_Foggy starting overnight continuing until night.                                                                                 -0.7430      0.168     -4.431      0.000      -1.072      -0.414\n",
            "Daily Summary_Foggy starting overnight.                                                                                                        -0.9463      0.172     -5.495      0.000      -1.284      -0.609\n",
            "Daily Summary_Foggy throughout the day.                                                                                                        -0.8566      0.159     -5.373      0.000      -1.169      -0.544\n",
            "Daily Summary_Foggy until afternoon.                                                                                                           -0.7966      0.162     -4.929      0.000      -1.113      -0.480\n",
            "Daily Summary_Foggy until evening.                                                                                                             -1.0657      0.166     -6.429      0.000      -1.391      -0.741\n",
            "Daily Summary_Foggy until morning.                                                                                                             -0.9591      0.157     -6.092      0.000      -1.268      -0.651\n",
            "Daily Summary_Foggy until night.                                                                                                               -0.8528      0.160     -5.315      0.000      -1.167      -0.538\n",
            "Daily Summary_Light rain in the morning and afternoon.                                                                                         -0.3007      0.241     -1.246      0.213      -0.773       0.172\n",
            "Daily Summary_Light rain in the morning.                                                                                                       -1.2304      0.261     -4.716      0.000      -1.742      -0.719\n",
            "Daily Summary_Light rain overnight.                                                                                                            -0.5352      0.672     -0.796      0.426      -1.852       0.782\n",
            "Daily Summary_Light rain starting overnight.                                                                                                   -0.5865      0.257     -2.278      0.023      -1.091      -0.082\n",
            "Daily Summary_Light rain until morning.                                                                                                        -0.4800      0.249     -1.925      0.054      -0.969       0.009\n",
            "Daily Summary_Mostly cloudy overnight.                                                                                                         -2.0104      0.221     -9.117      0.000      -2.443      -1.578\n",
            "Daily Summary_Mostly cloudy starting in the afternoon continuing until night.                                                                  -0.7596      0.198     -3.833      0.000      -1.148      -0.371\n",
            "Daily Summary_Mostly cloudy starting in the afternoon.                                                                                         -1.5119      0.183     -8.281      0.000      -1.870      -1.154\n",
            "Daily Summary_Mostly cloudy starting in the evening.                                                                                           -1.0387      0.240     -4.330      0.000      -1.509      -0.568\n",
            "Daily Summary_Mostly cloudy starting in the morning and breezy in the afternoon.                                                               -1.1956      0.189     -6.313      0.000      -1.567      -0.824\n",
            "Daily Summary_Mostly cloudy starting in the morning and breezy in the evening.                                                                 -1.6951      0.220     -7.711      0.000      -2.126      -1.264\n",
            "Daily Summary_Mostly cloudy starting in the morning and breezy overnight.                                                                      -1.0707      0.240     -4.467      0.000      -1.541      -0.601\n",
            "Daily Summary_Mostly cloudy starting in the morning and breezy starting in the afternoon continuing until evening.                             -1.6175      0.194     -8.349      0.000      -1.997      -1.238\n",
            "Daily Summary_Mostly cloudy starting in the morning and windy in the evening.                                                                  -1.5461      0.220     -7.025      0.000      -1.977      -1.115\n",
            "Daily Summary_Mostly cloudy starting in the morning continuing until afternoon.                                                                -1.3421      0.240     -5.596      0.000      -1.812      -0.872\n",
            "Daily Summary_Mostly cloudy starting in the morning continuing until evening.                                                                  -1.2819      0.181     -7.081      0.000      -1.637      -0.927\n",
            "Daily Summary_Mostly cloudy starting in the morning continuing until night and breezy in the afternoon.                                        -0.3349      0.227     -1.477      0.140      -0.779       0.110\n",
            "Daily Summary_Mostly cloudy starting in the morning continuing until night.                                                                    -0.8545      0.167     -5.127      0.000      -1.181      -0.528\n",
            "Daily Summary_Mostly cloudy starting in the morning.                                                                                           -1.1912      0.158     -7.543      0.000      -1.501      -0.882\n",
            "Daily Summary_Mostly cloudy starting overnight and breezy in the afternoon.                                                                    -1.0239      0.189     -5.431      0.000      -1.393      -0.654\n",
            "Daily Summary_Mostly cloudy starting overnight and breezy in the morning.                                                                      -1.0622      0.191     -5.568      0.000      -1.436      -0.688\n",
            "Daily Summary_Mostly cloudy starting overnight and breezy starting in the afternoon continuing until evening.                                  -1.7008      0.230     -7.381      0.000      -2.152      -1.249\n",
            "Daily Summary_Mostly cloudy starting overnight and breezy starting in the evening.                                                             -0.4803      0.230     -2.084      0.037      -0.932      -0.029\n",
            "Daily Summary_Mostly cloudy starting overnight and breezy starting in the morning continuing until afternoon.                                  -1.1552      0.186     -6.222      0.000      -1.519      -0.791\n",
            "Daily Summary_Mostly cloudy starting overnight continuing until afternoon.                                                                     -1.5598      0.185     -8.421      0.000      -1.923      -1.197\n",
            "Daily Summary_Mostly cloudy starting overnight continuing until evening and breezy starting overnight continuing until morning.                -1.1006      0.220     -5.005      0.000      -1.532      -0.670\n",
            "Daily Summary_Mostly cloudy starting overnight continuing until evening.                                                                       -1.1300      0.165     -6.832      0.000      -1.454      -0.806\n",
            "Daily Summary_Mostly cloudy starting overnight continuing until morning.                                                                       -1.3553      0.192     -7.067      0.000      -1.731      -0.979\n",
            "Daily Summary_Mostly cloudy starting overnight continuing until night and breezy starting in the morning continuing until evening.             -0.6527      0.230     -2.836      0.005      -1.104      -0.202\n",
            "Daily Summary_Mostly cloudy starting overnight continuing until night.                                                                         -0.9622      0.161     -5.966      0.000      -1.278      -0.646\n",
            "Daily Summary_Mostly cloudy starting overnight.                                                                                                -0.9614      0.158     -6.078      0.000      -1.271      -0.651\n",
            "Daily Summary_Mostly cloudy throughout the day and breezy in the afternoon.                                                                    -0.9523      0.165     -5.763      0.000      -1.276      -0.628\n",
            "Daily Summary_Mostly cloudy throughout the day and breezy in the evening.                                                                      -0.6068      0.183     -3.321      0.001      -0.965      -0.249\n",
            "Daily Summary_Mostly cloudy throughout the day and breezy in the morning.                                                                      -0.6749      0.162     -4.174      0.000      -0.992      -0.358\n",
            "Daily Summary_Mostly cloudy throughout the day and breezy overnight.                                                                           -1.1519      0.175     -6.592      0.000      -1.494      -0.809\n",
            "Daily Summary_Mostly cloudy throughout the day and breezy starting in the afternoon continuing until evening.                                  -0.8715      0.172     -5.058      0.000      -1.209      -0.534\n",
            "Daily Summary_Mostly cloudy throughout the day and breezy starting in the afternoon.                                                           -0.9883      0.193     -5.128      0.000      -1.366      -0.611\n",
            "Daily Summary_Mostly cloudy throughout the day and breezy starting in the evening continuing until night.                                      -0.9167      0.235     -3.902      0.000      -1.377      -0.456\n",
            "Daily Summary_Mostly cloudy throughout the day and breezy starting in the evening.                                                             -0.7626      0.173     -4.421      0.000      -1.101      -0.424\n",
            "Daily Summary_Mostly cloudy throughout the day and breezy starting in the morning continuing until afternoon.                                  -0.9243      0.163     -5.669      0.000      -1.244      -0.605\n",
            "Daily Summary_Mostly cloudy throughout the day and breezy starting in the morning continuing until evening.                                    -0.9135      0.172     -5.302      0.000      -1.251      -0.576\n",
            "Daily Summary_Mostly cloudy throughout the day and breezy starting in the morning continuing until night.                                      -0.9582      0.189     -5.062      0.000      -1.329      -0.587\n",
            "Daily Summary_Mostly cloudy throughout the day and breezy starting overnight continuing until afternoon.                                       -0.9453      0.231     -4.100      0.000      -1.397      -0.493\n",
            "Daily Summary_Mostly cloudy throughout the day and breezy starting overnight continuing until morning.                                         -0.7333      0.171     -4.299      0.000      -1.068      -0.399\n",
            "Daily Summary_Mostly cloudy throughout the day and windy starting in the morning continuing until evening.                                     -0.8839      0.232     -3.814      0.000      -1.338      -0.430\n",
            "Daily Summary_Mostly cloudy throughout the day and windy starting in the morning continuing until night.                                       -0.7962      0.222     -3.579      0.000      -1.232      -0.360\n",
            "Daily Summary_Mostly cloudy throughout the day.                                                                                                -0.7787      0.157     -4.969      0.000      -1.086      -0.471\n",
            "Daily Summary_Mostly cloudy until afternoon.                                                                                                   -1.3036      0.168     -7.761      0.000      -1.633      -0.974\n",
            "Daily Summary_Mostly cloudy until evening and breezy in the afternoon.                                                                         -1.3159      0.215     -6.134      0.000      -1.736      -0.895\n",
            "Daily Summary_Mostly cloudy until evening and breezy in the evening.                                                                           -0.9904      0.215     -4.617      0.000      -1.411      -0.570\n",
            "Daily Summary_Mostly cloudy until evening and breezy starting in the morning continuing until afternoon.                                       -1.2671      0.174     -7.275      0.000      -1.608      -0.926\n",
            "Daily Summary_Mostly cloudy until evening and breezy starting overnight continuing until morning.                                              -1.1102      0.220     -5.050      0.000      -1.541      -0.679\n",
            "Daily Summary_Mostly cloudy until evening and windy starting in the morning continuing until afternoon.                                        -0.5328      0.221     -2.416      0.016      -0.965      -0.101\n",
            "Daily Summary_Mostly cloudy until evening.                                                                                                     -0.9592      0.158     -6.052      0.000      -1.270      -0.649\n",
            "Daily Summary_Mostly cloudy until morning.                                                                                                     -1.0784      0.171     -6.320      0.000      -1.413      -0.744\n",
            "Daily Summary_Mostly cloudy until night and breezy in the afternoon.                                                                           -0.8123      0.180     -4.521      0.000      -1.164      -0.460\n",
            "Daily Summary_Mostly cloudy until night and breezy in the evening.                                                                             -1.1214      0.195     -5.758      0.000      -1.503      -0.740\n",
            "Daily Summary_Mostly cloudy until night and breezy overnight.                                                                                  -0.5173      0.223     -2.321      0.020      -0.954      -0.081\n",
            "Daily Summary_Mostly cloudy until night and breezy starting in the afternoon continuing until evening.                                         -1.0818      0.235     -4.603      0.000      -1.542      -0.621\n",
            "Daily Summary_Mostly cloudy until night and breezy starting in the afternoon continuing until night.                                           -0.6041      0.235     -2.572      0.010      -1.064      -0.144\n",
            "Daily Summary_Mostly cloudy until night and breezy starting in the afternoon.                                                                  -0.1148      0.259     -0.443      0.658      -0.623       0.394\n",
            "Daily Summary_Mostly cloudy until night and breezy starting in the evening continuing until night.                                             -0.3554      0.214     -1.660      0.097      -0.775       0.064\n",
            "Daily Summary_Mostly cloudy until night and breezy starting in the evening.                                                                    -1.0773      0.196     -5.501      0.000      -1.461      -0.693\n",
            "Daily Summary_Mostly cloudy until night and breezy starting in the morning continuing until afternoon.                                         -0.6018      0.227     -2.655      0.008      -1.046      -0.157\n",
            "Daily Summary_Mostly cloudy until night and breezy starting in the morning continuing until evening.                                           -2.0054      0.221     -9.076      0.000      -2.438      -1.572\n",
            "Daily Summary_Mostly cloudy until night and breezy starting overnight continuing until morning.                                                -1.2899      0.220     -5.876      0.000      -1.720      -0.860\n",
            "Daily Summary_Mostly cloudy until night and windy starting in the morning continuing until afternoon.                                          -0.9459      0.226     -4.178      0.000      -1.390      -0.502\n",
            "Daily Summary_Mostly cloudy until night.                                                                                                       -0.8057      0.157     -5.123      0.000      -1.114      -0.497\n",
            "Daily Summary_Overcast starting in the afternoon.                                                                                              -0.8068      0.214     -3.763      0.000      -1.227      -0.387\n",
            "Daily Summary_Overcast starting in the morning.                                                                                                -1.1616      0.231     -5.039      0.000      -1.613      -0.710\n",
            "Daily Summary_Overcast throughout the day and breezy in the afternoon.                                                                         -0.3835      0.217     -1.769      0.077      -0.808       0.041\n",
            "Daily Summary_Overcast throughout the day and breezy in the evening.                                                                           -0.6623      0.197     -3.364      0.001      -1.048      -0.276\n",
            "Daily Summary_Overcast throughout the day and breezy in the morning.                                                                           -0.8627      0.186     -4.635      0.000      -1.227      -0.498\n",
            "Daily Summary_Overcast throughout the day and breezy overnight.                                                                                -0.2630      0.226     -1.162      0.245      -0.707       0.181\n",
            "Daily Summary_Overcast throughout the day and breezy starting in the evening.                                                                  -0.2805      0.198     -1.416      0.157      -0.669       0.108\n",
            "Daily Summary_Overcast throughout the day and breezy starting in the morning continuing until evening.                                         -0.2272      0.226     -1.003      0.316      -0.671       0.217\n",
            "Daily Summary_Overcast throughout the day and breezy starting overnight continuing until afternoon.                                            -0.1864      0.220     -0.846      0.398      -0.618       0.246\n",
            "Daily Summary_Overcast throughout the day and breezy starting overnight continuing until morning.                                              -0.4759      0.223     -2.135      0.033      -0.913      -0.039\n",
            "Daily Summary_Overcast throughout the day.                                                                                                     -0.7765      0.157     -4.937      0.000      -1.085      -0.468\n",
            "Daily Summary_Overcast until evening.                                                                                                          -0.5700      0.176     -3.241      0.001      -0.915      -0.225\n",
            "Daily Summary_Overcast until morning.                                                                                                          -1.7097      0.223     -7.653      0.000      -2.148      -1.272\n",
            "Daily Summary_Overcast until night and breezy overnight.                                                                                       -0.6223      0.220     -2.831      0.005      -1.053      -0.191\n",
            "Daily Summary_Overcast until night.                                                                                                            -0.7587      0.166     -4.558      0.000      -1.085      -0.432\n",
            "Daily Summary_Partly cloudy in the afternoon.                                                                                                  -1.2799      0.164     -7.808      0.000      -1.601      -0.959\n",
            "Daily Summary_Partly cloudy in the evening.                                                                                                    -1.4476      0.165     -8.749      0.000      -1.772      -1.123\n",
            "Daily Summary_Partly cloudy in the morning.                                                                                                    -1.3846      0.161     -8.615      0.000      -1.700      -1.070\n",
            "Daily Summary_Partly cloudy overnight and breezy starting in the morning continuing until afternoon.                                           -1.0015      0.220     -4.555      0.000      -1.432      -0.571\n",
            "Daily Summary_Partly cloudy overnight.                                                                                                         -0.9137      0.159     -5.747      0.000      -1.225      -0.602\n",
            "Daily Summary_Partly cloudy starting in the afternoon and breezy in the afternoon.                                                             -1.1191      0.217     -5.151      0.000      -1.545      -0.693\n",
            "Daily Summary_Partly cloudy starting in the afternoon continuing until evening.                                                                -1.3598      0.158     -8.589      0.000      -1.670      -1.049\n",
            "Daily Summary_Partly cloudy starting in the afternoon continuing until night.                                                                  -1.2072      0.162     -7.465      0.000      -1.524      -0.890\n",
            "Daily Summary_Partly cloudy starting in the afternoon.                                                                                         -1.2260      0.158     -7.745      0.000      -1.536      -0.916\n",
            "Daily Summary_Partly cloudy starting in the evening continuing until night.                                                                    -1.5221      0.193     -7.893      0.000      -1.900      -1.144\n",
            "Daily Summary_Partly cloudy starting in the evening.                                                                                           -1.3740      0.175     -7.850      0.000      -1.717      -1.031\n",
            "Daily Summary_Partly cloudy starting in the morning and breezy in the evening.                                                                 -0.8848      0.223     -3.967      0.000      -1.322      -0.448\n",
            "Daily Summary_Partly cloudy starting in the morning and breezy starting in the afternoon continuing until evening.                             -0.8319      0.220     -3.782      0.000      -1.263      -0.401\n",
            "Daily Summary_Partly cloudy starting in the morning and breezy starting in the morning continuing until afternoon.                             -1.0975      0.223     -4.916      0.000      -1.535      -0.660\n",
            "Daily Summary_Partly cloudy starting in the morning continuing until afternoon.                                                                -1.5768      0.164     -9.623      0.000      -1.898      -1.256\n",
            "Daily Summary_Partly cloudy starting in the morning continuing until evening and breezy in the afternoon.                                      -1.0840      0.223     -4.862      0.000      -1.521      -0.647\n",
            "Daily Summary_Partly cloudy starting in the morning continuing until evening and breezy starting in the afternoon continuing until evening.    -1.0876      0.220     -4.942      0.000      -1.519      -0.656\n",
            "Daily Summary_Partly cloudy starting in the morning continuing until evening and breezy starting in the morning continuing until afternoon.    -1.1821      0.191     -6.180      0.000      -1.557      -0.807\n",
            "Daily Summary_Partly cloudy starting in the morning continuing until evening.                                                                  -1.3114      0.157     -8.327      0.000      -1.620      -1.003\n",
            "Daily Summary_Partly cloudy starting in the morning continuing until night and breezy starting in the afternoon continuing until evening.      -2.2090      0.223     -9.895      0.000      -2.647      -1.771\n",
            "Daily Summary_Partly cloudy starting in the morning continuing until night and breezy starting in the morning continuing until afternoon.      -1.6640      0.235     -7.083      0.000      -2.124      -1.204\n",
            "Daily Summary_Partly cloudy starting in the morning continuing until night.                                                                    -1.0601      0.158     -6.721      0.000      -1.369      -0.751\n",
            "Daily Summary_Partly cloudy starting in the morning.                                                                                           -1.0449      0.157     -6.650      0.000      -1.353      -0.737\n",
            "Daily Summary_Partly cloudy starting overnight and breezy in the afternoon.                                                                    -0.5489      0.240     -2.289      0.022      -1.019      -0.079\n",
            "Daily Summary_Partly cloudy starting overnight and breezy starting in the evening.                                                             -1.2665      0.230     -5.496      0.000      -1.718      -0.815\n",
            "Daily Summary_Partly cloudy starting overnight and breezy starting in the morning continuing until afternoon.                                  -1.6182      0.227     -7.141      0.000      -2.062      -1.174\n",
            "Daily Summary_Partly cloudy starting overnight continuing until afternoon and breezy in the afternoon.                                         -0.6948      0.223     -3.112      0.002      -1.132      -0.257\n",
            "Daily Summary_Partly cloudy starting overnight continuing until afternoon.                                                                     -1.3999      0.167     -8.405      0.000      -1.726      -1.073\n",
            "Daily Summary_Partly cloudy starting overnight continuing until evening and breezy in the evening.                                             -0.9946      0.223     -4.458      0.000      -1.432      -0.557\n",
            "Daily Summary_Partly cloudy starting overnight continuing until evening and breezy in the morning.                                             -1.0730      0.231     -4.654      0.000      -1.525      -0.621\n",
            "Daily Summary_Partly cloudy starting overnight continuing until evening and breezy starting in the morning continuing until afternoon.         -1.2320      0.182     -6.781      0.000      -1.588      -0.876\n",
            "Daily Summary_Partly cloudy starting overnight continuing until evening and breezy starting in the morning continuing until evening.           -0.6682      0.220     -3.041      0.002      -1.099      -0.238\n",
            "Daily Summary_Partly cloudy starting overnight continuing until evening and windy starting in the morning continuing until evening.            -1.9208      0.221     -8.676      0.000      -2.355      -1.487\n",
            "Daily Summary_Partly cloudy starting overnight continuing until evening.                                                                       -1.2697      0.159     -7.966      0.000      -1.582      -0.957\n",
            "Daily Summary_Partly cloudy starting overnight continuing until morning and breezy starting in the morning continuing until afternoon.         -1.4352      0.217     -6.608      0.000      -1.861      -1.010\n",
            "Daily Summary_Partly cloudy starting overnight continuing until morning.                                                                       -1.2451      0.164     -7.602      0.000      -1.566      -0.924\n",
            "Daily Summary_Partly cloudy starting overnight continuing until night and breezy in the afternoon.                                             -1.0619      0.227     -4.685      0.000      -1.506      -0.618\n",
            "Daily Summary_Partly cloudy starting overnight continuing until night and breezy in the morning.                                               -0.7195      0.226     -3.177      0.001      -1.163      -0.276\n",
            "Daily Summary_Partly cloudy starting overnight continuing until night and windy starting in the morning continuing until afternoon.            -1.4223      0.228     -6.248      0.000      -1.868      -0.976\n",
            "Daily Summary_Partly cloudy starting overnight continuing until night.                                                                         -0.8661      0.159     -5.446      0.000      -1.178      -0.554\n",
            "Daily Summary_Partly cloudy starting overnight.                                                                                                -1.0510      0.158     -6.649      0.000      -1.361      -0.741\n",
            "Daily Summary_Partly cloudy throughout the day and breezy in the afternoon.                                                                    -0.1464      0.240     -0.611      0.542      -0.616       0.323\n",
            "Daily Summary_Partly cloudy throughout the day and breezy in the evening.                                                                      -0.4924      0.175     -2.806      0.005      -0.836      -0.148\n",
            "Daily Summary_Partly cloudy throughout the day and breezy in the morning.                                                                      -1.0266      0.195     -5.269      0.000      -1.408      -0.645\n",
            "Daily Summary_Partly cloudy throughout the day and breezy starting in the afternoon continuing until evening.                                  -0.5649      0.183     -3.080      0.002      -0.924      -0.205\n",
            "Daily Summary_Partly cloudy throughout the day and breezy starting in the morning continuing until afternoon.                                  -1.0862      0.165     -6.573      0.000      -1.410      -0.762\n",
            "Daily Summary_Partly cloudy throughout the day and breezy starting in the morning continuing until evening.                                    -1.5897      0.212     -7.492      0.000      -2.006      -1.174\n",
            "Daily Summary_Partly cloudy throughout the day and breezy starting in the morning continuing until night.                                      -0.4409      0.218     -2.026      0.043      -0.867      -0.014\n",
            "Daily Summary_Partly cloudy throughout the day and windy starting in the morning continuing until afternoon.                                   -1.3933      0.220     -6.320      0.000      -1.825      -0.961\n",
            "Daily Summary_Partly cloudy throughout the day.                                                                                                -0.8400      0.157     -5.353      0.000      -1.148      -0.532\n",
            "Daily Summary_Partly cloudy until afternoon.                                                                                                   -1.1943      0.169     -7.072      0.000      -1.525      -0.863\n",
            "Daily Summary_Partly cloudy until evening and breezy in the afternoon.                                                                         -1.0522      0.223     -4.709      0.000      -1.490      -0.614\n",
            "Daily Summary_Partly cloudy until evening and breezy in the morning.                                                                           -1.3252      0.177     -7.472      0.000      -1.673      -0.978\n",
            "Daily Summary_Partly cloudy until evening and breezy overnight.                                                                                -1.1909      0.223     -5.340      0.000      -1.628      -0.754\n",
            "Daily Summary_Partly cloudy until evening and breezy starting in the morning continuing until afternoon.                                       -1.0527      0.176     -5.976      0.000      -1.398      -0.707\n",
            "Daily Summary_Partly cloudy until evening and breezy starting in the morning continuing until evening.                                         -1.6400      0.193     -8.493      0.000      -2.018      -1.262\n",
            "Daily Summary_Partly cloudy until evening.                                                                                                     -1.1076      0.157     -7.040      0.000      -1.416      -0.799\n",
            "Daily Summary_Partly cloudy until morning.                                                                                                     -1.2237      0.162     -7.554      0.000      -1.541      -0.906\n",
            "Daily Summary_Partly cloudy until night and breezy in the afternoon.                                                                            0.0283      0.227      0.125      0.900      -0.416       0.472\n",
            "Daily Summary_Partly cloudy until night and breezy in the morning.                                                                             -1.4346      0.181     -7.940      0.000      -1.789      -1.080\n",
            "Daily Summary_Partly cloudy until night and breezy starting in the morning continuing until afternoon.                                         -1.2058      0.174     -6.928      0.000      -1.547      -0.865\n",
            "Daily Summary_Partly cloudy until night.                                                                                                       -0.9190      0.157     -5.851      0.000      -1.227      -0.611\n",
            "Daily Summary_Rain throughout the day.                                                                                                         -0.6981      0.267     -2.618      0.009      -1.221      -0.176\n",
            "Daily Summary_Rain until afternoon.                                                                                                            -0.7837      0.307     -2.556      0.011      -1.385      -0.183\n",
            "Daily Summary_Rain until morning.                                                                                                              -0.7953      0.329     -2.418      0.016      -1.440      -0.151\n",
            "Daily Summary_Windy in the afternoon.                                                                                                          -1.6584      0.232     -7.146      0.000      -2.113      -1.204\n",
            "Day Name_Monday                                                                                                                                -0.0005      0.010     -0.056      0.956      -0.020       0.019\n",
            "Day Name_Saturday                                                                                                                               0.0022      0.010      0.230      0.818      -0.017       0.021\n",
            "Day Name_Sunday                                                                                                                                -0.0098      0.010     -1.007      0.314      -0.029       0.009\n",
            "Day Name_Thursday                                                                                                                              -0.0242      0.010     -2.499      0.012      -0.043      -0.005\n",
            "Day Name_Tuesday                                                                                                                               -0.0059      0.010     -0.609      0.543      -0.025       0.013\n",
            "Day Name_Wednesday                                                                                                                             -0.0137      0.010     -1.418      0.156      -0.033       0.005\n",
            "==============================================================================\n",
            "Omnibus:                     2505.052   Durbin-Watson:                   2.008\n",
            "Prob(Omnibus):                  0.000   Jarque-Bera (JB):             3537.935\n",
            "Skew:                          -0.380   Prob(JB):                         0.00\n",
            "Kurtosis:                       3.829   Cond. No.                     2.08e+16\n",
            "==============================================================================\n",
            "\n",
            "Warnings:\n",
            "[1] Standard Errors assume that the covariance matrix of the errors is correctly specified.\n",
            "[2] The smallest eigenvalue is 3.64e-28. This might indicate that there are\n",
            "strong multicollinearity problems or that the design matrix is singular.\n"
          ]
        }
      ]
    },
    {
      "cell_type": "markdown",
      "source": [
        "Even after using Multiple Regression the $R^2$ value only increased upto 0.57.\n",
        "\n",
        "So let's try using only the highly correlated features instead of all the features."
      ],
      "metadata": {
        "id": "3EPs9TF1UFJ8"
      }
    },
    {
      "cell_type": "markdown",
      "source": [
        "---\n",
        "\n",
        "###Ateempt 3 (Multiple Linear Regression with only the highly Correlated Features)\n",
        "\n",
        "Let's find out all the highly correlated feature variables and make a model using them."
      ],
      "metadata": {
        "id": "nvjBYVxgoFza"
      }
    },
    {
      "cell_type": "code",
      "source": [
        "# Storing all the highly correlated columns into a list\n",
        "humidity_feature_corr = df.corr()[\"Humidity\"]\n",
        "highly_corr_features = []\n",
        "\n",
        "for index in humidity_feature_corr.index:\n",
        "  corr_coef = humidity_feature_corr[index]\n",
        "\n",
        "  if corr_coef >= 0.5 or corr_coef <= -0.5:\n",
        "    highly_corr_features.append(index)\n",
        "\n",
        "highly_corr_features.remove(\"Humidity\")\n",
        "highly_corr_features"
      ],
      "metadata": {
        "colab": {
          "base_uri": "https://localhost:8080/"
        },
        "id": "fHFyWnlqbeaM",
        "outputId": "865a84fb-fac9-49f5-a7a8-4f31656b558f"
      },
      "execution_count": 22,
      "outputs": [
        {
          "output_type": "execute_result",
          "data": {
            "text/plain": [
              "['Temperature (C)', 'Apparent Temperature (C)']"
            ]
          },
          "metadata": {},
          "execution_count": 22
        }
      ]
    },
    {
      "cell_type": "code",
      "source": [
        "# Creating a model using only the highly correlated feature variables.\n",
        "highly_corr_X_train_sm = sm.add_constant(X_train.loc[:, highly_corr_features])\n",
        "lr = sm.OLS(y_train, highly_corr_X_train_sm).fit()\n",
        "\n",
        "print(lr.summary())"
      ],
      "metadata": {
        "colab": {
          "base_uri": "https://localhost:8080/"
        },
        "id": "oyNNrSA7cAe1",
        "outputId": "d21484cf-5712-427c-97dc-06f8f0c6959c"
      },
      "execution_count": 23,
      "outputs": [
        {
          "output_type": "stream",
          "name": "stdout",
          "text": [
            "                            OLS Regression Results                            \n",
            "==============================================================================\n",
            "Dep. Variable:               Humidity   R-squared:                       0.441\n",
            "Model:                            OLS   Adj. R-squared:                  0.441\n",
            "Method:                 Least Squares   F-statistic:                 2.652e+04\n",
            "Date:                Mon, 06 Jun 2022   Prob (F-statistic):               0.00\n",
            "Time:                        08:55:24   Log-Likelihood:                -75777.\n",
            "No. Observations:               67155   AIC:                         1.516e+05\n",
            "Df Residuals:                   67152   BIC:                         1.516e+05\n",
            "Df Model:                           2                                         \n",
            "Covariance Type:            nonrobust                                         \n",
            "============================================================================================\n",
            "                               coef    std err          t      P>|t|      [0.025      0.975]\n",
            "--------------------------------------------------------------------------------------------\n",
            "const                        0.0004      0.003      0.155      0.877      -0.005       0.006\n",
            "Temperature (C)             -2.3333      0.024    -97.967      0.000      -2.380      -2.287\n",
            "Apparent Temperature (C)     1.7152      0.024     71.980      0.000       1.668       1.762\n",
            "==============================================================================\n",
            "Omnibus:                     2932.748   Durbin-Watson:                   2.013\n",
            "Prob(Omnibus):                  0.000   Jarque-Bera (JB):             3565.212\n",
            "Skew:                          -0.482   Prob(JB):                         0.00\n",
            "Kurtosis:                       3.588   Cond. No.                         16.4\n",
            "==============================================================================\n",
            "\n",
            "Warnings:\n",
            "[1] Standard Errors assume that the covariance matrix of the errors is correctly specified.\n"
          ]
        }
      ]
    },
    {
      "cell_type": "markdown",
      "source": [
        "Here the data only had 2 features highly correlated with the target variable.\n",
        "\n",
        "Plus in the model summary, the p-value for the constant is greater than 0.05.\n",
        "\n",
        "For the above two reasons we'll be using `Polynomial Regression` in the next notebook to create a prediction model instead of `Linear Regression`."
      ],
      "metadata": {
        "id": "7DnGNiFVowti"
      }
    },
    {
      "cell_type": "markdown",
      "source": [
        "---\n",
        "\n",
        "#END OF NOTEBOOK"
      ],
      "metadata": {
        "id": "5Rbsu956ZpRd"
      }
    }
  ],
  "metadata": {
    "colab": {
      "collapsed_sections": [],
      "name": "Weather Prediction",
      "provenance": []
    },
    "kernelspec": {
      "display_name": "Python 3",
      "name": "python3"
    },
    "language_info": {
      "name": "python"
    }
  },
  "nbformat": 4,
  "nbformat_minor": 0
}