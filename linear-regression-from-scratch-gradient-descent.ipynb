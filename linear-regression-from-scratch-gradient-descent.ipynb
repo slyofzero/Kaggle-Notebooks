{
 "cells": [
  {
   "cell_type": "markdown",
   "id": "ad8333aa",
   "metadata": {
    "id": "view-in-github",
    "papermill": {
     "duration": 0.031107,
     "end_time": "2022-04-19T15:20:57.448048",
     "exception": false,
     "start_time": "2022-04-19T15:20:57.416941",
     "status": "completed"
    },
    "tags": []
   },
   "source": [
    "<a href=\"https://colab.research.google.com/github/slyofzero/ML-algorithms-from-SCRATCH/blob/main/Linear_Regression_from_Scratch_(Gradient_Descent).ipynb\" target=\"_parent\"><img src=\"https://colab.research.google.com/assets/colab-badge.svg\" alt=\"Open In Colab\"/></a>"
   ]
  },
  {
   "cell_type": "markdown",
   "id": "d9526661",
   "metadata": {
    "id": "ZOUpV7rbls7y",
    "papermill": {
     "duration": 0.029274,
     "end_time": "2022-04-19T15:20:57.507004",
     "exception": false,
     "start_time": "2022-04-19T15:20:57.477730",
     "status": "completed"
    },
    "tags": []
   },
   "source": [
    "#AIM -\n",
    "\n",
    "To build a Machine Learning Algorithm that uses Linear Regression with Gradient Descent.\n",
    "\n",
    "---"
   ]
  },
  {
   "cell_type": "markdown",
   "id": "6e9ee294",
   "metadata": {
    "id": "qLGADcyAl8Hs",
    "papermill": {
     "duration": 0.029135,
     "end_time": "2022-04-19T15:20:57.566123",
     "exception": false,
     "start_time": "2022-04-19T15:20:57.536988",
     "status": "completed"
    },
    "tags": []
   },
   "source": [
    "First we have to import all the neccessary models and get some linearly related data.\n",
    "\n",
    "If you don't know what **Linear Regression** is, [click here](https://medium.com/@sly.of.zero/linear-regression-101-f4c27fb7a586)."
   ]
  },
  {
   "cell_type": "code",
   "execution_count": 1,
   "id": "cbc2eeab",
   "metadata": {
    "execution": {
     "iopub.execute_input": "2022-04-19T15:20:57.627590Z",
     "iopub.status.busy": "2022-04-19T15:20:57.627009Z",
     "iopub.status.idle": "2022-04-19T15:20:57.646678Z",
     "shell.execute_reply": "2022-04-19T15:20:57.645596Z"
    },
    "id": "82Df93YKuz_o",
    "papermill": {
     "duration": 0.053543,
     "end_time": "2022-04-19T15:20:57.649539",
     "exception": false,
     "start_time": "2022-04-19T15:20:57.595996",
     "status": "completed"
    },
    "tags": []
   },
   "outputs": [],
   "source": [
    "# Importing the neccessary modules.\n",
    "import numpy as np\n",
    "import pandas as pd\n",
    "import plotly.graph_objects as go"
   ]
  },
  {
   "cell_type": "code",
   "execution_count": 2,
   "id": "daf87576",
   "metadata": {
    "execution": {
     "iopub.execute_input": "2022-04-19T15:20:57.711418Z",
     "iopub.status.busy": "2022-04-19T15:20:57.711072Z",
     "iopub.status.idle": "2022-04-19T15:20:57.715872Z",
     "shell.execute_reply": "2022-04-19T15:20:57.715048Z"
    },
    "id": "THJAonFuu74N",
    "papermill": {
     "duration": 0.038053,
     "end_time": "2022-04-19T15:20:57.718256",
     "exception": false,
     "start_time": "2022-04-19T15:20:57.680203",
     "status": "completed"
    },
    "tags": []
   },
   "outputs": [],
   "source": [
    "# Creating random data.\n",
    "x = np.array([1, 2, 3, 4, 5])\n",
    "y = np.array([3, 5, 7, 9, 11])"
   ]
  },
  {
   "cell_type": "code",
   "execution_count": 3,
   "id": "e57bb03a",
   "metadata": {
    "execution": {
     "iopub.execute_input": "2022-04-19T15:20:57.783209Z",
     "iopub.status.busy": "2022-04-19T15:20:57.782909Z",
     "iopub.status.idle": "2022-04-19T15:20:58.005213Z",
     "shell.execute_reply": "2022-04-19T15:20:58.004396Z"
    },
    "id": "pd-IGMtMDkuU",
    "outputId": "bc9d75f3-9845-40e5-d6ae-896accbc8d9b",
    "papermill": {
     "duration": 0.257279,
     "end_time": "2022-04-19T15:20:58.007251",
     "exception": false,
     "start_time": "2022-04-19T15:20:57.749972",
     "status": "completed"
    },
    "tags": []
   },
   "outputs": [
    {
     "data": {
      "text/html": [
       "        <script type=\"text/javascript\">\n",
       "        window.PlotlyConfig = {MathJaxConfig: 'local'};\n",
       "        if (window.MathJax) {MathJax.Hub.Config({SVG: {font: \"STIX-Web\"}});}\n",
       "        if (typeof require !== 'undefined') {\n",
       "        require.undef(\"plotly\");\n",
       "        requirejs.config({\n",
       "            paths: {\n",
       "                'plotly': ['https://cdn.plot.ly/plotly-2.11.1.min']\n",
       "            }\n",
       "        });\n",
       "        require(['plotly'], function(Plotly) {\n",
       "            window._Plotly = Plotly;\n",
       "        });\n",
       "        }\n",
       "        </script>\n",
       "        "
      ]
     },
     "metadata": {},
     "output_type": "display_data"
    },
    {
     "data": {
      "text/html": [
       "<div>                            <div id=\"7516f645-36b8-4b3e-a4d2-a21166c1cad1\" class=\"plotly-graph-div\" style=\"height:525px; width:100%;\"></div>            <script type=\"text/javascript\">                require([\"plotly\"], function(Plotly) {                    window.PLOTLYENV=window.PLOTLYENV || {};                                    if (document.getElementById(\"7516f645-36b8-4b3e-a4d2-a21166c1cad1\")) {                    Plotly.newPlot(                        \"7516f645-36b8-4b3e-a4d2-a21166c1cad1\",                        [{\"mode\":\"markers\",\"x\":[1,2,3,4,5],\"y\":[3,5,7,9,11],\"type\":\"scatter\"}],                        {\"template\":{\"data\":{\"histogram2dcontour\":[{\"type\":\"histogram2dcontour\",\"colorbar\":{\"outlinewidth\":0,\"ticks\":\"\"},\"colorscale\":[[0.0,\"#0d0887\"],[0.1111111111111111,\"#46039f\"],[0.2222222222222222,\"#7201a8\"],[0.3333333333333333,\"#9c179e\"],[0.4444444444444444,\"#bd3786\"],[0.5555555555555556,\"#d8576b\"],[0.6666666666666666,\"#ed7953\"],[0.7777777777777778,\"#fb9f3a\"],[0.8888888888888888,\"#fdca26\"],[1.0,\"#f0f921\"]]}],\"choropleth\":[{\"type\":\"choropleth\",\"colorbar\":{\"outlinewidth\":0,\"ticks\":\"\"}}],\"histogram2d\":[{\"type\":\"histogram2d\",\"colorbar\":{\"outlinewidth\":0,\"ticks\":\"\"},\"colorscale\":[[0.0,\"#0d0887\"],[0.1111111111111111,\"#46039f\"],[0.2222222222222222,\"#7201a8\"],[0.3333333333333333,\"#9c179e\"],[0.4444444444444444,\"#bd3786\"],[0.5555555555555556,\"#d8576b\"],[0.6666666666666666,\"#ed7953\"],[0.7777777777777778,\"#fb9f3a\"],[0.8888888888888888,\"#fdca26\"],[1.0,\"#f0f921\"]]}],\"heatmap\":[{\"type\":\"heatmap\",\"colorbar\":{\"outlinewidth\":0,\"ticks\":\"\"},\"colorscale\":[[0.0,\"#0d0887\"],[0.1111111111111111,\"#46039f\"],[0.2222222222222222,\"#7201a8\"],[0.3333333333333333,\"#9c179e\"],[0.4444444444444444,\"#bd3786\"],[0.5555555555555556,\"#d8576b\"],[0.6666666666666666,\"#ed7953\"],[0.7777777777777778,\"#fb9f3a\"],[0.8888888888888888,\"#fdca26\"],[1.0,\"#f0f921\"]]}],\"heatmapgl\":[{\"type\":\"heatmapgl\",\"colorbar\":{\"outlinewidth\":0,\"ticks\":\"\"},\"colorscale\":[[0.0,\"#0d0887\"],[0.1111111111111111,\"#46039f\"],[0.2222222222222222,\"#7201a8\"],[0.3333333333333333,\"#9c179e\"],[0.4444444444444444,\"#bd3786\"],[0.5555555555555556,\"#d8576b\"],[0.6666666666666666,\"#ed7953\"],[0.7777777777777778,\"#fb9f3a\"],[0.8888888888888888,\"#fdca26\"],[1.0,\"#f0f921\"]]}],\"contourcarpet\":[{\"type\":\"contourcarpet\",\"colorbar\":{\"outlinewidth\":0,\"ticks\":\"\"}}],\"contour\":[{\"type\":\"contour\",\"colorbar\":{\"outlinewidth\":0,\"ticks\":\"\"},\"colorscale\":[[0.0,\"#0d0887\"],[0.1111111111111111,\"#46039f\"],[0.2222222222222222,\"#7201a8\"],[0.3333333333333333,\"#9c179e\"],[0.4444444444444444,\"#bd3786\"],[0.5555555555555556,\"#d8576b\"],[0.6666666666666666,\"#ed7953\"],[0.7777777777777778,\"#fb9f3a\"],[0.8888888888888888,\"#fdca26\"],[1.0,\"#f0f921\"]]}],\"surface\":[{\"type\":\"surface\",\"colorbar\":{\"outlinewidth\":0,\"ticks\":\"\"},\"colorscale\":[[0.0,\"#0d0887\"],[0.1111111111111111,\"#46039f\"],[0.2222222222222222,\"#7201a8\"],[0.3333333333333333,\"#9c179e\"],[0.4444444444444444,\"#bd3786\"],[0.5555555555555556,\"#d8576b\"],[0.6666666666666666,\"#ed7953\"],[0.7777777777777778,\"#fb9f3a\"],[0.8888888888888888,\"#fdca26\"],[1.0,\"#f0f921\"]]}],\"mesh3d\":[{\"type\":\"mesh3d\",\"colorbar\":{\"outlinewidth\":0,\"ticks\":\"\"}}],\"scatter\":[{\"fillpattern\":{\"fillmode\":\"overlay\",\"size\":10,\"solidity\":0.2},\"type\":\"scatter\"}],\"parcoords\":[{\"type\":\"parcoords\",\"line\":{\"colorbar\":{\"outlinewidth\":0,\"ticks\":\"\"}}}],\"scatterpolargl\":[{\"type\":\"scatterpolargl\",\"marker\":{\"colorbar\":{\"outlinewidth\":0,\"ticks\":\"\"}}}],\"bar\":[{\"error_x\":{\"color\":\"#2a3f5f\"},\"error_y\":{\"color\":\"#2a3f5f\"},\"marker\":{\"line\":{\"color\":\"#E5ECF6\",\"width\":0.5},\"pattern\":{\"fillmode\":\"overlay\",\"size\":10,\"solidity\":0.2}},\"type\":\"bar\"}],\"scattergeo\":[{\"type\":\"scattergeo\",\"marker\":{\"colorbar\":{\"outlinewidth\":0,\"ticks\":\"\"}}}],\"scatterpolar\":[{\"type\":\"scatterpolar\",\"marker\":{\"colorbar\":{\"outlinewidth\":0,\"ticks\":\"\"}}}],\"histogram\":[{\"marker\":{\"pattern\":{\"fillmode\":\"overlay\",\"size\":10,\"solidity\":0.2}},\"type\":\"histogram\"}],\"scattergl\":[{\"type\":\"scattergl\",\"marker\":{\"colorbar\":{\"outlinewidth\":0,\"ticks\":\"\"}}}],\"scatter3d\":[{\"type\":\"scatter3d\",\"line\":{\"colorbar\":{\"outlinewidth\":0,\"ticks\":\"\"}},\"marker\":{\"colorbar\":{\"outlinewidth\":0,\"ticks\":\"\"}}}],\"scattermapbox\":[{\"type\":\"scattermapbox\",\"marker\":{\"colorbar\":{\"outlinewidth\":0,\"ticks\":\"\"}}}],\"scatterternary\":[{\"type\":\"scatterternary\",\"marker\":{\"colorbar\":{\"outlinewidth\":0,\"ticks\":\"\"}}}],\"scattercarpet\":[{\"type\":\"scattercarpet\",\"marker\":{\"colorbar\":{\"outlinewidth\":0,\"ticks\":\"\"}}}],\"carpet\":[{\"aaxis\":{\"endlinecolor\":\"#2a3f5f\",\"gridcolor\":\"white\",\"linecolor\":\"white\",\"minorgridcolor\":\"white\",\"startlinecolor\":\"#2a3f5f\"},\"baxis\":{\"endlinecolor\":\"#2a3f5f\",\"gridcolor\":\"white\",\"linecolor\":\"white\",\"minorgridcolor\":\"white\",\"startlinecolor\":\"#2a3f5f\"},\"type\":\"carpet\"}],\"table\":[{\"cells\":{\"fill\":{\"color\":\"#EBF0F8\"},\"line\":{\"color\":\"white\"}},\"header\":{\"fill\":{\"color\":\"#C8D4E3\"},\"line\":{\"color\":\"white\"}},\"type\":\"table\"}],\"barpolar\":[{\"marker\":{\"line\":{\"color\":\"#E5ECF6\",\"width\":0.5},\"pattern\":{\"fillmode\":\"overlay\",\"size\":10,\"solidity\":0.2}},\"type\":\"barpolar\"}],\"pie\":[{\"automargin\":true,\"type\":\"pie\"}]},\"layout\":{\"autotypenumbers\":\"strict\",\"colorway\":[\"#636efa\",\"#EF553B\",\"#00cc96\",\"#ab63fa\",\"#FFA15A\",\"#19d3f3\",\"#FF6692\",\"#B6E880\",\"#FF97FF\",\"#FECB52\"],\"font\":{\"color\":\"#2a3f5f\"},\"hovermode\":\"closest\",\"hoverlabel\":{\"align\":\"left\"},\"paper_bgcolor\":\"white\",\"plot_bgcolor\":\"#E5ECF6\",\"polar\":{\"bgcolor\":\"#E5ECF6\",\"angularaxis\":{\"gridcolor\":\"white\",\"linecolor\":\"white\",\"ticks\":\"\"},\"radialaxis\":{\"gridcolor\":\"white\",\"linecolor\":\"white\",\"ticks\":\"\"}},\"ternary\":{\"bgcolor\":\"#E5ECF6\",\"aaxis\":{\"gridcolor\":\"white\",\"linecolor\":\"white\",\"ticks\":\"\"},\"baxis\":{\"gridcolor\":\"white\",\"linecolor\":\"white\",\"ticks\":\"\"},\"caxis\":{\"gridcolor\":\"white\",\"linecolor\":\"white\",\"ticks\":\"\"}},\"coloraxis\":{\"colorbar\":{\"outlinewidth\":0,\"ticks\":\"\"}},\"colorscale\":{\"sequential\":[[0.0,\"#0d0887\"],[0.1111111111111111,\"#46039f\"],[0.2222222222222222,\"#7201a8\"],[0.3333333333333333,\"#9c179e\"],[0.4444444444444444,\"#bd3786\"],[0.5555555555555556,\"#d8576b\"],[0.6666666666666666,\"#ed7953\"],[0.7777777777777778,\"#fb9f3a\"],[0.8888888888888888,\"#fdca26\"],[1.0,\"#f0f921\"]],\"sequentialminus\":[[0.0,\"#0d0887\"],[0.1111111111111111,\"#46039f\"],[0.2222222222222222,\"#7201a8\"],[0.3333333333333333,\"#9c179e\"],[0.4444444444444444,\"#bd3786\"],[0.5555555555555556,\"#d8576b\"],[0.6666666666666666,\"#ed7953\"],[0.7777777777777778,\"#fb9f3a\"],[0.8888888888888888,\"#fdca26\"],[1.0,\"#f0f921\"]],\"diverging\":[[0,\"#8e0152\"],[0.1,\"#c51b7d\"],[0.2,\"#de77ae\"],[0.3,\"#f1b6da\"],[0.4,\"#fde0ef\"],[0.5,\"#f7f7f7\"],[0.6,\"#e6f5d0\"],[0.7,\"#b8e186\"],[0.8,\"#7fbc41\"],[0.9,\"#4d9221\"],[1,\"#276419\"]]},\"xaxis\":{\"gridcolor\":\"white\",\"linecolor\":\"white\",\"ticks\":\"\",\"title\":{\"standoff\":15},\"zerolinecolor\":\"white\",\"automargin\":true,\"zerolinewidth\":2},\"yaxis\":{\"gridcolor\":\"white\",\"linecolor\":\"white\",\"ticks\":\"\",\"title\":{\"standoff\":15},\"zerolinecolor\":\"white\",\"automargin\":true,\"zerolinewidth\":2},\"scene\":{\"xaxis\":{\"backgroundcolor\":\"#E5ECF6\",\"gridcolor\":\"white\",\"linecolor\":\"white\",\"showbackground\":true,\"ticks\":\"\",\"zerolinecolor\":\"white\",\"gridwidth\":2},\"yaxis\":{\"backgroundcolor\":\"#E5ECF6\",\"gridcolor\":\"white\",\"linecolor\":\"white\",\"showbackground\":true,\"ticks\":\"\",\"zerolinecolor\":\"white\",\"gridwidth\":2},\"zaxis\":{\"backgroundcolor\":\"#E5ECF6\",\"gridcolor\":\"white\",\"linecolor\":\"white\",\"showbackground\":true,\"ticks\":\"\",\"zerolinecolor\":\"white\",\"gridwidth\":2}},\"shapedefaults\":{\"line\":{\"color\":\"#2a3f5f\"}},\"annotationdefaults\":{\"arrowcolor\":\"#2a3f5f\",\"arrowhead\":0,\"arrowwidth\":1},\"geo\":{\"bgcolor\":\"white\",\"landcolor\":\"#E5ECF6\",\"subunitcolor\":\"white\",\"showland\":true,\"showlakes\":true,\"lakecolor\":\"white\"},\"title\":{\"x\":0.05},\"mapbox\":{\"style\":\"light\"}}}},                        {\"responsive\": true}                    ).then(function(){\n",
       "                            \n",
       "var gd = document.getElementById('7516f645-36b8-4b3e-a4d2-a21166c1cad1');\n",
       "var x = new MutationObserver(function (mutations, observer) {{\n",
       "        var display = window.getComputedStyle(gd).display;\n",
       "        if (!display || display === 'none') {{\n",
       "            console.log([gd, 'removed!']);\n",
       "            Plotly.purge(gd);\n",
       "            observer.disconnect();\n",
       "        }}\n",
       "}});\n",
       "\n",
       "// Listen for the removal of the full notebook cells\n",
       "var notebookContainer = gd.closest('#notebook-container');\n",
       "if (notebookContainer) {{\n",
       "    x.observe(notebookContainer, {childList: true});\n",
       "}}\n",
       "\n",
       "// Listen for the clearing of the current output cell\n",
       "var outputEl = gd.closest('.output');\n",
       "if (outputEl) {{\n",
       "    x.observe(outputEl, {childList: true});\n",
       "}}\n",
       "\n",
       "                        })                };                });            </script>        </div>"
      ]
     },
     "metadata": {},
     "output_type": "display_data"
    }
   ],
   "source": [
    "# Printing the plot.\n",
    "fig = go.Figure()\n",
    "\n",
    "fig.add_traces(go.Scatter(\n",
    "    x = x,\n",
    "    y=  y,\n",
    "    mode = \"markers\"\n",
    "))\n",
    "\n",
    "fig.show()"
   ]
  },
  {
   "cell_type": "markdown",
   "id": "d702bd94",
   "metadata": {
    "id": "SJGNQwNeM-xS",
    "papermill": {
     "duration": 0.031838,
     "end_time": "2022-04-19T15:20:58.071634",
     "exception": false,
     "start_time": "2022-04-19T15:20:58.039796",
     "status": "completed"
    },
    "tags": []
   },
   "source": [
    "##**Types of Linear Regression**\n",
    "\n",
    "###***Simple Linear Regression***\n",
    "Simple Linear Regression is the type of Linear Regression where we only use one variable to predict new outputs.\n",
    "\n",
    "The equation of a straight line is -\n",
    "$$y = mx + c$$\n",
    "\\\n",
    "$$(OR)$$\n",
    "\\\n",
    "$$y = β_{0} + β_{1} x_{1}$$\n",
    "\n",
    "Here **m** or $\\beta_{1}$ is the slope of the line (for that variable) and **c** or $\\beta_{0}$ is the intercept.\n",
    "\n",
    "\\\n",
    "\n",
    "###***Multiple Linear Regression***\n",
    "\n",
    "If there were more than two terms in the equation above, then we would have been dealing with **Multiple Linear Regression**. And the equation for the line would have been something like this,\n",
    "\n",
    "$$y = β_{0} + β_{1} x_{1} + \\beta_2 x_2 + ... + \\beta_n x_n$$\n",
    "\n",
    "Multiple Linear Regression is the type of Linear Regression where we only use multiple variables to predict new outputs.\n",
    "\n",
    "In the above case $x_1, x_2,..., x_n$ are the multiple independent variables **(feature variables)** that affect  $y$ ,the dependent variable **(target variable)**.\n",
    "\n",
    "$\\beta_1, \\beta_2, ..., \\beta_n$ are the coefficients or the **slope** for that feature variable, while $\\beta_0$ is still the **intercept**.\n",
    "\n",
    "---"
   ]
  },
  {
   "cell_type": "markdown",
   "id": "12ea64f6",
   "metadata": {
    "id": "WacChsn-5tqy",
    "papermill": {
     "duration": 0.031628,
     "end_time": "2022-04-19T15:20:58.135593",
     "exception": false,
     "start_time": "2022-04-19T15:20:58.103965",
     "status": "completed"
    },
    "tags": []
   },
   "source": [
    "Let's create a function that can create the points using the formula for Simple Linear Regression."
   ]
  },
  {
   "cell_type": "code",
   "execution_count": 4,
   "id": "7a1f663a",
   "metadata": {
    "execution": {
     "iopub.execute_input": "2022-04-19T15:20:58.204115Z",
     "iopub.status.busy": "2022-04-19T15:20:58.203655Z",
     "iopub.status.idle": "2022-04-19T15:20:58.208120Z",
     "shell.execute_reply": "2022-04-19T15:20:58.207476Z"
    },
    "id": "OhaICQLhalAT",
    "papermill": {
     "duration": 0.04223,
     "end_time": "2022-04-19T15:20:58.209996",
     "exception": false,
     "start_time": "2022-04-19T15:20:58.167766",
     "status": "completed"
    },
    "tags": []
   },
   "outputs": [],
   "source": [
    "# Creating a function to predict the points.\n",
    "def linreg(series, slope, intercept):\n",
    "  return (series * slope) + intercept"
   ]
  },
  {
   "cell_type": "markdown",
   "id": "67480630",
   "metadata": {
    "id": "kBqmfSY0bCQV",
    "papermill": {
     "duration": 0.032409,
     "end_time": "2022-04-19T15:20:58.274624",
     "exception": false,
     "start_time": "2022-04-19T15:20:58.242215",
     "status": "completed"
    },
    "tags": []
   },
   "source": [
    "Wow, we already have a way to predict new data! All we needed was that simple equation.\n",
    "\n",
    "Now we just need to figure out are the slope and intercept values and we'll be good to go.\n",
    "\n",
    "But the problem is... calculating these two ain't as easy as creating that function. It's a little more complex than that. Don't worry, it's still pretty easy... if you understand **derivatives**. If you don't then I'll recommend learning about **derivatives** (**differentiation**), especially **partial differentiation**, before continuing.\n",
    "\n",
    "---"
   ]
  },
  {
   "cell_type": "markdown",
   "id": "00ba7114",
   "metadata": {
    "id": "or40KY5_a5J4",
    "papermill": {
     "duration": 0.032105,
     "end_time": "2022-04-19T15:20:58.338563",
     "exception": false,
     "start_time": "2022-04-19T15:20:58.306458",
     "status": "completed"
    },
    "tags": []
   },
   "source": [
    "Let's take m as **3** and c as **0.55**, just two random values."
   ]
  },
  {
   "cell_type": "code",
   "execution_count": 5,
   "id": "50fd6814",
   "metadata": {
    "execution": {
     "iopub.execute_input": "2022-04-19T15:20:58.403673Z",
     "iopub.status.busy": "2022-04-19T15:20:58.403258Z",
     "iopub.status.idle": "2022-04-19T15:20:58.418230Z",
     "shell.execute_reply": "2022-04-19T15:20:58.417472Z"
    },
    "id": "SLVZyJabMhUp",
    "outputId": "58d088d0-7400-40e5-fe7f-0d1a6fc8c7a8",
    "papermill": {
     "duration": 0.049903,
     "end_time": "2022-04-19T15:20:58.420176",
     "exception": false,
     "start_time": "2022-04-19T15:20:58.370273",
     "status": "completed"
    },
    "tags": []
   },
   "outputs": [
    {
     "data": {
      "text/html": [
       "<div>                            <div id=\"aa0dd70b-7c60-4d5a-ac98-3be649d0c5af\" class=\"plotly-graph-div\" style=\"height:525px; width:100%;\"></div>            <script type=\"text/javascript\">                require([\"plotly\"], function(Plotly) {                    window.PLOTLYENV=window.PLOTLYENV || {};                                    if (document.getElementById(\"aa0dd70b-7c60-4d5a-ac98-3be649d0c5af\")) {                    Plotly.newPlot(                        \"aa0dd70b-7c60-4d5a-ac98-3be649d0c5af\",                        [{\"mode\":\"markers\",\"name\":\"Data\",\"x\":[1,2,3,4,5],\"y\":[3,5,7,9,11],\"type\":\"scatter\"},{\"mode\":\"lines\",\"name\":\"Line of best fit\",\"x\":[1,2,3,4,5],\"y\":[3.55,6.55,9.55,12.55,15.55],\"type\":\"scatter\"}],                        {\"template\":{\"data\":{\"histogram2dcontour\":[{\"type\":\"histogram2dcontour\",\"colorbar\":{\"outlinewidth\":0,\"ticks\":\"\"},\"colorscale\":[[0.0,\"#0d0887\"],[0.1111111111111111,\"#46039f\"],[0.2222222222222222,\"#7201a8\"],[0.3333333333333333,\"#9c179e\"],[0.4444444444444444,\"#bd3786\"],[0.5555555555555556,\"#d8576b\"],[0.6666666666666666,\"#ed7953\"],[0.7777777777777778,\"#fb9f3a\"],[0.8888888888888888,\"#fdca26\"],[1.0,\"#f0f921\"]]}],\"choropleth\":[{\"type\":\"choropleth\",\"colorbar\":{\"outlinewidth\":0,\"ticks\":\"\"}}],\"histogram2d\":[{\"type\":\"histogram2d\",\"colorbar\":{\"outlinewidth\":0,\"ticks\":\"\"},\"colorscale\":[[0.0,\"#0d0887\"],[0.1111111111111111,\"#46039f\"],[0.2222222222222222,\"#7201a8\"],[0.3333333333333333,\"#9c179e\"],[0.4444444444444444,\"#bd3786\"],[0.5555555555555556,\"#d8576b\"],[0.6666666666666666,\"#ed7953\"],[0.7777777777777778,\"#fb9f3a\"],[0.8888888888888888,\"#fdca26\"],[1.0,\"#f0f921\"]]}],\"heatmap\":[{\"type\":\"heatmap\",\"colorbar\":{\"outlinewidth\":0,\"ticks\":\"\"},\"colorscale\":[[0.0,\"#0d0887\"],[0.1111111111111111,\"#46039f\"],[0.2222222222222222,\"#7201a8\"],[0.3333333333333333,\"#9c179e\"],[0.4444444444444444,\"#bd3786\"],[0.5555555555555556,\"#d8576b\"],[0.6666666666666666,\"#ed7953\"],[0.7777777777777778,\"#fb9f3a\"],[0.8888888888888888,\"#fdca26\"],[1.0,\"#f0f921\"]]}],\"heatmapgl\":[{\"type\":\"heatmapgl\",\"colorbar\":{\"outlinewidth\":0,\"ticks\":\"\"},\"colorscale\":[[0.0,\"#0d0887\"],[0.1111111111111111,\"#46039f\"],[0.2222222222222222,\"#7201a8\"],[0.3333333333333333,\"#9c179e\"],[0.4444444444444444,\"#bd3786\"],[0.5555555555555556,\"#d8576b\"],[0.6666666666666666,\"#ed7953\"],[0.7777777777777778,\"#fb9f3a\"],[0.8888888888888888,\"#fdca26\"],[1.0,\"#f0f921\"]]}],\"contourcarpet\":[{\"type\":\"contourcarpet\",\"colorbar\":{\"outlinewidth\":0,\"ticks\":\"\"}}],\"contour\":[{\"type\":\"contour\",\"colorbar\":{\"outlinewidth\":0,\"ticks\":\"\"},\"colorscale\":[[0.0,\"#0d0887\"],[0.1111111111111111,\"#46039f\"],[0.2222222222222222,\"#7201a8\"],[0.3333333333333333,\"#9c179e\"],[0.4444444444444444,\"#bd3786\"],[0.5555555555555556,\"#d8576b\"],[0.6666666666666666,\"#ed7953\"],[0.7777777777777778,\"#fb9f3a\"],[0.8888888888888888,\"#fdca26\"],[1.0,\"#f0f921\"]]}],\"surface\":[{\"type\":\"surface\",\"colorbar\":{\"outlinewidth\":0,\"ticks\":\"\"},\"colorscale\":[[0.0,\"#0d0887\"],[0.1111111111111111,\"#46039f\"],[0.2222222222222222,\"#7201a8\"],[0.3333333333333333,\"#9c179e\"],[0.4444444444444444,\"#bd3786\"],[0.5555555555555556,\"#d8576b\"],[0.6666666666666666,\"#ed7953\"],[0.7777777777777778,\"#fb9f3a\"],[0.8888888888888888,\"#fdca26\"],[1.0,\"#f0f921\"]]}],\"mesh3d\":[{\"type\":\"mesh3d\",\"colorbar\":{\"outlinewidth\":0,\"ticks\":\"\"}}],\"scatter\":[{\"fillpattern\":{\"fillmode\":\"overlay\",\"size\":10,\"solidity\":0.2},\"type\":\"scatter\"}],\"parcoords\":[{\"type\":\"parcoords\",\"line\":{\"colorbar\":{\"outlinewidth\":0,\"ticks\":\"\"}}}],\"scatterpolargl\":[{\"type\":\"scatterpolargl\",\"marker\":{\"colorbar\":{\"outlinewidth\":0,\"ticks\":\"\"}}}],\"bar\":[{\"error_x\":{\"color\":\"#2a3f5f\"},\"error_y\":{\"color\":\"#2a3f5f\"},\"marker\":{\"line\":{\"color\":\"#E5ECF6\",\"width\":0.5},\"pattern\":{\"fillmode\":\"overlay\",\"size\":10,\"solidity\":0.2}},\"type\":\"bar\"}],\"scattergeo\":[{\"type\":\"scattergeo\",\"marker\":{\"colorbar\":{\"outlinewidth\":0,\"ticks\":\"\"}}}],\"scatterpolar\":[{\"type\":\"scatterpolar\",\"marker\":{\"colorbar\":{\"outlinewidth\":0,\"ticks\":\"\"}}}],\"histogram\":[{\"marker\":{\"pattern\":{\"fillmode\":\"overlay\",\"size\":10,\"solidity\":0.2}},\"type\":\"histogram\"}],\"scattergl\":[{\"type\":\"scattergl\",\"marker\":{\"colorbar\":{\"outlinewidth\":0,\"ticks\":\"\"}}}],\"scatter3d\":[{\"type\":\"scatter3d\",\"line\":{\"colorbar\":{\"outlinewidth\":0,\"ticks\":\"\"}},\"marker\":{\"colorbar\":{\"outlinewidth\":0,\"ticks\":\"\"}}}],\"scattermapbox\":[{\"type\":\"scattermapbox\",\"marker\":{\"colorbar\":{\"outlinewidth\":0,\"ticks\":\"\"}}}],\"scatterternary\":[{\"type\":\"scatterternary\",\"marker\":{\"colorbar\":{\"outlinewidth\":0,\"ticks\":\"\"}}}],\"scattercarpet\":[{\"type\":\"scattercarpet\",\"marker\":{\"colorbar\":{\"outlinewidth\":0,\"ticks\":\"\"}}}],\"carpet\":[{\"aaxis\":{\"endlinecolor\":\"#2a3f5f\",\"gridcolor\":\"white\",\"linecolor\":\"white\",\"minorgridcolor\":\"white\",\"startlinecolor\":\"#2a3f5f\"},\"baxis\":{\"endlinecolor\":\"#2a3f5f\",\"gridcolor\":\"white\",\"linecolor\":\"white\",\"minorgridcolor\":\"white\",\"startlinecolor\":\"#2a3f5f\"},\"type\":\"carpet\"}],\"table\":[{\"cells\":{\"fill\":{\"color\":\"#EBF0F8\"},\"line\":{\"color\":\"white\"}},\"header\":{\"fill\":{\"color\":\"#C8D4E3\"},\"line\":{\"color\":\"white\"}},\"type\":\"table\"}],\"barpolar\":[{\"marker\":{\"line\":{\"color\":\"#E5ECF6\",\"width\":0.5},\"pattern\":{\"fillmode\":\"overlay\",\"size\":10,\"solidity\":0.2}},\"type\":\"barpolar\"}],\"pie\":[{\"automargin\":true,\"type\":\"pie\"}]},\"layout\":{\"autotypenumbers\":\"strict\",\"colorway\":[\"#636efa\",\"#EF553B\",\"#00cc96\",\"#ab63fa\",\"#FFA15A\",\"#19d3f3\",\"#FF6692\",\"#B6E880\",\"#FF97FF\",\"#FECB52\"],\"font\":{\"color\":\"#2a3f5f\"},\"hovermode\":\"closest\",\"hoverlabel\":{\"align\":\"left\"},\"paper_bgcolor\":\"white\",\"plot_bgcolor\":\"#E5ECF6\",\"polar\":{\"bgcolor\":\"#E5ECF6\",\"angularaxis\":{\"gridcolor\":\"white\",\"linecolor\":\"white\",\"ticks\":\"\"},\"radialaxis\":{\"gridcolor\":\"white\",\"linecolor\":\"white\",\"ticks\":\"\"}},\"ternary\":{\"bgcolor\":\"#E5ECF6\",\"aaxis\":{\"gridcolor\":\"white\",\"linecolor\":\"white\",\"ticks\":\"\"},\"baxis\":{\"gridcolor\":\"white\",\"linecolor\":\"white\",\"ticks\":\"\"},\"caxis\":{\"gridcolor\":\"white\",\"linecolor\":\"white\",\"ticks\":\"\"}},\"coloraxis\":{\"colorbar\":{\"outlinewidth\":0,\"ticks\":\"\"}},\"colorscale\":{\"sequential\":[[0.0,\"#0d0887\"],[0.1111111111111111,\"#46039f\"],[0.2222222222222222,\"#7201a8\"],[0.3333333333333333,\"#9c179e\"],[0.4444444444444444,\"#bd3786\"],[0.5555555555555556,\"#d8576b\"],[0.6666666666666666,\"#ed7953\"],[0.7777777777777778,\"#fb9f3a\"],[0.8888888888888888,\"#fdca26\"],[1.0,\"#f0f921\"]],\"sequentialminus\":[[0.0,\"#0d0887\"],[0.1111111111111111,\"#46039f\"],[0.2222222222222222,\"#7201a8\"],[0.3333333333333333,\"#9c179e\"],[0.4444444444444444,\"#bd3786\"],[0.5555555555555556,\"#d8576b\"],[0.6666666666666666,\"#ed7953\"],[0.7777777777777778,\"#fb9f3a\"],[0.8888888888888888,\"#fdca26\"],[1.0,\"#f0f921\"]],\"diverging\":[[0,\"#8e0152\"],[0.1,\"#c51b7d\"],[0.2,\"#de77ae\"],[0.3,\"#f1b6da\"],[0.4,\"#fde0ef\"],[0.5,\"#f7f7f7\"],[0.6,\"#e6f5d0\"],[0.7,\"#b8e186\"],[0.8,\"#7fbc41\"],[0.9,\"#4d9221\"],[1,\"#276419\"]]},\"xaxis\":{\"gridcolor\":\"white\",\"linecolor\":\"white\",\"ticks\":\"\",\"title\":{\"standoff\":15},\"zerolinecolor\":\"white\",\"automargin\":true,\"zerolinewidth\":2},\"yaxis\":{\"gridcolor\":\"white\",\"linecolor\":\"white\",\"ticks\":\"\",\"title\":{\"standoff\":15},\"zerolinecolor\":\"white\",\"automargin\":true,\"zerolinewidth\":2},\"scene\":{\"xaxis\":{\"backgroundcolor\":\"#E5ECF6\",\"gridcolor\":\"white\",\"linecolor\":\"white\",\"showbackground\":true,\"ticks\":\"\",\"zerolinecolor\":\"white\",\"gridwidth\":2},\"yaxis\":{\"backgroundcolor\":\"#E5ECF6\",\"gridcolor\":\"white\",\"linecolor\":\"white\",\"showbackground\":true,\"ticks\":\"\",\"zerolinecolor\":\"white\",\"gridwidth\":2},\"zaxis\":{\"backgroundcolor\":\"#E5ECF6\",\"gridcolor\":\"white\",\"linecolor\":\"white\",\"showbackground\":true,\"ticks\":\"\",\"zerolinecolor\":\"white\",\"gridwidth\":2}},\"shapedefaults\":{\"line\":{\"color\":\"#2a3f5f\"}},\"annotationdefaults\":{\"arrowcolor\":\"#2a3f5f\",\"arrowhead\":0,\"arrowwidth\":1},\"geo\":{\"bgcolor\":\"white\",\"landcolor\":\"#E5ECF6\",\"subunitcolor\":\"white\",\"showland\":true,\"showlakes\":true,\"lakecolor\":\"white\"},\"title\":{\"x\":0.05},\"mapbox\":{\"style\":\"light\"}}}},                        {\"responsive\": true}                    ).then(function(){\n",
       "                            \n",
       "var gd = document.getElementById('aa0dd70b-7c60-4d5a-ac98-3be649d0c5af');\n",
       "var x = new MutationObserver(function (mutations, observer) {{\n",
       "        var display = window.getComputedStyle(gd).display;\n",
       "        if (!display || display === 'none') {{\n",
       "            console.log([gd, 'removed!']);\n",
       "            Plotly.purge(gd);\n",
       "            observer.disconnect();\n",
       "        }}\n",
       "}});\n",
       "\n",
       "// Listen for the removal of the full notebook cells\n",
       "var notebookContainer = gd.closest('#notebook-container');\n",
       "if (notebookContainer) {{\n",
       "    x.observe(notebookContainer, {childList: true});\n",
       "}}\n",
       "\n",
       "// Listen for the clearing of the current output cell\n",
       "var outputEl = gd.closest('.output');\n",
       "if (outputEl) {{\n",
       "    x.observe(outputEl, {childList: true});\n",
       "}}\n",
       "\n",
       "                        })                };                });            </script>        </div>"
      ]
     },
     "metadata": {},
     "output_type": "display_data"
    }
   ],
   "source": [
    "# Printing the plot.\n",
    "y_pred = linreg(series = x, slope = 3, intercept = 0.55)\n",
    "\n",
    "fig = go.Figure()\n",
    "\n",
    "fig.add_traces(go.Scatter(\n",
    "    x = x,\n",
    "    y=  y,\n",
    "    mode = \"markers\",\n",
    "    name = \"Data\"\n",
    "))\n",
    "\n",
    "fig.add_traces(go.Scatter(\n",
    "    x = x,\n",
    "    y = y_pred,\n",
    "    mode = \"lines\",\n",
    "    name = \"Line of best fit\"\n",
    "))\n",
    "\n",
    "fig.show()"
   ]
  },
  {
   "cell_type": "markdown",
   "id": "89a4f8c7",
   "metadata": {
    "id": "eGUEaAn9W_al",
    "papermill": {
     "duration": 0.032168,
     "end_time": "2022-04-19T15:20:58.485022",
     "exception": false,
     "start_time": "2022-04-19T15:20:58.452854",
     "status": "completed"
    },
    "tags": []
   },
   "source": [
    "As you can see, the line we plotted is not very accurate and it strays off the actual data by quite a lot. Basically it has a lot of **errors**.\n",
    "\n",
    "But how much exactly??????\n",
    "\n",
    "---"
   ]
  },
  {
   "cell_type": "markdown",
   "id": "bc36a152",
   "metadata": {
    "id": "hkSm5n8TXWdi",
    "papermill": {
     "duration": 0.03222,
     "end_time": "2022-04-19T15:20:58.549836",
     "exception": false,
     "start_time": "2022-04-19T15:20:58.517616",
     "status": "completed"
    },
    "tags": []
   },
   "source": [
    "##**SSE, MSE, RMSE and MAE**\n",
    "\n",
    "SSE, MSE, RMSE and MAE are just different ways of calculating the errors in our predictions.\n",
    "\n",
    "###***SSE***\n",
    "SSE stands for Sum of Squared Errors. It basically is the sum of the squares of the difference between the predicted and the actual value.\n",
    "\n",
    "\\\n",
    "\n",
    "$$SSE = \\sum_{i = 1}^{n} (y_i - \\hat{y_i})^2$$\n",
    "\n",
    "\\\n",
    "\n",
    "$y_i$ = Actual $y$ value for that value of $x$. \\\n",
    "$\\hat{y_i}$ = Value predicted by the line we plotted for that value of $x$. \\\n",
    "$n$ = Number of total $y$ values. \\\n",
    "\n",
    "Here we are taking the sqaure of $y_i - \\hat{y_i}$ because for some values this might be a **positive number**, while for some it might be a **negative number**. As we want the total error values we would want to sum these numbers up. But summing a **positive number** and a **negative number** would just cancel out some of the errors. To avoid this we square \n",
    "$y_i - \\hat{y_i}$ as it would only give us positive numbers.\n",
    "\n",
    "\\\n",
    "\n",
    "###***MSE***\n",
    "MSE is the average of the squares of the difference between the predicted and the actual value. \n",
    "\n",
    "If you didn't understood the sentence above, I hope this formula makes everything clearer.\n",
    "\n",
    "\\\n",
    "\n",
    "$$MSE = \\frac{\\sum_{i = 1}^{n} (y_i - \\hat{y_i})^2}{n}$$\n",
    "\\\n",
    "$$(OR)$$\n",
    "\\\n",
    "$$MSE = \\frac{SSE}{n}$$\n",
    "\n",
    "\\\n",
    "\n",
    "###***RMSE***\n",
    "As MSE has squaring up the errors involved we won't be getting the accurate error values if we only use MSE. To fix this we can take a square root of MSE. This is called **RMSE** or **Root Mean Squared Error**.\n",
    "\n",
    "\\\n",
    "\n",
    "$$RMSE = \\sqrt \\frac{\\sum_{i = 1}^{n} (y_i - \\hat{y_i})^2}{n}$$\n",
    "\\\n",
    "$$(OR)$$\n",
    "\\\n",
    "$$RMSE = \\sqrt{MSE}$$\n",
    "\n",
    "\\\n",
    "\n",
    "\\\n",
    "\n",
    "###***MAE***\n",
    "\n",
    "We can also take the absolute value of $y_i - \\hat{y_i}$ by applying **mod** to avoid getting negative error values. This type of error is called **MAE** or **Mean Absolute Error**.\n",
    "\n",
    "\\\n",
    "\n",
    "$$MAE = \\frac{\\sum_{i = 1}^{n} |y_i - \\hat{y_i}|}{n}$$\n",
    "\n",
    "\\\n",
    "\n",
    "---"
   ]
  },
  {
   "cell_type": "markdown",
   "id": "88b904fd",
   "metadata": {
    "id": "TKG1Cx4FTLWr",
    "papermill": {
     "duration": 0.032433,
     "end_time": "2022-04-19T15:20:58.614875",
     "exception": false,
     "start_time": "2022-04-19T15:20:58.582442",
     "status": "completed"
    },
    "tags": []
   },
   "source": [
    "Let's calculate **MSE**, **RMSE**, and **MAE** for the line we plotted."
   ]
  },
  {
   "cell_type": "code",
   "execution_count": 6,
   "id": "d965eca1",
   "metadata": {
    "execution": {
     "iopub.execute_input": "2022-04-19T15:20:58.682272Z",
     "iopub.status.busy": "2022-04-19T15:20:58.681849Z",
     "iopub.status.idle": "2022-04-19T15:20:58.689004Z",
     "shell.execute_reply": "2022-04-19T15:20:58.688226Z"
    },
    "id": "ZkwES49vTK9-",
    "outputId": "c581ee02-74cd-46dc-cb95-e14b605a138a",
    "papermill": {
     "duration": 0.043639,
     "end_time": "2022-04-19T15:20:58.691207",
     "exception": false,
     "start_time": "2022-04-19T15:20:58.647568",
     "status": "completed"
    },
    "tags": []
   },
   "outputs": [
    {
     "name": "stdout",
     "output_type": "stream",
     "text": [
      "MSE = 8.5\n",
      "RMSE = 2.92\n",
      "MAE = 2.55\n"
     ]
    }
   ],
   "source": [
    "# Calculating the errors.\n",
    "errors = y - y_pred\n",
    "\n",
    "mse = round(np.mean((errors)**2), 2)\n",
    "rmse = round(np.sqrt(mse), 2)\n",
    "mae = round(np.mean(np.abs(errors)), 2)\n",
    "print(f\"MSE = {mse}\")\n",
    "print(f\"RMSE = {rmse}\")\n",
    "print(f\"MAE = {mae}\")"
   ]
  },
  {
   "cell_type": "markdown",
   "id": "a1d0734c",
   "metadata": {
    "id": "-AmSuLwsgTrI",
    "papermill": {
     "duration": 0.032838,
     "end_time": "2022-04-19T15:20:58.757201",
     "exception": false,
     "start_time": "2022-04-19T15:20:58.724363",
     "status": "completed"
    },
    "tags": []
   },
   "source": [
    "We need to minimize these errors to have much more accurate predictions. The most ideal value would be 0, but that's extremely rare.\n",
    "\n",
    "Let's try feeding in a few more slope and intercept values and printing their plot and error values."
   ]
  },
  {
   "cell_type": "code",
   "execution_count": 7,
   "id": "b3bfd811",
   "metadata": {
    "execution": {
     "iopub.execute_input": "2022-04-19T15:20:58.826594Z",
     "iopub.status.busy": "2022-04-19T15:20:58.826298Z",
     "iopub.status.idle": "2022-04-19T15:20:58.843063Z",
     "shell.execute_reply": "2022-04-19T15:20:58.841843Z"
    },
    "id": "OBVCsrS9dyzT",
    "outputId": "2ca68b13-4026-4f16-a759-70584e02c1a7",
    "papermill": {
     "duration": 0.054022,
     "end_time": "2022-04-19T15:20:58.844924",
     "exception": false,
     "start_time": "2022-04-19T15:20:58.790902",
     "status": "completed"
    },
    "tags": []
   },
   "outputs": [
    {
     "name": "stdout",
     "output_type": "stream",
     "text": [
      "Plot:\n"
     ]
    },
    {
     "data": {
      "text/html": [
       "<div>                            <div id=\"fc296bbe-64e3-4a88-a6c9-1752b78f73ad\" class=\"plotly-graph-div\" style=\"height:525px; width:100%;\"></div>            <script type=\"text/javascript\">                require([\"plotly\"], function(Plotly) {                    window.PLOTLYENV=window.PLOTLYENV || {};                                    if (document.getElementById(\"fc296bbe-64e3-4a88-a6c9-1752b78f73ad\")) {                    Plotly.newPlot(                        \"fc296bbe-64e3-4a88-a6c9-1752b78f73ad\",                        [{\"mode\":\"markers\",\"name\":\"Data\",\"x\":[1,2,3,4,5],\"y\":[3,5,7,9,11],\"type\":\"scatter\"},{\"mode\":\"lines\",\"name\":\"Line of best fit\",\"x\":[1,2,3,4,5],\"y\":[3.2,5.7,8.2,10.7,13.2],\"type\":\"scatter\"}],                        {\"template\":{\"data\":{\"histogram2dcontour\":[{\"type\":\"histogram2dcontour\",\"colorbar\":{\"outlinewidth\":0,\"ticks\":\"\"},\"colorscale\":[[0.0,\"#0d0887\"],[0.1111111111111111,\"#46039f\"],[0.2222222222222222,\"#7201a8\"],[0.3333333333333333,\"#9c179e\"],[0.4444444444444444,\"#bd3786\"],[0.5555555555555556,\"#d8576b\"],[0.6666666666666666,\"#ed7953\"],[0.7777777777777778,\"#fb9f3a\"],[0.8888888888888888,\"#fdca26\"],[1.0,\"#f0f921\"]]}],\"choropleth\":[{\"type\":\"choropleth\",\"colorbar\":{\"outlinewidth\":0,\"ticks\":\"\"}}],\"histogram2d\":[{\"type\":\"histogram2d\",\"colorbar\":{\"outlinewidth\":0,\"ticks\":\"\"},\"colorscale\":[[0.0,\"#0d0887\"],[0.1111111111111111,\"#46039f\"],[0.2222222222222222,\"#7201a8\"],[0.3333333333333333,\"#9c179e\"],[0.4444444444444444,\"#bd3786\"],[0.5555555555555556,\"#d8576b\"],[0.6666666666666666,\"#ed7953\"],[0.7777777777777778,\"#fb9f3a\"],[0.8888888888888888,\"#fdca26\"],[1.0,\"#f0f921\"]]}],\"heatmap\":[{\"type\":\"heatmap\",\"colorbar\":{\"outlinewidth\":0,\"ticks\":\"\"},\"colorscale\":[[0.0,\"#0d0887\"],[0.1111111111111111,\"#46039f\"],[0.2222222222222222,\"#7201a8\"],[0.3333333333333333,\"#9c179e\"],[0.4444444444444444,\"#bd3786\"],[0.5555555555555556,\"#d8576b\"],[0.6666666666666666,\"#ed7953\"],[0.7777777777777778,\"#fb9f3a\"],[0.8888888888888888,\"#fdca26\"],[1.0,\"#f0f921\"]]}],\"heatmapgl\":[{\"type\":\"heatmapgl\",\"colorbar\":{\"outlinewidth\":0,\"ticks\":\"\"},\"colorscale\":[[0.0,\"#0d0887\"],[0.1111111111111111,\"#46039f\"],[0.2222222222222222,\"#7201a8\"],[0.3333333333333333,\"#9c179e\"],[0.4444444444444444,\"#bd3786\"],[0.5555555555555556,\"#d8576b\"],[0.6666666666666666,\"#ed7953\"],[0.7777777777777778,\"#fb9f3a\"],[0.8888888888888888,\"#fdca26\"],[1.0,\"#f0f921\"]]}],\"contourcarpet\":[{\"type\":\"contourcarpet\",\"colorbar\":{\"outlinewidth\":0,\"ticks\":\"\"}}],\"contour\":[{\"type\":\"contour\",\"colorbar\":{\"outlinewidth\":0,\"ticks\":\"\"},\"colorscale\":[[0.0,\"#0d0887\"],[0.1111111111111111,\"#46039f\"],[0.2222222222222222,\"#7201a8\"],[0.3333333333333333,\"#9c179e\"],[0.4444444444444444,\"#bd3786\"],[0.5555555555555556,\"#d8576b\"],[0.6666666666666666,\"#ed7953\"],[0.7777777777777778,\"#fb9f3a\"],[0.8888888888888888,\"#fdca26\"],[1.0,\"#f0f921\"]]}],\"surface\":[{\"type\":\"surface\",\"colorbar\":{\"outlinewidth\":0,\"ticks\":\"\"},\"colorscale\":[[0.0,\"#0d0887\"],[0.1111111111111111,\"#46039f\"],[0.2222222222222222,\"#7201a8\"],[0.3333333333333333,\"#9c179e\"],[0.4444444444444444,\"#bd3786\"],[0.5555555555555556,\"#d8576b\"],[0.6666666666666666,\"#ed7953\"],[0.7777777777777778,\"#fb9f3a\"],[0.8888888888888888,\"#fdca26\"],[1.0,\"#f0f921\"]]}],\"mesh3d\":[{\"type\":\"mesh3d\",\"colorbar\":{\"outlinewidth\":0,\"ticks\":\"\"}}],\"scatter\":[{\"fillpattern\":{\"fillmode\":\"overlay\",\"size\":10,\"solidity\":0.2},\"type\":\"scatter\"}],\"parcoords\":[{\"type\":\"parcoords\",\"line\":{\"colorbar\":{\"outlinewidth\":0,\"ticks\":\"\"}}}],\"scatterpolargl\":[{\"type\":\"scatterpolargl\",\"marker\":{\"colorbar\":{\"outlinewidth\":0,\"ticks\":\"\"}}}],\"bar\":[{\"error_x\":{\"color\":\"#2a3f5f\"},\"error_y\":{\"color\":\"#2a3f5f\"},\"marker\":{\"line\":{\"color\":\"#E5ECF6\",\"width\":0.5},\"pattern\":{\"fillmode\":\"overlay\",\"size\":10,\"solidity\":0.2}},\"type\":\"bar\"}],\"scattergeo\":[{\"type\":\"scattergeo\",\"marker\":{\"colorbar\":{\"outlinewidth\":0,\"ticks\":\"\"}}}],\"scatterpolar\":[{\"type\":\"scatterpolar\",\"marker\":{\"colorbar\":{\"outlinewidth\":0,\"ticks\":\"\"}}}],\"histogram\":[{\"marker\":{\"pattern\":{\"fillmode\":\"overlay\",\"size\":10,\"solidity\":0.2}},\"type\":\"histogram\"}],\"scattergl\":[{\"type\":\"scattergl\",\"marker\":{\"colorbar\":{\"outlinewidth\":0,\"ticks\":\"\"}}}],\"scatter3d\":[{\"type\":\"scatter3d\",\"line\":{\"colorbar\":{\"outlinewidth\":0,\"ticks\":\"\"}},\"marker\":{\"colorbar\":{\"outlinewidth\":0,\"ticks\":\"\"}}}],\"scattermapbox\":[{\"type\":\"scattermapbox\",\"marker\":{\"colorbar\":{\"outlinewidth\":0,\"ticks\":\"\"}}}],\"scatterternary\":[{\"type\":\"scatterternary\",\"marker\":{\"colorbar\":{\"outlinewidth\":0,\"ticks\":\"\"}}}],\"scattercarpet\":[{\"type\":\"scattercarpet\",\"marker\":{\"colorbar\":{\"outlinewidth\":0,\"ticks\":\"\"}}}],\"carpet\":[{\"aaxis\":{\"endlinecolor\":\"#2a3f5f\",\"gridcolor\":\"white\",\"linecolor\":\"white\",\"minorgridcolor\":\"white\",\"startlinecolor\":\"#2a3f5f\"},\"baxis\":{\"endlinecolor\":\"#2a3f5f\",\"gridcolor\":\"white\",\"linecolor\":\"white\",\"minorgridcolor\":\"white\",\"startlinecolor\":\"#2a3f5f\"},\"type\":\"carpet\"}],\"table\":[{\"cells\":{\"fill\":{\"color\":\"#EBF0F8\"},\"line\":{\"color\":\"white\"}},\"header\":{\"fill\":{\"color\":\"#C8D4E3\"},\"line\":{\"color\":\"white\"}},\"type\":\"table\"}],\"barpolar\":[{\"marker\":{\"line\":{\"color\":\"#E5ECF6\",\"width\":0.5},\"pattern\":{\"fillmode\":\"overlay\",\"size\":10,\"solidity\":0.2}},\"type\":\"barpolar\"}],\"pie\":[{\"automargin\":true,\"type\":\"pie\"}]},\"layout\":{\"autotypenumbers\":\"strict\",\"colorway\":[\"#636efa\",\"#EF553B\",\"#00cc96\",\"#ab63fa\",\"#FFA15A\",\"#19d3f3\",\"#FF6692\",\"#B6E880\",\"#FF97FF\",\"#FECB52\"],\"font\":{\"color\":\"#2a3f5f\"},\"hovermode\":\"closest\",\"hoverlabel\":{\"align\":\"left\"},\"paper_bgcolor\":\"white\",\"plot_bgcolor\":\"#E5ECF6\",\"polar\":{\"bgcolor\":\"#E5ECF6\",\"angularaxis\":{\"gridcolor\":\"white\",\"linecolor\":\"white\",\"ticks\":\"\"},\"radialaxis\":{\"gridcolor\":\"white\",\"linecolor\":\"white\",\"ticks\":\"\"}},\"ternary\":{\"bgcolor\":\"#E5ECF6\",\"aaxis\":{\"gridcolor\":\"white\",\"linecolor\":\"white\",\"ticks\":\"\"},\"baxis\":{\"gridcolor\":\"white\",\"linecolor\":\"white\",\"ticks\":\"\"},\"caxis\":{\"gridcolor\":\"white\",\"linecolor\":\"white\",\"ticks\":\"\"}},\"coloraxis\":{\"colorbar\":{\"outlinewidth\":0,\"ticks\":\"\"}},\"colorscale\":{\"sequential\":[[0.0,\"#0d0887\"],[0.1111111111111111,\"#46039f\"],[0.2222222222222222,\"#7201a8\"],[0.3333333333333333,\"#9c179e\"],[0.4444444444444444,\"#bd3786\"],[0.5555555555555556,\"#d8576b\"],[0.6666666666666666,\"#ed7953\"],[0.7777777777777778,\"#fb9f3a\"],[0.8888888888888888,\"#fdca26\"],[1.0,\"#f0f921\"]],\"sequentialminus\":[[0.0,\"#0d0887\"],[0.1111111111111111,\"#46039f\"],[0.2222222222222222,\"#7201a8\"],[0.3333333333333333,\"#9c179e\"],[0.4444444444444444,\"#bd3786\"],[0.5555555555555556,\"#d8576b\"],[0.6666666666666666,\"#ed7953\"],[0.7777777777777778,\"#fb9f3a\"],[0.8888888888888888,\"#fdca26\"],[1.0,\"#f0f921\"]],\"diverging\":[[0,\"#8e0152\"],[0.1,\"#c51b7d\"],[0.2,\"#de77ae\"],[0.3,\"#f1b6da\"],[0.4,\"#fde0ef\"],[0.5,\"#f7f7f7\"],[0.6,\"#e6f5d0\"],[0.7,\"#b8e186\"],[0.8,\"#7fbc41\"],[0.9,\"#4d9221\"],[1,\"#276419\"]]},\"xaxis\":{\"gridcolor\":\"white\",\"linecolor\":\"white\",\"ticks\":\"\",\"title\":{\"standoff\":15},\"zerolinecolor\":\"white\",\"automargin\":true,\"zerolinewidth\":2},\"yaxis\":{\"gridcolor\":\"white\",\"linecolor\":\"white\",\"ticks\":\"\",\"title\":{\"standoff\":15},\"zerolinecolor\":\"white\",\"automargin\":true,\"zerolinewidth\":2},\"scene\":{\"xaxis\":{\"backgroundcolor\":\"#E5ECF6\",\"gridcolor\":\"white\",\"linecolor\":\"white\",\"showbackground\":true,\"ticks\":\"\",\"zerolinecolor\":\"white\",\"gridwidth\":2},\"yaxis\":{\"backgroundcolor\":\"#E5ECF6\",\"gridcolor\":\"white\",\"linecolor\":\"white\",\"showbackground\":true,\"ticks\":\"\",\"zerolinecolor\":\"white\",\"gridwidth\":2},\"zaxis\":{\"backgroundcolor\":\"#E5ECF6\",\"gridcolor\":\"white\",\"linecolor\":\"white\",\"showbackground\":true,\"ticks\":\"\",\"zerolinecolor\":\"white\",\"gridwidth\":2}},\"shapedefaults\":{\"line\":{\"color\":\"#2a3f5f\"}},\"annotationdefaults\":{\"arrowcolor\":\"#2a3f5f\",\"arrowhead\":0,\"arrowwidth\":1},\"geo\":{\"bgcolor\":\"white\",\"landcolor\":\"#E5ECF6\",\"subunitcolor\":\"white\",\"showland\":true,\"showlakes\":true,\"lakecolor\":\"white\"},\"title\":{\"x\":0.05},\"mapbox\":{\"style\":\"light\"}}}},                        {\"responsive\": true}                    ).then(function(){\n",
       "                            \n",
       "var gd = document.getElementById('fc296bbe-64e3-4a88-a6c9-1752b78f73ad');\n",
       "var x = new MutationObserver(function (mutations, observer) {{\n",
       "        var display = window.getComputedStyle(gd).display;\n",
       "        if (!display || display === 'none') {{\n",
       "            console.log([gd, 'removed!']);\n",
       "            Plotly.purge(gd);\n",
       "            observer.disconnect();\n",
       "        }}\n",
       "}});\n",
       "\n",
       "// Listen for the removal of the full notebook cells\n",
       "var notebookContainer = gd.closest('#notebook-container');\n",
       "if (notebookContainer) {{\n",
       "    x.observe(notebookContainer, {childList: true});\n",
       "}}\n",
       "\n",
       "// Listen for the clearing of the current output cell\n",
       "var outputEl = gd.closest('.output');\n",
       "if (outputEl) {{\n",
       "    x.observe(outputEl, {childList: true});\n",
       "}}\n",
       "\n",
       "                        })                };                });            </script>        </div>"
      ]
     },
     "metadata": {},
     "output_type": "display_data"
    },
    {
     "name": "stdout",
     "output_type": "stream",
     "text": [
      "--------------------------------------------------\n",
      "Errors:\n",
      "\n",
      "MSE = 1.94\n",
      "RMSE = 1.39\n",
      "MAE = 1.2\n"
     ]
    }
   ],
   "source": [
    "# Printing the plot and errors.\n",
    "print(\"Plot:\")\n",
    "y_pred = linreg(series = x, slope = 2.5, intercept = 0.7)\n",
    "\n",
    "fig = go.Figure()\n",
    "\n",
    "fig.add_traces(go.Scatter(\n",
    "    x = x,\n",
    "    y=  y,\n",
    "    mode = \"markers\",\n",
    "    name = \"Data\"\n",
    "))\n",
    "\n",
    "fig.add_traces(go.Scatter(\n",
    "    x = x,\n",
    "    y = y_pred,\n",
    "    mode = \"lines\",\n",
    "    name = \"Line of best fit\"\n",
    "))\n",
    "\n",
    "fig.show()\n",
    "\n",
    "errors = y - y_pred\n",
    "\n",
    "mse = round(np.mean((errors)**2), 2)\n",
    "rmse = round(np.sqrt(mse), 2)\n",
    "mae = round(np.mean(np.abs(errors)), 2)\n",
    "\n",
    "print(f\"{'-' * 50}\\nErrors:\\n\")\n",
    "print(f\"MSE = {mse}\")\n",
    "print(f\"RMSE = {rmse}\")\n",
    "print(f\"MAE = {mae}\")"
   ]
  },
  {
   "cell_type": "code",
   "execution_count": 8,
   "id": "bf337eae",
   "metadata": {
    "execution": {
     "iopub.execute_input": "2022-04-19T15:20:58.917732Z",
     "iopub.status.busy": "2022-04-19T15:20:58.917227Z",
     "iopub.status.idle": "2022-04-19T15:20:58.935739Z",
     "shell.execute_reply": "2022-04-19T15:20:58.934268Z"
    },
    "id": "e15ZGDfYiggG",
    "outputId": "6239cb3b-c0ca-41e3-9289-5b994d4f6788",
    "papermill": {
     "duration": 0.056862,
     "end_time": "2022-04-19T15:20:58.937655",
     "exception": false,
     "start_time": "2022-04-19T15:20:58.880793",
     "status": "completed"
    },
    "tags": []
   },
   "outputs": [
    {
     "name": "stdout",
     "output_type": "stream",
     "text": [
      "Plot:\n"
     ]
    },
    {
     "data": {
      "text/html": [
       "<div>                            <div id=\"3abc2887-aa13-49ac-8ba7-e485ba923a6d\" class=\"plotly-graph-div\" style=\"height:525px; width:100%;\"></div>            <script type=\"text/javascript\">                require([\"plotly\"], function(Plotly) {                    window.PLOTLYENV=window.PLOTLYENV || {};                                    if (document.getElementById(\"3abc2887-aa13-49ac-8ba7-e485ba923a6d\")) {                    Plotly.newPlot(                        \"3abc2887-aa13-49ac-8ba7-e485ba923a6d\",                        [{\"mode\":\"markers\",\"name\":\"Data\",\"x\":[1,2,3,4,5],\"y\":[3,5,7,9,11],\"type\":\"scatter\"},{\"mode\":\"lines\",\"name\":\"Line of best fit\",\"x\":[1,2,3,4,5],\"y\":[2.6,4.6,6.6,8.6,10.6],\"type\":\"scatter\"}],                        {\"template\":{\"data\":{\"histogram2dcontour\":[{\"type\":\"histogram2dcontour\",\"colorbar\":{\"outlinewidth\":0,\"ticks\":\"\"},\"colorscale\":[[0.0,\"#0d0887\"],[0.1111111111111111,\"#46039f\"],[0.2222222222222222,\"#7201a8\"],[0.3333333333333333,\"#9c179e\"],[0.4444444444444444,\"#bd3786\"],[0.5555555555555556,\"#d8576b\"],[0.6666666666666666,\"#ed7953\"],[0.7777777777777778,\"#fb9f3a\"],[0.8888888888888888,\"#fdca26\"],[1.0,\"#f0f921\"]]}],\"choropleth\":[{\"type\":\"choropleth\",\"colorbar\":{\"outlinewidth\":0,\"ticks\":\"\"}}],\"histogram2d\":[{\"type\":\"histogram2d\",\"colorbar\":{\"outlinewidth\":0,\"ticks\":\"\"},\"colorscale\":[[0.0,\"#0d0887\"],[0.1111111111111111,\"#46039f\"],[0.2222222222222222,\"#7201a8\"],[0.3333333333333333,\"#9c179e\"],[0.4444444444444444,\"#bd3786\"],[0.5555555555555556,\"#d8576b\"],[0.6666666666666666,\"#ed7953\"],[0.7777777777777778,\"#fb9f3a\"],[0.8888888888888888,\"#fdca26\"],[1.0,\"#f0f921\"]]}],\"heatmap\":[{\"type\":\"heatmap\",\"colorbar\":{\"outlinewidth\":0,\"ticks\":\"\"},\"colorscale\":[[0.0,\"#0d0887\"],[0.1111111111111111,\"#46039f\"],[0.2222222222222222,\"#7201a8\"],[0.3333333333333333,\"#9c179e\"],[0.4444444444444444,\"#bd3786\"],[0.5555555555555556,\"#d8576b\"],[0.6666666666666666,\"#ed7953\"],[0.7777777777777778,\"#fb9f3a\"],[0.8888888888888888,\"#fdca26\"],[1.0,\"#f0f921\"]]}],\"heatmapgl\":[{\"type\":\"heatmapgl\",\"colorbar\":{\"outlinewidth\":0,\"ticks\":\"\"},\"colorscale\":[[0.0,\"#0d0887\"],[0.1111111111111111,\"#46039f\"],[0.2222222222222222,\"#7201a8\"],[0.3333333333333333,\"#9c179e\"],[0.4444444444444444,\"#bd3786\"],[0.5555555555555556,\"#d8576b\"],[0.6666666666666666,\"#ed7953\"],[0.7777777777777778,\"#fb9f3a\"],[0.8888888888888888,\"#fdca26\"],[1.0,\"#f0f921\"]]}],\"contourcarpet\":[{\"type\":\"contourcarpet\",\"colorbar\":{\"outlinewidth\":0,\"ticks\":\"\"}}],\"contour\":[{\"type\":\"contour\",\"colorbar\":{\"outlinewidth\":0,\"ticks\":\"\"},\"colorscale\":[[0.0,\"#0d0887\"],[0.1111111111111111,\"#46039f\"],[0.2222222222222222,\"#7201a8\"],[0.3333333333333333,\"#9c179e\"],[0.4444444444444444,\"#bd3786\"],[0.5555555555555556,\"#d8576b\"],[0.6666666666666666,\"#ed7953\"],[0.7777777777777778,\"#fb9f3a\"],[0.8888888888888888,\"#fdca26\"],[1.0,\"#f0f921\"]]}],\"surface\":[{\"type\":\"surface\",\"colorbar\":{\"outlinewidth\":0,\"ticks\":\"\"},\"colorscale\":[[0.0,\"#0d0887\"],[0.1111111111111111,\"#46039f\"],[0.2222222222222222,\"#7201a8\"],[0.3333333333333333,\"#9c179e\"],[0.4444444444444444,\"#bd3786\"],[0.5555555555555556,\"#d8576b\"],[0.6666666666666666,\"#ed7953\"],[0.7777777777777778,\"#fb9f3a\"],[0.8888888888888888,\"#fdca26\"],[1.0,\"#f0f921\"]]}],\"mesh3d\":[{\"type\":\"mesh3d\",\"colorbar\":{\"outlinewidth\":0,\"ticks\":\"\"}}],\"scatter\":[{\"fillpattern\":{\"fillmode\":\"overlay\",\"size\":10,\"solidity\":0.2},\"type\":\"scatter\"}],\"parcoords\":[{\"type\":\"parcoords\",\"line\":{\"colorbar\":{\"outlinewidth\":0,\"ticks\":\"\"}}}],\"scatterpolargl\":[{\"type\":\"scatterpolargl\",\"marker\":{\"colorbar\":{\"outlinewidth\":0,\"ticks\":\"\"}}}],\"bar\":[{\"error_x\":{\"color\":\"#2a3f5f\"},\"error_y\":{\"color\":\"#2a3f5f\"},\"marker\":{\"line\":{\"color\":\"#E5ECF6\",\"width\":0.5},\"pattern\":{\"fillmode\":\"overlay\",\"size\":10,\"solidity\":0.2}},\"type\":\"bar\"}],\"scattergeo\":[{\"type\":\"scattergeo\",\"marker\":{\"colorbar\":{\"outlinewidth\":0,\"ticks\":\"\"}}}],\"scatterpolar\":[{\"type\":\"scatterpolar\",\"marker\":{\"colorbar\":{\"outlinewidth\":0,\"ticks\":\"\"}}}],\"histogram\":[{\"marker\":{\"pattern\":{\"fillmode\":\"overlay\",\"size\":10,\"solidity\":0.2}},\"type\":\"histogram\"}],\"scattergl\":[{\"type\":\"scattergl\",\"marker\":{\"colorbar\":{\"outlinewidth\":0,\"ticks\":\"\"}}}],\"scatter3d\":[{\"type\":\"scatter3d\",\"line\":{\"colorbar\":{\"outlinewidth\":0,\"ticks\":\"\"}},\"marker\":{\"colorbar\":{\"outlinewidth\":0,\"ticks\":\"\"}}}],\"scattermapbox\":[{\"type\":\"scattermapbox\",\"marker\":{\"colorbar\":{\"outlinewidth\":0,\"ticks\":\"\"}}}],\"scatterternary\":[{\"type\":\"scatterternary\",\"marker\":{\"colorbar\":{\"outlinewidth\":0,\"ticks\":\"\"}}}],\"scattercarpet\":[{\"type\":\"scattercarpet\",\"marker\":{\"colorbar\":{\"outlinewidth\":0,\"ticks\":\"\"}}}],\"carpet\":[{\"aaxis\":{\"endlinecolor\":\"#2a3f5f\",\"gridcolor\":\"white\",\"linecolor\":\"white\",\"minorgridcolor\":\"white\",\"startlinecolor\":\"#2a3f5f\"},\"baxis\":{\"endlinecolor\":\"#2a3f5f\",\"gridcolor\":\"white\",\"linecolor\":\"white\",\"minorgridcolor\":\"white\",\"startlinecolor\":\"#2a3f5f\"},\"type\":\"carpet\"}],\"table\":[{\"cells\":{\"fill\":{\"color\":\"#EBF0F8\"},\"line\":{\"color\":\"white\"}},\"header\":{\"fill\":{\"color\":\"#C8D4E3\"},\"line\":{\"color\":\"white\"}},\"type\":\"table\"}],\"barpolar\":[{\"marker\":{\"line\":{\"color\":\"#E5ECF6\",\"width\":0.5},\"pattern\":{\"fillmode\":\"overlay\",\"size\":10,\"solidity\":0.2}},\"type\":\"barpolar\"}],\"pie\":[{\"automargin\":true,\"type\":\"pie\"}]},\"layout\":{\"autotypenumbers\":\"strict\",\"colorway\":[\"#636efa\",\"#EF553B\",\"#00cc96\",\"#ab63fa\",\"#FFA15A\",\"#19d3f3\",\"#FF6692\",\"#B6E880\",\"#FF97FF\",\"#FECB52\"],\"font\":{\"color\":\"#2a3f5f\"},\"hovermode\":\"closest\",\"hoverlabel\":{\"align\":\"left\"},\"paper_bgcolor\":\"white\",\"plot_bgcolor\":\"#E5ECF6\",\"polar\":{\"bgcolor\":\"#E5ECF6\",\"angularaxis\":{\"gridcolor\":\"white\",\"linecolor\":\"white\",\"ticks\":\"\"},\"radialaxis\":{\"gridcolor\":\"white\",\"linecolor\":\"white\",\"ticks\":\"\"}},\"ternary\":{\"bgcolor\":\"#E5ECF6\",\"aaxis\":{\"gridcolor\":\"white\",\"linecolor\":\"white\",\"ticks\":\"\"},\"baxis\":{\"gridcolor\":\"white\",\"linecolor\":\"white\",\"ticks\":\"\"},\"caxis\":{\"gridcolor\":\"white\",\"linecolor\":\"white\",\"ticks\":\"\"}},\"coloraxis\":{\"colorbar\":{\"outlinewidth\":0,\"ticks\":\"\"}},\"colorscale\":{\"sequential\":[[0.0,\"#0d0887\"],[0.1111111111111111,\"#46039f\"],[0.2222222222222222,\"#7201a8\"],[0.3333333333333333,\"#9c179e\"],[0.4444444444444444,\"#bd3786\"],[0.5555555555555556,\"#d8576b\"],[0.6666666666666666,\"#ed7953\"],[0.7777777777777778,\"#fb9f3a\"],[0.8888888888888888,\"#fdca26\"],[1.0,\"#f0f921\"]],\"sequentialminus\":[[0.0,\"#0d0887\"],[0.1111111111111111,\"#46039f\"],[0.2222222222222222,\"#7201a8\"],[0.3333333333333333,\"#9c179e\"],[0.4444444444444444,\"#bd3786\"],[0.5555555555555556,\"#d8576b\"],[0.6666666666666666,\"#ed7953\"],[0.7777777777777778,\"#fb9f3a\"],[0.8888888888888888,\"#fdca26\"],[1.0,\"#f0f921\"]],\"diverging\":[[0,\"#8e0152\"],[0.1,\"#c51b7d\"],[0.2,\"#de77ae\"],[0.3,\"#f1b6da\"],[0.4,\"#fde0ef\"],[0.5,\"#f7f7f7\"],[0.6,\"#e6f5d0\"],[0.7,\"#b8e186\"],[0.8,\"#7fbc41\"],[0.9,\"#4d9221\"],[1,\"#276419\"]]},\"xaxis\":{\"gridcolor\":\"white\",\"linecolor\":\"white\",\"ticks\":\"\",\"title\":{\"standoff\":15},\"zerolinecolor\":\"white\",\"automargin\":true,\"zerolinewidth\":2},\"yaxis\":{\"gridcolor\":\"white\",\"linecolor\":\"white\",\"ticks\":\"\",\"title\":{\"standoff\":15},\"zerolinecolor\":\"white\",\"automargin\":true,\"zerolinewidth\":2},\"scene\":{\"xaxis\":{\"backgroundcolor\":\"#E5ECF6\",\"gridcolor\":\"white\",\"linecolor\":\"white\",\"showbackground\":true,\"ticks\":\"\",\"zerolinecolor\":\"white\",\"gridwidth\":2},\"yaxis\":{\"backgroundcolor\":\"#E5ECF6\",\"gridcolor\":\"white\",\"linecolor\":\"white\",\"showbackground\":true,\"ticks\":\"\",\"zerolinecolor\":\"white\",\"gridwidth\":2},\"zaxis\":{\"backgroundcolor\":\"#E5ECF6\",\"gridcolor\":\"white\",\"linecolor\":\"white\",\"showbackground\":true,\"ticks\":\"\",\"zerolinecolor\":\"white\",\"gridwidth\":2}},\"shapedefaults\":{\"line\":{\"color\":\"#2a3f5f\"}},\"annotationdefaults\":{\"arrowcolor\":\"#2a3f5f\",\"arrowhead\":0,\"arrowwidth\":1},\"geo\":{\"bgcolor\":\"white\",\"landcolor\":\"#E5ECF6\",\"subunitcolor\":\"white\",\"showland\":true,\"showlakes\":true,\"lakecolor\":\"white\"},\"title\":{\"x\":0.05},\"mapbox\":{\"style\":\"light\"}}}},                        {\"responsive\": true}                    ).then(function(){\n",
       "                            \n",
       "var gd = document.getElementById('3abc2887-aa13-49ac-8ba7-e485ba923a6d');\n",
       "var x = new MutationObserver(function (mutations, observer) {{\n",
       "        var display = window.getComputedStyle(gd).display;\n",
       "        if (!display || display === 'none') {{\n",
       "            console.log([gd, 'removed!']);\n",
       "            Plotly.purge(gd);\n",
       "            observer.disconnect();\n",
       "        }}\n",
       "}});\n",
       "\n",
       "// Listen for the removal of the full notebook cells\n",
       "var notebookContainer = gd.closest('#notebook-container');\n",
       "if (notebookContainer) {{\n",
       "    x.observe(notebookContainer, {childList: true});\n",
       "}}\n",
       "\n",
       "// Listen for the clearing of the current output cell\n",
       "var outputEl = gd.closest('.output');\n",
       "if (outputEl) {{\n",
       "    x.observe(outputEl, {childList: true});\n",
       "}}\n",
       "\n",
       "                        })                };                });            </script>        </div>"
      ]
     },
     "metadata": {},
     "output_type": "display_data"
    },
    {
     "name": "stdout",
     "output_type": "stream",
     "text": [
      "--------------------------------------------------\n",
      "Errors:\n",
      "\n",
      "MSE = 0.16\n",
      "RMSE = 0.4\n",
      "MAE = 0.4\n"
     ]
    }
   ],
   "source": [
    "# Printing the plot and errors.\n",
    "print(\"Plot:\")\n",
    "y_pred = linreg(series = x, slope = 2, intercept = 0.6)\n",
    "\n",
    "fig = go.Figure()\n",
    "\n",
    "fig.add_traces(go.Scatter(\n",
    "    x = x,\n",
    "    y=  y,\n",
    "    mode = \"markers\",\n",
    "    name = \"Data\"\n",
    "))\n",
    "\n",
    "fig.add_traces(go.Scatter(\n",
    "    x = x,\n",
    "    y = y_pred,\n",
    "    mode = \"lines\",\n",
    "    name = \"Line of best fit\"\n",
    "))\n",
    "\n",
    "fig.show()\n",
    "\n",
    "errors = y - y_pred\n",
    "\n",
    "mse = round(np.mean((errors)**2), 2)\n",
    "rmse = round(np.sqrt(mse), 2)\n",
    "mae = round(np.mean(np.abs(errors)), 2)\n",
    "\n",
    "print(f\"{'-' * 50}\\nErrors:\\n\")\n",
    "print(f\"MSE = {mse}\")\n",
    "print(f\"RMSE = {rmse}\")\n",
    "print(f\"MAE = {mae}\")"
   ]
  },
  {
   "cell_type": "markdown",
   "id": "796b7f3c",
   "metadata": {
    "id": "q6MYRQlXjEci",
    "papermill": {
     "duration": 0.037093,
     "end_time": "2022-04-19T15:20:59.011957",
     "exception": false,
     "start_time": "2022-04-19T15:20:58.974864",
     "status": "completed"
    },
    "tags": []
   },
   "source": [
    "With these two tries we were able to get a little better error values, but not enough to say that our predictions are accurate.\n",
    "\n",
    "So what should we do now???\n",
    "\n",
    "---"
   ]
  },
  {
   "cell_type": "markdown",
   "id": "b91c6b26",
   "metadata": {
    "id": "8cYAQjZakUGn",
    "papermill": {
     "duration": 0.036479,
     "end_time": "2022-04-19T15:20:59.087407",
     "exception": false,
     "start_time": "2022-04-19T15:20:59.050928",
     "status": "completed"
    },
    "tags": []
   },
   "source": [
    "###***Cost Function***\n",
    "\n",
    "A cost function is a formula that is used to calculate the **cost (errors/loss)** for certain values of the original function.\n",
    "\n",
    "In simple terms, a cost function just measures the errors in our prediction.\n",
    "\n",
    "Sometimes the **Cost Function** is also called as **Loss Function**.\n",
    "\n",
    "In our case the **Cost Function** is the **MSE** itself. You can take the Cost Function as RMSE or MAE too, but I am going with MSE because it amplifies the errors a bit by squaring them.\n",
    "\n",
    "$$J(\\beta_0, \\beta_1) = \\frac{\\sum_{i = 1}^{n}E(\\beta_{0}, \\beta_1)}{n}$$\n",
    "\\\n",
    "For highest possible accuracy we want to minimize the cost function *$J(\\beta_0, \\beta_1)$*.\n",
    "\n",
    "$$J(\\beta_0, \\beta_1) ≈ 0$$"
   ]
  },
  {
   "cell_type": "markdown",
   "id": "e0e80815",
   "metadata": {
    "id": "gme9KBbYsU91",
    "papermill": {
     "duration": 0.036745,
     "end_time": "2022-04-19T15:20:59.161043",
     "exception": false,
     "start_time": "2022-04-19T15:20:59.124298",
     "status": "completed"
    },
    "tags": []
   },
   "source": [
    "##**Gradient Descent**\n",
    "\n",
    "Let's take each formula as a mathematical function-\n",
    "\n",
    "1. Function for predicted values.\n",
    "$$L(\\beta_{0}, \\beta_1) = \\beta_{1} + \\beta_{1} x_{1}$$\n",
    "\n",
    "2. Function for errors.\n",
    "$$E(\\beta_{0}, \\beta_1) = (\\hat{y_{i}} - L(\\beta_{0}, \\beta_1))^2$$\n",
    "\\\n",
    "$$⇒ E(\\beta_{0}, \\beta_1) = (\\hat{y_{i}} - (\\beta_{0} + \\beta_{1} x_{1}))^2$$\n",
    "$$⇒ E(\\beta_{0}, \\beta_1) = (\\hat{y_{i}} - \\beta_{0} - \\beta_{1} x_{1})^2$$\n",
    "\n",
    "3. Function for Cost Function.\n",
    "$$J(\\beta_0, \\beta_1) = \\frac{\\sum_{i = 1}^{n}E(\\beta_{0}, \\beta_1)}{n}$$\n",
    "\\\n",
    "$$⇒ J(\\beta_0, \\beta_1) = \\frac{\\sum_{i = 1}^{n}(\\hat{y_{i}} - (\\beta_{0} + \\beta_{1} x_{1}))^2}{n}$$\n",
    "\\\n",
    "$$⇒ J(\\beta_0, \\beta_1) = \\frac{\\sum_{i = 1}^{n}(\\hat{y_{i}} - \\beta_{0} - \\beta_{1} x_{1})^2}{n}$$\n",
    "\\\n",
    "$$\\therefore J(\\beta_0, \\beta_1) = \\frac{\\sum_{i = 1}^{n}(\\hat{y_{i}} - \\beta_{0} - \\beta_{1} x_{1})^2}{n}$$\n",
    "\n",
    "\n",
    "For the highest accuracy possible we want $J(β0, β1) ≈ 0$.\n",
    "\\"
   ]
  },
  {
   "cell_type": "markdown",
   "id": "f8d4cb31",
   "metadata": {
    "id": "c_ETMA6g9bRJ",
    "papermill": {
     "duration": 0.035996,
     "end_time": "2022-04-19T15:20:59.236259",
     "exception": false,
     "start_time": "2022-04-19T15:20:59.200263",
     "status": "completed"
    },
    "tags": []
   },
   "source": [
    "###***Graphs***\n",
    "\n",
    "Let's plot **$\\beta_0$ vs $J(\\beta_0, \\beta_1)$** and **$\\beta_1$ vs $J(\\beta_0, \\beta_1)$** graphs."
   ]
  },
  {
   "cell_type": "code",
   "execution_count": 9,
   "id": "cfdc22c6",
   "metadata": {
    "execution": {
     "iopub.execute_input": "2022-04-19T15:20:59.310806Z",
     "iopub.status.busy": "2022-04-19T15:20:59.310320Z",
     "iopub.status.idle": "2022-04-19T15:20:59.356267Z",
     "shell.execute_reply": "2022-04-19T15:20:59.355135Z"
    },
    "id": "Z3MexcQUqFIx",
    "outputId": "8a7b4efd-1c37-455c-e958-cebdd6d694a0",
    "papermill": {
     "duration": 0.086108,
     "end_time": "2022-04-19T15:20:59.358811",
     "exception": false,
     "start_time": "2022-04-19T15:20:59.272703",
     "status": "completed"
    },
    "tags": []
   },
   "outputs": [
    {
     "data": {
      "text/html": [
       "<div>                            <div id=\"2e119b48-a3d4-4076-b32b-389f780a1079\" class=\"plotly-graph-div\" style=\"height:525px; width:100%;\"></div>            <script type=\"text/javascript\">                require([\"plotly\"], function(Plotly) {                    window.PLOTLYENV=window.PLOTLYENV || {};                                    if (document.getElementById(\"2e119b48-a3d4-4076-b32b-389f780a1079\")) {                    Plotly.newPlot(                        \"2e119b48-a3d4-4076-b32b-389f780a1079\",                        [{\"mode\":\"lines\",\"x\":[-0.55,-0.5343434343434343,-0.5186868686868688,-0.503030303030303,-0.4873737373737374,-0.47171717171717176,-0.4560606060606061,-0.44040404040404046,-0.42474747474747476,-0.40909090909090917,-0.39343434343434347,-0.3777777777777778,-0.3621212121212122,-0.3464646464646465,-0.3308080808080809,-0.3151515151515152,-0.29949494949494954,-0.2838383838383839,-0.26818181818181824,-0.25252525252525254,-0.2368686868686869,-0.22121212121212125,-0.2055555555555556,-0.18989898989898996,-0.1742424242424243,-0.1585858585858586,-0.14292929292929296,-0.12727272727272732,-0.11161616161616167,-0.09595959595959602,-0.08030303030303032,-0.06464646464646467,-0.04898989898989903,-0.033333333333333326,-0.017676767676767735,-0.002020202020202033,0.013636363636363558,0.02929292929292926,0.04494949494949496,0.06060606060606055,0.07626262626262625,0.09191919191919184,0.10757575757575755,0.12323232323232325,0.13888888888888884,0.15454545454545454,0.17020202020202013,0.18585858585858583,0.20151515151515142,0.21717171717171713,0.23282828282828283,0.24848484848484842,0.2641414141414141,0.2797979797979797,0.2954545454545454,0.3111111111111111,0.3267676767676767,0.3424242424242424,0.358080808080808,0.3737373737373737,0.3893939393939394,0.405050505050505,0.4207070707070707,0.4363636363636363,0.452020202020202,0.4676767676767677,0.4833333333333334,0.4989898989898989,0.5146464646464646,0.5303030303030303,0.545959595959596,0.5616161616161617,0.5772727272727272,0.5929292929292929,0.6085858585858586,0.6242424242424243,0.63989898989899,0.6555555555555554,0.6712121212121211,0.6868686868686869,0.7025252525252526,0.7181818181818183,0.7338383838383837,0.7494949494949494,0.7651515151515151,0.7808080808080808,0.7964646464646465,0.812121212121212,0.8277777777777777,0.8434343434343434,0.8590909090909091,0.8747474747474748,0.8904040404040403,0.906060606060606,0.9217171717171717,0.9373737373737374,0.9530303030303029,0.9686868686868686,0.9843434343434343,1.0],\"y\":[1145.33,1091.67,1039.31,988.24,938.47,889.99,842.81,796.93,752.34,709.05,667.05,626.35,586.94,548.83,512.01,476.49,442.27,409.34,377.71,347.37,318.33,290.58,264.13,238.98,215.12,192.55,171.28,151.31,132.63,115.25,99.16,84.37,70.88,58.68,47.77,38.17,29.85,22.84,17.11,12.69,9.56,7.72,7.18,7.94,9.99,13.34,17.98,23.92,31.15,39.68,49.51,60.63,73.04,86.75,101.76,118.06,135.66,154.56,174.75,196.23,219.01,243.09,268.46,295.13,323.09,352.35,382.9,414.75,447.9,482.34,518.07,555.11,593.43,633.06,673.98,716.19,759.7,804.51,850.61,898.0,946.69,996.68,1047.97,1100.54,1154.42,1209.59,1266.05,1323.81,1382.87,1443.22,1504.87,1567.81,1632.05,1697.59,1764.42,1832.54,1901.96,1972.68,2044.69,2118.0],\"type\":\"scatter\"}],                        {\"template\":{\"data\":{\"histogram2dcontour\":[{\"type\":\"histogram2dcontour\",\"colorbar\":{\"outlinewidth\":0,\"ticks\":\"\"},\"colorscale\":[[0.0,\"#0d0887\"],[0.1111111111111111,\"#46039f\"],[0.2222222222222222,\"#7201a8\"],[0.3333333333333333,\"#9c179e\"],[0.4444444444444444,\"#bd3786\"],[0.5555555555555556,\"#d8576b\"],[0.6666666666666666,\"#ed7953\"],[0.7777777777777778,\"#fb9f3a\"],[0.8888888888888888,\"#fdca26\"],[1.0,\"#f0f921\"]]}],\"choropleth\":[{\"type\":\"choropleth\",\"colorbar\":{\"outlinewidth\":0,\"ticks\":\"\"}}],\"histogram2d\":[{\"type\":\"histogram2d\",\"colorbar\":{\"outlinewidth\":0,\"ticks\":\"\"},\"colorscale\":[[0.0,\"#0d0887\"],[0.1111111111111111,\"#46039f\"],[0.2222222222222222,\"#7201a8\"],[0.3333333333333333,\"#9c179e\"],[0.4444444444444444,\"#bd3786\"],[0.5555555555555556,\"#d8576b\"],[0.6666666666666666,\"#ed7953\"],[0.7777777777777778,\"#fb9f3a\"],[0.8888888888888888,\"#fdca26\"],[1.0,\"#f0f921\"]]}],\"heatmap\":[{\"type\":\"heatmap\",\"colorbar\":{\"outlinewidth\":0,\"ticks\":\"\"},\"colorscale\":[[0.0,\"#0d0887\"],[0.1111111111111111,\"#46039f\"],[0.2222222222222222,\"#7201a8\"],[0.3333333333333333,\"#9c179e\"],[0.4444444444444444,\"#bd3786\"],[0.5555555555555556,\"#d8576b\"],[0.6666666666666666,\"#ed7953\"],[0.7777777777777778,\"#fb9f3a\"],[0.8888888888888888,\"#fdca26\"],[1.0,\"#f0f921\"]]}],\"heatmapgl\":[{\"type\":\"heatmapgl\",\"colorbar\":{\"outlinewidth\":0,\"ticks\":\"\"},\"colorscale\":[[0.0,\"#0d0887\"],[0.1111111111111111,\"#46039f\"],[0.2222222222222222,\"#7201a8\"],[0.3333333333333333,\"#9c179e\"],[0.4444444444444444,\"#bd3786\"],[0.5555555555555556,\"#d8576b\"],[0.6666666666666666,\"#ed7953\"],[0.7777777777777778,\"#fb9f3a\"],[0.8888888888888888,\"#fdca26\"],[1.0,\"#f0f921\"]]}],\"contourcarpet\":[{\"type\":\"contourcarpet\",\"colorbar\":{\"outlinewidth\":0,\"ticks\":\"\"}}],\"contour\":[{\"type\":\"contour\",\"colorbar\":{\"outlinewidth\":0,\"ticks\":\"\"},\"colorscale\":[[0.0,\"#0d0887\"],[0.1111111111111111,\"#46039f\"],[0.2222222222222222,\"#7201a8\"],[0.3333333333333333,\"#9c179e\"],[0.4444444444444444,\"#bd3786\"],[0.5555555555555556,\"#d8576b\"],[0.6666666666666666,\"#ed7953\"],[0.7777777777777778,\"#fb9f3a\"],[0.8888888888888888,\"#fdca26\"],[1.0,\"#f0f921\"]]}],\"surface\":[{\"type\":\"surface\",\"colorbar\":{\"outlinewidth\":0,\"ticks\":\"\"},\"colorscale\":[[0.0,\"#0d0887\"],[0.1111111111111111,\"#46039f\"],[0.2222222222222222,\"#7201a8\"],[0.3333333333333333,\"#9c179e\"],[0.4444444444444444,\"#bd3786\"],[0.5555555555555556,\"#d8576b\"],[0.6666666666666666,\"#ed7953\"],[0.7777777777777778,\"#fb9f3a\"],[0.8888888888888888,\"#fdca26\"],[1.0,\"#f0f921\"]]}],\"mesh3d\":[{\"type\":\"mesh3d\",\"colorbar\":{\"outlinewidth\":0,\"ticks\":\"\"}}],\"scatter\":[{\"fillpattern\":{\"fillmode\":\"overlay\",\"size\":10,\"solidity\":0.2},\"type\":\"scatter\"}],\"parcoords\":[{\"type\":\"parcoords\",\"line\":{\"colorbar\":{\"outlinewidth\":0,\"ticks\":\"\"}}}],\"scatterpolargl\":[{\"type\":\"scatterpolargl\",\"marker\":{\"colorbar\":{\"outlinewidth\":0,\"ticks\":\"\"}}}],\"bar\":[{\"error_x\":{\"color\":\"#2a3f5f\"},\"error_y\":{\"color\":\"#2a3f5f\"},\"marker\":{\"line\":{\"color\":\"#E5ECF6\",\"width\":0.5},\"pattern\":{\"fillmode\":\"overlay\",\"size\":10,\"solidity\":0.2}},\"type\":\"bar\"}],\"scattergeo\":[{\"type\":\"scattergeo\",\"marker\":{\"colorbar\":{\"outlinewidth\":0,\"ticks\":\"\"}}}],\"scatterpolar\":[{\"type\":\"scatterpolar\",\"marker\":{\"colorbar\":{\"outlinewidth\":0,\"ticks\":\"\"}}}],\"histogram\":[{\"marker\":{\"pattern\":{\"fillmode\":\"overlay\",\"size\":10,\"solidity\":0.2}},\"type\":\"histogram\"}],\"scattergl\":[{\"type\":\"scattergl\",\"marker\":{\"colorbar\":{\"outlinewidth\":0,\"ticks\":\"\"}}}],\"scatter3d\":[{\"type\":\"scatter3d\",\"line\":{\"colorbar\":{\"outlinewidth\":0,\"ticks\":\"\"}},\"marker\":{\"colorbar\":{\"outlinewidth\":0,\"ticks\":\"\"}}}],\"scattermapbox\":[{\"type\":\"scattermapbox\",\"marker\":{\"colorbar\":{\"outlinewidth\":0,\"ticks\":\"\"}}}],\"scatterternary\":[{\"type\":\"scatterternary\",\"marker\":{\"colorbar\":{\"outlinewidth\":0,\"ticks\":\"\"}}}],\"scattercarpet\":[{\"type\":\"scattercarpet\",\"marker\":{\"colorbar\":{\"outlinewidth\":0,\"ticks\":\"\"}}}],\"carpet\":[{\"aaxis\":{\"endlinecolor\":\"#2a3f5f\",\"gridcolor\":\"white\",\"linecolor\":\"white\",\"minorgridcolor\":\"white\",\"startlinecolor\":\"#2a3f5f\"},\"baxis\":{\"endlinecolor\":\"#2a3f5f\",\"gridcolor\":\"white\",\"linecolor\":\"white\",\"minorgridcolor\":\"white\",\"startlinecolor\":\"#2a3f5f\"},\"type\":\"carpet\"}],\"table\":[{\"cells\":{\"fill\":{\"color\":\"#EBF0F8\"},\"line\":{\"color\":\"white\"}},\"header\":{\"fill\":{\"color\":\"#C8D4E3\"},\"line\":{\"color\":\"white\"}},\"type\":\"table\"}],\"barpolar\":[{\"marker\":{\"line\":{\"color\":\"#E5ECF6\",\"width\":0.5},\"pattern\":{\"fillmode\":\"overlay\",\"size\":10,\"solidity\":0.2}},\"type\":\"barpolar\"}],\"pie\":[{\"automargin\":true,\"type\":\"pie\"}]},\"layout\":{\"autotypenumbers\":\"strict\",\"colorway\":[\"#636efa\",\"#EF553B\",\"#00cc96\",\"#ab63fa\",\"#FFA15A\",\"#19d3f3\",\"#FF6692\",\"#B6E880\",\"#FF97FF\",\"#FECB52\"],\"font\":{\"color\":\"#2a3f5f\"},\"hovermode\":\"closest\",\"hoverlabel\":{\"align\":\"left\"},\"paper_bgcolor\":\"white\",\"plot_bgcolor\":\"#E5ECF6\",\"polar\":{\"bgcolor\":\"#E5ECF6\",\"angularaxis\":{\"gridcolor\":\"white\",\"linecolor\":\"white\",\"ticks\":\"\"},\"radialaxis\":{\"gridcolor\":\"white\",\"linecolor\":\"white\",\"ticks\":\"\"}},\"ternary\":{\"bgcolor\":\"#E5ECF6\",\"aaxis\":{\"gridcolor\":\"white\",\"linecolor\":\"white\",\"ticks\":\"\"},\"baxis\":{\"gridcolor\":\"white\",\"linecolor\":\"white\",\"ticks\":\"\"},\"caxis\":{\"gridcolor\":\"white\",\"linecolor\":\"white\",\"ticks\":\"\"}},\"coloraxis\":{\"colorbar\":{\"outlinewidth\":0,\"ticks\":\"\"}},\"colorscale\":{\"sequential\":[[0.0,\"#0d0887\"],[0.1111111111111111,\"#46039f\"],[0.2222222222222222,\"#7201a8\"],[0.3333333333333333,\"#9c179e\"],[0.4444444444444444,\"#bd3786\"],[0.5555555555555556,\"#d8576b\"],[0.6666666666666666,\"#ed7953\"],[0.7777777777777778,\"#fb9f3a\"],[0.8888888888888888,\"#fdca26\"],[1.0,\"#f0f921\"]],\"sequentialminus\":[[0.0,\"#0d0887\"],[0.1111111111111111,\"#46039f\"],[0.2222222222222222,\"#7201a8\"],[0.3333333333333333,\"#9c179e\"],[0.4444444444444444,\"#bd3786\"],[0.5555555555555556,\"#d8576b\"],[0.6666666666666666,\"#ed7953\"],[0.7777777777777778,\"#fb9f3a\"],[0.8888888888888888,\"#fdca26\"],[1.0,\"#f0f921\"]],\"diverging\":[[0,\"#8e0152\"],[0.1,\"#c51b7d\"],[0.2,\"#de77ae\"],[0.3,\"#f1b6da\"],[0.4,\"#fde0ef\"],[0.5,\"#f7f7f7\"],[0.6,\"#e6f5d0\"],[0.7,\"#b8e186\"],[0.8,\"#7fbc41\"],[0.9,\"#4d9221\"],[1,\"#276419\"]]},\"xaxis\":{\"gridcolor\":\"white\",\"linecolor\":\"white\",\"ticks\":\"\",\"title\":{\"standoff\":15},\"zerolinecolor\":\"white\",\"automargin\":true,\"zerolinewidth\":2},\"yaxis\":{\"gridcolor\":\"white\",\"linecolor\":\"white\",\"ticks\":\"\",\"title\":{\"standoff\":15},\"zerolinecolor\":\"white\",\"automargin\":true,\"zerolinewidth\":2},\"scene\":{\"xaxis\":{\"backgroundcolor\":\"#E5ECF6\",\"gridcolor\":\"white\",\"linecolor\":\"white\",\"showbackground\":true,\"ticks\":\"\",\"zerolinecolor\":\"white\",\"gridwidth\":2},\"yaxis\":{\"backgroundcolor\":\"#E5ECF6\",\"gridcolor\":\"white\",\"linecolor\":\"white\",\"showbackground\":true,\"ticks\":\"\",\"zerolinecolor\":\"white\",\"gridwidth\":2},\"zaxis\":{\"backgroundcolor\":\"#E5ECF6\",\"gridcolor\":\"white\",\"linecolor\":\"white\",\"showbackground\":true,\"ticks\":\"\",\"zerolinecolor\":\"white\",\"gridwidth\":2}},\"shapedefaults\":{\"line\":{\"color\":\"#2a3f5f\"}},\"annotationdefaults\":{\"arrowcolor\":\"#2a3f5f\",\"arrowhead\":0,\"arrowwidth\":1},\"geo\":{\"bgcolor\":\"white\",\"landcolor\":\"#E5ECF6\",\"subunitcolor\":\"white\",\"showland\":true,\"showlakes\":true,\"lakecolor\":\"white\"},\"title\":{\"x\":0.05},\"mapbox\":{\"style\":\"light\"}}},\"title\":{\"text\":\"SLope vs MSE\"}},                        {\"responsive\": true}                    ).then(function(){\n",
       "                            \n",
       "var gd = document.getElementById('2e119b48-a3d4-4076-b32b-389f780a1079');\n",
       "var x = new MutationObserver(function (mutations, observer) {{\n",
       "        var display = window.getComputedStyle(gd).display;\n",
       "        if (!display || display === 'none') {{\n",
       "            console.log([gd, 'removed!']);\n",
       "            Plotly.purge(gd);\n",
       "            observer.disconnect();\n",
       "        }}\n",
       "}});\n",
       "\n",
       "// Listen for the removal of the full notebook cells\n",
       "var notebookContainer = gd.closest('#notebook-container');\n",
       "if (notebookContainer) {{\n",
       "    x.observe(notebookContainer, {childList: true});\n",
       "}}\n",
       "\n",
       "// Listen for the clearing of the current output cell\n",
       "var outputEl = gd.closest('.output');\n",
       "if (outputEl) {{\n",
       "    x.observe(outputEl, {childList: true});\n",
       "}}\n",
       "\n",
       "                        })                };                });            </script>        </div>"
      ]
     },
     "metadata": {},
     "output_type": "display_data"
    },
    {
     "name": "stdout",
     "output_type": "stream",
     "text": [
      "\n"
     ]
    },
    {
     "data": {
      "text/html": [
       "<div>                            <div id=\"3e8d19fa-174b-455b-bca8-bf056d8715ec\" class=\"plotly-graph-div\" style=\"height:525px; width:100%;\"></div>            <script type=\"text/javascript\">                require([\"plotly\"], function(Plotly) {                    window.PLOTLYENV=window.PLOTLYENV || {};                                    if (document.getElementById(\"3e8d19fa-174b-455b-bca8-bf056d8715ec\")) {                    Plotly.newPlot(                        \"3e8d19fa-174b-455b-bca8-bf056d8715ec\",                        [{\"marker\":{\"color\":\"red\"},\"mode\":\"lines\",\"x\":[-0.55,-0.5343434343434343,-0.5186868686868688,-0.503030303030303,-0.4873737373737374,-0.47171717171717176,-0.4560606060606061,-0.44040404040404046,-0.42474747474747476,-0.40909090909090917,-0.39343434343434347,-0.3777777777777778,-0.3621212121212122,-0.3464646464646465,-0.3308080808080809,-0.3151515151515152,-0.29949494949494954,-0.2838383838383839,-0.26818181818181824,-0.25252525252525254,-0.2368686868686869,-0.22121212121212125,-0.2055555555555556,-0.18989898989898996,-0.1742424242424243,-0.1585858585858586,-0.14292929292929296,-0.12727272727272732,-0.11161616161616167,-0.09595959595959602,-0.08030303030303032,-0.06464646464646467,-0.04898989898989903,-0.033333333333333326,-0.017676767676767735,-0.002020202020202033,0.013636363636363558,0.02929292929292926,0.04494949494949496,0.06060606060606055,0.07626262626262625,0.09191919191919184,0.10757575757575755,0.12323232323232325,0.13888888888888884,0.15454545454545454,0.17020202020202013,0.18585858585858583,0.20151515151515142,0.21717171717171713,0.23282828282828283,0.24848484848484842,0.2641414141414141,0.2797979797979797,0.2954545454545454,0.3111111111111111,0.3267676767676767,0.3424242424242424,0.358080808080808,0.3737373737373737,0.3893939393939394,0.405050505050505,0.4207070707070707,0.4363636363636363,0.452020202020202,0.4676767676767677,0.4833333333333334,0.4989898989898989,0.5146464646464646,0.5303030303030303,0.545959595959596,0.5616161616161617,0.5772727272727272,0.5929292929292929,0.6085858585858586,0.6242424242424243,0.63989898989899,0.6555555555555554,0.6712121212121211,0.6868686868686869,0.7025252525252526,0.7181818181818183,0.7338383838383837,0.7494949494949494,0.7651515151515151,0.7808080808080808,0.7964646464646465,0.812121212121212,0.8277777777777777,0.8434343434343434,0.8590909090909091,0.8747474747474748,0.8904040404040403,0.906060606060606,0.9217171717171717,0.9373737373737374,0.9530303030303029,0.9686868686868686,0.9843434343434343,1.0],\"y\":[1145.33,1091.67,1039.31,988.24,938.47,889.99,842.81,796.93,752.34,709.05,667.05,626.35,586.94,548.83,512.01,476.49,442.27,409.34,377.71,347.37,318.33,290.58,264.13,238.98,215.12,192.55,171.28,151.31,132.63,115.25,99.16,84.37,70.88,58.68,47.77,38.17,29.85,22.84,17.11,12.69,9.56,7.72,7.18,7.94,9.99,13.34,17.98,23.92,31.15,39.68,49.51,60.63,73.04,86.75,101.76,118.06,135.66,154.56,174.75,196.23,219.01,243.09,268.46,295.13,323.09,352.35,382.9,414.75,447.9,482.34,518.07,555.11,593.43,633.06,673.98,716.19,759.7,804.51,850.61,898.0,946.69,996.68,1047.97,1100.54,1154.42,1209.59,1266.05,1323.81,1382.87,1443.22,1504.87,1567.81,1632.05,1697.59,1764.42,1832.54,1901.96,1972.68,2044.69,2118.0],\"type\":\"scatter\"}],                        {\"template\":{\"data\":{\"histogram2dcontour\":[{\"type\":\"histogram2dcontour\",\"colorbar\":{\"outlinewidth\":0,\"ticks\":\"\"},\"colorscale\":[[0.0,\"#0d0887\"],[0.1111111111111111,\"#46039f\"],[0.2222222222222222,\"#7201a8\"],[0.3333333333333333,\"#9c179e\"],[0.4444444444444444,\"#bd3786\"],[0.5555555555555556,\"#d8576b\"],[0.6666666666666666,\"#ed7953\"],[0.7777777777777778,\"#fb9f3a\"],[0.8888888888888888,\"#fdca26\"],[1.0,\"#f0f921\"]]}],\"choropleth\":[{\"type\":\"choropleth\",\"colorbar\":{\"outlinewidth\":0,\"ticks\":\"\"}}],\"histogram2d\":[{\"type\":\"histogram2d\",\"colorbar\":{\"outlinewidth\":0,\"ticks\":\"\"},\"colorscale\":[[0.0,\"#0d0887\"],[0.1111111111111111,\"#46039f\"],[0.2222222222222222,\"#7201a8\"],[0.3333333333333333,\"#9c179e\"],[0.4444444444444444,\"#bd3786\"],[0.5555555555555556,\"#d8576b\"],[0.6666666666666666,\"#ed7953\"],[0.7777777777777778,\"#fb9f3a\"],[0.8888888888888888,\"#fdca26\"],[1.0,\"#f0f921\"]]}],\"heatmap\":[{\"type\":\"heatmap\",\"colorbar\":{\"outlinewidth\":0,\"ticks\":\"\"},\"colorscale\":[[0.0,\"#0d0887\"],[0.1111111111111111,\"#46039f\"],[0.2222222222222222,\"#7201a8\"],[0.3333333333333333,\"#9c179e\"],[0.4444444444444444,\"#bd3786\"],[0.5555555555555556,\"#d8576b\"],[0.6666666666666666,\"#ed7953\"],[0.7777777777777778,\"#fb9f3a\"],[0.8888888888888888,\"#fdca26\"],[1.0,\"#f0f921\"]]}],\"heatmapgl\":[{\"type\":\"heatmapgl\",\"colorbar\":{\"outlinewidth\":0,\"ticks\":\"\"},\"colorscale\":[[0.0,\"#0d0887\"],[0.1111111111111111,\"#46039f\"],[0.2222222222222222,\"#7201a8\"],[0.3333333333333333,\"#9c179e\"],[0.4444444444444444,\"#bd3786\"],[0.5555555555555556,\"#d8576b\"],[0.6666666666666666,\"#ed7953\"],[0.7777777777777778,\"#fb9f3a\"],[0.8888888888888888,\"#fdca26\"],[1.0,\"#f0f921\"]]}],\"contourcarpet\":[{\"type\":\"contourcarpet\",\"colorbar\":{\"outlinewidth\":0,\"ticks\":\"\"}}],\"contour\":[{\"type\":\"contour\",\"colorbar\":{\"outlinewidth\":0,\"ticks\":\"\"},\"colorscale\":[[0.0,\"#0d0887\"],[0.1111111111111111,\"#46039f\"],[0.2222222222222222,\"#7201a8\"],[0.3333333333333333,\"#9c179e\"],[0.4444444444444444,\"#bd3786\"],[0.5555555555555556,\"#d8576b\"],[0.6666666666666666,\"#ed7953\"],[0.7777777777777778,\"#fb9f3a\"],[0.8888888888888888,\"#fdca26\"],[1.0,\"#f0f921\"]]}],\"surface\":[{\"type\":\"surface\",\"colorbar\":{\"outlinewidth\":0,\"ticks\":\"\"},\"colorscale\":[[0.0,\"#0d0887\"],[0.1111111111111111,\"#46039f\"],[0.2222222222222222,\"#7201a8\"],[0.3333333333333333,\"#9c179e\"],[0.4444444444444444,\"#bd3786\"],[0.5555555555555556,\"#d8576b\"],[0.6666666666666666,\"#ed7953\"],[0.7777777777777778,\"#fb9f3a\"],[0.8888888888888888,\"#fdca26\"],[1.0,\"#f0f921\"]]}],\"mesh3d\":[{\"type\":\"mesh3d\",\"colorbar\":{\"outlinewidth\":0,\"ticks\":\"\"}}],\"scatter\":[{\"fillpattern\":{\"fillmode\":\"overlay\",\"size\":10,\"solidity\":0.2},\"type\":\"scatter\"}],\"parcoords\":[{\"type\":\"parcoords\",\"line\":{\"colorbar\":{\"outlinewidth\":0,\"ticks\":\"\"}}}],\"scatterpolargl\":[{\"type\":\"scatterpolargl\",\"marker\":{\"colorbar\":{\"outlinewidth\":0,\"ticks\":\"\"}}}],\"bar\":[{\"error_x\":{\"color\":\"#2a3f5f\"},\"error_y\":{\"color\":\"#2a3f5f\"},\"marker\":{\"line\":{\"color\":\"#E5ECF6\",\"width\":0.5},\"pattern\":{\"fillmode\":\"overlay\",\"size\":10,\"solidity\":0.2}},\"type\":\"bar\"}],\"scattergeo\":[{\"type\":\"scattergeo\",\"marker\":{\"colorbar\":{\"outlinewidth\":0,\"ticks\":\"\"}}}],\"scatterpolar\":[{\"type\":\"scatterpolar\",\"marker\":{\"colorbar\":{\"outlinewidth\":0,\"ticks\":\"\"}}}],\"histogram\":[{\"marker\":{\"pattern\":{\"fillmode\":\"overlay\",\"size\":10,\"solidity\":0.2}},\"type\":\"histogram\"}],\"scattergl\":[{\"type\":\"scattergl\",\"marker\":{\"colorbar\":{\"outlinewidth\":0,\"ticks\":\"\"}}}],\"scatter3d\":[{\"type\":\"scatter3d\",\"line\":{\"colorbar\":{\"outlinewidth\":0,\"ticks\":\"\"}},\"marker\":{\"colorbar\":{\"outlinewidth\":0,\"ticks\":\"\"}}}],\"scattermapbox\":[{\"type\":\"scattermapbox\",\"marker\":{\"colorbar\":{\"outlinewidth\":0,\"ticks\":\"\"}}}],\"scatterternary\":[{\"type\":\"scatterternary\",\"marker\":{\"colorbar\":{\"outlinewidth\":0,\"ticks\":\"\"}}}],\"scattercarpet\":[{\"type\":\"scattercarpet\",\"marker\":{\"colorbar\":{\"outlinewidth\":0,\"ticks\":\"\"}}}],\"carpet\":[{\"aaxis\":{\"endlinecolor\":\"#2a3f5f\",\"gridcolor\":\"white\",\"linecolor\":\"white\",\"minorgridcolor\":\"white\",\"startlinecolor\":\"#2a3f5f\"},\"baxis\":{\"endlinecolor\":\"#2a3f5f\",\"gridcolor\":\"white\",\"linecolor\":\"white\",\"minorgridcolor\":\"white\",\"startlinecolor\":\"#2a3f5f\"},\"type\":\"carpet\"}],\"table\":[{\"cells\":{\"fill\":{\"color\":\"#EBF0F8\"},\"line\":{\"color\":\"white\"}},\"header\":{\"fill\":{\"color\":\"#C8D4E3\"},\"line\":{\"color\":\"white\"}},\"type\":\"table\"}],\"barpolar\":[{\"marker\":{\"line\":{\"color\":\"#E5ECF6\",\"width\":0.5},\"pattern\":{\"fillmode\":\"overlay\",\"size\":10,\"solidity\":0.2}},\"type\":\"barpolar\"}],\"pie\":[{\"automargin\":true,\"type\":\"pie\"}]},\"layout\":{\"autotypenumbers\":\"strict\",\"colorway\":[\"#636efa\",\"#EF553B\",\"#00cc96\",\"#ab63fa\",\"#FFA15A\",\"#19d3f3\",\"#FF6692\",\"#B6E880\",\"#FF97FF\",\"#FECB52\"],\"font\":{\"color\":\"#2a3f5f\"},\"hovermode\":\"closest\",\"hoverlabel\":{\"align\":\"left\"},\"paper_bgcolor\":\"white\",\"plot_bgcolor\":\"#E5ECF6\",\"polar\":{\"bgcolor\":\"#E5ECF6\",\"angularaxis\":{\"gridcolor\":\"white\",\"linecolor\":\"white\",\"ticks\":\"\"},\"radialaxis\":{\"gridcolor\":\"white\",\"linecolor\":\"white\",\"ticks\":\"\"}},\"ternary\":{\"bgcolor\":\"#E5ECF6\",\"aaxis\":{\"gridcolor\":\"white\",\"linecolor\":\"white\",\"ticks\":\"\"},\"baxis\":{\"gridcolor\":\"white\",\"linecolor\":\"white\",\"ticks\":\"\"},\"caxis\":{\"gridcolor\":\"white\",\"linecolor\":\"white\",\"ticks\":\"\"}},\"coloraxis\":{\"colorbar\":{\"outlinewidth\":0,\"ticks\":\"\"}},\"colorscale\":{\"sequential\":[[0.0,\"#0d0887\"],[0.1111111111111111,\"#46039f\"],[0.2222222222222222,\"#7201a8\"],[0.3333333333333333,\"#9c179e\"],[0.4444444444444444,\"#bd3786\"],[0.5555555555555556,\"#d8576b\"],[0.6666666666666666,\"#ed7953\"],[0.7777777777777778,\"#fb9f3a\"],[0.8888888888888888,\"#fdca26\"],[1.0,\"#f0f921\"]],\"sequentialminus\":[[0.0,\"#0d0887\"],[0.1111111111111111,\"#46039f\"],[0.2222222222222222,\"#7201a8\"],[0.3333333333333333,\"#9c179e\"],[0.4444444444444444,\"#bd3786\"],[0.5555555555555556,\"#d8576b\"],[0.6666666666666666,\"#ed7953\"],[0.7777777777777778,\"#fb9f3a\"],[0.8888888888888888,\"#fdca26\"],[1.0,\"#f0f921\"]],\"diverging\":[[0,\"#8e0152\"],[0.1,\"#c51b7d\"],[0.2,\"#de77ae\"],[0.3,\"#f1b6da\"],[0.4,\"#fde0ef\"],[0.5,\"#f7f7f7\"],[0.6,\"#e6f5d0\"],[0.7,\"#b8e186\"],[0.8,\"#7fbc41\"],[0.9,\"#4d9221\"],[1,\"#276419\"]]},\"xaxis\":{\"gridcolor\":\"white\",\"linecolor\":\"white\",\"ticks\":\"\",\"title\":{\"standoff\":15},\"zerolinecolor\":\"white\",\"automargin\":true,\"zerolinewidth\":2},\"yaxis\":{\"gridcolor\":\"white\",\"linecolor\":\"white\",\"ticks\":\"\",\"title\":{\"standoff\":15},\"zerolinecolor\":\"white\",\"automargin\":true,\"zerolinewidth\":2},\"scene\":{\"xaxis\":{\"backgroundcolor\":\"#E5ECF6\",\"gridcolor\":\"white\",\"linecolor\":\"white\",\"showbackground\":true,\"ticks\":\"\",\"zerolinecolor\":\"white\",\"gridwidth\":2},\"yaxis\":{\"backgroundcolor\":\"#E5ECF6\",\"gridcolor\":\"white\",\"linecolor\":\"white\",\"showbackground\":true,\"ticks\":\"\",\"zerolinecolor\":\"white\",\"gridwidth\":2},\"zaxis\":{\"backgroundcolor\":\"#E5ECF6\",\"gridcolor\":\"white\",\"linecolor\":\"white\",\"showbackground\":true,\"ticks\":\"\",\"zerolinecolor\":\"white\",\"gridwidth\":2}},\"shapedefaults\":{\"line\":{\"color\":\"#2a3f5f\"}},\"annotationdefaults\":{\"arrowcolor\":\"#2a3f5f\",\"arrowhead\":0,\"arrowwidth\":1},\"geo\":{\"bgcolor\":\"white\",\"landcolor\":\"#E5ECF6\",\"subunitcolor\":\"white\",\"showland\":true,\"showlakes\":true,\"lakecolor\":\"white\"},\"title\":{\"x\":0.05},\"mapbox\":{\"style\":\"light\"}}},\"title\":{\"text\":\"Intercept vs MSE\"}},                        {\"responsive\": true}                    ).then(function(){\n",
       "                            \n",
       "var gd = document.getElementById('3e8d19fa-174b-455b-bca8-bf056d8715ec');\n",
       "var x = new MutationObserver(function (mutations, observer) {{\n",
       "        var display = window.getComputedStyle(gd).display;\n",
       "        if (!display || display === 'none') {{\n",
       "            console.log([gd, 'removed!']);\n",
       "            Plotly.purge(gd);\n",
       "            observer.disconnect();\n",
       "        }}\n",
       "}});\n",
       "\n",
       "// Listen for the removal of the full notebook cells\n",
       "var notebookContainer = gd.closest('#notebook-container');\n",
       "if (notebookContainer) {{\n",
       "    x.observe(notebookContainer, {childList: true});\n",
       "}}\n",
       "\n",
       "// Listen for the clearing of the current output cell\n",
       "var outputEl = gd.closest('.output');\n",
       "if (outputEl) {{\n",
       "    x.observe(outputEl, {childList: true});\n",
       "}}\n",
       "\n",
       "                        })                };                });            </script>        </div>"
      ]
     },
     "metadata": {},
     "output_type": "display_data"
    }
   ],
   "source": [
    "# Plotting the MSE values for different slope and intercept values.\n",
    "slopes = np.linspace(-0.55, 1, 100)\n",
    "intercepts = np.linspace(-25, 50, 100)\n",
    "\n",
    "errors = np.array([])\n",
    "\n",
    "for index in range(len(slopes)):\n",
    "  y_pred = linreg(series = x, slope = slopes[index], intercept = intercepts[index])\n",
    "  mse = round(np.mean((y - y_pred)**2), 2)\n",
    "  errors = np.append(errors, mse)\n",
    "\n",
    "# Plot of SLope vs MSE.\n",
    "fig = go.Figure()\n",
    "\n",
    "fig.add_traces(go.Scatter(\n",
    "    x = slopes,\n",
    "    y = errors,\n",
    "    mode = \"lines\"\n",
    "))\n",
    "\n",
    "fig.update_layout(title = \"SLope vs MSE\")\n",
    "\n",
    "fig.show()\n",
    "\n",
    "print()\n",
    "\n",
    "# Plot of Intercept vs MSE.\n",
    "fig = go.Figure()\n",
    "\n",
    "fig.add_traces(go.Scatter(\n",
    "    x = slopes,\n",
    "    y = errors,\n",
    "    mode = \"lines\",\n",
    "    marker = dict(\n",
    "        color = \"red\"\n",
    "    )\n",
    "))\n",
    "\n",
    "fig.update_layout(title = \"Intercept vs MSE\")\n",
    "\n",
    "fig.show()"
   ]
  },
  {
   "cell_type": "markdown",
   "id": "298d2174",
   "metadata": {
    "id": "HYO1W7FsyNuB",
    "papermill": {
     "duration": 0.038955,
     "end_time": "2022-04-19T15:20:59.437759",
     "exception": false,
     "start_time": "2022-04-19T15:20:59.398804",
     "status": "completed"
    },
    "tags": []
   },
   "source": [
    "From the graphs above we can see that the **Slope** vs **MSE** curve and the **Intercept** vs **MSE** curve is a parabola, which for certain values of slope and intercept did reach very close to 0.\n",
    "\n",
    "Let's plot a 3D graph for an even clearer picture."
   ]
  },
  {
   "cell_type": "code",
   "execution_count": 10,
   "id": "8a9be6a6",
   "metadata": {
    "execution": {
     "iopub.execute_input": "2022-04-19T15:20:59.517880Z",
     "iopub.status.busy": "2022-04-19T15:20:59.517370Z",
     "iopub.status.idle": "2022-04-19T15:20:59.537246Z",
     "shell.execute_reply": "2022-04-19T15:20:59.536310Z"
    },
    "id": "JxcixoEQ7InI",
    "outputId": "02951592-f772-4baa-efeb-8cdbf7c77c3a",
    "papermill": {
     "duration": 0.062745,
     "end_time": "2022-04-19T15:20:59.539505",
     "exception": false,
     "start_time": "2022-04-19T15:20:59.476760",
     "status": "completed"
    },
    "tags": []
   },
   "outputs": [
    {
     "data": {
      "text/html": [
       "<div>                            <div id=\"3188f2d4-7536-4d2e-bc2d-4094e27e00bf\" class=\"plotly-graph-div\" style=\"height:525px; width:100%;\"></div>            <script type=\"text/javascript\">                require([\"plotly\"], function(Plotly) {                    window.PLOTLYENV=window.PLOTLYENV || {};                                    if (document.getElementById(\"3188f2d4-7536-4d2e-bc2d-4094e27e00bf\")) {                    Plotly.newPlot(                        \"3188f2d4-7536-4d2e-bc2d-4094e27e00bf\",                        [{\"mode\":\"lines\",\"x\":[-0.55,-0.5343434343434343,-0.5186868686868688,-0.503030303030303,-0.4873737373737374,-0.47171717171717176,-0.4560606060606061,-0.44040404040404046,-0.42474747474747476,-0.40909090909090917,-0.39343434343434347,-0.3777777777777778,-0.3621212121212122,-0.3464646464646465,-0.3308080808080809,-0.3151515151515152,-0.29949494949494954,-0.2838383838383839,-0.26818181818181824,-0.25252525252525254,-0.2368686868686869,-0.22121212121212125,-0.2055555555555556,-0.18989898989898996,-0.1742424242424243,-0.1585858585858586,-0.14292929292929296,-0.12727272727272732,-0.11161616161616167,-0.09595959595959602,-0.08030303030303032,-0.06464646464646467,-0.04898989898989903,-0.033333333333333326,-0.017676767676767735,-0.002020202020202033,0.013636363636363558,0.02929292929292926,0.04494949494949496,0.06060606060606055,0.07626262626262625,0.09191919191919184,0.10757575757575755,0.12323232323232325,0.13888888888888884,0.15454545454545454,0.17020202020202013,0.18585858585858583,0.20151515151515142,0.21717171717171713,0.23282828282828283,0.24848484848484842,0.2641414141414141,0.2797979797979797,0.2954545454545454,0.3111111111111111,0.3267676767676767,0.3424242424242424,0.358080808080808,0.3737373737373737,0.3893939393939394,0.405050505050505,0.4207070707070707,0.4363636363636363,0.452020202020202,0.4676767676767677,0.4833333333333334,0.4989898989898989,0.5146464646464646,0.5303030303030303,0.545959595959596,0.5616161616161617,0.5772727272727272,0.5929292929292929,0.6085858585858586,0.6242424242424243,0.63989898989899,0.6555555555555554,0.6712121212121211,0.6868686868686869,0.7025252525252526,0.7181818181818183,0.7338383838383837,0.7494949494949494,0.7651515151515151,0.7808080808080808,0.7964646464646465,0.812121212121212,0.8277777777777777,0.8434343434343434,0.8590909090909091,0.8747474747474748,0.8904040404040403,0.906060606060606,0.9217171717171717,0.9373737373737374,0.9530303030303029,0.9686868686868686,0.9843434343434343,1.0],\"y\":[-25.0,-24.242424242424242,-23.484848484848484,-22.727272727272727,-21.96969696969697,-21.21212121212121,-20.454545454545453,-19.696969696969695,-18.939393939393938,-18.18181818181818,-17.424242424242422,-16.666666666666664,-15.90909090909091,-15.151515151515152,-14.393939393939394,-13.636363636363637,-12.878787878787879,-12.121212121212121,-11.363636363636363,-10.606060606060606,-9.848484848484848,-9.090909090909092,-8.333333333333332,-7.575757575757574,-6.81818181818182,-6.060606060606062,-5.3030303030303045,-4.545454545454547,-3.787878787878789,-3.030303030303031,-2.2727272727272734,-1.5151515151515156,-0.7575757575757578,0.0,0.7575757575757578,1.5151515151515156,2.2727272727272734,3.030303030303031,3.787878787878789,4.545454545454547,5.3030303030303045,6.060606060606059,6.818181818181817,7.575757575757578,8.333333333333336,9.090909090909093,9.848484848484851,10.606060606060609,11.36363636363636,12.121212121212118,12.878787878787875,13.636363636363633,14.393939393939391,15.151515151515149,15.909090909090907,16.666666666666664,17.424242424242422,18.18181818181818,18.939393939393938,19.696969696969695,20.454545454545453,21.21212121212121,21.96969696969697,22.727272727272727,23.484848484848484,24.242424242424242,25.0,25.757575757575758,26.515151515151516,27.272727272727273,28.03030303030303,28.78787878787879,29.545454545454547,30.303030303030305,31.060606060606062,31.81818181818182,32.57575757575758,33.333333333333336,34.09090909090909,34.84848484848485,35.60606060606061,36.36363636363636,37.12121212121212,37.878787878787875,38.63636363636363,39.39393939393939,40.151515151515156,40.90909090909091,41.66666666666667,42.42424242424242,43.18181818181819,43.93939393939394,44.6969696969697,45.45454545454545,46.21212121212122,46.96969696969697,47.72727272727272,48.484848484848484,49.242424242424235,50.0],\"z\":[1145.33,1091.67,1039.31,988.24,938.47,889.99,842.81,796.93,752.34,709.05,667.05,626.35,586.94,548.83,512.01,476.49,442.27,409.34,377.71,347.37,318.33,290.58,264.13,238.98,215.12,192.55,171.28,151.31,132.63,115.25,99.16,84.37,70.88,58.68,47.77,38.17,29.85,22.84,17.11,12.69,9.56,7.72,7.18,7.94,9.99,13.34,17.98,23.92,31.15,39.68,49.51,60.63,73.04,86.75,101.76,118.06,135.66,154.56,174.75,196.23,219.01,243.09,268.46,295.13,323.09,352.35,382.9,414.75,447.9,482.34,518.07,555.11,593.43,633.06,673.98,716.19,759.7,804.51,850.61,898.0,946.69,996.68,1047.97,1100.54,1154.42,1209.59,1266.05,1323.81,1382.87,1443.22,1504.87,1567.81,1632.05,1697.59,1764.42,1832.54,1901.96,1972.68,2044.69,2118.0],\"type\":\"scatter3d\"}],                        {\"template\":{\"data\":{\"histogram2dcontour\":[{\"type\":\"histogram2dcontour\",\"colorbar\":{\"outlinewidth\":0,\"ticks\":\"\"},\"colorscale\":[[0.0,\"#0d0887\"],[0.1111111111111111,\"#46039f\"],[0.2222222222222222,\"#7201a8\"],[0.3333333333333333,\"#9c179e\"],[0.4444444444444444,\"#bd3786\"],[0.5555555555555556,\"#d8576b\"],[0.6666666666666666,\"#ed7953\"],[0.7777777777777778,\"#fb9f3a\"],[0.8888888888888888,\"#fdca26\"],[1.0,\"#f0f921\"]]}],\"choropleth\":[{\"type\":\"choropleth\",\"colorbar\":{\"outlinewidth\":0,\"ticks\":\"\"}}],\"histogram2d\":[{\"type\":\"histogram2d\",\"colorbar\":{\"outlinewidth\":0,\"ticks\":\"\"},\"colorscale\":[[0.0,\"#0d0887\"],[0.1111111111111111,\"#46039f\"],[0.2222222222222222,\"#7201a8\"],[0.3333333333333333,\"#9c179e\"],[0.4444444444444444,\"#bd3786\"],[0.5555555555555556,\"#d8576b\"],[0.6666666666666666,\"#ed7953\"],[0.7777777777777778,\"#fb9f3a\"],[0.8888888888888888,\"#fdca26\"],[1.0,\"#f0f921\"]]}],\"heatmap\":[{\"type\":\"heatmap\",\"colorbar\":{\"outlinewidth\":0,\"ticks\":\"\"},\"colorscale\":[[0.0,\"#0d0887\"],[0.1111111111111111,\"#46039f\"],[0.2222222222222222,\"#7201a8\"],[0.3333333333333333,\"#9c179e\"],[0.4444444444444444,\"#bd3786\"],[0.5555555555555556,\"#d8576b\"],[0.6666666666666666,\"#ed7953\"],[0.7777777777777778,\"#fb9f3a\"],[0.8888888888888888,\"#fdca26\"],[1.0,\"#f0f921\"]]}],\"heatmapgl\":[{\"type\":\"heatmapgl\",\"colorbar\":{\"outlinewidth\":0,\"ticks\":\"\"},\"colorscale\":[[0.0,\"#0d0887\"],[0.1111111111111111,\"#46039f\"],[0.2222222222222222,\"#7201a8\"],[0.3333333333333333,\"#9c179e\"],[0.4444444444444444,\"#bd3786\"],[0.5555555555555556,\"#d8576b\"],[0.6666666666666666,\"#ed7953\"],[0.7777777777777778,\"#fb9f3a\"],[0.8888888888888888,\"#fdca26\"],[1.0,\"#f0f921\"]]}],\"contourcarpet\":[{\"type\":\"contourcarpet\",\"colorbar\":{\"outlinewidth\":0,\"ticks\":\"\"}}],\"contour\":[{\"type\":\"contour\",\"colorbar\":{\"outlinewidth\":0,\"ticks\":\"\"},\"colorscale\":[[0.0,\"#0d0887\"],[0.1111111111111111,\"#46039f\"],[0.2222222222222222,\"#7201a8\"],[0.3333333333333333,\"#9c179e\"],[0.4444444444444444,\"#bd3786\"],[0.5555555555555556,\"#d8576b\"],[0.6666666666666666,\"#ed7953\"],[0.7777777777777778,\"#fb9f3a\"],[0.8888888888888888,\"#fdca26\"],[1.0,\"#f0f921\"]]}],\"surface\":[{\"type\":\"surface\",\"colorbar\":{\"outlinewidth\":0,\"ticks\":\"\"},\"colorscale\":[[0.0,\"#0d0887\"],[0.1111111111111111,\"#46039f\"],[0.2222222222222222,\"#7201a8\"],[0.3333333333333333,\"#9c179e\"],[0.4444444444444444,\"#bd3786\"],[0.5555555555555556,\"#d8576b\"],[0.6666666666666666,\"#ed7953\"],[0.7777777777777778,\"#fb9f3a\"],[0.8888888888888888,\"#fdca26\"],[1.0,\"#f0f921\"]]}],\"mesh3d\":[{\"type\":\"mesh3d\",\"colorbar\":{\"outlinewidth\":0,\"ticks\":\"\"}}],\"scatter\":[{\"fillpattern\":{\"fillmode\":\"overlay\",\"size\":10,\"solidity\":0.2},\"type\":\"scatter\"}],\"parcoords\":[{\"type\":\"parcoords\",\"line\":{\"colorbar\":{\"outlinewidth\":0,\"ticks\":\"\"}}}],\"scatterpolargl\":[{\"type\":\"scatterpolargl\",\"marker\":{\"colorbar\":{\"outlinewidth\":0,\"ticks\":\"\"}}}],\"bar\":[{\"error_x\":{\"color\":\"#2a3f5f\"},\"error_y\":{\"color\":\"#2a3f5f\"},\"marker\":{\"line\":{\"color\":\"#E5ECF6\",\"width\":0.5},\"pattern\":{\"fillmode\":\"overlay\",\"size\":10,\"solidity\":0.2}},\"type\":\"bar\"}],\"scattergeo\":[{\"type\":\"scattergeo\",\"marker\":{\"colorbar\":{\"outlinewidth\":0,\"ticks\":\"\"}}}],\"scatterpolar\":[{\"type\":\"scatterpolar\",\"marker\":{\"colorbar\":{\"outlinewidth\":0,\"ticks\":\"\"}}}],\"histogram\":[{\"marker\":{\"pattern\":{\"fillmode\":\"overlay\",\"size\":10,\"solidity\":0.2}},\"type\":\"histogram\"}],\"scattergl\":[{\"type\":\"scattergl\",\"marker\":{\"colorbar\":{\"outlinewidth\":0,\"ticks\":\"\"}}}],\"scatter3d\":[{\"type\":\"scatter3d\",\"line\":{\"colorbar\":{\"outlinewidth\":0,\"ticks\":\"\"}},\"marker\":{\"colorbar\":{\"outlinewidth\":0,\"ticks\":\"\"}}}],\"scattermapbox\":[{\"type\":\"scattermapbox\",\"marker\":{\"colorbar\":{\"outlinewidth\":0,\"ticks\":\"\"}}}],\"scatterternary\":[{\"type\":\"scatterternary\",\"marker\":{\"colorbar\":{\"outlinewidth\":0,\"ticks\":\"\"}}}],\"scattercarpet\":[{\"type\":\"scattercarpet\",\"marker\":{\"colorbar\":{\"outlinewidth\":0,\"ticks\":\"\"}}}],\"carpet\":[{\"aaxis\":{\"endlinecolor\":\"#2a3f5f\",\"gridcolor\":\"white\",\"linecolor\":\"white\",\"minorgridcolor\":\"white\",\"startlinecolor\":\"#2a3f5f\"},\"baxis\":{\"endlinecolor\":\"#2a3f5f\",\"gridcolor\":\"white\",\"linecolor\":\"white\",\"minorgridcolor\":\"white\",\"startlinecolor\":\"#2a3f5f\"},\"type\":\"carpet\"}],\"table\":[{\"cells\":{\"fill\":{\"color\":\"#EBF0F8\"},\"line\":{\"color\":\"white\"}},\"header\":{\"fill\":{\"color\":\"#C8D4E3\"},\"line\":{\"color\":\"white\"}},\"type\":\"table\"}],\"barpolar\":[{\"marker\":{\"line\":{\"color\":\"#E5ECF6\",\"width\":0.5},\"pattern\":{\"fillmode\":\"overlay\",\"size\":10,\"solidity\":0.2}},\"type\":\"barpolar\"}],\"pie\":[{\"automargin\":true,\"type\":\"pie\"}]},\"layout\":{\"autotypenumbers\":\"strict\",\"colorway\":[\"#636efa\",\"#EF553B\",\"#00cc96\",\"#ab63fa\",\"#FFA15A\",\"#19d3f3\",\"#FF6692\",\"#B6E880\",\"#FF97FF\",\"#FECB52\"],\"font\":{\"color\":\"#2a3f5f\"},\"hovermode\":\"closest\",\"hoverlabel\":{\"align\":\"left\"},\"paper_bgcolor\":\"white\",\"plot_bgcolor\":\"#E5ECF6\",\"polar\":{\"bgcolor\":\"#E5ECF6\",\"angularaxis\":{\"gridcolor\":\"white\",\"linecolor\":\"white\",\"ticks\":\"\"},\"radialaxis\":{\"gridcolor\":\"white\",\"linecolor\":\"white\",\"ticks\":\"\"}},\"ternary\":{\"bgcolor\":\"#E5ECF6\",\"aaxis\":{\"gridcolor\":\"white\",\"linecolor\":\"white\",\"ticks\":\"\"},\"baxis\":{\"gridcolor\":\"white\",\"linecolor\":\"white\",\"ticks\":\"\"},\"caxis\":{\"gridcolor\":\"white\",\"linecolor\":\"white\",\"ticks\":\"\"}},\"coloraxis\":{\"colorbar\":{\"outlinewidth\":0,\"ticks\":\"\"}},\"colorscale\":{\"sequential\":[[0.0,\"#0d0887\"],[0.1111111111111111,\"#46039f\"],[0.2222222222222222,\"#7201a8\"],[0.3333333333333333,\"#9c179e\"],[0.4444444444444444,\"#bd3786\"],[0.5555555555555556,\"#d8576b\"],[0.6666666666666666,\"#ed7953\"],[0.7777777777777778,\"#fb9f3a\"],[0.8888888888888888,\"#fdca26\"],[1.0,\"#f0f921\"]],\"sequentialminus\":[[0.0,\"#0d0887\"],[0.1111111111111111,\"#46039f\"],[0.2222222222222222,\"#7201a8\"],[0.3333333333333333,\"#9c179e\"],[0.4444444444444444,\"#bd3786\"],[0.5555555555555556,\"#d8576b\"],[0.6666666666666666,\"#ed7953\"],[0.7777777777777778,\"#fb9f3a\"],[0.8888888888888888,\"#fdca26\"],[1.0,\"#f0f921\"]],\"diverging\":[[0,\"#8e0152\"],[0.1,\"#c51b7d\"],[0.2,\"#de77ae\"],[0.3,\"#f1b6da\"],[0.4,\"#fde0ef\"],[0.5,\"#f7f7f7\"],[0.6,\"#e6f5d0\"],[0.7,\"#b8e186\"],[0.8,\"#7fbc41\"],[0.9,\"#4d9221\"],[1,\"#276419\"]]},\"xaxis\":{\"gridcolor\":\"white\",\"linecolor\":\"white\",\"ticks\":\"\",\"title\":{\"standoff\":15},\"zerolinecolor\":\"white\",\"automargin\":true,\"zerolinewidth\":2},\"yaxis\":{\"gridcolor\":\"white\",\"linecolor\":\"white\",\"ticks\":\"\",\"title\":{\"standoff\":15},\"zerolinecolor\":\"white\",\"automargin\":true,\"zerolinewidth\":2},\"scene\":{\"xaxis\":{\"backgroundcolor\":\"#E5ECF6\",\"gridcolor\":\"white\",\"linecolor\":\"white\",\"showbackground\":true,\"ticks\":\"\",\"zerolinecolor\":\"white\",\"gridwidth\":2},\"yaxis\":{\"backgroundcolor\":\"#E5ECF6\",\"gridcolor\":\"white\",\"linecolor\":\"white\",\"showbackground\":true,\"ticks\":\"\",\"zerolinecolor\":\"white\",\"gridwidth\":2},\"zaxis\":{\"backgroundcolor\":\"#E5ECF6\",\"gridcolor\":\"white\",\"linecolor\":\"white\",\"showbackground\":true,\"ticks\":\"\",\"zerolinecolor\":\"white\",\"gridwidth\":2}},\"shapedefaults\":{\"line\":{\"color\":\"#2a3f5f\"}},\"annotationdefaults\":{\"arrowcolor\":\"#2a3f5f\",\"arrowhead\":0,\"arrowwidth\":1},\"geo\":{\"bgcolor\":\"white\",\"landcolor\":\"#E5ECF6\",\"subunitcolor\":\"white\",\"showland\":true,\"showlakes\":true,\"lakecolor\":\"white\"},\"title\":{\"x\":0.05},\"mapbox\":{\"style\":\"light\"}}}},                        {\"responsive\": true}                    ).then(function(){\n",
       "                            \n",
       "var gd = document.getElementById('3188f2d4-7536-4d2e-bc2d-4094e27e00bf');\n",
       "var x = new MutationObserver(function (mutations, observer) {{\n",
       "        var display = window.getComputedStyle(gd).display;\n",
       "        if (!display || display === 'none') {{\n",
       "            console.log([gd, 'removed!']);\n",
       "            Plotly.purge(gd);\n",
       "            observer.disconnect();\n",
       "        }}\n",
       "}});\n",
       "\n",
       "// Listen for the removal of the full notebook cells\n",
       "var notebookContainer = gd.closest('#notebook-container');\n",
       "if (notebookContainer) {{\n",
       "    x.observe(notebookContainer, {childList: true});\n",
       "}}\n",
       "\n",
       "// Listen for the clearing of the current output cell\n",
       "var outputEl = gd.closest('.output');\n",
       "if (outputEl) {{\n",
       "    x.observe(outputEl, {childList: true});\n",
       "}}\n",
       "\n",
       "                        })                };                });            </script>        </div>"
      ]
     },
     "metadata": {},
     "output_type": "display_data"
    }
   ],
   "source": [
    "# 3D graph.\n",
    "fig = go.Figure()\n",
    "\n",
    "fig.add_traces(go.Scatter3d(\n",
    "    x = slopes,\n",
    "    y = intercepts,\n",
    "    z = errors,\n",
    "    mode = \"lines\"\n",
    "))\n",
    "\n",
    "fig.show()"
   ]
  },
  {
   "cell_type": "markdown",
   "id": "283bea2b",
   "metadata": {
    "id": "X9HPZnvf4ajF",
    "papermill": {
     "duration": 0.039526,
     "end_time": "2022-04-19T15:20:59.619334",
     "exception": false,
     "start_time": "2022-04-19T15:20:59.579808",
     "status": "completed"
    },
    "tags": []
   },
   "source": [
    "Here you can clearly see that for certain values of $\\beta_0$ and $\\beta_1$, the value of $J(\\beta_0, \\beta_1)$ becomes the least.\n",
    "\n",
    "Those are the values we want for our linear equation as they would yield us the highest accuracy possible."
   ]
  },
  {
   "cell_type": "markdown",
   "id": "15977512",
   "metadata": {
    "id": "U7gfVtjP_FXc",
    "papermill": {
     "duration": 0.039653,
     "end_time": "2022-04-19T15:20:59.699637",
     "exception": false,
     "start_time": "2022-04-19T15:20:59.659984",
     "status": "completed"
    },
    "tags": []
   },
   "source": [
    "###***Convergence Theorem***\n",
    "\n",
    "<img src = \"https://1.cms.s81c.com/sites/default/files/2021-01-06/ICLH_Diagram_Batch_01_04-GradientDescent-WHITEBG_0.png\" width = 50%>\n",
    "\n",
    "As you can see in the image above we start from a particular **coefficient** value and take small steps to reach the minimum error values. The size of this small step is called as the **learning rate**.\n",
    "\n",
    "Because we are taking small steps in order to converge with the minima, this whole process is called as **convergence theorem**.\n",
    "\n",
    "The formula is something like - \n",
    "$$\\beta_0 = \\beta_0 - \\left(\\frac{\\partial J}{\\partial \\beta_0}\\right) * L$$\n",
    "\\\n",
    "$$\\beta_1 = \\beta_1 - \\left(\\frac{\\partial J}{\\partial \\beta_1}\\right) * L$$\n",
    "\n",
    "Here,\n",
    "1. $\\beta_0$ is the **intercept** of the linear equation.\n",
    "2. $\\beta_1$ is the **slope** of the linear equation.\n",
    "3. $L$ is the **learning rate**.\n",
    "4. $\\left(\\frac{\\partial J}{∂\\beta_0}\\right)$ is the **slope** **(derivative)** of function $J(\\beta_0, \\beta_1)$ with respect to **$\\beta_0$**.\n",
    "5. $\\left(\\frac{\\partial J}{∂\\beta_1}\\right)$ is the **slope** **(derivative)** of function $J(\\beta_0, \\beta_1)$ with respect to **$\\beta_1$**.\n",
    "\n",
    "With each iteration we would be getting closer to the ideal value of **$\\beta_0$** and **$\\beta_1$**.\n",
    "\n",
    "If you feel a bit confused about what this was, [click here](https://www.youtube.com/watch?v=1-OGRohmH2s&t=124s&ab_channel=KrishNaik) for better understanding. In the video he has used a different **Cost Function** but don't worry about that. The Cost Function can be anything and it depends from method to method, you just have to make sure that it accurately measures the errors"
   ]
  },
  {
   "cell_type": "markdown",
   "id": "ea24dce3",
   "metadata": {
    "id": "-iOYK60K9-0L",
    "papermill": {
     "duration": 0.04031,
     "end_time": "2022-04-19T15:20:59.779773",
     "exception": false,
     "start_time": "2022-04-19T15:20:59.739463",
     "status": "completed"
    },
    "tags": []
   },
   "source": [
    "Okay cool. Now we are one step closer to implementing gradient descent in code. All we need to do is figure out was the values for $\\left(\\frac{\\partial J}{∂\\beta_0}\\right)$ and $\\left(\\frac{\\partial J}{∂\\beta_1}\\right)$ are and we are good to go.\n",
    "\n",
    "$$J(\\beta_0, \\beta_1) = \\frac{1}{n}\\sum_{i = 1}^{n}(\\hat{y_i} - \\beta_{0} - \\beta_{1} x_{1})^2$$\n",
    "\\\n",
    "First let's find $\\frac{\\partial J}{\\partial \\beta_0}$,\n",
    "$$\\frac{\\partial J}{\\partial \\beta_0} = \\frac{2}{n} \\sum_{i = 1}^{n} (\\hat{y_i} - \\beta_0 - \\beta_1 x_1) (-1)$$\n",
    "\n",
    "$$\\Rightarrow \\frac{\\partial J}{\\partial \\beta_0} = -\\frac{2}{n} \\sum_{i = 1}^{n} (\\hat{y_i} - \\beta_0 - \\beta_1 x_1)$$\n",
    "\n",
    "$$\\Rightarrow \\frac{\\partial J}{\\partial \\beta_0} = -\\frac{2}{n} \\sum_{i = 1}^{n}(\\hat{y_i} - y_i)$$\n",
    "\n",
    "Next let's find $\\frac{\\partial J}{\\partial \\beta_1}$,\n",
    "$$\\frac{\\partial J}{\\partial \\beta_1} = \\frac{2}{n} \\sum_{i = 1}^{n} (\\hat{y_i} - \\beta_0 - \\beta_1 x_1) (-x_1)$$\n",
    "\n",
    "$$\\Rightarrow \\frac{\\partial J}{\\partial \\beta_1} = -\\frac{2}{n} \\sum_{i = 1}^{n} x_1(\\hat{y_i} - y_i)$$\n",
    "\n",
    "\\\n",
    "\n",
    "If suppose there was a $\\beta_2$ in the equation (which can happen in **Multiple Linear Regression**), then $\\left(\\frac{\\partial J}{\\partial \\beta_2}\\right)$ would be,\n",
    "\n",
    "$$\\Rightarrow \\frac{\\partial J}{\\partial \\beta_2} = -\\frac{2}{n} \\sum_{i = 1}^{n} x_2(\\hat{y_i} - y_i)$$\n",
    "\n",
    "\\\n",
    "\n",
    "For any $\\beta_n$ in the equation, the $\\frac{\\partial J}{\\partial \\beta_n}$ would be,\n",
    "\n",
    "$$\\Rightarrow \\frac{\\partial J}{\\partial \\beta_n} = -\\frac{2}{n} \\sum_{i = 1}^{n} x_n(\\hat{y_i} - y_i)$$"
   ]
  },
  {
   "cell_type": "markdown",
   "id": "09ca8e7f",
   "metadata": {
    "id": "3zl6OxR_F9Su",
    "papermill": {
     "duration": 0.040808,
     "end_time": "2022-04-19T15:20:59.860775",
     "exception": false,
     "start_time": "2022-04-19T15:20:59.819967",
     "status": "completed"
    },
    "tags": []
   },
   "source": [
    "Let's write this thing into code now.\n",
    "\n",
    "Because the $\\beta_0$ and $\\beta_1$ values would be changing with each iteration, we would want to start from an initial value for both. By convention that value is 0."
   ]
  },
  {
   "cell_type": "code",
   "execution_count": 11,
   "id": "61c606f6",
   "metadata": {
    "execution": {
     "iopub.execute_input": "2022-04-19T15:20:59.942218Z",
     "iopub.status.busy": "2022-04-19T15:20:59.941944Z",
     "iopub.status.idle": "2022-04-19T15:20:59.948986Z",
     "shell.execute_reply": "2022-04-19T15:20:59.948340Z"
    },
    "id": "detRvltXGABT",
    "papermill": {
     "duration": 0.04998,
     "end_time": "2022-04-19T15:20:59.950901",
     "exception": false,
     "start_time": "2022-04-19T15:20:59.900921",
     "status": "completed"
    },
    "tags": []
   },
   "outputs": [],
   "source": [
    "# Creating the gradient_descent function.\n",
    "def gradient_descent(x, y, learning_rate, iterations = 10000):\n",
    "  beta_0 = beta_1 = 0\n",
    "  n = len(x)\n",
    "\n",
    "  for i in range(iterations):\n",
    "    y_pred = beta_0 + (beta_1 * x)\n",
    "\n",
    "    cost = round(np.mean((y - y_pred) ** 2), 5)\n",
    "\n",
    "    beta_0_d = (-2/n) * sum(y - y_pred)\n",
    "    beta_1_d = (-2/n) * sum(x * (y - y_pred))\n",
    "\n",
    "    beta_0 = beta_0 - (beta_0_d * learning_rate)\n",
    "    beta_1 = beta_1 - (beta_1_d * learning_rate)\n",
    "\n",
    "  return (round(beta_0, 2), round(beta_1, 2), cost)"
   ]
  },
  {
   "cell_type": "code",
   "execution_count": 12,
   "id": "acb9668d",
   "metadata": {
    "execution": {
     "iopub.execute_input": "2022-04-19T15:21:00.034719Z",
     "iopub.status.busy": "2022-04-19T15:21:00.034223Z",
     "iopub.status.idle": "2022-04-19T15:21:00.455066Z",
     "shell.execute_reply": "2022-04-19T15:21:00.454483Z"
    },
    "id": "Ph7-33LTenTV",
    "outputId": "50c63e2e-bb77-4da8-f744-d94b50309ef9",
    "papermill": {
     "duration": 0.465884,
     "end_time": "2022-04-19T15:21:00.457053",
     "exception": false,
     "start_time": "2022-04-19T15:20:59.991169",
     "status": "completed"
    },
    "tags": []
   },
   "outputs": [
    {
     "data": {
      "text/plain": [
       "(0.99, 2.0, 4e-05)"
      ]
     },
     "execution_count": 12,
     "metadata": {},
     "output_type": "execute_result"
    }
   ],
   "source": [
    "# Calling the function.\n",
    "gradient_descent(x, y, 0.001, 10000)"
   ]
  },
  {
   "cell_type": "markdown",
   "id": "37b0fa71",
   "metadata": {
    "id": "uvE2h7ayg9_T",
    "papermill": {
     "duration": 0.041027,
     "end_time": "2022-04-19T15:21:00.539591",
     "exception": false,
     "start_time": "2022-04-19T15:21:00.498564",
     "status": "completed"
    },
    "tags": []
   },
   "source": [
    "So with $\\beta_0$ as 0.83 and $\\beta_1$ as 2.05, the J($\\beta_0$, $\\beta_1$) value would be minimum.\n",
    "\n",
    "Let's create a `LinearRegression` class which can calculate the $\\beta$ values by itself once given the feature and target variables using a `fit()` function. Let's also have a `predict()` function in the class which can help us in predicting new values using the $\\beta$s the `fit()` function calculates."
   ]
  },
  {
   "cell_type": "code",
   "execution_count": 13,
   "id": "1a630cdc",
   "metadata": {
    "execution": {
     "iopub.execute_input": "2022-04-19T15:21:00.622709Z",
     "iopub.status.busy": "2022-04-19T15:21:00.622203Z",
     "iopub.status.idle": "2022-04-19T15:21:00.629781Z",
     "shell.execute_reply": "2022-04-19T15:21:00.629203Z"
    },
    "id": "LtnzmMkmiFkn",
    "papermill": {
     "duration": 0.051504,
     "end_time": "2022-04-19T15:21:00.631677",
     "exception": false,
     "start_time": "2022-04-19T15:21:00.580173",
     "status": "completed"
    },
    "tags": []
   },
   "outputs": [],
   "source": [
    "# Creating the LinearRegression class.\n",
    "class LinearRegression():\n",
    "  betas = None\n",
    "\n",
    "  def fit(self, x, y, learning_rate = 0.001):\n",
    "    beta_0 = beta_1 = 0\n",
    "    n = len(x)\n",
    "\n",
    "    while True:\n",
    "      y_pred = beta_0 + (beta_1 * x)\n",
    "\n",
    "      cost = round(np.mean((y - y_pred) ** 2), 5)\n",
    "\n",
    "      beta_0_d = (-2/n) * sum(y - y_pred)\n",
    "      beta_1_d = (-2/n) * sum(x * (y - y_pred))\n",
    "\n",
    "      beta_0 = beta_0 - (beta_0_d * learning_rate)\n",
    "      beta_1 = beta_1 - (beta_1_d * learning_rate)\n",
    "\n",
    "      if cost == 0:\n",
    "        break\n",
    "\n",
    "    self.betas = (round(beta_0, 2), round(beta_1, 2))\n",
    "\n",
    "  def predict(self, x):\n",
    "    return self.betas[0] + self.betas[1] * x"
   ]
  },
  {
   "cell_type": "markdown",
   "id": "efc5a226",
   "metadata": {
    "id": "zodw3bYqk2AD",
    "papermill": {
     "duration": 0.040344,
     "end_time": "2022-04-19T15:21:00.713433",
     "exception": false,
     "start_time": "2022-04-19T15:21:00.673089",
     "status": "completed"
    },
    "tags": []
   },
   "source": [
    "Nice!\n",
    "\n",
    "Now that we have the `LinearRegression` class let's fit the data into it.\n",
    "\n",
    "(PS: The class we created is only useful for Simple Linear Regression. If you want to make one for Multiple Linear Regression, you'll have to do a few changes. But that's very easy, so take it as an excercise!)"
   ]
  },
  {
   "cell_type": "code",
   "execution_count": 14,
   "id": "8846ffc2",
   "metadata": {
    "execution": {
     "iopub.execute_input": "2022-04-19T15:21:00.797276Z",
     "iopub.status.busy": "2022-04-19T15:21:00.796977Z",
     "iopub.status.idle": "2022-04-19T15:21:01.343341Z",
     "shell.execute_reply": "2022-04-19T15:21:01.342410Z"
    },
    "id": "VHOXw0LTjZna",
    "papermill": {
     "duration": 0.591773,
     "end_time": "2022-04-19T15:21:01.345814",
     "exception": false,
     "start_time": "2022-04-19T15:21:00.754041",
     "status": "completed"
    },
    "tags": []
   },
   "outputs": [],
   "source": [
    "# Calling the LinearRegression class.\n",
    "linreg = LinearRegression()\n",
    "linreg.fit(x, y)"
   ]
  },
  {
   "cell_type": "markdown",
   "id": "17b3bf6e",
   "metadata": {
    "id": "UdS78x1klJjV",
    "papermill": {
     "duration": 0.041577,
     "end_time": "2022-04-19T15:21:01.428917",
     "exception": false,
     "start_time": "2022-04-19T15:21:01.387340",
     "status": "completed"
    },
    "tags": []
   },
   "source": [
    "Now let's predict the values."
   ]
  },
  {
   "cell_type": "code",
   "execution_count": 15,
   "id": "4c8782b1",
   "metadata": {
    "execution": {
     "iopub.execute_input": "2022-04-19T15:21:01.512261Z",
     "iopub.status.busy": "2022-04-19T15:21:01.511915Z",
     "iopub.status.idle": "2022-04-19T15:21:01.517681Z",
     "shell.execute_reply": "2022-04-19T15:21:01.516889Z"
    },
    "id": "yHlT1lZxkPDj",
    "outputId": "eae8d5b1-1906-4dd2-d15f-89b5eb90034f",
    "papermill": {
     "duration": 0.049929,
     "end_time": "2022-04-19T15:21:01.520005",
     "exception": false,
     "start_time": "2022-04-19T15:21:01.470076",
     "status": "completed"
    },
    "tags": []
   },
   "outputs": [
    {
     "name": "stdout",
     "output_type": "stream",
     "text": [
      "True Values = [ 3  5  7  9 11]\n",
      "Predicted Values = [ 2.99  4.99  6.99  8.99 10.99]\n"
     ]
    }
   ],
   "source": [
    "# Predicting the values and comparing the true values and the predicted values.\n",
    "y_pred = linreg.predict(x)\n",
    "\n",
    "print(f\"True Values = {y}\")\n",
    "print(f\"Predicted Values = {y_pred}\")"
   ]
  },
  {
   "cell_type": "code",
   "execution_count": 16,
   "id": "5c5fcdc2",
   "metadata": {
    "execution": {
     "iopub.execute_input": "2022-04-19T15:21:01.604448Z",
     "iopub.status.busy": "2022-04-19T15:21:01.603914Z",
     "iopub.status.idle": "2022-04-19T15:21:01.615788Z",
     "shell.execute_reply": "2022-04-19T15:21:01.615214Z"
    },
    "id": "2YvHro41h0jU",
    "outputId": "8db43716-397d-4f4b-c26c-26d45ffb7eb1",
    "papermill": {
     "duration": 0.05609,
     "end_time": "2022-04-19T15:21:01.617746",
     "exception": false,
     "start_time": "2022-04-19T15:21:01.561656",
     "status": "completed"
    },
    "tags": []
   },
   "outputs": [
    {
     "data": {
      "text/html": [
       "<div>                            <div id=\"27c850f4-0f45-4c5a-99e7-448326e4cf56\" class=\"plotly-graph-div\" style=\"height:525px; width:100%;\"></div>            <script type=\"text/javascript\">                require([\"plotly\"], function(Plotly) {                    window.PLOTLYENV=window.PLOTLYENV || {};                                    if (document.getElementById(\"27c850f4-0f45-4c5a-99e7-448326e4cf56\")) {                    Plotly.newPlot(                        \"27c850f4-0f45-4c5a-99e7-448326e4cf56\",                        [{\"mode\":\"markers\",\"name\":\"Data\",\"x\":[1,2,3,4,5],\"y\":[3,5,7,9,11],\"type\":\"scatter\"},{\"mode\":\"lines\",\"name\":\"Line of best fit\",\"x\":[1,2,3,4,5],\"y\":[2.99,4.99,6.99,8.99,10.99],\"type\":\"scatter\"}],                        {\"template\":{\"data\":{\"histogram2dcontour\":[{\"type\":\"histogram2dcontour\",\"colorbar\":{\"outlinewidth\":0,\"ticks\":\"\"},\"colorscale\":[[0.0,\"#0d0887\"],[0.1111111111111111,\"#46039f\"],[0.2222222222222222,\"#7201a8\"],[0.3333333333333333,\"#9c179e\"],[0.4444444444444444,\"#bd3786\"],[0.5555555555555556,\"#d8576b\"],[0.6666666666666666,\"#ed7953\"],[0.7777777777777778,\"#fb9f3a\"],[0.8888888888888888,\"#fdca26\"],[1.0,\"#f0f921\"]]}],\"choropleth\":[{\"type\":\"choropleth\",\"colorbar\":{\"outlinewidth\":0,\"ticks\":\"\"}}],\"histogram2d\":[{\"type\":\"histogram2d\",\"colorbar\":{\"outlinewidth\":0,\"ticks\":\"\"},\"colorscale\":[[0.0,\"#0d0887\"],[0.1111111111111111,\"#46039f\"],[0.2222222222222222,\"#7201a8\"],[0.3333333333333333,\"#9c179e\"],[0.4444444444444444,\"#bd3786\"],[0.5555555555555556,\"#d8576b\"],[0.6666666666666666,\"#ed7953\"],[0.7777777777777778,\"#fb9f3a\"],[0.8888888888888888,\"#fdca26\"],[1.0,\"#f0f921\"]]}],\"heatmap\":[{\"type\":\"heatmap\",\"colorbar\":{\"outlinewidth\":0,\"ticks\":\"\"},\"colorscale\":[[0.0,\"#0d0887\"],[0.1111111111111111,\"#46039f\"],[0.2222222222222222,\"#7201a8\"],[0.3333333333333333,\"#9c179e\"],[0.4444444444444444,\"#bd3786\"],[0.5555555555555556,\"#d8576b\"],[0.6666666666666666,\"#ed7953\"],[0.7777777777777778,\"#fb9f3a\"],[0.8888888888888888,\"#fdca26\"],[1.0,\"#f0f921\"]]}],\"heatmapgl\":[{\"type\":\"heatmapgl\",\"colorbar\":{\"outlinewidth\":0,\"ticks\":\"\"},\"colorscale\":[[0.0,\"#0d0887\"],[0.1111111111111111,\"#46039f\"],[0.2222222222222222,\"#7201a8\"],[0.3333333333333333,\"#9c179e\"],[0.4444444444444444,\"#bd3786\"],[0.5555555555555556,\"#d8576b\"],[0.6666666666666666,\"#ed7953\"],[0.7777777777777778,\"#fb9f3a\"],[0.8888888888888888,\"#fdca26\"],[1.0,\"#f0f921\"]]}],\"contourcarpet\":[{\"type\":\"contourcarpet\",\"colorbar\":{\"outlinewidth\":0,\"ticks\":\"\"}}],\"contour\":[{\"type\":\"contour\",\"colorbar\":{\"outlinewidth\":0,\"ticks\":\"\"},\"colorscale\":[[0.0,\"#0d0887\"],[0.1111111111111111,\"#46039f\"],[0.2222222222222222,\"#7201a8\"],[0.3333333333333333,\"#9c179e\"],[0.4444444444444444,\"#bd3786\"],[0.5555555555555556,\"#d8576b\"],[0.6666666666666666,\"#ed7953\"],[0.7777777777777778,\"#fb9f3a\"],[0.8888888888888888,\"#fdca26\"],[1.0,\"#f0f921\"]]}],\"surface\":[{\"type\":\"surface\",\"colorbar\":{\"outlinewidth\":0,\"ticks\":\"\"},\"colorscale\":[[0.0,\"#0d0887\"],[0.1111111111111111,\"#46039f\"],[0.2222222222222222,\"#7201a8\"],[0.3333333333333333,\"#9c179e\"],[0.4444444444444444,\"#bd3786\"],[0.5555555555555556,\"#d8576b\"],[0.6666666666666666,\"#ed7953\"],[0.7777777777777778,\"#fb9f3a\"],[0.8888888888888888,\"#fdca26\"],[1.0,\"#f0f921\"]]}],\"mesh3d\":[{\"type\":\"mesh3d\",\"colorbar\":{\"outlinewidth\":0,\"ticks\":\"\"}}],\"scatter\":[{\"fillpattern\":{\"fillmode\":\"overlay\",\"size\":10,\"solidity\":0.2},\"type\":\"scatter\"}],\"parcoords\":[{\"type\":\"parcoords\",\"line\":{\"colorbar\":{\"outlinewidth\":0,\"ticks\":\"\"}}}],\"scatterpolargl\":[{\"type\":\"scatterpolargl\",\"marker\":{\"colorbar\":{\"outlinewidth\":0,\"ticks\":\"\"}}}],\"bar\":[{\"error_x\":{\"color\":\"#2a3f5f\"},\"error_y\":{\"color\":\"#2a3f5f\"},\"marker\":{\"line\":{\"color\":\"#E5ECF6\",\"width\":0.5},\"pattern\":{\"fillmode\":\"overlay\",\"size\":10,\"solidity\":0.2}},\"type\":\"bar\"}],\"scattergeo\":[{\"type\":\"scattergeo\",\"marker\":{\"colorbar\":{\"outlinewidth\":0,\"ticks\":\"\"}}}],\"scatterpolar\":[{\"type\":\"scatterpolar\",\"marker\":{\"colorbar\":{\"outlinewidth\":0,\"ticks\":\"\"}}}],\"histogram\":[{\"marker\":{\"pattern\":{\"fillmode\":\"overlay\",\"size\":10,\"solidity\":0.2}},\"type\":\"histogram\"}],\"scattergl\":[{\"type\":\"scattergl\",\"marker\":{\"colorbar\":{\"outlinewidth\":0,\"ticks\":\"\"}}}],\"scatter3d\":[{\"type\":\"scatter3d\",\"line\":{\"colorbar\":{\"outlinewidth\":0,\"ticks\":\"\"}},\"marker\":{\"colorbar\":{\"outlinewidth\":0,\"ticks\":\"\"}}}],\"scattermapbox\":[{\"type\":\"scattermapbox\",\"marker\":{\"colorbar\":{\"outlinewidth\":0,\"ticks\":\"\"}}}],\"scatterternary\":[{\"type\":\"scatterternary\",\"marker\":{\"colorbar\":{\"outlinewidth\":0,\"ticks\":\"\"}}}],\"scattercarpet\":[{\"type\":\"scattercarpet\",\"marker\":{\"colorbar\":{\"outlinewidth\":0,\"ticks\":\"\"}}}],\"carpet\":[{\"aaxis\":{\"endlinecolor\":\"#2a3f5f\",\"gridcolor\":\"white\",\"linecolor\":\"white\",\"minorgridcolor\":\"white\",\"startlinecolor\":\"#2a3f5f\"},\"baxis\":{\"endlinecolor\":\"#2a3f5f\",\"gridcolor\":\"white\",\"linecolor\":\"white\",\"minorgridcolor\":\"white\",\"startlinecolor\":\"#2a3f5f\"},\"type\":\"carpet\"}],\"table\":[{\"cells\":{\"fill\":{\"color\":\"#EBF0F8\"},\"line\":{\"color\":\"white\"}},\"header\":{\"fill\":{\"color\":\"#C8D4E3\"},\"line\":{\"color\":\"white\"}},\"type\":\"table\"}],\"barpolar\":[{\"marker\":{\"line\":{\"color\":\"#E5ECF6\",\"width\":0.5},\"pattern\":{\"fillmode\":\"overlay\",\"size\":10,\"solidity\":0.2}},\"type\":\"barpolar\"}],\"pie\":[{\"automargin\":true,\"type\":\"pie\"}]},\"layout\":{\"autotypenumbers\":\"strict\",\"colorway\":[\"#636efa\",\"#EF553B\",\"#00cc96\",\"#ab63fa\",\"#FFA15A\",\"#19d3f3\",\"#FF6692\",\"#B6E880\",\"#FF97FF\",\"#FECB52\"],\"font\":{\"color\":\"#2a3f5f\"},\"hovermode\":\"closest\",\"hoverlabel\":{\"align\":\"left\"},\"paper_bgcolor\":\"white\",\"plot_bgcolor\":\"#E5ECF6\",\"polar\":{\"bgcolor\":\"#E5ECF6\",\"angularaxis\":{\"gridcolor\":\"white\",\"linecolor\":\"white\",\"ticks\":\"\"},\"radialaxis\":{\"gridcolor\":\"white\",\"linecolor\":\"white\",\"ticks\":\"\"}},\"ternary\":{\"bgcolor\":\"#E5ECF6\",\"aaxis\":{\"gridcolor\":\"white\",\"linecolor\":\"white\",\"ticks\":\"\"},\"baxis\":{\"gridcolor\":\"white\",\"linecolor\":\"white\",\"ticks\":\"\"},\"caxis\":{\"gridcolor\":\"white\",\"linecolor\":\"white\",\"ticks\":\"\"}},\"coloraxis\":{\"colorbar\":{\"outlinewidth\":0,\"ticks\":\"\"}},\"colorscale\":{\"sequential\":[[0.0,\"#0d0887\"],[0.1111111111111111,\"#46039f\"],[0.2222222222222222,\"#7201a8\"],[0.3333333333333333,\"#9c179e\"],[0.4444444444444444,\"#bd3786\"],[0.5555555555555556,\"#d8576b\"],[0.6666666666666666,\"#ed7953\"],[0.7777777777777778,\"#fb9f3a\"],[0.8888888888888888,\"#fdca26\"],[1.0,\"#f0f921\"]],\"sequentialminus\":[[0.0,\"#0d0887\"],[0.1111111111111111,\"#46039f\"],[0.2222222222222222,\"#7201a8\"],[0.3333333333333333,\"#9c179e\"],[0.4444444444444444,\"#bd3786\"],[0.5555555555555556,\"#d8576b\"],[0.6666666666666666,\"#ed7953\"],[0.7777777777777778,\"#fb9f3a\"],[0.8888888888888888,\"#fdca26\"],[1.0,\"#f0f921\"]],\"diverging\":[[0,\"#8e0152\"],[0.1,\"#c51b7d\"],[0.2,\"#de77ae\"],[0.3,\"#f1b6da\"],[0.4,\"#fde0ef\"],[0.5,\"#f7f7f7\"],[0.6,\"#e6f5d0\"],[0.7,\"#b8e186\"],[0.8,\"#7fbc41\"],[0.9,\"#4d9221\"],[1,\"#276419\"]]},\"xaxis\":{\"gridcolor\":\"white\",\"linecolor\":\"white\",\"ticks\":\"\",\"title\":{\"standoff\":15},\"zerolinecolor\":\"white\",\"automargin\":true,\"zerolinewidth\":2},\"yaxis\":{\"gridcolor\":\"white\",\"linecolor\":\"white\",\"ticks\":\"\",\"title\":{\"standoff\":15},\"zerolinecolor\":\"white\",\"automargin\":true,\"zerolinewidth\":2},\"scene\":{\"xaxis\":{\"backgroundcolor\":\"#E5ECF6\",\"gridcolor\":\"white\",\"linecolor\":\"white\",\"showbackground\":true,\"ticks\":\"\",\"zerolinecolor\":\"white\",\"gridwidth\":2},\"yaxis\":{\"backgroundcolor\":\"#E5ECF6\",\"gridcolor\":\"white\",\"linecolor\":\"white\",\"showbackground\":true,\"ticks\":\"\",\"zerolinecolor\":\"white\",\"gridwidth\":2},\"zaxis\":{\"backgroundcolor\":\"#E5ECF6\",\"gridcolor\":\"white\",\"linecolor\":\"white\",\"showbackground\":true,\"ticks\":\"\",\"zerolinecolor\":\"white\",\"gridwidth\":2}},\"shapedefaults\":{\"line\":{\"color\":\"#2a3f5f\"}},\"annotationdefaults\":{\"arrowcolor\":\"#2a3f5f\",\"arrowhead\":0,\"arrowwidth\":1},\"geo\":{\"bgcolor\":\"white\",\"landcolor\":\"#E5ECF6\",\"subunitcolor\":\"white\",\"showland\":true,\"showlakes\":true,\"lakecolor\":\"white\"},\"title\":{\"x\":0.05},\"mapbox\":{\"style\":\"light\"}}}},                        {\"responsive\": true}                    ).then(function(){\n",
       "                            \n",
       "var gd = document.getElementById('27c850f4-0f45-4c5a-99e7-448326e4cf56');\n",
       "var x = new MutationObserver(function (mutations, observer) {{\n",
       "        var display = window.getComputedStyle(gd).display;\n",
       "        if (!display || display === 'none') {{\n",
       "            console.log([gd, 'removed!']);\n",
       "            Plotly.purge(gd);\n",
       "            observer.disconnect();\n",
       "        }}\n",
       "}});\n",
       "\n",
       "// Listen for the removal of the full notebook cells\n",
       "var notebookContainer = gd.closest('#notebook-container');\n",
       "if (notebookContainer) {{\n",
       "    x.observe(notebookContainer, {childList: true});\n",
       "}}\n",
       "\n",
       "// Listen for the clearing of the current output cell\n",
       "var outputEl = gd.closest('.output');\n",
       "if (outputEl) {{\n",
       "    x.observe(outputEl, {childList: true});\n",
       "}}\n",
       "\n",
       "                        })                };                });            </script>        </div>"
      ]
     },
     "metadata": {},
     "output_type": "display_data"
    }
   ],
   "source": [
    "# Plotting the predicted values.\n",
    "fig = go.Figure()\n",
    "\n",
    "fig.add_traces(go.Scatter(\n",
    "    x = x,\n",
    "    y=  y,\n",
    "    mode = \"markers\",\n",
    "    name = \"Data\"\n",
    "))\n",
    "\n",
    "fig.add_traces(go.Scatter(\n",
    "    x = x,\n",
    "    y = y_pred,\n",
    "    mode = \"lines\",\n",
    "    name = \"Line of best fit\"\n",
    "))\n",
    "\n",
    "fig.show()"
   ]
  },
  {
   "cell_type": "markdown",
   "id": "5ef16be7",
   "metadata": {
    "id": "1vQHCfc-lN1x",
    "papermill": {
     "duration": 0.04238,
     "end_time": "2022-04-19T15:21:01.703113",
     "exception": false,
     "start_time": "2022-04-19T15:21:01.660733",
     "status": "completed"
    },
    "tags": []
   },
   "source": [
    "Now that's a perfect fit!\n",
    "\n",
    "But again, keep in mind that the data we used this upon was specifically made to have a Linear Relation. Real world data won't be this cooperative!\n",
    "\n",
    "---"
   ]
  },
  {
   "cell_type": "markdown",
   "id": "cae3d037",
   "metadata": {
    "id": "JXHSmeQPlgKT",
    "papermill": {
     "duration": 0.042307,
     "end_time": "2022-04-19T15:21:01.788298",
     "exception": false,
     "start_time": "2022-04-19T15:21:01.745991",
     "status": "completed"
    },
    "tags": []
   },
   "source": [
    "Yeah so... that's basically it! That's all there is to **Linear Regression** with **Gradient Descent**. It's not too difficult to understand but even if you are having troubles wrapping your head around this, don't worry. Just go through the article and the sources once more and I am sure you'll understand the concept."
   ]
  },
  {
   "cell_type": "markdown",
   "id": "ab4da109",
   "metadata": {
    "id": "pQjIgsLdoYtI",
    "papermill": {
     "duration": 0.042533,
     "end_time": "2022-04-19T15:21:01.874005",
     "exception": false,
     "start_time": "2022-04-19T15:21:01.831472",
     "status": "completed"
    },
    "tags": []
   },
   "source": [
    "#END OF THE NOTEBOOK\n",
    "\n",
    "---"
   ]
  }
 ],
 "metadata": {
  "kernelspec": {
   "display_name": "Python 3",
   "language": "python",
   "name": "python3"
  },
  "language_info": {
   "codemirror_mode": {
    "name": "ipython",
    "version": 3
   },
   "file_extension": ".py",
   "mimetype": "text/x-python",
   "name": "python",
   "nbconvert_exporter": "python",
   "pygments_lexer": "ipython3",
   "version": "3.7.12"
  },
  "papermill": {
   "default_parameters": {},
   "duration": 15.419475,
   "end_time": "2022-04-19T15:21:02.536261",
   "environment_variables": {},
   "exception": null,
   "input_path": "__notebook__.ipynb",
   "output_path": "__notebook__.ipynb",
   "parameters": {},
   "start_time": "2022-04-19T15:20:47.116786",
   "version": "2.3.4"
  }
 },
 "nbformat": 4,
 "nbformat_minor": 5
}
